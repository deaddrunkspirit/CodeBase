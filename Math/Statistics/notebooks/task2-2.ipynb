{
 "cells": [
  {
   "cell_type": "code",
   "execution_count": 4,
   "metadata": {},
   "outputs": [
    {
     "name": "stdout",
     "output_type": "stream",
     "text": [
      "0.4508\n",
      "0.1656\n",
      "0.4942\n",
      "0.2861\n",
      "0.5024\n",
      "0.5046\n",
      "0.5636\n",
      "0.2015\n",
      "0.0256\n",
      "0.0988\n",
      "Наблюдаемые значения: [17. 15.  7.  6. 12.  8.  9. 11.  4. 11.]\n",
      "Ожидаемое значение = 10\n",
      "14.6\n"
     ]
    },
    {
     "data": {
      "image/png": "[encoded data removed]",
      "text/plain": [
       "<Figure size 432x288 with 1 Axes>"
      ]
     },
     "metadata": {
      "needs_background": "light"
     },
     "output_type": "display_data"
    }
   ],
   "source": [
    "import sympy as sp\n",
    "import matplotlib.pyplot as plt\n",
    "\n",
    "def resid3(n, z):\n",
    "    arr = [z]\n",
    "    for i in range(n - 1):\n",
    "        arr.append((arr[i] + 58)**1.6//10% 10000)\n",
    "    return [x / 10000 for x in arr]\n",
    "\n",
    "x = resid3(100, 4508)  \n",
    "for i in range(10):\n",
    "    print(x[i])\n",
    "    \n",
    "def xi(vals, expected):\n",
    "    res = 0\n",
    "    for i in vals:\n",
    "        res += ((i - expected)**2 / expected)\n",
    "    return res\n",
    "\n",
    "vals = plt.hist(x, rwidth=0.9)[0]\n",
    "print(f'Наблюдаемые значения: { vals }\\nОжидаемое значение = { 10 }')\n",
    "\n",
    "print(xi(vals, 10))"
   ]
  },
  {
   "cell_type": "code",
   "execution_count": 5,
   "metadata": {},
   "outputs": [
    {
     "name": "stdout",
     "output_type": "stream",
     "text": [
      "Наблюдаемые значения: [1665. 1079.  787.  978. 1080.  881. 1078.  881.  878.  693.]\n",
      "Ожидаемое значение = 1000\n",
      "644.2579999999999\n"
     ]
    },
    {
     "data": {
      "image/png": "[encoded data removed]",
      "text/plain": [
       "<Figure size 432x288 with 1 Axes>"
      ]
     },
     "metadata": {
      "needs_background": "light"
     },
     "output_type": "display_data"
    }
   ],
   "source": [
    "x = resid3(10000, 4508) \n",
    "vals = plt.hist(x, rwidth=0.9)[0]\n",
    "print(f'Наблюдаемые значения: { vals }\\nОжидаемое значение = { 1000 }')\n",
    "print(xi(vals, 1000))"
   ]
  },
  {
   "cell_type": "code",
   "execution_count": 6,
   "metadata": {},
   "outputs": [
    {
     "name": "stdout",
     "output_type": "stream",
     "text": [
      "[489, 497, 778, 296, 587, 686]\n",
      "322.39\n"
     ]
    },
    {
     "data": {
      "image/png": "[encoded data removed]",
      "text/plain": [
       "<Figure size 432x288 with 1 Axes>"
      ]
     },
     "metadata": {
      "needs_background": "light"
     },
     "output_type": "display_data"
    }
   ],
   "source": [
    "def get_triple_rang(a, b, c):\n",
    "    triplet = []\n",
    "    for val in [a, b, c]:\n",
    "        if val == max(a, b, c):\n",
    "            triplet.append(3)\n",
    "        elif val == min(a, b, c):\n",
    "            triplet.append(1)\n",
    "        else:\n",
    "            triplet.append(2)\n",
    "    return triplet\n",
    "\n",
    "\n",
    "def get_triplets(x):\n",
    "    triplets = []\n",
    "    for i in range(0, 9999, 3):\n",
    "        triplets.append(get_triple_rang(x[i], x[i + 1], x[i + 2]))\n",
    "    return triplets\n",
    "\n",
    "triplets = get_triplets(resid3(9999, 4508))\n",
    "permutations = [list(l) for l in list(set(tuple(row) for row in triplets))]\n",
    "\n",
    "change = {}\n",
    "i = 0\n",
    "for p in permutations:\n",
    "    change[str(p)] = i\n",
    "    i+=1\n",
    "\n",
    "numbers = [change[str(t)] for t in triplets]\n",
    "a = plt.hist(numbers, bins=6, rwidth=0.9)\n",
    "e = [int(a) for a in a[0]]\n",
    "print(e)\n",
    "print(xi(e, 500))"
   ]
  },
  {
   "cell_type": "code",
   "execution_count": null,
   "metadata": {},
   "outputs": [],
   "source": []
  },
  {
   "cell_type": "code",
   "execution_count": null,
   "metadata": {},
   "outputs": [],
   "source": []
  }
 ],
 "metadata": {
  "kernelspec": {
   "display_name": "Python 3",
   "language": "python",
   "name": "python3"
  },
  "language_info": {
   "codemirror_mode": {
    "name": "ipython",
    "version": 3
   },
   "file_extension": ".py",
   "mimetype": "text/x-python",
   "name": "python",
   "nbconvert_exporter": "python",
   "pygments_lexer": "ipython3",
   "version": "3.7.4"
  }
 },
 "nbformat": 4,
 "nbformat_minor": 2
}

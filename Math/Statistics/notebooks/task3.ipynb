{
  "cells":[
    {
      "cell_type":"code",
      "source":[
        "import scipy.stats as stats\n",
        "\n",
        "\n",
        "print('\\tTask 1\\n')\n",
        "sex = [0,1,1,1,0,1,1,0,0,1,0,1,0,1,1,1,0,0,0,0,0,1,0,0,1,0,0,0,1,1,1,1,0,1,1,1,0,1,0,0,0,0,0,1,0,1,0,0]\n",
        "a = [4,7,5,5,4,3,7,5,3,4,3,7,5,7,3,7,7,3,4,6,5,5,1,1,2,3,5,3,5,5,6,6,4,4,6,5,4,5,4,1,7,3,3,7,3,7,3,2]\n",
        "b = [4,3,3,4,4,5,3,4,6,6,7,4,5,5,4,4,4,5,5,7,5,4,5,5,4,5,5,6,3,4,4,4,4,5,4,5,4,4,5,4,4,4,4,4,5,3,5,4]\n",
        "sex_to_str = ','.join(map(str, sex))\n",
        "a_to_str = ','.join(map(str, a))\n",
        "b_to_str = ','.join(map(str, b))\n",
        "print(f'sex data: {sex_to_str}')\n",
        "print(f'a data: {a_to_str}')\n",
        "print(f'b data: {b_to_str}')\n",
        "difference = [i - j for i, j in zip(a, b)]\n",
        "zeros = len([i for i in difference if i == 0])\n",
        "pluses = len([i for i in difference if i > 0])\n",
        "minuses = len([i for i in difference if i < 0])\n",
        "print(f'Count of A = B = {zeros}')\n",
        "print(f'Count of A > B = {pluses}')\n",
        "print(f'Count of A < B = {minuses}')\n",
        "n = pluses + minuses\n",
        "stat = (2 * minuses - n) \/ n**.5\n",
        "stat_norm = stats.norm.ppf(0.1)\n",
        "print(f'Z = {stat}')\n",
        "print(f'Z(0.1) = {stat_norm}')"
      ],
      "execution_count":6,
      "outputs":[
        {
          "name":"stdout",
          "text":[
            "\tTask 1\n",
            "\n",
            "sex data: 0,1,1,1,0,1,1,0,0,1,0,1,0,1,1,1,0,0,0,0,0,1,0,0,1,0,0,0,1,1,1,1,0,1,1,1,0,1,0,0,0,0,0,1,0,1,0,0\n",
            "a data: 4,7,5,5,4,3,7,5,3,4,3,7,5,7,3,7,7,3,4,6,5,5,1,1,2,3,5,3,5,5,6,6,4,4,6,5,4,5,4,1,7,3,3,7,3,7,3,2\n",
            "b data: 4,3,3,4,4,5,3,4,6,6,7,4,5,5,4,4,4,5,5,7,5,4,5,5,4,5,5,6,3,4,4,4,4,5,4,5,4,4,5,4,4,4,4,4,5,3,5,4\n",
            "Count of A = B = 8\n",
            "Count of A > B = 19\n",
            "Count of A < B = 21\n",
            "Z = 0.31622776601683794\n",
            "Z(0.1) = -1.2815515655446004\n"
          ],
          "output_type":"stream"
        }
      ],
      "metadata":{
        
      }
    },
    {
      "cell_type":"code",
      "source":[
        "print('\\tTask 2\\n')\n",
        "women = len([i for i in sex if i == 1])\n",
        "men = len(sex) - women\n",
        "print(f'Count of men = {men}\\nCount of women = {women}')\n",
        "women_indexes = [k for i, j, k in zip(sex, a, range(len(sex))) if i == 1]\n",
        "men_votes = [j for i, j in zip(sex, a) if i == 0]\n",
        "women_votes = [j for i, j in zip(sex, a) if i == 1]\n",
        "print(f'Men votes = {men_votes}\\nWomen votes = {women_votes}')\n",
        "print(f'Indexes for only women votes = {women_indexes}')\n",
        "print(f'W_n (sum of Indexes for women) = {sum(women_indexes)}')\n",
        "m = women\n",
        "n = men\n",
        "p = 1.644854\n",
        "print(f'Value of the inverse function of the normal distribution = {p}')\n",
        "left = int((m * (m + n + 1) - 1) \/ 2 - p * (((m * n * (m + n + 1)) \/ 12)**.5))\n",
        "right = m * (m + n + 1) - left\n",
        "print(f'W_left = {left}\\nW_right = {right}\\nInterval = [{left}, {right}]')"
      ],
      "execution_count":7,
      "outputs":[
        {
          "name":"stdout",
          "text":[
            "\tTask 2\n",
            "\n",
            "Count of men = 26\n",
            "Count of women = 22\n",
            "Men votes = [4, 4, 5, 3, 3, 5, 7, 3, 4, 6, 5, 1, 1, 3, 5, 3, 4, 4, 4, 1, 7, 3, 3, 3, 3, 2]\n",
            "Women votes = [7, 5, 5, 3, 7, 4, 7, 7, 3, 7, 5, 2, 5, 5, 6, 6, 4, 6, 5, 5, 7, 7]\n",
            "Indexes for only women votes = [1, 2, 3, 5, 6, 9, 11, 13, 14, 15, 21, 24, 28, 29, 30, 31, 33, 34, 35, 37, 43, 45]\n",
            "W_n (sum of Indexes for women) = 469\n",
            "Value of the inverse function of the normal distribution = 1.644854\n",
            "W_left = 459\n",
            "W_right = 619\n",
            "Interval = [459, 619]\n"
          ],
          "output_type":"stream"
        }
      ],
      "metadata":{
        
      }
    },
    {
      "cell_type":"code",
      "source":[
        
      ],
      "execution_count":0,
      "outputs":[
        
      ],
      "metadata":{
        
      }
    }
  ],
  "metadata":{
    
  },
  "nbformat":4,
  "nbformat_minor":0
}
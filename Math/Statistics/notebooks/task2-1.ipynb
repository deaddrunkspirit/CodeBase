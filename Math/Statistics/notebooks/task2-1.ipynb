{
 "cells": [
  {
   "cell_type": "code",
   "execution_count": 17,
   "metadata": {},
   "outputs": [],
   "source": [
    "import sympy as sp\n",
    "import numpy as np\n",
    "from matplotlib import pyplot"
   ]
  },
  {
   "cell_type": "code",
   "execution_count": 18,
   "metadata": {},
   "outputs": [],
   "source": [
    "def power_residual_1(z: int, n: int):\n",
    "    z_arr = [z]\n",
    "    for i in range(n - 1):\n",
    "        z_arr.append(((z_arr[i]**2.5) // 100) % 10000)\n",
    "    return [x / 10000 for x in z_arr]\n",
    "\n",
    "def xi(vals, expected):\n",
    "    res = 0\n",
    "    for i in vals:\n",
    "        res += ((i - expected)**2 / expected)\n",
    "    return res\n",
    "\n",
    "def get_triple_rang(a, b, c):\n",
    "    triplet = []\n",
    "    for val in [a, b, c]:\n",
    "        if val == max(a, b, c):\n",
    "            triplet.append(3)\n",
    "        elif val == min(a, b, c):\n",
    "            triplet.append(1)\n",
    "        else:\n",
    "            triplet.append(2)\n",
    "    return triplet\n",
    "\n",
    "\n",
    "def get_triplets(x):\n",
    "    triplets = []\n",
    "    for i in range(0, 9999, 3):\n",
    "        triplets.append(get_triple_rang(x[i], x[i + 1], x[i + 2]))\n",
    "    return triplets\n"
   ]
  },
  {
   "cell_type": "code",
   "execution_count": 19,
   "metadata": {},
   "outputs": [
    {
     "name": "stdout",
     "output_type": "stream",
     "text": [
      "x[1] = 0.1237\n",
      "x[2] = 0.8175\n",
      "x[3] = 0.5381\n",
      "x[4] = 0.0145\n",
      "x[5] = 0.2531\n",
      "x[6] = 0.2777\n",
      "x[7] = 0.3868\n",
      "x[8] = 0.4995\n",
      "x[9] = 0.3508\n",
      "x[10] = 0.8681\n",
      "[0.1237, 0.8175, 0.5381, 0.0145, 0.2531, 0.2777, 0.3868, 0.4995, 0.3508, 0.8681]\n",
      "E = [ 9. 12.  8. 14.  9.  9.  8.  9. 12. 10.]\n",
      "O = 10.0\n",
      "xi_9,0.05 = 16.9\n",
      "3.6\n"
     ]
    },
    {
     "data": {
      "image/png": "[encoded data removed]",
      "text/plain": [
       "<Figure size 432x288 with 1 Axes>"
      ]
     },
     "metadata": {
      "needs_background": "light"
     },
     "output_type": "display_data"
    }
   ],
   "source": [
    "x = power_residual_1(1237, 100)  \n",
    "#2\n",
    "for i in range(10):\n",
    "    print(f'x[{i + 1}] = {x[i]}')\n",
    "\n",
    "r = []\n",
    "for i in range(10):\n",
    "    r.append(x[i])\n",
    "print(r)\n",
    "\n",
    "e = pyplot.hist(x, rwidth=.9)[0]\n",
    "k = 10\n",
    "print(f'E = {e}')\n",
    "print(f'O = {100 / k}')\n",
    "\n",
    "print('xi_9,0.05 = 16.9')\n",
    "print(xi(e, 100 / k))"
   ]
  },
  {
   "cell_type": "code",
   "execution_count": 20,
   "metadata": {},
   "outputs": [
    {
     "name": "stdout",
     "output_type": "stream",
     "text": [
      "x[1] = 0.1237\n",
      "x[2] = 0.8175\n",
      "x[3] = 0.5381\n",
      "x[4] = 0.0145\n",
      "x[5] = 0.2531\n",
      "x[6] = 0.2777\n",
      "x[7] = 0.3868\n",
      "x[8] = 0.4995\n",
      "x[9] = 0.3508\n",
      "x[10] = 0.8681\n",
      "E = [ 9. 12.  8. 14.  9.  9.  8.  9. 12. 10.]\n",
      "O = 100.0\n",
      "По таблице хиквадрат c уровнем значимости 0.05 и степенью свободы 9 = 16.9\n",
      "По формуле = 3.6\n"
     ]
    },
    {
     "data": {
      "image/png": "[encoded data removed]",
      "text/plain": [
       "<Figure size 432x288 with 1 Axes>"
      ]
     },
     "metadata": {
      "needs_background": "light"
     },
     "output_type": "display_data"
    }
   ],
   "source": [
    "x = power_residual_1(1237, 100)  \n",
    "#2\n",
    "for i in range(10):\n",
    "    print(f'x[{i + 1}] = {x[i]}')\n",
    "\n",
    "e = pyplot.hist(x, rwidth=.9)[0]\n",
    "print(f'E = {e}')\n",
    "print(f'O = {1000 / k}')\n",
    "print('По таблице хиквадрат c уровнем значимости 0.05 и степенью свободы 9 = 16.9')\n",
    "print(f'По формуле = {xi(e, 100 / k)}')"
   ]
  },
  {
   "cell_type": "code",
   "execution_count": 21,
   "metadata": {},
   "outputs": [
    {
     "name": "stdout",
     "output_type": "stream",
     "text": [
      "E = [1033. 1121.  692. 1296.  775. 1034.  860. 1120. 1035. 1034.]\n",
      "O = 1000.0\n",
      "286.372\n"
     ]
    },
    {
     "data": {
      "image/png": "[encoded data removed]",
      "text/plain": [
       "<Figure size 432x288 with 1 Axes>"
      ]
     },
     "metadata": {
      "needs_background": "light"
     },
     "output_type": "display_data"
    }
   ],
   "source": [
    "x = power_residual_1(1237, 10000)\n",
    "e = pyplot.hist(x, rwidth=.9)[0]\n",
    "print(f'E = {e}')\n",
    "print(f'O = {10000 / k}')\n",
    "print(xi(e, 1000))"
   ]
  },
  {
   "cell_type": "code",
   "execution_count": 22,
   "metadata": {},
   "outputs": [
    {
     "name": "stdout",
     "output_type": "stream",
     "text": [
      "[518, 627, 721, 374, 602, 491]\n",
      "13909.454245424542\n"
     ]
    },
    {
     "data": {
      "image/png": "[encoded data removed]",
      "text/plain": [
       "<Figure size 432x288 with 1 Axes>"
      ]
     },
     "metadata": {
      "needs_background": "light"
     },
     "output_type": "display_data"
    }
   ],
   "source": [
    "triplets = get_triplets(power_residual_1(1237, 9999))\n",
    "permutations = [list(l) for l in list(set(tuple(row) for row in triplets))]\n",
    "\n",
    "change = {}\n",
    "i = 0\n",
    "for p in permutations:\n",
    "    change[str(p)] = i\n",
    "    i+=1\n",
    "\n",
    "numbers = [change[str(t)] for t in triplets]\n",
    "a = pyplot.hist(numbers, bins=6, rwidth=0.8)\n",
    "e = [int(a) for a in a[0]]\n",
    "print(e)\n",
    "print(xi(e, 3333))"
   ]
  },
  {
   "cell_type": "code",
   "execution_count": null,
   "metadata": {},
   "outputs": [],
   "source": []
  }
 ],
 "metadata": {
  "kernelspec": {
   "display_name": "Python 3",
   "language": "python",
   "name": "python3"
  },
  "language_info": {
   "codemirror_mode": {
    "name": "ipython",
    "version": 3
   },
   "file_extension": ".py",
   "mimetype": "text/x-python",
   "name": "python",
   "nbconvert_exporter": "python",
   "pygments_lexer": "ipython3",
   "version": "3.7.4"
  }
 },
 "nbformat": 4,
 "nbformat_minor": 2
}

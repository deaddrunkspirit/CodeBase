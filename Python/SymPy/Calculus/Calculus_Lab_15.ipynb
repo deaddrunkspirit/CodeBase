{
 "cells": [
  {
   "cell_type": "code",
   "execution_count": 13,
   "metadata": {},
   "outputs": [],
   "source": [
    "import sympy as sp\n",
    "import matplotlib.pyplot as plt\n",
    "sp.init_printing(use_unicode=False, wrap_line=False, no_global=True)\n",
    "from IPython.display import display,Latex"
   ]
  },
  {
   "cell_type": "markdown",
   "metadata": {},
   "source": [
    "# Лабораторная работа № 17\n",
    "# Математический анализ\n",
    "\n",
    "## Экстремум функции нескольких переменных\n",
    "\n",
    "    \n",
    "### Задача 1\n",
    "Описать в виде функции поиск точек экстремума функции двух переменных. Аргументы:\n",
    "выражение, описывающее функцию и необязательный параметр - переменные (по умолчанию $x$ и $y$). \n",
    "\n",
    "Функция находит стационарные точки, выбирает точки с вещественными координатами.\n",
    "\n",
    "Составляет определитель из вторых производных, находит его значение в каждой вещественной стационарной точке,\n",
    "проверяет наличие экстремума и вид.\n",
    "\n",
    "Результат функции - список точек экстремума с указанием типа экстремума и значений функции в них\n",
    "\n",
    "С помощью описанной функции найти точки экстремума:\n",
    "\n",
    "1) $z=x^2+xy+y^2-2x-y$\n",
    "\n",
    "2) $z=x^3y^2(6-x-y)$, $(x,y>0)$\n",
    "\n",
    "3) $z=x^4+y^4-2x^2+4xy-2y^2$\n",
    "\n",
    "4) $z=(x^2+y^2)e^{-(x^2+y^2)}$\n",
    "\n",
    "5) $z=\\frac{1+x-y}{\\sqrt{1+x^2+y^2}}$"
   ]
  },
  {
   "cell_type": "code",
   "execution_count": 14,
   "metadata": {},
   "outputs": [],
   "source": [
    "class Min:\n",
    "    name = \"min\"\n",
    "\n",
    "    \n",
    "class Max:\n",
    "    name = \"max\"\n",
    "\n",
    "    \n",
    "def extr(f, x = 'x', y = 'y', solver = 'nls'):\n",
    "    x, y = sp.symbols(\"x, y\")\n",
    "    u, v = sorted(list(f.free_symbols), key = str)\n",
    "    f = f.subs({u : x, y : y})\n",
    "    x, y = sorted(list(f.free_symbols), key = str)\n",
    "    vrs = [x, y]\n",
    "    if solver == \"nls\":\n",
    "        xpts = sp.nonlinsolve([f.diff(v) for v in vrs], vrs)\n",
    "    else :\n",
    "        xpts = list(sp.solve([f.diff(v) for v in vrs], vrs))\n",
    "    if type(xpts) is sp.ConditionSet:\n",
    "        xpts = list(sp.solve([f.diff(v) for v in vrs], vrs))\n",
    "    else:\n",
    "        xpts = list(xpts) \n",
    "    d2x, dxy, d2y = f.diff(x, 2), f.diff(x, y), f.diff(y,2)\n",
    "    jacob = sp.Matrix([[d2x, dxy], [dxy, d2y]]).det()\n",
    "    rxpts = []\n",
    "    for i in range(len(xpts)):\n",
    "        if type(xpts[i][0]) is sp.Symbol or type(xpts[i][1]) is sp.Symbol:\n",
    "            pass\n",
    "        pt = []\n",
    "        sub = {x : xpts[i][0], y : xpts[i][1]}\n",
    "        if sp.sympify(xpts[i][0]).is_real and sp.sympify(xpts[i][1]).is_real and jacob.subs(sub) > 0:\n",
    "            pt.append(xpts[i])\n",
    "            pt.append(f.subs(sub))\n",
    "            if d2x.subs(sub) > 0 or d2y.subs(sub) > 0:\n",
    "                pt.append(Min.name)\n",
    "            elif d2x.subs(sub) < 0 or d2y.subs(sub) < 0:\n",
    "                pt.append(Max.name)\n",
    "            rxpts.append(pt)\n",
    "    return rxpts\n",
    "\n",
    "\n",
    "x, y = sp.symbols('x, y')"
   ]
  },
  {
   "cell_type": "code",
   "execution_count": 15,
   "metadata": {},
   "outputs": [
    {
     "data": {
      "text/plain": [
       "[[(1, 0), -1, 'min']]"
      ]
     },
     "execution_count": 15,
     "metadata": {},
     "output_type": "execute_result"
    }
   ],
   "source": [
    "f = x**2 + x * y + y**2 - 2 * x - y\n",
    "extr(f)"
   ]
  },
  {
   "cell_type": "code",
   "execution_count": 16,
   "metadata": {},
   "outputs": [
    {
     "data": {
      "image/png": "[encoded data removed]",
      "text/latex": [
       "$\\displaystyle \\left[ \\right]$"
      ],
      "text/plain": [
       "[]"
      ]
     },
     "execution_count": 16,
     "metadata": {},
     "output_type": "execute_result"
    }
   ],
   "source": [
    "x, y = sp.symbols('x, y', positif = True)\n",
    "f = x**3 * y**2 * (6 - x - y)\n",
    "extr(f)"
   ]
  },
  {
   "cell_type": "code",
   "execution_count": 17,
   "metadata": {},
   "outputs": [
    {
     "data": {
      "text/plain": [
       "[[(-sqrt(2), sqrt(2)), -8, 'min'], [(sqrt(2), -sqrt(2)), -8, 'min']]"
      ]
     },
     "execution_count": 17,
     "metadata": {},
     "output_type": "execute_result"
    }
   ],
   "source": [
    "x, y = sp.symbols('x, y')\n",
    "f = x**4 + y**4 - 2 * x**2 + 4 * x * y - 2 * y**2\n",
    "extr(f)"
   ]
  },
  {
   "cell_type": "code",
   "execution_count": 18,
   "metadata": {},
   "outputs": [
    {
     "data": {
      "image/png": "[encoded data removed]",
      "text/latex": [
       "$\\displaystyle \\left[ \\right]$"
      ],
      "text/plain": [
       "[]"
      ]
     },
     "execution_count": 18,
     "metadata": {},
     "output_type": "execute_result"
    }
   ],
   "source": [
    "x,y = sp.symbols('x, y')\n",
    "f = (x**2 + y**2) * sp.exp(-(x**2 + y**2))\n",
    "extr(f)"
   ]
  },
  {
   "cell_type": "code",
   "execution_count": 19,
   "metadata": {},
   "outputs": [
    {
     "data": {
      "text/plain": [
       "[[(1, -1), sqrt(3), 'max']]"
      ]
     },
     "execution_count": 19,
     "metadata": {},
     "output_type": "execute_result"
    }
   ],
   "source": [
    "x, y = sp.symbols('x, y')\n",
    "f = (1 + x - y) / sp.sqrt(1 + x**2 + y**2)\n",
    "extr(f, solver = 's')"
   ]
  },
  {
   "cell_type": "markdown",
   "metadata": {},
   "source": [
    "### Задача 2.\n",
    "С помощью метода Лагранжа найти условный экстремум функций:\n",
    "\n",
    "1) $z=x+2y$ при условии $x^2+y^2=5$;\n",
    "\n",
    "2) $z=x^2+y^2$ при условии $\\frac{x}{2}+\\frac{y}{3}=1$."
   ]
  },
  {
   "cell_type": "code",
   "execution_count": 20,
   "metadata": {},
   "outputs": [
    {
     "data": {
      "image/png": "[encoded data removed]",
      "text/latex": [
       "$\\displaystyle \\left\\{\\left( -1, \\  -2, \\  \\frac{1}{2}\\right), \\left( 1, \\  2, \\  - \\frac{1}{2}\\right)\\right\\}$"
      ],
      "text/plain": [
       "{(-1, -2, 1/2), (1, 2, -1/2)}"
      ]
     },
     "metadata": {},
     "output_type": "display_data"
    },
    {
     "data": {
      "image/png": "[encoded data removed]",
      "text/latex": [
       "$\\displaystyle \\left[ x, \\  y, \\  \\lambda\\right]$"
      ],
      "text/plain": [
       "[x, y, lamda]"
      ]
     },
     "metadata": {},
     "output_type": "display_data"
    }
   ],
   "source": [
    "x, y, lam = sp.symbols('x, y, lamda')\n",
    "varrs = [x, y, lam]\n",
    "f = x + 2 * y\n",
    "restriction = x**2 + y**2 - 5\n",
    "L = f + lam * restriction\n",
    "stat_points = sp.nonlinsolve([L.diff(var)for var in varrs], varrs)\n",
    "display(stat_points, varrs)"
   ]
  },
  {
   "cell_type": "code",
   "execution_count": 21,
   "metadata": {},
   "outputs": [
    {
     "data": {
      "image/png": "[encoded data removed]",
      "text/latex": [
       "$\\displaystyle 2 \\lambda \\left(dx^{2} + dy^{2}\\right)$"
      ],
      "text/plain": [
       "2*lamda*(dx^2 + dy^2)"
      ]
     },
     "execution_count": 21,
     "metadata": {},
     "output_type": "execute_result"
    }
   ],
   "source": [
    "dx, dy, dx2, dy2 = sp.symbols('dx, dy, dx^2, dy^2')\n",
    "d2L = L.diff(x, 2) * dx2 + 2 * L.diff(x, y) * dx * dy + L.diff(y, 2) * dy2\n",
    "sp.factor(d2L)"
   ]
  },
  {
   "cell_type": "markdown",
   "metadata": {},
   "source": [
    "При $\\lambda>0$ второй дифференциал положителен, при $\\lambda<0$ отрицателен => (1,2) - точка локального максимума,  (-1,-2) - точка локального минимума."
   ]
  },
  {
   "cell_type": "code",
   "execution_count": 24,
   "metadata": {},
   "outputs": [
    {
     "data": {
      "image/png": "[encoded data removed]",
      "text/latex": [
       "$\\displaystyle -5$"
      ],
      "text/plain": [
       "-5"
      ]
     },
     "metadata": {},
     "output_type": "display_data"
    },
    {
     "data": {
      "image/png": "[encoded data removed]",
      "text/latex": [
       "$\\displaystyle 5$"
      ],
      "text/plain": [
       "5"
      ]
     },
     "metadata": {},
     "output_type": "display_data"
    }
   ],
   "source": [
    "for point in stat_points:\n",
    "    display(f.subs({var : point[j] for j, var in enumerate(varrs)}))"
   ]
  },
  {
   "cell_type": "code",
   "execution_count": 25,
   "metadata": {},
   "outputs": [
    {
     "data": {
      "image/png": "[encoded data removed]",
      "text/latex": [
       "$\\displaystyle \\left\\{\\left( \\frac{18}{13}, \\  \\frac{12}{13}, \\  - \\frac{72}{13}\\right)\\right\\}$"
      ],
      "text/plain": [
       "  18  12  -72   \n",
       "{(--, --, ----)}\n",
       "  13  13   13   "
      ]
     },
     "metadata": {},
     "output_type": "display_data"
    },
    {
     "data": {
      "image/png": "[encoded data removed]",
      "text/latex": [
       "$\\displaystyle \\left[ x, \\  y, \\  \\lambda\\right]$"
      ],
      "text/plain": [
       "[x, y, lamda]"
      ]
     },
     "metadata": {},
     "output_type": "display_data"
    }
   ],
   "source": [
    "f = x**2 + y**2\n",
    "restriction = x / 2 + y / 3 - 1\n",
    "L = f + lam * restriction\n",
    "stat_points = sp.nonlinsolve([L.diff(var)for var in varrs], varrs)\n",
    "display(stat_points, varrs)"
   ]
  },
  {
   "cell_type": "code",
   "execution_count": 26,
   "metadata": {},
   "outputs": [
    {
     "data": {
      "image/png": "[encoded data removed]",
      "text/latex": [
       "$\\displaystyle 2 \\left(dx^{2} + dy^{2}\\right)$"
      ],
      "text/plain": [
       "2*(dx^2 + dy^2)"
      ]
     },
     "execution_count": 26,
     "metadata": {},
     "output_type": "execute_result"
    }
   ],
   "source": [
    "d2L = L.diff(x, 2) * dx2 + 2 * L.diff(x, y) * dx * dy + L.diff(y, 2) * dy2\n",
    "sp.factor(d2L)"
   ]
  },
  {
   "cell_type": "markdown",
   "metadata": {},
   "source": [
    "Ясно, что при второй дифференциал положителен поэтому точка (18/13,12/13) - точка локального минимума."
   ]
  },
  {
   "cell_type": "code",
   "execution_count": 27,
   "metadata": {},
   "outputs": [
    {
     "data": {
      "image/png": "[encoded data removed]",
      "text/latex": [
       "$\\displaystyle \\frac{36}{13}$"
      ],
      "text/plain": [
       "36\n",
       "--\n",
       "13"
      ]
     },
     "metadata": {},
     "output_type": "display_data"
    }
   ],
   "source": [
    "for point in stat_points:\n",
    "    display(f.subs({var : point[j] for j, var in enumerate(varrs)}))"
   ]
  },
  {
   "cell_type": "markdown",
   "metadata": {},
   "source": [
    "### Задача 2.\n",
    "С помощью метода Лагранжа найти экстремум функции $u=xy^2z^3$ при условии $x+y+z=12$, $x,y,z>0$."
   ]
  },
  {
   "cell_type": "code",
   "execution_count": 28,
   "metadata": {},
   "outputs": [
    {
     "data": {
      "image/png": "[encoded data removed]",
      "text/latex": [
       "$\\displaystyle \\left[ \\left( 2, \\  4, \\  6, \\  -3456\\right)\\right]$"
      ],
      "text/plain": [
       "[(2, 4, 6, -3456)]"
      ]
     },
     "metadata": {},
     "output_type": "display_data"
    },
    {
     "data": {
      "image/png": "[encoded data removed]",
      "text/latex": [
       "$\\displaystyle \\left[ x, \\  y, \\  z, \\  \\lambda\\right]$"
      ],
      "text/plain": [
       "[x, y, z, lamda]"
      ]
     },
     "metadata": {},
     "output_type": "display_data"
    }
   ],
   "source": [
    "x, y, z = sp.symbols('x, y, z', positive = True)\n",
    "lam = sp.symbols('lamda')\n",
    "varrs = [x, y, z, lam]\n",
    "f = x * y**2 * z**3\n",
    "restriction = x + y + z - 12\n",
    "L = f + lam * restriction\n",
    "stat_points = sp.solve([L.diff(var) for var in varrs], varrs)\n",
    "display(stat_points, varrs)"
   ]
  },
  {
   "cell_type": "code",
   "execution_count": 29,
   "metadata": {},
   "outputs": [
    {
     "data": {
      "image/png": "[encoded data removed]",
      "text/latex": [
       "$\\displaystyle 2 z^{3} \\left(2 dx dy y + dy^{2} x\\right)$"
      ],
      "text/plain": [
       "   3                     \n",
       "2*z *(2*dx*dy*y + dy^2*x)"
      ]
     },
     "execution_count": 29,
     "metadata": {},
     "output_type": "execute_result"
    }
   ],
   "source": [
    "d2L = L.diff(x, 2) * dx2 + 2 * L.diff(x,y) * dx * dy + L.diff(y, 2) * dy2\n",
    "sp.factor(d2L)"
   ]
  },
  {
   "cell_type": "markdown",
   "metadata": {},
   "source": [
    "We notice that the the second diff of Lagrange is positive in the stat point regardless the value of lamda so the point (2,4,6) is a local min."
   ]
  },
  {
   "cell_type": "code",
   "execution_count": 30,
   "metadata": {},
   "outputs": [
    {
     "data": {
      "image/png": "[encoded data removed]",
      "text/latex": [
       "$\\displaystyle 6912$"
      ],
      "text/plain": [
       "6912"
      ]
     },
     "metadata": {},
     "output_type": "display_data"
    }
   ],
   "source": [
    "for point in stat_points:\n",
    "    display(f.subs({var : point[j] for j, var in enumerate(varrs)}))"
   ]
  },
  {
   "cell_type": "markdown",
   "metadata": {},
   "source": [
    "### Индивидуальное задание\n",
    "Описать в виде функции поиск точек экстремума функции нескольких переменных. Аргумент:\n",
    "выражение, описывающее функцию. Переменные находятся как free_symbols. \n",
    "Результат функции - список точек экстремума с указанием типа экстремума и значений функции в них.\n",
    "\n",
    "Использовать фукнцию для поиска экстремума индивидуальной функции.\n"
   ]
  },
  {
   "cell_type": "code",
   "execution_count": 40,
   "metadata": {},
   "outputs": [],
   "source": [
    "class Min:\n",
    "    name = \"min\"\n",
    "    \n",
    "    \n",
    "class Max:\n",
    "    name = \"max\"\n",
    "    \n",
    "    \n",
    "def extrm(f, res = None, solver='nls'):\n",
    "    vrs = list(f.free_symbols)\n",
    "    if res is not None:\n",
    "        lam = sp.symbols('lamda')\n",
    "        vrs.append(lam)\n",
    "        L = f + lam * res\n",
    "        if solver == \"nls\":\n",
    "            xpts = sp.nonlinsolve([L.diff(v) for v in vrs], vrs)\n",
    "        else :\n",
    "            xpts = list(sp.solve([L.diff(v) for v in vrs], vrs))\n",
    "        if type(xpts) is sp.ConditionSet:\n",
    "            xpts = list(sp.solve([L.diff(v) for v in vrs], vrs))\n",
    "        else:\n",
    "            xpts = list(xpts)\n",
    "        dx, dy, dx2, dy2 = sp.symbols('dx dy dx^2 dy^2')\n",
    "        d2L = L.diff(x, 2) * dx2 + 2 * L.diff(x, y) * dx * dy + L.diff(y, 2) * dy2\n",
    "        return [sp.factor(d2L), xpts]\n",
    "    else:\n",
    "        if solver == \"nls\":\n",
    "            xpts = sp.nonlinsolve([f.diff(v) for v in vrs],vrs)\n",
    "        else :\n",
    "            xpts = list(sp.solve([f.diff(v) for v in vrs],vrs))\n",
    "        if type(xpts) is sp.ConditionSet:\n",
    "            xpts = list(sp.solve([f.diff(v) for v in vrs], vrs))\n",
    "        else:\n",
    "            xpts = list(xpts)\n",
    "    jacob = sp.zeros(len(vrs))\n",
    "    for i in range(len(vrs)):\n",
    "        dfs = []\n",
    "        for j in range(len(vrs)):\n",
    "            dfs.append(f.diff(vrs[i], vrs[j]))\n",
    "        jacob[i] = dfs\n",
    "    jacobd = jacob.det()\n",
    "    rxpts = []\n",
    "    for i in range(len(xpts)):\n",
    "        valid = True\n",
    "        for c in xpts[i]:\n",
    "            if type(c) is sp.Symbol:\n",
    "                valid = False\n",
    "                break\n",
    "        if not valid :\n",
    "            continue\n",
    "        pt = []\n",
    "        sub = {v : xpts[i][j] for j, v in enumerate(vrs)}\n",
    "        exist = True\n",
    "        for c in xpts[i]:\n",
    "            if not sp.sympify(c).is_real:\n",
    "                exist = False\n",
    "                break\n",
    "        if not exist:\n",
    "            continue\n",
    "        if jacobd.subs(sub) > 0:\n",
    "            pt.append(xpts[i])\n",
    "            pt.append(f.subs(sub))\n",
    "            miin = True\n",
    "            for i in range(len(vrs)):\n",
    "                if jacob[i, i].subs(sub) < 0:\n",
    "                    miin = False\n",
    "                    break   \n",
    "            if miin:\n",
    "                pt.append(Min.name)\n",
    "            else:\n",
    "                pt.append(Max.name)\n",
    "            rxpts.append(pt)\n",
    "    return rxpts\n",
    "\n",
    "\n",
    "x, y, z = sp.symbols('x, y, z')"
   ]
  },
  {
   "cell_type": "code",
   "execution_count": 41,
   "metadata": {},
   "outputs": [
    {
     "data": {
      "image/png": "[encoded data removed]",
      "text/latex": [
       "$\\displaystyle \\left[ \\frac{\\lambda \\left(dx^{2} + dy^{2}\\right)}{18}, \\  \\left[ \\left( -2 + \\frac{72 \\sqrt{233}}{233}, \\  \\frac{15 \\sqrt{233}}{233} + 5, \\  \\frac{48 \\sqrt{233}}{233} + 6, \\  - \\frac{3 \\sqrt{233}}{2}\\right), \\  \\left( - \\frac{72 \\sqrt{233}}{233} - 2, \\  5 - \\frac{15 \\sqrt{233}}{233}, \\  6 - \\frac{48 \\sqrt{233}}{233}, \\  \\frac{3 \\sqrt{233}}{2}\\right)\\right]\\right]$"
      ],
      "text/plain": [
       "                                  _____       _____           _____           _____            _____               _____           _____      _____   \n",
       " lamda*(dx^2 + dy^2)         72*\\/ 233   15*\\/ 233       48*\\/ 233       -3*\\/ 233        72*\\/ 233           15*\\/ 233       48*\\/ 233   3*\\/ 233    \n",
       "[-------------------, [(-2 + ----------, ---------- + 5, ---------- + 6, -----------), (- ---------- - 2, 5 - ----------, 6 - ----------, ---------)]]\n",
       "          18                    233         233             233               2              233                 233             233          2       "
      ]
     },
     "execution_count": 41,
     "metadata": {},
     "output_type": "execute_result"
    }
   ],
   "source": [
    "f = 4 * x + 6 * y + 5 * z\n",
    "res = ((x - 6)**2) / 36 + ((y + 2)**2) / 36 + ((z - 5)**2) / 9 - 1\n",
    "extrm(f, res)"
   ]
  },
  {
   "cell_type": "code",
   "execution_count": 42,
   "metadata": {},
   "outputs": [
    {
     "data": {
      "image/png": "[encoded data removed]",
      "text/latex": [
       "$\\displaystyle \\frac{618 \\sqrt{233}}{233} + 52$"
      ],
      "text/plain": [
       "      _____     \n",
       "618*\\/ 233      \n",
       "----------- + 52\n",
       "    233         "
      ]
     },
     "metadata": {},
     "output_type": "display_data"
    },
    {
     "data": {
      "image/png": "[encoded data removed]",
      "text/latex": [
       "$\\displaystyle 52 - \\frac{618 \\sqrt{233}}{233}$"
      ],
      "text/plain": [
       "           _____\n",
       "     618*\\/ 233 \n",
       "52 - -----------\n",
       "         233    "
      ]
     },
     "metadata": {},
     "output_type": "display_data"
    }
   ],
   "source": [
    "varrs = [x, y, z]\n",
    "for point in extrm(f, res)[1]:\n",
    "    display(f.subs({var : point[j] for j, var in enumerate(varrs) }))"
   ]
  }
 ],
 "metadata": {
  "kernelspec": {
   "display_name": "Python 3",
   "language": "python",
   "name": "python3"
  },
  "language_info": {
   "codemirror_mode": {
    "name": "ipython",
    "version": 3
   },
   "file_extension": ".py",
   "mimetype": "text/x-python",
   "name": "python",
   "nbconvert_exporter": "python",
   "pygments_lexer": "ipython3",
   "version": "3.7.4"
  }
 },
 "nbformat": 4,
 "nbformat_minor": 4
}

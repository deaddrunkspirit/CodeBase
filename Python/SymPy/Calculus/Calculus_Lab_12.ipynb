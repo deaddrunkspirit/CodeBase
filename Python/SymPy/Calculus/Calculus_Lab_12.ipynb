{
 "cells": [
  {
   "cell_type": "code",
   "execution_count": 2,
   "metadata": {},
   "outputs": [],
   "source": [
    "import sympy as sp\n",
    "#Для красивой печати:\n",
    "sp.init_printing(use_unicode=False, wrap_line=False, no_global=True)"
   ]
  },
  {
   "cell_type": "markdown",
   "metadata": {},
   "source": [
    "# Лабораторная работа № 13\n",
    "# Математический анализ\n",
    "\n",
    "## Линейные ОДУ второго порядка с постоянными коэффициентами\n",
    "\n",
    "\n",
    "### Задача 1\n",
    "Решить ОДУ $3y''+5y'-2y=0$ по формуле из файла с примерами и с помощью dsolve."
   ]
  },
  {
   "cell_type": "code",
   "execution_count": 4,
   "metadata": {},
   "outputs": [],
   "source": [
    "x, y, k = sp.symbols('x, y, k')\n",
    "C1, C2 = sp.symbols(\"C_1, C_2\")\n",
    "def y(k1, k2):\n",
    "    return C1 * sp.exp(k1 * x) + C2 * sp.exp(k2 * x)"
   ]
  },
  {
   "cell_type": "code",
   "execution_count": 5,
   "metadata": {
    "scrolled": false
   },
   "outputs": [
    {
     "data": {
      "image/png": "[encoded data removed]",
      "text/latex": [
       "$\\displaystyle C_{1} e^{- 2 x} + C_{2} e^{\\frac{x}{3}}$"
      ],
      "text/plain": [
       "                 x\n",
       "                 -\n",
       "     -2*x        3\n",
       "C_1*e     + C_2*e "
      ]
     },
     "execution_count": 5,
     "metadata": {},
     "output_type": "execute_result"
    }
   ],
   "source": [
    "k1, k2 = sp.solve(3 * k ** 2 + 5 * k - 2,k)\n",
    "y(k1, k2)"
   ]
  },
  {
   "cell_type": "code",
   "execution_count": 6,
   "metadata": {},
   "outputs": [
    {
     "data": {
      "image/png": "[encoded data removed]",
      "text/latex": [
       "$\\displaystyle y{\\left(x \\right)} = C_{1} e^{- 2 x} + C_{2} \\sqrt[3]{e^{x}}$"
      ],
      "text/plain": [
       "                        ____\n",
       "           -2*x      3 /  x \n",
       "y(x) = C1*e     + C2*\\/  e  "
      ]
     },
     "execution_count": 6,
     "metadata": {},
     "output_type": "execute_result"
    }
   ],
   "source": [
    "yFun = sp.Function('y')\n",
    "sp.dsolve(3 * sp.diff(yFun(x), x, 2) + 5 * sp.diff(yFun(x), x) - 2 * yFun(x), yFun(x))"
   ]
  },
  {
   "cell_type": "markdown",
   "metadata": {},
   "source": [
    "### Задача 2.\n",
    "Решить задачу Коши:\n",
    "$$\n",
    "\\left\\{\n",
    "\\begin{matrix}\n",
    "9y''+3y'+y=0\\\\\n",
    "y(0)=0\\\\\n",
    "y'(0)=2\\sqrt3\n",
    "\\end{matrix}\n",
    "\\right.\n",
    "$$\n",
    "\n",
    "Указание: решить с помощью dsolve, затем найти значение одной из констант, используя начальное условие $y(0)=0$, после чего вычислить производную $y(x)$ с учетом значения найденной константы, что позволит найти вторую константу из условия  $y'(0)=1$."
   ]
  },
  {
   "cell_type": "code",
   "execution_count": 10,
   "metadata": {},
   "outputs": [
    {
     "data": {
      "image/png": "[encoded data removed]",
      "text/latex": [
       "$\\displaystyle y{\\left(x \\right)} = \\frac{C_{1} \\sin{\\left(\\frac{\\sqrt{3} x}{6} \\right)} + C_{2} \\cos{\\left(\\frac{\\sqrt{3} x}{6} \\right)}}{\\sqrt[6]{e^{x}}}$"
      ],
      "text/plain": [
       "             /  ___  \\         /  ___  \\\n",
       "             |\\/ 3 *x|         |\\/ 3 *x|\n",
       "       C1*sin|-------| + C2*cos|-------|\n",
       "             \\   6   /         \\   6   /\n",
       "y(x) = ---------------------------------\n",
       "                       ____             \n",
       "                    6 /  x              \n",
       "                    \\/  e               "
      ]
     },
     "execution_count": 10,
     "metadata": {},
     "output_type": "execute_result"
    }
   ],
   "source": [
    "res = sp.dsolve(9 * sp.diff(yFun(x), x, 2) + 3 * sp.diff(yFun(x), x) + yFun(x), yFun(x))\n",
    "res"
   ]
  },
  {
   "cell_type": "code",
   "execution_count": 36,
   "metadata": {},
   "outputs": [
    {
     "data": {
      "image/png": "[encoded data removed]",
      "text/latex": [
       "$\\displaystyle \\left[ C_{2}, \\  C_{1}, \\  x\\right]$"
      ],
      "text/plain": [
       "[C2, C1, x]"
      ]
     },
     "execution_count": 36,
     "metadata": {},
     "output_type": "execute_result"
    }
   ],
   "source": [
    "resRight = res.rhs\n",
    "symbs = list(resRight.free_symbols)\n",
    "symbs"
   ]
  },
  {
   "cell_type": "code",
   "execution_count": 37,
   "metadata": {},
   "outputs": [
    {
     "data": {
      "image/png": "[encoded data removed]",
      "text/latex": [
       "$\\displaystyle \\frac{12 \\sin{\\left(\\frac{\\sqrt{3} x}{6} \\right)}}{\\sqrt[6]{e^{x}}}$"
      ],
      "text/plain": [
       "      /  ___  \\\n",
       "      |\\/ 3 *x|\n",
       "12*sin|-------|\n",
       "      \\   6   /\n",
       "---------------\n",
       "       ____    \n",
       "    6 /  x     \n",
       "    \\/  e      "
      ]
     },
     "metadata": {},
     "output_type": "display_data"
    },
    {
     "data": {
      "image/png": "[encoded data removed]",
      "text/latex": [
       "$\\displaystyle 12$"
      ],
      "text/plain": [
       "12"
      ]
     },
     "metadata": {},
     "output_type": "display_data"
    },
    {
     "data": {
      "image/png": "[encoded data removed]",
      "text/latex": [
       "$\\displaystyle 0$"
      ],
      "text/plain": [
       "0"
      ]
     },
     "metadata": {},
     "output_type": "display_data"
    }
   ],
   "source": [
    "C2Num = sp.solve(resRight.subs({symbs[2] : 0}),symbs[0])[0]\n",
    "resRight = resRight.subs({symbs[0] : C2Num})\n",
    "\n",
    "C1Num = sp.solve(sp.diff(resRight, x).subs({symbs[2] : 0}) - 2 * sp.sqrt(3))[0]\n",
    "resRight = resRight.subs({symbs[1] : C1Num})\n",
    "display(resRight)\n",
    "display(C1Num,C2Num)"
   ]
  },
  {
   "cell_type": "markdown",
   "metadata": {},
   "source": [
    "### Задача 3.\n",
    "Решить с помощью dsolve:\n",
    "$$\n",
    "y'''+y''+y'+y=(4x+6)e^{2x}.\n",
    "$$\n",
    "Построить график $y(x)$ при начальных условиях $y(0)=4$, $y'(0)=2$, $y''(0)=0$."
   ]
  },
  {
   "cell_type": "code",
   "execution_count": 83,
   "metadata": {},
   "outputs": [],
   "source": [
    "res = sp.dsolve(sp.diff(yFun(x), x, 3) + sp.diff(yFun(x), x, 2) + sp.diff(yFun(x), x) + yFun(x) - (4 * x + 6) * sp.exp(2 * x), \n",
    "          yFun(x))\n",
    "resRight = res.rhs"
   ]
  },
  {
   "cell_type": "code",
   "execution_count": 73,
   "metadata": {},
   "outputs": [
    {
     "data": {
      "image/png": "[encoded data removed]",
      "text/latex": [
       "$\\displaystyle \\left[ C_{1}, \\  C_{3}, \\  C_{2}, \\  x\\right]$"
      ],
      "text/plain": [
       "[C1, C3, C2, x]"
      ]
     },
     "execution_count": 73,
     "metadata": {},
     "output_type": "execute_result"
    }
   ],
   "source": [
    "symbs = list(resRight.free_symbols)\n",
    "symbs"
   ]
  },
  {
   "cell_type": "code",
   "execution_count": 84,
   "metadata": {},
   "outputs": [
    {
     "data": {
      "image/png": "[encoded data removed]",
      "text/latex": [
       "$\\displaystyle C_{1} e^{- x} + C_{2} \\sin{\\left(x \\right)} + C_{3} \\cos{\\left(x \\right)} + \\frac{2 \\left(30 x + 11\\right) e^{2 x}}{225}$"
      ],
      "text/plain": [
       "                                                2*x\n",
       "    -x                           2*(30*x + 11)*e   \n",
       "C1*e   + C2*sin(x) + C3*cos(x) + ------------------\n",
       "                                        225        "
      ]
     },
     "execution_count": 84,
     "metadata": {},
     "output_type": "execute_result"
    }
   ],
   "source": [
    "resRight"
   ]
  },
  {
   "cell_type": "code",
   "execution_count": 85,
   "metadata": {},
   "outputs": [
    {
     "data": {
      "image/png": "[encoded data removed]",
      "text/latex": [
       "$\\displaystyle C_{2} \\sin{\\left(x \\right)} + C_{3} \\cos{\\left(x \\right)} + \\left(\\frac{878}{225} - C_{3}\\right) e^{- x} + \\frac{2 \\left(30 x + 11\\right) e^{2 x}}{225}$"
      ],
      "text/plain": [
       "                                                        2*x\n",
       "                        /878     \\  -x   2*(30*x + 11)*e   \n",
       "C2*sin(x) + C3*cos(x) + |--- - C3|*e   + ------------------\n",
       "                        \\225     /              225        "
      ]
     },
     "execution_count": 85,
     "metadata": {},
     "output_type": "execute_result"
    }
   ],
   "source": [
    "C1Num = sp.solve(resRight.subs({symbs[3] : 0}) - 4)[0][symbs[0]]\n",
    "resRight = resRight.subs({symbs[0] : C1Num})\n",
    "resRight"
   ]
  },
  {
   "cell_type": "code",
   "execution_count": 86,
   "metadata": {},
   "outputs": [
    {
     "data": {
      "image/png": "[encoded data removed]",
      "text/latex": [
       "$\\displaystyle C_{3} \\cos{\\left(x \\right)} + \\left(\\frac{878}{225} - C_{3}\\right) e^{- x} + \\left(\\frac{136}{25} - C_{3}\\right) \\sin{\\left(x \\right)} + \\frac{2 \\left(30 x + 11\\right) e^{2 x}}{225}$"
      ],
      "text/plain": [
       "                                                                2*x\n",
       "            /878     \\  -x   /136     \\          2*(30*x + 11)*e   \n",
       "C3*cos(x) + |--- - C3|*e   + |--- - C3|*sin(x) + ------------------\n",
       "            \\225     /       \\ 25     /                 225        "
      ]
     },
     "execution_count": 86,
     "metadata": {},
     "output_type": "execute_result"
    }
   ],
   "source": [
    "C2Num = sp.solve(resRight.diff(x).subs({symbs[3] : 0}) - 2)[0][symbs[2]]\n",
    "resRight = resRight.subs({symbs[2] : C2Num})\n",
    "resRight"
   ]
  },
  {
   "cell_type": "code",
   "execution_count": 87,
   "metadata": {},
   "outputs": [
    {
     "data": {
      "image/png": "[encoded data removed]",
      "text/latex": [
       "$\\displaystyle \\frac{67}{25}$"
      ],
      "text/plain": [
       "67\n",
       "--\n",
       "25"
      ]
     },
     "execution_count": 87,
     "metadata": {},
     "output_type": "execute_result"
    }
   ],
   "source": [
    "C3Num = sp.solve(resRight.diff(x, 2).subs({symbs[3] : 0}))[0]\n",
    "C3Num"
   ]
  },
  {
   "cell_type": "code",
   "execution_count": 88,
   "metadata": {},
   "outputs": [
    {
     "data": {
      "image/png": "[encoded data removed]",
      "text/latex": [
       "$\\displaystyle \\frac{2 \\left(30 x + 11\\right) e^{2 x}}{225} + \\frac{69 \\sin{\\left(x \\right)}}{25} + \\frac{67 \\cos{\\left(x \\right)}}{25} + \\frac{11 e^{- x}}{9}$"
      ],
      "text/plain": [
       "               2*x                               -x\n",
       "2*(30*x + 11)*e      69*sin(x)   67*cos(x)   11*e  \n",
       "------------------ + --------- + --------- + ------\n",
       "       225               25          25        9   "
      ]
     },
     "execution_count": 88,
     "metadata": {},
     "output_type": "execute_result"
    }
   ],
   "source": [
    "resRight = resRight.subs({symbs[1] : C3Num})\n",
    "resRight"
   ]
  },
  {
   "cell_type": "code",
   "execution_count": 90,
   "metadata": {},
   "outputs": [
    {
     "data": {
      "image/png": "[encoded data removed]",
      "text/plain": [
       "<Figure size 432x288 with 1 Axes>"
      ]
     },
     "metadata": {
      "needs_background": "light"
     },
     "output_type": "display_data"
    },
    {
     "data": {
      "text/plain": [
       "<sympy.plotting.plot.Plot at 0x19b5485ad88>"
      ]
     },
     "execution_count": 90,
     "metadata": {},
     "output_type": "execute_result"
    }
   ],
   "source": [
    "sp.plot(resRight, (x, 0, 2))"
   ]
  },
  {
   "cell_type": "markdown",
   "metadata": {},
   "source": [
    "### Индивидуальное задание\n"
   ]
  },
  {
   "cell_type": "code",
   "execution_count": 8,
   "metadata": {},
   "outputs": [
    {
     "data": {
      "image/png": "[encoded data removed]",
      "text/latex": [
       "$\\displaystyle \\left[ x, \\  C_{1}, \\  C_{2}\\right]$"
      ],
      "text/plain": [
       "[x, C1, C2]"
      ]
     },
     "execution_count": 8,
     "metadata": {},
     "output_type": "execute_result"
    }
   ],
   "source": [
    "res = sp.dsolve(4 * yFun(x).diff(x, 2) + 3 * yFun(x).diff(x) + 3 * yFun(x) -\n",
    "                ( - 6 * x * sp.sin(x) - 2 * x * sp.cos(x) - 31 * sp.sin(x) + sp.cos(x)), yFun(x))\n",
    "resRight = res.rhs\n",
    "symbs = list(resRight.free_symbols)\n",
    "symbs"
   ]
  },
  {
   "cell_type": "code",
   "execution_count": 9,
   "metadata": {},
   "outputs": [
    {
     "data": {
      "image/png": "[encoded data removed]",
      "text/latex": [
       "$\\displaystyle 2 x \\cos{\\left(x \\right)} + \\frac{C_{1} \\sin{\\left(\\frac{\\sqrt{39} x}{8} \\right)} + C_{2} \\cos{\\left(\\frac{\\sqrt{39} x}{8} \\right)}}{\\left(e^{x}\\right)^{\\frac{3}{8}}} + 5 \\cos{\\left(x \\right)}$"
      ],
      "text/plain": [
       "                   /  ____  \\         /  ____  \\           \n",
       "                   |\\/ 39 *x|         |\\/ 39 *x|           \n",
       "             C1*sin|--------| + C2*cos|--------|           \n",
       "                   \\   8    /         \\   8    /           \n",
       "2*x*cos(x) + ----------------------------------- + 5*cos(x)\n",
       "                               3/8                         \n",
       "                           / x\\                            \n",
       "                           \\e /                            "
      ]
     },
     "execution_count": 9,
     "metadata": {},
     "output_type": "execute_result"
    }
   ],
   "source": [
    "resRight"
   ]
  },
  {
   "cell_type": "code",
   "execution_count": 113,
   "metadata": {},
   "outputs": [
    {
     "data": {
      "image/png": "[encoded data removed]",
      "text/latex": [
       "$\\displaystyle - 2 x \\sin{\\left(x \\right)} + 4 x \\cos{\\left(x \\right)} + \\frac{C_{1} \\sin{\\left(\\frac{\\sqrt{14} x}{3} \\right)} - 3 \\cos{\\left(\\frac{\\sqrt{14} x}{3} \\right)}}{\\sqrt[3]{e^{x}}} + 4 \\sin{\\left(x \\right)} + 5 \\cos{\\left(x \\right)}$"
      ],
      "text/plain": [
       "                                 /  ____  \\        /  ____  \\                      \n",
       "                                 |\\/ 14 *x|        |\\/ 14 *x|                      \n",
       "                           C1*sin|--------| - 3*cos|--------|                      \n",
       "                                 \\   3    /        \\   3    /                      \n",
       "-2*x*sin(x) + 4*x*cos(x) + ---------------------------------- + 4*sin(x) + 5*cos(x)\n",
       "                                           ____                                    \n",
       "                                        3 /  x                                     \n",
       "                                        \\/  e                                      "
      ]
     },
     "execution_count": 113,
     "metadata": {},
     "output_type": "execute_result"
    }
   ],
   "source": [
    "C2Num = sp.solve(resRight.subs({symbs[2] : 0}) - 5, symbs[0])[0]\n",
    "resRight = resRight.subs({symbs[0] : C2Num})\n",
    "resRight"
   ]
  },
  {
   "cell_type": "code",
   "execution_count": 114,
   "metadata": {},
   "outputs": [
    {
     "data": {
      "image/png": "[encoded data removed]",
      "text/latex": [
       "$\\displaystyle - 2 x \\sin{\\left(x \\right)} + 4 x \\cos{\\left(x \\right)} + \\frac{- \\frac{15 \\sqrt{14} \\sin{\\left(\\frac{\\sqrt{14} x}{3} \\right)}}{14} - 3 \\cos{\\left(\\frac{\\sqrt{14} x}{3} \\right)}}{\\sqrt[3]{e^{x}}} + 4 \\sin{\\left(x \\right)} + 5 \\cos{\\left(x \\right)}$"
      ],
      "text/plain": [
       "                                          /  ____  \\                                        \n",
       "                                  ____    |\\/ 14 *x|                                        \n",
       "                             15*\\/ 14 *sin|--------|        /  ____  \\                      \n",
       "                                          \\   3    /        |\\/ 14 *x|                      \n",
       "                           - ----------------------- - 3*cos|--------|                      \n",
       "                                        14                  \\   3    /                      \n",
       "-2*x*sin(x) + 4*x*cos(x) + ------------------------------------------- + 4*sin(x) + 5*cos(x)\n",
       "                                                ____                                        \n",
       "                                             3 /  x                                         \n",
       "                                             \\/  e                                          "
      ]
     },
     "execution_count": 114,
     "metadata": {},
     "output_type": "execute_result"
    }
   ],
   "source": [
    "C1Num = sp.solve(resRight.diff(x).subs({symbs[2] : 0}) - 2)[0]\n",
    "resRight = resRight.subs({symbs[1] : C1Num})\n",
    "resRight"
   ]
  },
  {
   "cell_type": "code",
   "execution_count": 115,
   "metadata": {},
   "outputs": [
    {
     "data": {
      "image/png": "[encoded data removed]",
      "text/plain": [
       "<Figure size 432x288 with 1 Axes>"
      ]
     },
     "metadata": {
      "needs_background": "light"
     },
     "output_type": "display_data"
    },
    {
     "data": {
      "text/plain": [
       "<sympy.plotting.plot.Plot at 0x19b5493f588>"
      ]
     },
     "execution_count": 115,
     "metadata": {},
     "output_type": "execute_result"
    }
   ],
   "source": [
    "sp.plot(resRight, (x, 0, 10))"
   ]
  },
  {
   "cell_type": "code",
   "execution_count": null,
   "metadata": {},
   "outputs": [],
   "source": []
  }
 ],
 "metadata": {
  "kernelspec": {
   "display_name": "Python 3",
   "language": "python",
   "name": "python3"
  },
  "language_info": {
   "codemirror_mode": {
    "name": "ipython",
    "version": 3
   },
   "file_extension": ".py",
   "mimetype": "text/x-python",
   "name": "python",
   "nbconvert_exporter": "python",
   "pygments_lexer": "ipython3",
   "version": "3.7.4"
  }
 },
 "nbformat": 4,
 "nbformat_minor": 2
}

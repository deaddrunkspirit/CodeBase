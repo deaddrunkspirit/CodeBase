{
 "cells": [
  {
   "cell_type": "markdown",
   "metadata": {},
   "source": [
    "# Лабораторная работа № 9\n",
    "# Математический анализ\n",
    "\n",
    "## Интегрирование функции: первообразная и неопределенный интеграл\n",
    "\n",
    "\n",
    "https://docs.sympy.org/1.5.1/modules/integrals/integrals.html\n",
    "https://ru.wikipedia.org/wiki/%D0%9F%D0%B5%D1%80%D0%B2%D0%BE%D0%BE%D0%B1%D1%80%D0%B0%D0%B7%D0%BD%D0%B0%D1%8F\n",
    "https://ru.wikipedia.org/wiki/%D0%A1%D0%BF%D0%B8%D1%81%D0%BE%D0%BA_%D0%B8%D0%BD%D1%82%D0%B5%D0%B3%D1%80%D0%B0%D0%BB%D0%BE%D0%B2_%D1%8D%D0%BB%D0%B5%D0%BC%D0%B5%D0%BD%D1%82%D0%B0%D1%80%D0%BD%D1%8B%D1%85_%D1%84%D1%83%D0%BD%D0%BA%D1%86%D0%B8%D0%B9"
   ]
  },
  {
   "cell_type": "code",
   "execution_count": 33,
   "metadata": {},
   "outputs": [],
   "source": [
    "from sympy import *\n",
    "import numpy as np\n",
    "import matplotlib.pyplot as plt\n",
    "%matplotlib inline"
   ]
  },
  {
   "cell_type": "markdown",
   "metadata": {},
   "source": [
    "### Задача 1\n",
    "Описать функцию, находящую неопределенный интеграл $\\int f(x)\\,dx$ в виде $F(x)+C$.\n",
    "\n",
    "Использовать эту функцию для интегрирования $\\sin(3x+5)$, $x{\\rm tg}(x^2)$, $(e^{\\sin x})\\cos x$, $x^2e^{x^3}$"
   ]
  },
  {
   "cell_type": "code",
   "execution_count": 34,
   "metadata": {},
   "outputs": [
    {
     "data": {
      "text/latex": [
       "$\\displaystyle C - \\frac{\\cos{\\left(3 x + 5 \\right)}}{3}$"
      ],
      "text/plain": [
       "C - cos(3*x + 5)/3"
      ]
     },
     "metadata": {},
     "output_type": "display_data"
    },
    {
     "data": {
      "text/latex": [
       "$\\displaystyle C + \\frac{\\log{\\left(\\tan^{2}{\\left(x^{2} \\right)} + 1 \\right)}}{4}$"
      ],
      "text/plain": [
       "C + log(tan(x**2)**2 + 1)/4"
      ]
     },
     "metadata": {},
     "output_type": "display_data"
    },
    {
     "data": {
      "text/latex": [
       "$\\displaystyle C + e^{\\sin{\\left(x \\right)}}$"
      ],
      "text/plain": [
       "C + exp(sin(x))"
      ]
     },
     "metadata": {},
     "output_type": "display_data"
    },
    {
     "data": {
      "text/latex": [
       "$\\displaystyle C + \\frac{e^{x^{3}}}{3}$"
      ],
      "text/plain": [
       "C + exp(x**3)/3"
      ]
     },
     "metadata": {},
     "output_type": "display_data"
    }
   ],
   "source": [
    "def Integrate(f,x):\n",
    "    C = symbols(\"C\")\n",
    "    return (integrate(f,x) + C)\n",
    "\n",
    "x,y,z,k = symbols(\"x y z k\")\n",
    "eq1 = Integrate(sin(3 * x + 5), x)\n",
    "eq2 = Integrate(x * tan(x**2), x)\n",
    "eq3 = Integrate((E**(sin(x))) * cos(x), x)\n",
    "eq4 = Integrate((x**2) * (E**(x**3)),x)\n",
    "display(eq1, eq2, eq3, eq4)"
   ]
  },
  {
   "cell_type": "markdown",
   "metadata": {},
   "source": [
    "### Задача 2.\n",
    "Найти первообразную функции $\\frac{x-3}{(x+1)^2}$, график которой проходит через начало координат."
   ]
  },
  {
   "cell_type": "code",
   "execution_count": 35,
   "metadata": {},
   "outputs": [
    {
     "data": {
      "text/latex": [
       "$\\displaystyle \\log{\\left(x + 1 \\right)} + \\frac{4}{x + 1}$"
      ],
      "text/plain": [
       "log(x + 1) + 4/(x + 1)"
      ]
     },
     "metadata": {},
     "output_type": "display_data"
    },
    {
     "data": {
      "text/plain": [
       "[-4]"
      ]
     },
     "metadata": {},
     "output_type": "display_data"
    },
    {
     "data": {
      "text/latex": [
       "$\\displaystyle \\log{\\left(x + 1 \\right)} - 4 + \\frac{4}{x + 1}$"
      ],
      "text/plain": [
       "log(x + 1) - 4 + 4/(x + 1)"
      ]
     },
     "metadata": {},
     "output_type": "display_data"
    }
   ],
   "source": [
    "x, C = symbols(\"x, C\")\n",
    "y = integrate((x - 3) / (x + 1)**2, x)\n",
    "C = list(solveset(y.subs([(x, 0)]) + C, C))\n",
    "display(y, C, y + C[0])"
   ]
  },
  {
   "cell_type": "markdown",
   "metadata": {},
   "source": [
    "### Задача 3.\n",
    "Найти первообразную функции $\\frac{2}{x+1}+1$, график которой проходит через начало координат и точку (-2,0).\n",
    "Построить график первообразной и отметить точки (0,0) и  (-2,0).\n",
    "\n",
    "Указание: первообразная разрывной функции может быть разрывной! (см. https://ru.wikipedia.org/wiki/%D0%A1%D0%BF%D0%B8%D1%81%D0%BE%D0%BA_%D0%B8%D0%BD%D1%82%D0%B5%D0%B3%D1%80%D0%B0%D0%BB%D0%BE%D0%B2_%D1%8D%D0%BB%D0%B5%D0%BC%D0%B5%D0%BD%D1%82%D0%B0%D1%80%D0%BD%D1%8B%D1%85_%D1%84%D1%83%D0%BD%D0%BA%D1%86%D0%B8%D0%B9)"
   ]
  },
  {
   "cell_type": "code",
   "execution_count": 36,
   "metadata": {},
   "outputs": [
    {
     "name": "stdout",
     "output_type": "stream",
     "text": [
      "[2] [0]\n"
     ]
    },
    {
     "name": "stderr",
     "output_type": "stream",
     "text": [
      "C:\\Users\\deaddrunkspirit\\Anaconda3\\lib\\site-packages\\ipykernel_launcher.py:9: RuntimeWarning: divide by zero encountered in log\n",
      "  if __name__ == '__main__':\n"
     ]
    },
    {
     "data": {
      "text/plain": [
       "[<matplotlib.lines.Line2D at 0x21eb5a13e88>]"
      ]
     },
     "execution_count": 36,
     "metadata": {},
     "output_type": "execute_result"
    },
    {
     "data": {
      "image/png": "[encoded data removed]",
      "text/plain": [
       "<Figure size 432x288 with 1 Axes>"
      ]
     },
     "metadata": {
      "needs_background": "light"
     },
     "output_type": "display_data"
    }
   ],
   "source": [
    "C = symbols(\"C\")\n",
    "y = x + 2 * log(abs(x + 1))\n",
    "C1 = list(solveset(y.subs([(x, -2)]) + C, C))\n",
    "C2 = list(solveset(y.subs([(x, 0)]) + C, C))\n",
    "print(C1, C2)\n",
    "x1 = np.arange(-10, -1, 0.01)\n",
    "y1 = x1 + 2 * np.log((abs(x1 + 1))) + C1\n",
    "x2 = np.arange(-1, 10, 0.01)\n",
    "y2 = x2 + 2 * np.log((abs(x2 + 1))) + C2\n",
    "plt.grid()\n",
    "plt.xlim(-10, 10)\n",
    "plt.ylim(-7, 7)\n",
    "plt.plot(x1, y1, \"g\")\n",
    "plt.plot(x2, y2, \"g\")\n",
    "plt.plot(0, 0, \"o\")\n",
    "plt.plot(-2, 0, \"o\")"
   ]
  },
  {
   "cell_type": "markdown",
   "metadata": {},
   "source": [
    "### Задача 4.\n",
    "Описать функцию, вычисляющую неопределенный интеграл от $\\frac{1}{\\sqrt{x^2+a}}$ по формуле \"длинного логарифма\"."
   ]
  },
  {
   "cell_type": "code",
   "execution_count": 37,
   "metadata": {},
   "outputs": [
    {
     "data": {
      "text/latex": [
       "$\\displaystyle C + \\log{\\left(\\left|{x + \\left(a + x^{2}\\right)^{0.5}}\\right| \\right)}$"
      ],
      "text/plain": [
       "C + log(Abs(x + (a + x**2)**0.5))"
      ]
     },
     "execution_count": 37,
     "metadata": {},
     "output_type": "execute_result"
    }
   ],
   "source": [
    "import math\n",
    "a, x, C = symbols(\"a x C\")\n",
    "def Integrate(x,a):\n",
    "    return (log(abs(x + (x**2 + a)**0.5)) + C)\n",
    "Integrate(x, a)"
   ]
  },
  {
   "cell_type": "markdown",
   "metadata": {},
   "source": [
    "### Задача 5.\n",
    "Вычислить определенные интегралы:\n",
    "$$\n",
    "1)\\ \\int_2^3 \\frac{1}{\\sqrt{x-2}},\\ 2) \\int_1^6 \\frac{1}{(x-1)^3},\\ 3)\\ \\int_2^\\infty \\frac{1}{(x-1)^3} \n",
    "$$\n"
   ]
  },
  {
   "cell_type": "code",
   "execution_count": 38,
   "metadata": {},
   "outputs": [
    {
     "data": {
      "text/latex": [
       "$\\displaystyle 2.0$"
      ],
      "text/plain": [
       "2.00000000000000"
      ]
     },
     "metadata": {},
     "output_type": "display_data"
    },
    {
     "data": {
      "text/latex": [
       "$\\displaystyle \\infty$"
      ],
      "text/plain": [
       "oo"
      ]
     },
     "metadata": {},
     "output_type": "display_data"
    },
    {
     "data": {
      "text/latex": [
       "$\\displaystyle \\frac{1}{2}$"
      ],
      "text/plain": [
       "1/2"
      ]
     },
     "metadata": {},
     "output_type": "display_data"
    }
   ],
   "source": [
    "x = symbols(\"x\")\n",
    "display(integrate(1 / (x - 2)**0.5, (x, 2, 3)))\n",
    "display(integrate(1 / (x - 1)**3,(x, 1, 6)))\n",
    "display(integrate(1 / (x - 1)**3, (x, 2, oo)))"
   ]
  },
  {
   "cell_type": "markdown",
   "metadata": {},
   "source": [
    "### Индивидуальное задание\n",
    "Найти площадь фигуры, ограниченной кривыми $f(x)$, $g(x)$, $h(x)$."
   ]
  },
  {
   "cell_type": "code",
   "execution_count": 39,
   "metadata": {},
   "outputs": [
    {
     "name": "stdout",
     "output_type": "stream",
     "text": [
      "S = 108/49\n"
     ]
    },
    {
     "data": {
      "text/latex": [
       "$\\displaystyle \\frac{217989}{686}$"
      ],
      "text/plain": [
       "217989/686"
      ]
     },
     "metadata": {},
     "output_type": "display_data"
    },
    {
     "data": {
      "image/png": "[encoded data removed]",
      "text/plain": [
       "<Figure size 432x288 with 1 Axes>"
      ]
     },
     "metadata": {
      "needs_background": "light"
     },
     "output_type": "display_data"
    }
   ],
   "source": [
    "#f(x) = x2 − 2x − 32, g(x) = −x2 + 2x + 38, h(x) = 3x/7\n",
    "x = symbols(\"x\")\n",
    "x1 = np.arange(-10, 10, 0.1)\n",
    "f = x1**2 - 2 * x1 - 32\n",
    "g = -x1**2 + 2 * x1 + 38\n",
    "h = (3 * x1) / 7\n",
    "plt.plot(x1, f)\n",
    "plt.plot(x1, g)\n",
    "plt.plot(x1, h)\n",
    "f1 =  x**2 - 2 * x - 32\n",
    "g1 = -x**2 + 2 * x + 38\n",
    "h1 = (3 * x) / 7\n",
    "x1 = list(solveset(g1 - h1, x))\n",
    "x1 = x1[0]\n",
    "x2 = list(solveset(f1 - h1, x))\n",
    "x2 = x2[0]\n",
    "x3 = list(solveset(f1 - g1, x))\n",
    "x4 = x3[1]\n",
    "x3 = x3[0]\n",
    "S1 = integrate(g1 - h1, (x, x1, x2))\n",
    "S2 = integrate(g1 - f1, (x, x3, x2))\n",
    "S12 = S1 - S2\n",
    "print(\"S = \" + str(S12))\n",
    "S1 = integrate(g1 - f1, (x, x3, x4))\n",
    "S2 = integrate(h1 - f1, (x, x2, x4))\n",
    "S12 = S1 - S2\n",
    "display(S12)"
   ]
  }
 ],
 "metadata": {
  "kernelspec": {
   "display_name": "Python 3",
   "language": "python",
   "name": "python3"
  },
  "language_info": {
   "codemirror_mode": {
    "name": "ipython",
    "version": 3
   },
   "file_extension": ".py",
   "mimetype": "text/x-python",
   "name": "python",
   "nbconvert_exporter": "python",
   "pygments_lexer": "ipython3",
   "version": "3.7.4"
  }
 },
 "nbformat": 4,
 "nbformat_minor": 2
}

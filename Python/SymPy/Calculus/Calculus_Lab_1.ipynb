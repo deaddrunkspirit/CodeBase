{
 "cells": [
  {
   "cell_type": "markdown",
   "metadata": {},
   "source": [
    "# Занятие 1\n",
    "# Математический анализ"
   ]
  },
  {
   "cell_type": "markdown",
   "metadata": {},
   "source": [
    "## Знакомство с вычислениями"
   ]
  },
  {
   "cell_type": "markdown",
   "metadata": {},
   "source": [
    "### Численные выражения"
   ]
  },
  {
   "cell_type": "markdown",
   "metadata": {},
   "source": [
    "### Задание 1\n",
    "Найти значение выражения\n",
    "$$\n",
    "\\left(\\frac{2\\pi}{3}+\\ln(x+3)\\right)^{\\sin x}\n",
    "$$\n",
    "при $x=\\arccos\\left(\\frac{\\sqrt2}{2}\\right)$"
   ]
  },
  {
   "cell_type": "code",
   "execution_count": null,
   "metadata": {},
   "outputs": [],
   "source": []
  },
  {
   "cell_type": "markdown",
   "metadata": {},
   "source": [
    "### Задание 2\n",
    "Описать функцию, которая проверяет, равноудалены ли соседние точки, координаты которых передаются в виде списка \n",
    "из списков координат $x$ и $y$ (например, [[1,2,3,4],[5,6,7,8]]). Первая и последняя точки тоже проверяются на равноудаленность друг от друга и от соседей."
   ]
  },
  {
   "cell_type": "code",
   "execution_count": null,
   "metadata": {},
   "outputs": [],
   "source": [
    " "
   ]
  },
  {
   "cell_type": "markdown",
   "metadata": {},
   "source": [
    "### Задание 3\n",
    "Описать функцию, вычисляющую координаты n>2 равноудаленных друг от друга точек окружности \n",
    "с центром в точке с координатами $x_0$, $y_0$ радиуса $R$. Первая точка ($x_0-R$,$y_0$), остальные - по часовой стрелке.\n",
    "\n",
    "Аргументы функции $n$, $x_0$, $y_0$, $R$\n",
    "\n",
    "Результат - список из списков координат $x$ и $y$\n",
    "(например, [[1,2,3,4],[5,6,7,8]])\n",
    "\n",
    "Проверить работу функции на тестах:\n",
    "\n",
    "$n=4$, $x_0=0$,$y_0=0$,$R=1$\n",
    "\n",
    "$n=3$, $x_0=1$,$y_0=2$,$R=1$\n",
    "\n",
    "$n=6$, $x_0=5$, $y_0=5$,$R=10$\n",
    "\n",
    "$n=10$, $x_0=-2$, $y_0=2$,$R=4$"
   ]
  },
  {
   "cell_type": "code",
   "execution_count": null,
   "metadata": {},
   "outputs": [],
   "source": []
  },
  {
   "cell_type": "markdown",
   "metadata": {},
   "source": [
    "### Символьные преобразования\n",
    "#### Задание 4\n",
    "Описать функцию, составляющую уравнение окружности с центром в точке с координатами $x_0$, $y_0$ радиуса $R$. \n",
    "\n",
    "Имена переменных - тоже аргументы функции.\n",
    "\n",
    "Проверить работу функции на тестах:\n",
    "\n",
    "$x_0=-1$,$y_0=0$,$R=1$, 'x', 'y'\n",
    "\n",
    "$x_0=10$,$y_0=2$,$R=0$, 'a', 'b'\n",
    "\n",
    "$x_0=-5$, $y_0=-5$,$R=1$, 'x1', 'x2'\n",
    "\n",
    "$x_0=-2$, $y_0=2$,$R=4$, '1\\over{x_1}', '1\\over{x_2}' \n"
   ]
  },
  {
   "cell_type": "code",
   "execution_count": null,
   "metadata": {},
   "outputs": [],
   "source": []
  }
 ],
 "metadata": {
  "kernelspec": {
   "display_name": "Python 3",
   "language": "python",
   "name": "python3"
  },
  "language_info": {
   "codemirror_mode": {
    "name": "ipython",
    "version": 3
   },
   "file_extension": ".py",
   "mimetype": "text/x-python",
   "name": "python",
   "nbconvert_exporter": "python",
   "pygments_lexer": "ipython3",
   "version": "3.7.4"
  }
 },
 "nbformat": 4,
 "nbformat_minor": 2
}

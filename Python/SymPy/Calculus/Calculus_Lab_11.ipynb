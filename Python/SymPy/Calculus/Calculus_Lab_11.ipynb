{
 "cells": [
  {
   "cell_type": "code",
   "execution_count": 3,
   "metadata": {},
   "outputs": [],
   "source": [
    "import sympy as sp\n",
    "#Для красивой печати:\n",
    "sp.init_printing(use_unicode=False, wrap_line=False, no_global=True)\n",
    "import matplotlib.pyplot as plt\n",
    "from sympy.abc import x,y,a,b,c,C,u,v,t\n",
    "from sympy.integrals import manualintegrate\n",
    "from sympy.integrals.manualintegrate import integral_steps, manualintegrate"
   ]
  },
  {
   "cell_type": "markdown",
   "metadata": {},
   "source": [
    "# Лабораторная работа № 11\n",
    "# Математический анализ\n",
    "\n",
    "## Пошаговое интегрирование\n",
    "\n",
    "## Задание № 1\n",
    "Вычислить интеграл $\\int x(x+a)(x+b)\\,dx$ по шагам, пользуясь integral_steps и manualintegrate. \n",
    "\n",
    "Использовать результаты аналитических вычислений для описания решения в ячейке типа Markdown как в примерах 1-6."
   ]
  },
  {
   "cell_type": "code",
   "execution_count": 4,
   "metadata": {},
   "outputs": [
    {
     "data": {
      "text/plain": [
       "AlternativeRule(alternatives=[RewriteRule(rewritten=a*b*x + x**3 + x**2*(a + b), substep=AddRule(substeps=[ConstantTimesRule(constant=a*b, other=x, substep=PowerRule(base=x, exp=1, context=x, symbol=x), context=a*b*x, symbol=x), PowerRule(base=x, exp=3, context=x**3, symbol=x), ConstantTimesRule(constant=a + b, other=x**2, substep=PowerRule(base=x, exp=2, context=x**2, symbol=x), context=x**2*(a + b), symbol=x)], context=a*b*x + x**3 + x**2*(a + b), symbol=x), context=x*(a + x)*(b + x), symbol=x), RewriteRule(rewritten=a*b*x + a*x**2 + b*x**2 + x**3, substep=AddRule(substeps=[ConstantTimesRule(constant=a*b, other=x, substep=PowerRule(base=x, exp=1, context=x, symbol=x), context=a*b*x, symbol=x), ConstantTimesRule(constant=a, other=x**2, substep=PowerRule(base=x, exp=2, context=x**2, symbol=x), context=a*x**2, symbol=x), ConstantTimesRule(constant=b, other=x**2, substep=PowerRule(base=x, exp=2, context=x**2, symbol=x), context=b*x**2, symbol=x), PowerRule(base=x, exp=3, context=x**3, symbol=x)], context=a*b*x + a*x**2 + b*x**2 + x**3, symbol=x), context=x*(a + x)*(b + x), symbol=x)], context=x*(a + x)*(b + x), symbol=x)"
      ]
     },
     "execution_count": 4,
     "metadata": {},
     "output_type": "execute_result"
    }
   ],
   "source": [
    "integral_steps(x * (x + a) * (x + b), x)"
   ]
  },
  {
   "cell_type": "markdown",
   "metadata": {},
   "source": [
    "1) RewriteRule $\\int x(x+a)(x+b)\\,dx = \\int (abx + x^3 + x^2(a + b))\\,dx$\n",
    "\n",
    "2) AddRule $\\int x(x+a)(x+b)\\,dx = \\int abx \\,dx + \\int x^3 \\,dx + \\int x^2(a + b)\\,dx$\n",
    "\n",
    "3) ConstantTimesRule $\\int (abx)\\,dx = ab\\int x\\,dx$\n",
    "\n",
    "4) PowerRule $\\int x\\,dx = \\frac{x^2}{2} $\n",
    "\n",
    "5) ConstantTimesRule $\\int x^2(a + b)\\,dx = (a+b) \\int x^2 \\,dx$ \n",
    "\n",
    "6) PowerRule $\\int x^2\\,dx = \\frac{x^3}{3} $\n",
    "\n",
    "7) PowerRule $\\int x^3\\,dx = \\frac{x^4}{4} $"
   ]
  },
  {
   "cell_type": "code",
   "execution_count": 5,
   "metadata": {},
   "outputs": [
    {
     "data": {
      "image/png": "[encoded data removed]",
      "text/latex": [
       "$\\displaystyle \\frac{a b x^{2}}{2} + \\frac{x^{4}}{4} + \\frac{x^{3} \\left(a + b\\right)}{3}$"
      ],
      "text/plain": [
       "     2    4    3        \n",
       "a*b*x    x    x *(a + b)\n",
       "------ + -- + ----------\n",
       "  2      4        3     "
      ]
     },
     "execution_count": 5,
     "metadata": {},
     "output_type": "execute_result"
    }
   ],
   "source": [
    "manualintegrate(x * (x + a) * (x + b), x)"
   ]
  },
  {
   "cell_type": "markdown",
   "metadata": {},
   "source": [
    "## Задание № 2\n",
    "Вычислить по шагам интеграл  $$\\int \\frac{(x^2+1)(x^2-2)}{\\sqrt[3]{x^2}}\\,dx$$\n",
    "\n",
    "Сравните результат integral_steps при интегрировании исходного подынтегрального выражения и в случае, если выражение предварительно преобразовано с помощью collect (группирует слагаемые по степеням переменной) и expand.\n",
    "\n",
    "Описать решение с упрощением подынтегрального выражения в ячейке типа Markdown. "
   ]
  },
  {
   "cell_type": "code",
   "execution_count": 6,
   "metadata": {},
   "outputs": [
    {
     "data": {
      "text/plain": [
       "AddRule(substeps=[ConstantTimesRule(constant=-2, other=x**(-0.666666666666667), substep=PowerRule(base=x, exp=-0.666666666666667, context=x**(-0.666666666666667), symbol=x), context=-2*x**(-0.666666666666667), symbol=x), ConstantTimesRule(constant=-1, other=x**1.33333333333333, substep=PowerRule(base=x, exp=1.33333333333333, context=x**1.33333333333333, symbol=x), context=-x**1.33333333333333, symbol=x), PowerRule(base=x, exp=3.33333333333333, context=x**3.33333333333333, symbol=x)], context=-2*x**(-0.666666666666667) - x**1.33333333333333 + x**3.33333333333333, symbol=x)"
      ]
     },
     "execution_count": 6,
     "metadata": {},
     "output_type": "execute_result"
    }
   ],
   "source": [
    "f = (x**2  + 1)*(x**2 - 2) / x**(2 / 3)\n",
    "integral_steps(f, x)\n",
    "f = sp.expand(f)\n",
    "integral_steps(f, x)"
   ]
  },
  {
   "cell_type": "markdown",
   "metadata": {},
   "source": [
    "1) AddRule $ \\int - \\frac{2}{\\sqrt[3]{x^2}} - \\sqrt[3]{x^4} + \\sqrt[3]{x^{10}}\\,dx = - \\int \\frac{2}{\\sqrt[3]{x^2}} \\,dx - \\int \\sqrt[3]{x^4} \\,dx + \\int \\sqrt[3]{x^{10}}\\,dx $\n",
    "\n",
    "2) PowerRule $ \\int x^{\\frac{4}{3}}\\, dx = \\frac{3}{7}x^{\\frac{7}{3}} $\n",
    "\n",
    "3) PowerRule $ -\\int \\frac{2}{x^{\\frac{2}{3}}}\\, dx = -6 \\sqrt[3]{x} $ \n",
    "\n",
    "4) PowerRule $\\int x^{\\frac{10}{3}}\\, dx = \\frac{3 x^{\\frac{13}{3}}}{13}$  "
   ]
  },
  {
   "cell_type": "code",
   "execution_count": 7,
   "metadata": {},
   "outputs": [
    {
     "data": {
      "image/png": "[encoded data removed]",
      "text/latex": [
       "$\\displaystyle - 6.0 x^{0.333333333333333} - 0.428571428571429 x^{2.33333333333333} + 0.230769230769231 x^{4.33333333333333}$"
      ],
      "text/plain": [
       "       0.333333333333333                      2.33333333333333                      4.33333333333333\n",
       "- 6.0*x                  - 0.428571428571429*x                 + 0.230769230769231*x                "
      ]
     },
     "execution_count": 7,
     "metadata": {},
     "output_type": "execute_result"
    }
   ],
   "source": [
    "manualintegrate(f, x)"
   ]
  },
  {
   "cell_type": "markdown",
   "metadata": {},
   "source": [
    "## Задание № 3\n",
    "Вычислить по шагам интеграл $$\\int \\frac{e^x}{e^x-1}\\,dx$$\n",
    "\n",
    "Описать решение в ячейке типа Markdown. "
   ]
  },
  {
   "cell_type": "code",
   "execution_count": 8,
   "metadata": {},
   "outputs": [
    {
     "data": {
      "text/plain": [
       "AlternativeRule(alternatives=[URule(u_var=_u, u_func=exp(x) - 1, constant=1, substep=ReciprocalRule(func=_u, context=1/_u, symbol=_u), context=exp(x)/(exp(x) - 1), symbol=x), URule(u_var=_u, u_func=exp(x), constant=1, substep=URule(u_var=_u, u_func=_u - 1, constant=1, substep=ReciprocalRule(func=_u, context=1/_u, symbol=_u), context=1/(_u - 1), symbol=_u), context=exp(x)/(exp(x) - 1), symbol=x)], context=exp(x)/(exp(x) - 1), symbol=x)"
      ]
     },
     "execution_count": 8,
     "metadata": {},
     "output_type": "execute_result"
    }
   ],
   "source": [
    "integral_steps(sp.exp(x) / (sp.exp(x) - 1), x )"
   ]
  },
  {
   "cell_type": "markdown",
   "metadata": {},
   "source": [
    "1) AlternativeRule  $ u = e^{x} - 1 $\n",
    "\n",
    "$\\int \\frac{e^{x}}{e^{x} - 1}\\, dx =  \\int \\frac{1}{u}\\, du $ \n",
    "\n",
    "2) $ \\int \\frac{1}{u}\\, du = \\log{\\left (u \\right )} $\n",
    "\n",
    "3) $ \\log{(u )} = \\log{(e^{x} - 1 )}  $"
   ]
  },
  {
   "cell_type": "code",
   "execution_count": 9,
   "metadata": {},
   "outputs": [
    {
     "data": {
      "image/png": "[encoded data removed]",
      "text/latex": [
       "$\\displaystyle \\log{\\left(e^{x} - 1 \\right)}$"
      ],
      "text/plain": [
       "   / x    \\\n",
       "log\\e  - 1/"
      ]
     },
     "execution_count": 9,
     "metadata": {},
     "output_type": "execute_result"
    }
   ],
   "source": [
    "manualintegrate(sp.exp(x) / (sp.exp(x) - 1), x)"
   ]
  },
  {
   "cell_type": "markdown",
   "metadata": {},
   "source": [
    "## Индивидуальное задание\n",
    "\n",
    "Оформить в ячейке типа Markdown вычисление интеграла. Пользоваться преобразованиями подынтегрального выражения, заменой пременных, интегрированием промежуточных выражений."
   ]
  },
  {
   "cell_type": "code",
   "execution_count": 21,
   "metadata": {},
   "outputs": [
    {
     "data": {
      "text/plain": [
       "ConstantTimesRule(constant=1/2, other=1/(t*sin(t)), substep=DontKnowRule(context=1/(t*sin(t)), symbol=t), context=1/(2*t*sin(t)), symbol=t)"
      ]
     },
     "execution_count": 21,
     "metadata": {},
     "output_type": "execute_result"
    }
   ],
   "source": [
    "# 1 / (2√x sin (√x))\n",
    "f = 1 / (2 * sp.sqrt(x) * sp.sin(sp.sqrt(x)))\n",
    "g = 1 / (2 * t * sp.sin(t))\n",
    "\n",
    "integral_steps(g, t)"
   ]
  },
  {
   "cell_type": "markdown",
   "metadata": {},
   "source": [
    "1) AlternativeRule $ u = \\frac{1}{2\\sqrt{x}} $\n",
    "\n",
    "$ \\int \\frac{1}{2\\sin(\\sqrt{x})\\sqrt{x}} dx = \\int \\csc(u) du $\n",
    " \n",
    "2) AlternativeRule $ v = -\\csc ^{2}(u) - \\cot(u)\\csc(u) $\n",
    "\n",
    "$ \\int \\csc(u) du = - \\int \\frac{1}{v} dv $\n",
    " \n",
    "3) $ \\int \\frac{1}{v} dv = \\ln{v} $\n",
    " \n",
    "4) $ \\ln{v} = - \\ln(|\\csc(\\sqrt{x})+\\cot(\\sqrt{x})|) + C $"
   ]
  }
 ],
 "metadata": {
  "kernelspec": {
   "display_name": "Python 3",
   "language": "python",
   "name": "python3"
  },
  "language_info": {
   "codemirror_mode": {
    "name": "ipython",
    "version": 3
   },
   "file_extension": ".py",
   "mimetype": "text/x-python",
   "name": "python",
   "nbconvert_exporter": "python",
   "pygments_lexer": "ipython3",
   "version": "3.7.4"
  }
 },
 "nbformat": 4,
 "nbformat_minor": 2
}

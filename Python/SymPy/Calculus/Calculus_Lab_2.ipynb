{
 "cells": [
  {
   "cell_type": "markdown",
   "metadata": {},
   "source": [
    "# Лабораторная работа № 2\n",
    "# Математический анализ"
   ]
  },
  {
   "cell_type": "markdown",
   "metadata": {},
   "source": [
    "## Задание №1\n",
    "Найти число целочисленных точек $x$ в интервале от 0 до $10\\pi$, в которых $\\sin x>\\cos x$.\n",
    "Составить список таких точек и значений $\\sin x$ и $\\cos x$ в них (нулевая строка - значения $x$, первая $\\sin x$, вторая $\\cos x$)."
   ]
  },
  {
   "cell_type": "code",
   "execution_count": 37,
   "metadata": {},
   "outputs": [
    {
     "data": {
      "text/plain": [
       "16"
      ]
     },
     "execution_count": 37,
     "metadata": {},
     "output_type": "execute_result"
    }
   ],
   "source": [
    "from sympy import*\n",
    "\n",
    "x = Symbol(\"x\")\n",
    "\n",
    "def IntTrue(low, up): \n",
    "    count = 0\n",
    "    for i in range(low, up):\n",
    "        if sin(i) > cos(i):\n",
    "            count += 1\n",
    "    return count\n",
    "\n",
    "IntTrue(0, int(10 * pi))"
   ]
  },
  {
   "cell_type": "markdown",
   "metadata": {},
   "source": [
    "## Задание №2\n",
    "Описать функцию, вычисляющую наибольшее и наименьшее значение квадратичной функции на отрезке $[a,b]$. По умолчанию отрезок $[-10,10]$.\n",
    "\n",
    "Указание - коэффициенты квадратичной функции передаются в качестве обязательных аргументов (по отдельности или списком - на Ваше усмотрение), концы отрезка - необязательные аргументы."
   ]
  },
  {
   "cell_type": "code",
   "execution_count": 65,
   "metadata": {},
   "outputs": [
    {
     "name": "stdout",
     "output_type": "stream",
     "text": [
      "Min = -2\n",
      "Max = 130\n"
     ]
    }
   ],
   "source": [
    "a, b, c, x = symbols(\"a, b, c, x\")\n",
    "\n",
    "expr = a * x**2 + b * x + c\n",
    "\n",
    "lower = -10\n",
    "upper = 10\n",
    "\n",
    "# a1 b1 c1 - коффициенты\n",
    "# expr - выражение\n",
    "# lower/upper - границы отрезка\n",
    "def MaxMin(expr, a1, b1, c1, upper, lower):\n",
    "    expr = expr.subs({a: a1, b: b1, c: c1})\n",
    "    maxVal = expr.subs({x: lower})\n",
    "    minVal = expr.subs({x: lower})\n",
    "    for i in range(lower, upper):\n",
    "        ans = expr.subs({x: i})\n",
    "        if ans > maxVal:\n",
    "            maxVal = ans\n",
    "        if ans < minVal:\n",
    "            minVal = ans\n",
    "    return [minVal, maxVal]\n",
    "\n",
    "res = MaxMin(expr, 1, -3, 0, 10, -10)\n",
    "print(\"Min = \" + str(res[0]))\n",
    "print(\"Max = \" + str(res[1]))"
   ]
  },
  {
   "cell_type": "markdown",
   "metadata": {},
   "source": [
    "##  Символьные функции"
   ]
  },
  {
   "cell_type": "markdown",
   "metadata": {},
   "source": [
    "## Задание №3\n",
    "Опишите функцию $u(x,y,z)$, составьте выражение\n",
    "$u(x^2,y^2,u(z^2))$, ипользуя необходимые подстановки.\n",
    "\n",
    "Опишите функции $v(x)$, $u(y)$, $t(z)$, составьте выражение $$\\frac{v(x)^{\\ln(u(y))}}{t(z)}.$$\n",
    "Подставьте вместо $u$ функцию $exp$, вместо $t$ функцию $v$, вместо $x$ переменную $z$."
   ]
  },
  {
   "cell_type": "code",
   "execution_count": 66,
   "metadata": {},
   "outputs": [
    {
     "data": {
      "text/latex": [
       "$\\displaystyle u{\\left(\\left( x, \\  y, \\  z\\right) \\right)}$"
      ],
      "text/plain": [
       "u((x, y, z))"
      ]
     },
     "metadata": {},
     "output_type": "display_data"
    },
    {
     "data": {
      "text/latex": [
       "$\\displaystyle u{\\left(x^{2},y^{2},u{\\left(z^{2} \\right)} \\right)}$"
      ],
      "text/plain": [
       "u(x**2, y**2, u(z**2))"
      ]
     },
     "metadata": {},
     "output_type": "display_data"
    },
    {
     "data": {
      "text/latex": [
       "$\\displaystyle \\frac{v^{\\log{\\left(u{\\left(y \\right)} \\right)}}{\\left(x \\right)}}{t{\\left(z \\right)}}$"
      ],
      "text/plain": [
       "v(x)**log(u(y))/t(z)"
      ]
     },
     "metadata": {},
     "output_type": "display_data"
    },
    {
     "data": {
      "text/latex": [
       "$\\displaystyle \\frac{v^{\\log{\\left(e^{y} \\right)}}{\\left(z \\right)}}{v{\\left(z \\right)}}$"
      ],
      "text/plain": [
       "v(z)**log(exp(y))/v(z)"
      ]
     },
     "metadata": {},
     "output_type": "display_data"
    }
   ],
   "source": [
    "args = symbols(\"x, y, z\")\n",
    "u = Function(\"u\")\n",
    "display(u(args))\n",
    "display(u(args[0]**2, args[1]**2, u(args[2]**2)))\n",
    "v = Function(\"v\")\n",
    "t = Function(\"t\")\n",
    "expr = v(args[0])**ln(u(args[1])) / t(args[2])\n",
    "display(expr)\n",
    "expr = expr.subs({u: exp, t: v, x: args[2]})\n",
    "display(expr)\n"
   ]
  },
  {
   "cell_type": "markdown",
   "metadata": {},
   "source": [
    "## Индивидуальное задание\n",
    "   "
   ]
  },
  {
   "cell_type": "code",
   "execution_count": 67,
   "metadata": {},
   "outputs": [
    {
     "data": {
      "text/latex": [
       "$\\displaystyle v{\\left(t_{1},t_{2} \\right)} + \\frac{q{\\left(\\left( t_{1}, \\  t_{2}, \\  t_{3}\\right) \\right)}}{u{\\left(x_{1},x_{2} \\right)}}$"
      ],
      "text/plain": [
       "v(t1, t2) + q((t_1, t_2, t_3))/u(x_1, x_2)"
      ]
     },
     "execution_count": 67,
     "metadata": {},
     "output_type": "execute_result"
    }
   ],
   "source": [
    "#Опишите соответствующие функции и символы (математические переменные) и составьте из них выражение\n",
    "#q(t1,...,t3) u(x1,...,x2)\n",
    "#+ v(t1,...,t2).\n",
    "#Выполните подстановку, заменив функцию q на log, функцию v на h, а аргументы функции u на A. \n",
    "q = Function(\"q\")\n",
    "log = Function(\"log\")\n",
    "h = Function(\"h\")\n",
    "A = symbols(\"A\")\n",
    "arg1 = symbols('t_1:4')\n",
    "arg2 = symbols('x_1:3')\n",
    "arg3 = symbols('t1:3')\n",
    "f = (q(arg1) / (u(arg2[0], arg2[1]))) + v(arg3[0], arg3[1])\n",
    "f"
   ]
  },
  {
   "cell_type": "code",
   "execution_count": 68,
   "metadata": {},
   "outputs": [
    {
     "data": {
      "text/latex": [
       "$\\displaystyle h{\\left(t_{1},t_{2} \\right)} + \\frac{\\log{\\left(\\left( t_{1}, \\  t_{2}, \\  t_{3}\\right) \\right)}}{u{\\left(A,A \\right)}}$"
      ],
      "text/plain": [
       "h(t1, t2) + log((t_1, t_2, t_3))/u(A, A)"
      ]
     },
     "execution_count": 68,
     "metadata": {},
     "output_type": "execute_result"
    }
   ],
   "source": [
    "f.subs({q: log, v: h, arg2[1]: A, arg2[0]: A})"
   ]
  }
 ],
 "metadata": {
  "kernelspec": {
   "display_name": "Python 3",
   "language": "python",
   "name": "python3"
  },
  "language_info": {
   "codemirror_mode": {
    "name": "ipython",
    "version": 3
   },
   "file_extension": ".py",
   "mimetype": "text/x-python",
   "name": "python",
   "nbconvert_exporter": "python",
   "pygments_lexer": "ipython3",
   "version": "3.7.4"
  }
 },
 "nbformat": 4,
 "nbformat_minor": 2
}

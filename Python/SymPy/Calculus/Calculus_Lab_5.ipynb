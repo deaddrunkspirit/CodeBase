{
 "cells": [
  {
   "cell_type": "markdown",
   "metadata": {},
   "source": [
    "# Лабораторная работа № 5\n",
    "# Математический анализ\n",
    "\n",
    "## Решение нелинейных уравнений\n",
    "\n",
    "Уравнение в форме $f(x)=0$\n",
    "\n",
    "https://docs.sympy.org/latest/modules/solvers/solveset.html?highlight=solveset"
   ]
  },
  {
   "cell_type": "code",
   "execution_count": 28,
   "metadata": {},
   "outputs": [],
   "source": [
    "from sympy import*\n",
    "from sympy.plotting import plot\n",
    "import matplotlib.pyplot as plt \n",
    "import numpy as np\n",
    "%matplotlib inline\n",
    "init_printing(use_unicode=False, wrap_line=False, no_global=True)"
   ]
  },
  {
   "cell_type": "markdown",
   "metadata": {},
   "source": [
    "### Задача 1\n",
    "Решить уравнение $𝑥^4+5𝑥^3−7𝑥^2−29𝑥+30=0$"
   ]
  },
  {
   "cell_type": "code",
   "execution_count": 29,
   "metadata": {},
   "outputs": [
    {
     "data": {
      "image/png": "[encoded data removed]",
      "text/latex": [
       "$\\displaystyle \\left\\{-5, -3, 1, 2\\right\\}$"
      ],
      "text/plain": [
       "{-5, -3, 1, 2}"
      ]
     },
     "execution_count": 29,
     "metadata": {},
     "output_type": "execute_result"
    }
   ],
   "source": [
    "x = symbols('x')\n",
    "solveset(x**4 + 5 * x**3 - 7 * x**2 - 29 * x + 30, x, domain = S.Reals)"
   ]
  },
  {
   "cell_type": "markdown",
   "metadata": {},
   "source": [
    "### Задача 2.\n",
    "Решить уравнение $\\sin^2(2x)=0$. Составить список (list) из корней этого уравнения, находящихся на отрезке $[\\pi,3\\pi]$"
   ]
  },
  {
   "cell_type": "code",
   "execution_count": 30,
   "metadata": {},
   "outputs": [
    {
     "data": {
      "image/png": "[encoded data removed]",
      "text/latex": [
       "$\\displaystyle \\left( \\pi, \\  \\frac{3 \\pi}{2}, \\  2 \\pi, \\  \\frac{5 \\pi}{2}, \\  3 \\pi\\right)$"
      ],
      "text/plain": [
       "     3*pi        5*pi       \n",
       "(pi, ----, 2*pi, ----, 3*pi)\n",
       "      2           2         "
      ]
     },
     "execution_count": 30,
     "metadata": {},
     "output_type": "execute_result"
    }
   ],
   "source": [
    "a = solveset(sin(2 * x)**2, x, domain = Interval(pi, 3*pi))\n",
    "list_a = a.args\n",
    "list_a"
   ]
  },
  {
   "cell_type": "markdown",
   "metadata": {},
   "source": [
    "### Задача 3.\n",
    "Решить уравнение $e^{x^2+3x-1}=1$ в вещественных числах. Корни уравнения записать в переменные $R1$ и $R2$. \n",
    "Проверить подстановкой."
   ]
  },
  {
   "cell_type": "code",
   "execution_count": 31,
   "metadata": {},
   "outputs": [
    {
     "data": {
      "image/png": "[encoded data removed]",
      "text/latex": [
       "$\\displaystyle - \\frac{3}{2} + \\frac{\\sqrt{13}}{2}$"
      ],
      "text/plain": [
       "        ____\n",
       "  3   \\/ 13 \n",
       "- - + ------\n",
       "  2     2   "
      ]
     },
     "metadata": {},
     "output_type": "display_data"
    },
    {
     "data": {
      "image/png": "[encoded data removed]",
      "text/latex": [
       "$\\displaystyle - \\frac{\\sqrt{13}}{2} - \\frac{3}{2}$"
      ],
      "text/plain": [
       "    ____    \n",
       "  \\/ 13    3\n",
       "- ------ - -\n",
       "    2      2"
      ]
     },
     "metadata": {},
     "output_type": "display_data"
    }
   ],
   "source": [
    "x1, x2 = solveset(exp(x**2 + 3*x - 1) - 1, x, Reals).args\n",
    "display(x1, x2)"
   ]
  },
  {
   "cell_type": "markdown",
   "metadata": {},
   "source": [
    "### Задача 4.\n",
    "Решить уравнения $\\sin(x)=1$, $\\cos(x)=1/2$, $\\cos(x)=1/3$, $\\sin(x)=\\log_23$,  в вещественных числах. "
   ]
  },
  {
   "cell_type": "code",
   "execution_count": 32,
   "metadata": {},
   "outputs": [
    {
     "data": {
      "image/png": "[encoded data removed]",
      "text/latex": [
       "$\\displaystyle \\left\\{2 n \\pi + \\frac{\\pi}{2}\\; |\\; n \\in \\mathbb{Z}\\right\\}$"
      ],
      "text/plain": [
       "          pi                 \n",
       "{2*n*pi + -- | n in Integers}\n",
       "          2                  "
      ]
     },
     "metadata": {},
     "output_type": "display_data"
    },
    {
     "data": {
      "image/png": "[encoded data removed]",
      "text/latex": [
       "$\\displaystyle \\left\\{2 n \\pi + \\frac{5 \\pi}{3}\\; |\\; n \\in \\mathbb{Z}\\right\\} \\cup \\left\\{2 n \\pi + \\frac{\\pi}{3}\\; |\\; n \\in \\mathbb{Z}\\right\\}$"
      ],
      "text/plain": [
       "          5*pi                              pi                 \n",
       "{2*n*pi + ---- | n in Integers} U {2*n*pi + -- | n in Integers}\n",
       "           3                                3                  "
      ]
     },
     "metadata": {},
     "output_type": "display_data"
    },
    {
     "data": {
      "image/png": "[encoded data removed]",
      "text/latex": [
       "$\\displaystyle \\left\\{2 n \\pi + \\operatorname{atan}{\\left(2 \\sqrt{2} \\right)}\\; |\\; n \\in \\mathbb{Z}\\right\\} \\cup \\left\\{2 n \\pi - \\operatorname{atan}{\\left(2 \\sqrt{2} \\right)} + 2 \\pi\\; |\\; n \\in \\mathbb{Z}\\right\\}$"
      ],
      "text/plain": [
       "              /    ___\\                                  /    ___\\                        \n",
       "{2*n*pi + atan\\2*\\/ 2 / | n in Integers} U {2*n*pi - atan\\2*\\/ 2 / + 2*pi | n in Integers}"
      ]
     },
     "metadata": {},
     "output_type": "display_data"
    },
    {
     "data": {
      "image/png": "[encoded data removed]",
      "text/latex": [
       "$\\displaystyle \\emptyset$"
      ],
      "text/plain": [
       "EmptySet()"
      ]
     },
     "metadata": {},
     "output_type": "display_data"
    }
   ],
   "source": [
    "solset1 = solveset(sin(x) - 1, x, Reals)\n",
    "solset2 = solveset(cos(x) - S(1) / 2, x, Reals)\n",
    "solset3 = solveset(cos(x) - S(1) / 3, x, Reals)\n",
    "solset4 = solveset(sin(x) - log(3,2), x, Reals)\n",
    "display(solset1, solset2, solset3, solset4)"
   ]
  },
  {
   "cell_type": "markdown",
   "metadata": {},
   "source": [
    "### Задача 5.\n",
    "Решить уравнения \n",
    "\n",
    "$\\sin^2(2x^2-7x+6)=3/4$, \n",
    "\n",
    "${\\rm tg}^4(3^{2x^2-1}+2)=9$, \n",
    "\n",
    "$4\\cos^2(2\\ln x+3)-6\\cos(2\\ln x+3)+2=0$, \n",
    "\n",
    "$\\ln^3(5\\cdot 2^{\\sin(x)}-4)-1=0$,  \n",
    "\n",
    "в вещественных числах. Использовать замену переменных.\n",
    "Проверить подстановкой. Построить график левой части уравнения и отметить на нем точки пересечения с осью ОХ. Периодические функции рассмотреть на интервале изменения их аргументов $[0,2\\pi]$."
   ]
  },
  {
   "cell_type": "code",
   "execution_count": 33,
   "metadata": {},
   "outputs": [],
   "source": [
    "f1 = (sin(2 * x**2 - 7 * x + 6))**2 - (3 / 4)\n",
    "f2 = (tan(3**(2 * x**2 - 1) + 2))**4 - 9\n",
    "f3 = 4 * (cos(2 * ln(x) + 3))**2 - 6 * cos(2 * ln(x) + 3) + 2\n",
    "f4 = (ln(5 * 2**(sin(x)) - 4))**3 - 1\n",
    "f2 = simplify(f2)\n",
    "f3 = simplify(f3)\n",
    "f4 = simplify(f4)\n"
   ]
  },
  {
   "cell_type": "code",
   "execution_count": 34,
   "metadata": {},
   "outputs": [
    {
     "data": {
      "image/png": "[encoded data removed]",
      "text/latex": [
       "$\\displaystyle \\sin^{2}{\\left(2 x^{2} - 7 x + 6 \\right)} - 0.75$"
      ],
      "text/plain": [
       "   2/   2          \\       \n",
       "sin \\2*x  - 7*x + 6/ - 0.75"
      ]
     },
     "metadata": {},
     "output_type": "display_data"
    },
    {
     "data": {
      "image/png": "[encoded data removed]",
      "text/latex": [
       "$\\displaystyle \\left[ - \\frac{\\sqrt{3} \\sqrt{3 + 32 \\pi}}{12} + \\frac{7}{4}, \\  \\frac{\\sqrt{3} \\sqrt{3 + 8 \\pi}}{12} + \\frac{7}{4}, \\  \\frac{\\sqrt{3} \\sqrt{3 + 40 \\pi}}{12} + \\frac{7}{4}, \\  - \\frac{\\sqrt{3} \\sqrt{3 + 8 \\pi}}{12} + \\frac{7}{4}, \\  - \\frac{\\sqrt{3} \\sqrt{3 + 40 \\pi}}{12} + \\frac{7}{4}, \\  \\frac{\\sqrt{3} \\sqrt{3 + 32 \\pi}}{12} + \\frac{7}{4}, \\  - \\frac{\\sqrt{3} \\sqrt{3 + 16 \\pi}}{12} + \\frac{7}{4}, \\  \\frac{\\sqrt{3} \\sqrt{3 + 16 \\pi}}{12} + \\frac{7}{4}\\right]$"
      ],
      "text/plain": [
       "     ___   ___________        ___   __________        ___   ___________          ___   __________          ___   ___________        ___   ___________          ___   ___________        ___   ___________     \n",
       "   \\/ 3 *\\/ 3 + 32*pi    7  \\/ 3 *\\/ 3 + 8*pi    7  \\/ 3 *\\/ 3 + 40*pi    7    \\/ 3 *\\/ 3 + 8*pi    7    \\/ 3 *\\/ 3 + 40*pi    7  \\/ 3 *\\/ 3 + 32*pi    7    \\/ 3 *\\/ 3 + 16*pi    7  \\/ 3 *\\/ 3 + 16*pi    7 \n",
       "[- ------------------- + -, ------------------ + -, ------------------- + -, - ------------------ + -, - ------------------- + -, ------------------- + -, - ------------------- + -, ------------------- + -]\n",
       "            12           4          12           4           12           4            12           4             12           4           12           4             12           4           12           4 "
      ]
     },
     "metadata": {},
     "output_type": "display_data"
    },
    {
     "data": {
      "image/png": "[encoded data removed]",
      "text/plain": [
       "<Figure size 432x288 with 1 Axes>"
      ]
     },
     "metadata": {
      "needs_background": "light"
     },
     "output_type": "display_data"
    }
   ],
   "source": [
    "display(f1)\n",
    "y1, y2 = solveset(x**2 - S(3) / 4, domain = Reals)\n",
    "z1 = solveset(sin(z) - y1, domain = Reals)\n",
    "z11 = z1.intersection(Interval(0,2 * pi))\n",
    "z2 = solveset(sin(z) - y2, domain = Reals)\n",
    "z22 = z2.intersection(Interval(0, 2 * pi))\n",
    "z12 = Union(z11, z22)\n",
    "zlist = list(z12)\n",
    "res = []\n",
    "for item in zlist:\n",
    "    sol = solveset(2 * x**2 - 7 * x + 6 - item, domain = Reals)\n",
    "    for i in sol:\n",
    "        res += [i]\n",
    "res = list(set(res))\n",
    "display(res)\n",
    "\n",
    "\n",
    "z1 = solveset(sin(z), domain = Reals)\n",
    "z11 = z1.intersection(Interval(0,2 * pi))\n",
    "zlist = list(z11)\n",
    "res1 = []\n",
    "for item in zlist:\n",
    "    sol = solveset(2 * x**2 - 7 * x + 6 - item, domain = Reals)\n",
    "    for i in sol:\n",
    "        res1 += [i]\n",
    "res1 = list(set(res1))\n",
    "x1 = np.arange(0, 4.0, 0.02)\n",
    "plt.subplot(212)\n",
    "plt.plot(x1, (np.sin(2 * x1**2 - 7 * x1 + 6))**2, 'g')\n",
    "plt.scatter(res1, [0, 0, 0, 0, 0, 0])\n",
    "plt.grid()\n",
    "plt.show()"
   ]
  },
  {
   "cell_type": "code",
   "execution_count": 35,
   "metadata": {},
   "outputs": [
    {
     "data": {
      "image/png": "[encoded data removed]",
      "text/latex": [
       "$\\displaystyle \\tan^{4}{\\left(3^{2 x^{2} - 1} + 2 \\right)} - 9$"
      ],
      "text/plain": [
       "    /    2        \\    \n",
       "   4| 2*x  - 1    |    \n",
       "tan \\3         + 2/ - 9"
      ]
     },
     "metadata": {},
     "output_type": "display_data"
    },
    {
     "data": {
      "image/png": "[encoded data removed]",
      "text/latex": [
       "$\\displaystyle \\left[ \\right]$"
      ],
      "text/plain": [
       "[]"
      ]
     },
     "metadata": {},
     "output_type": "display_data"
    },
    {
     "data": {
      "image/png": "[encoded data removed]",
      "text/latex": [
       "$\\displaystyle \\left[ - \\frac{\\sqrt{2} \\sqrt{1 + \\frac{\\log{\\left(-2 + 2 \\pi \\right)}}{\\log{\\left(3 \\right)}}}}{2}, \\  \\frac{\\sqrt{2} \\sqrt{1 + \\frac{\\log{\\left(-2 + 2 \\pi \\right)}}{\\log{\\left(3 \\right)}}}}{2}, \\  \\sqrt{\\frac{1}{2} + \\frac{\\log{\\left(2 \\right)} + i \\pi}{2 \\log{\\left(3 \\right)}}} > -\\infty \\wedge \\sqrt{\\frac{1}{2} + \\frac{\\log{\\left(2 \\right)} + i \\pi}{2 \\log{\\left(3 \\right)}}} < \\infty, \\  - \\sqrt{\\frac{1}{2} + \\frac{\\log{\\left(2 \\right)} + i \\pi}{2 \\log{\\left(3 \\right)}}} > -\\infty \\wedge - \\sqrt{\\frac{1}{2} + \\frac{\\log{\\left(2 \\right)} + i \\pi}{2 \\log{\\left(3 \\right)}}} < \\infty, \\  \\frac{\\sqrt{2} \\sqrt{\\frac{\\log{\\left(-2 + \\pi \\right)}}{\\log{\\left(3 \\right)}} + 1}}{2}, \\  - \\frac{\\sqrt{2} \\sqrt{\\frac{\\log{\\left(-2 + \\pi \\right)}}{\\log{\\left(3 \\right)}} + 1}}{2}\\right]$"
      ],
      "text/plain": [
       "            ____________________             ____________________                                                                                                                                                  __________________             __________________  \n",
       "    ___    /     log(-2 + 2*pi)      ___    /     log(-2 + 2*pi)                                                                                                                                           ___    / log(-2 + pi)          ___    / log(-2 + pi)       \n",
       " -\\/ 2 *  /  1 + --------------    \\/ 2 *  /  1 + --------------      /    ___________________            ___________________     \\     /     ___________________             ___________________     \\  \\/ 2 *  /  ------------ + 1   -\\/ 2 *  /  ------------ + 1   \n",
       "        \\/           log(3)              \\/           log(3)          |   / 1   log(2) + I*pi            / 1   log(2) + I*pi      |     |    / 1   log(2) + I*pi             / 1   log(2) + I*pi      |        \\/      log(3)                 \\/      log(3)          \n",
       "[--------------------------------, ------------------------------, And|  /  - + -------------  > -oo,   /  - + -------------  < oo|, And|-  /  - + -------------  > -oo, -  /  - + -------------  < oo|, ----------------------------, ------------------------------]\n",
       "                2                                2                    \\\\/   2      2*log(3)           \\/   2      2*log(3)        /     \\ \\/   2      2*log(3)            \\/   2      2*log(3)        /               2                              2                "
      ]
     },
     "metadata": {},
     "output_type": "display_data"
    },
    {
     "data": {
      "image/png": "[encoded data removed]",
      "text/plain": [
       "<Figure size 432x288 with 1 Axes>"
      ]
     },
     "metadata": {
      "needs_background": "light"
     },
     "output_type": "display_data"
    }
   ],
   "source": [
    "display(f2)\n",
    "y1, y2 = solveset(x**4 - 9, domain = Reals)\n",
    "z1 = solveset(tan(z) - y1, domain = Reals)\n",
    "z11 = z1.intersection(Interval(0, 2 * pi))\n",
    "z2 = solveset(tan(z) - y2, domain = Reals)\n",
    "z22 = z2.intersection(Interval(0, 2 * pi))\n",
    "z12 = Union(z11, z22)\n",
    "zlist = list(z12)\n",
    "res = []\n",
    "for item in zlist:\n",
    "    sol = solveset(3**(2 * x**2 - 1) + 2 - item, domain = Reals)\n",
    "    for i in sol:\n",
    "        res1 += [i]\n",
    "res = list(set(res))\n",
    "display(res)\n",
    "\n",
    "\n",
    "z1 = solveset(tan(z), domain = Reals)\n",
    "z11 = z1.intersection(Interval(0, 2 * pi))\n",
    "zlist = list(z11)\n",
    "res1 = []\n",
    "for item in zlist:\n",
    "    sol = solveset(3**(2 * x**2 - 1) + 2 - item, domain = Reals)\n",
    "    for i in sol:\n",
    "        res1 += [i]\n",
    "res1 = list(set(res1))  \n",
    "display(res1)\n",
    "x1 = np.arange(0, 4, 0.1)\n",
    "plt.subplot(212)\n",
    "plt.plot(x1, ((np.tan(3**(2 * x1**2 - 1))  + 2)**4), 'g')\n",
    "plt.grid()"
   ]
  },
  {
   "cell_type": "code",
   "execution_count": 36,
   "metadata": {},
   "outputs": [
    {
     "data": {
      "image/png": "[encoded data removed]",
      "text/latex": [
       "$\\displaystyle - 6 \\cos{\\left(2 \\log{\\left(x \\right)} + 3 \\right)} + 2 \\cos{\\left(4 \\log{\\left(x \\right)} + 6 \\right)} + 4$"
      ],
      "text/plain": [
       "-6*cos(2*log(x) + 3) + 2*cos(4*log(x) + 6) + 4"
      ]
     },
     "metadata": {},
     "output_type": "display_data"
    },
    {
     "data": {
      "image/png": "[encoded data removed]",
      "text/latex": [
       "$\\displaystyle \\left[ e^{- \\frac{3}{2} + \\pi}, \\  e^{- \\frac{3}{2} + \\frac{\\pi}{6}}, \\  e^{- \\frac{3}{2}}, \\  e^{- \\frac{3}{2} + \\frac{5 \\pi}{6}}\\right]$"
      ],
      "text/plain": [
       "                3   pi            3   5*pi \n",
       "              - - + --          - - + ---- \n",
       "  -3/2 + pi     2   6    -3/2     2    6   \n",
       "[e         , e        , e    , e          ]"
      ]
     },
     "metadata": {},
     "output_type": "display_data"
    },
    {
     "data": {
      "image/png": "[encoded data removed]",
      "text/plain": [
       "<Figure size 432x288 with 1 Axes>"
      ]
     },
     "metadata": {
      "needs_background": "light"
     },
     "output_type": "display_data"
    }
   ],
   "source": [
    "display(f3)\n",
    "y1,y2 = solveset(4 * x**2 - 6 * x + 2, domain = Reals)\n",
    "z1 = solveset(cos(z) - y1, domain = Reals)\n",
    "z11 = z1.intersection(Interval(0, 2 * pi))\n",
    "z2 = solveset(cos(z) - y2, domain = Reals)\n",
    "z22 = z2.intersection(Interval(0, 2 * pi))\n",
    "z12 = Union(z11, z22)\n",
    "zlist = list(z12)\n",
    "res = []\n",
    "for item in zlist:\n",
    "    sol = solveset(2 * log(x) + 3 - item, domain = Reals)\n",
    "    for i in sol:\n",
    "        res += [i]\n",
    "res = list(set(res))\n",
    "display(res)\n",
    "x1 = np.arange(0.001, 6, 0.02)\n",
    "plt.subplot(212)\n",
    "plt.plot(x1, 4 * (np.cos(2 * (np.log(x1)) + 3))**2 - 6 * (np.cos(2 * (np.log(x1)) + 3)) + 2, 'g')\n",
    "plt.scatter(res, [0, 0, 0, 0])\n",
    "plt.grid()\n",
    "plt.show()"
   ]
  },
  {
   "cell_type": "markdown",
   "metadata": {},
   "source": [
    "### Индивидуальное задание\n",
    "Построить заданные окружности, провести параболы с вершинами в центре соответственно первой и второй окружностей, обе параболы проходят через точки пересечения окружностей. Найти аналитические выражения для координат точек пересечения окружностей. На общем графике изобразить окружности и параболы, отметить и подписать точки пересечения окружностей.  "
   ]
  },
  {
   "cell_type": "code",
   "execution_count": 37,
   "metadata": {},
   "outputs": [],
   "source": [
    "#Построить заданные окружности, провести параболы с вершинами в центре \n",
    "#соответственно первой и второй окружностей, обе параболы проходят через\n",
    "#точки пересечения окружностей. Найти аналитические выражения для координат\n",
    "#точек пересечения окружностей. На общем графике изобразить окружности и параболы,\n",
    "#отметить и подписать точки пересечения окружностей\n",
    "\n",
    "#Первая окружность с центром O1(-10;-8) радиуса 12 Вторая окружность с центром O2(-10;7) радиуса 9 "
   ]
  },
  {
   "cell_type": "code",
   "execution_count": 38,
   "metadata": {},
   "outputs": [
    {
     "data": {
      "text/plain": [
       "Text(-10, -50, '(-2.8, 1.6)')"
      ]
     },
     "execution_count": 38,
     "metadata": {},
     "output_type": "execute_result"
    },
    {
     "data": {
      "image/png": "[encoded data removed]",
      "text/plain": [
       "<Figure size 432x288 with 1 Axes>"
      ]
     },
     "metadata": {
      "needs_background": "light"
     },
     "output_type": "display_data"
    }
   ],
   "source": [
    "def Coords(n, x, y, r, Coordx, Coordy):\n",
    "    for i in range(n):\n",
    "        a = pi * 2 * i / n\n",
    "        Coordx.append(x - r * cos(a))\n",
    "        Coordy.append(y - r * sin(a))\n",
    "\n",
    "cirx1 = []\n",
    "ciry1 = []\n",
    "cirx2 = []\n",
    "ciry2 = []\n",
    "Coords(256, -10, -8, 12, cirx1, ciry1)\n",
    "Coords(256, -10, 7, 9, cirx2, ciry2)\n",
    "plt.plot(cirx1, ciry1)\n",
    "plt.plot(cirx2, ciry2)\n",
    "plt.grid()\n",
    "# 2 (-2.8, 1.6) правая точка пересечения окружностей\n",
    "# 3 (-17.2, 1.6) левая точка пересечения окружностей\n",
    "x1, x2, x3, y1, y2, y3 = symbols(\"x1, x2, x3, y1, y2, y3\")\n",
    "a = (y3 - (x3 * (y2 - y1) + x2 * y1 - x1 * y2) / (x2 - x1)) / (x3 * (x3 - x1 - x2) + x1 * x2)\n",
    "b = (y2 - y1) / (x2 - x1) - a * (x1 + x2)\n",
    "c = (x2 * y1 - x1 * y2) / (x2 - x1) + a * x1 * x2\n",
    "\n",
    "a1 = a.subs({x1: -10, y1: -8,\n",
    "             x2: -2.8, y2: 1.6,\n",
    "             x3: -17.2, y3: 1.6})\n",
    "b1 = b.subs({x1: -10, y1: -8,\n",
    "             x2: -2.8, y2: 1.6,\n",
    "             x3: -17.2, y3: 1.6})\n",
    "c1 = c.subs({x1: -10, y1: -8,\n",
    "             x2: -2.8, y2: 1.6,\n",
    "             x3: -17.2, y3: 1.6})\n",
    "a2 = a.subs({x1: -10, y1: 7,\n",
    "             x2: -2.8, y2: 1.6,\n",
    "             x3: -17.2, y3: 1.6})\n",
    "b2 = b.subs({x1: -10, y1: 7,\n",
    "             x2: -2.8, y2: 1.6,\n",
    "             x3: -17.2, y3: 1.6})\n",
    "c2 = c.subs({x1: -10, y1: 7,\n",
    "             x2: -2.8, y2: 1.6,\n",
    "             x3: -17.2, y3: 1.6})\n",
    "x = np.linspace(-20, 0, 256)\n",
    "par1  = a1 * x**2 + b1 * x + c1\n",
    "par2  = a2 * x**2 + b2 * x + c2\n",
    "plt.plot(x, par1)\n",
    "plt.plot(x, par2)\n",
    "plt.xlim(-40, 25)\n",
    "plt.ylim(-25, 20)\n",
    "plt.annotate(\"(-17.2, 1.6)\",\n",
    "             xy = (-17.2, 1.6), xycoords = 'data',\n",
    "             xytext = (10, 50), textcoords='offset points', fontsize=16,\n",
    "             arrowprops=dict(arrowstyle=\"->\", connectionstyle=\"arc3,rad=.2\"))\n",
    "#Подписываем правую точку\n",
    "plt.annotate(\"(-2.8, 1.6)\",\n",
    "             xy = (-2.8, 1.6), xycoords = 'data',\n",
    "             xytext = (-10, -50), textcoords = 'offset points', fontsize = 16,\n",
    "             arrowprops = dict(arrowstyle = \"->\", connectionstyle = \"arc3,rad=.2\"))"
   ]
  },
  {
   "cell_type": "code",
   "execution_count": null,
   "metadata": {},
   "outputs": [],
   "source": []
  },
  {
   "cell_type": "code",
   "execution_count": null,
   "metadata": {},
   "outputs": [],
   "source": []
  }
 ],
 "metadata": {
  "kernelspec": {
   "display_name": "Python 3",
   "language": "python",
   "name": "python3"
  },
  "language_info": {
   "codemirror_mode": {
    "name": "ipython",
    "version": 3
   },
   "file_extension": ".py",
   "mimetype": "text/x-python",
   "name": "python",
   "nbconvert_exporter": "python",
   "pygments_lexer": "ipython3",
   "version": "3.7.4"
  }
 },
 "nbformat": 4,
 "nbformat_minor": 2
}

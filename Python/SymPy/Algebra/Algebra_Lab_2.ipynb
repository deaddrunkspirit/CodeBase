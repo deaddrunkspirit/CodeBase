{
 "cells": [
  {
   "cell_type": "markdown",
   "metadata": {},
   "source": [
    "# Занятие 2\n",
    "# Алгебра"
   ]
  },
  {
   "cell_type": "markdown",
   "metadata": {},
   "source": [
    "## Матрицы. Подстановки\n",
    "### Задание 1.\n",
    "Описать функцию от двух переменных $i$ и $j$, равную нулю при условии, что оба аргумента $i$ и $j$ четные;\n",
    "если только $i$ четно, то функция равна $2^j$;\n",
    "если только $j$ четно, то функция равна $j/2$;\n",
    "для остальных случаев $(i+j)/2$.\n",
    "\n",
    "Построить на основе этой функции матрицы A, B, C, D, размерностей $2\\times6$, $5\\times3$, $6\\times6$ и $1\\times6$ соответственно."
   ]
  },
  {
   "cell_type": "code",
   "execution_count": 203,
   "metadata": {},
   "outputs": [
    {
     "name": "stdout",
     "output_type": "stream",
     "text": [
      "Matrix A:\n"
     ]
    },
    {
     "data": {
      "text/latex": [
       "$\\displaystyle \\left[\\begin{matrix}0 & 2 & 0 & 8 & 0 & 32\\\\0 & 1 & 1 & 2 & 2 & 3\\end{matrix}\\right]$"
      ],
      "text/plain": [
       "Matrix([\n",
       "[0, 2, 0, 8, 0, 32],\n",
       "[0, 1, 1, 2, 2,  3]])"
      ]
     },
     "metadata": {},
     "output_type": "display_data"
    },
    {
     "name": "stdout",
     "output_type": "stream",
     "text": [
      "Matrix B:\n"
     ]
    },
    {
     "data": {
      "text/latex": [
       "$\\displaystyle \\left[\\begin{matrix}0 & 2 & 0\\\\0 & 1 & 1\\\\0 & 2 & 0\\\\0 & 2 & 1\\\\0 & 2 & 0\\end{matrix}\\right]$"
      ],
      "text/plain": [
       "Matrix([\n",
       "[0, 2, 0],\n",
       "[0, 1, 1],\n",
       "[0, 2, 0],\n",
       "[0, 2, 1],\n",
       "[0, 2, 0]])"
      ]
     },
     "metadata": {},
     "output_type": "display_data"
    },
    {
     "name": "stdout",
     "output_type": "stream",
     "text": [
      "Matrix C:\n"
     ]
    },
    {
     "data": {
      "text/latex": [
       "$\\displaystyle \\left[\\begin{matrix}0 & 2 & 0 & 8 & 0 & 32\\\\0 & 1 & 1 & 2 & 2 & 3\\\\0 & 2 & 0 & 8 & 0 & 32\\\\0 & 2 & 1 & 3 & 2 & 4\\\\0 & 2 & 0 & 8 & 0 & 32\\\\0 & 3 & 1 & 4 & 2 & 5\\end{matrix}\\right]$"
      ],
      "text/plain": [
       "Matrix([\n",
       "[0, 2, 0, 8, 0, 32],\n",
       "[0, 1, 1, 2, 2,  3],\n",
       "[0, 2, 0, 8, 0, 32],\n",
       "[0, 2, 1, 3, 2,  4],\n",
       "[0, 2, 0, 8, 0, 32],\n",
       "[0, 3, 1, 4, 2,  5]])"
      ]
     },
     "metadata": {},
     "output_type": "display_data"
    },
    {
     "name": "stdout",
     "output_type": "stream",
     "text": [
      "Matrix D:\n"
     ]
    },
    {
     "data": {
      "text/latex": [
       "$\\displaystyle \\left[\\begin{matrix}0 & 2 & 0 & 8 & 0 & 32\\end{matrix}\\right]$"
      ],
      "text/plain": [
       "Matrix([[0, 2, 0, 8, 0, 32]])"
      ]
     },
     "metadata": {},
     "output_type": "display_data"
    }
   ],
   "source": [
    "from sympy import*\n",
    "\n",
    "def GetElement(i, j): # эта функция высчитывает значение элемента матрицы\n",
    "    if i % 2 == 0:\n",
    "        if j % 2 == 0:\n",
    "            return 0\n",
    "        else:\n",
    "            return 2**j\n",
    "    else: \n",
    "        if j % 2 == 0 and i % 2 != 0:\n",
    "            return (int)(j / 2)\n",
    "        else:\n",
    "            return (int)((i + j) / 2)\n",
    "\n",
    "A = Matrix(2, 6, GetElement)\n",
    "B = Matrix(5, 3, GetElement)\n",
    "C = Matrix(6, 6, GetElement)\n",
    "D = Matrix(1, 6, GetElement)\n",
    "print(\"Matrix A:\")\n",
    "display(A)\n",
    "print(\"Matrix B:\")\n",
    "display(B)\n",
    "print(\"Matrix C:\")\n",
    "display(C)\n",
    "print(\"Matrix D:\")\n",
    "display(D)\n",
    "\n"
   ]
  },
  {
   "cell_type": "markdown",
   "metadata": {},
   "source": [
    "##  Действия со строками, столбцами и элементами матрицы\n",
    "### Задание 2.\n",
    "1. В матрице А заменить нулевые элементы на $-1$.\n",
    "\n",
    "2. Второй столбец матрицы В заменить на столбец последовательных натуральных чисел, первое число равно сумме элементов первого столбца матрицы В.\n",
    "\n",
    "3. К третьей строке матрицы С прибавить матрицу D.\n",
    "\n",
    "4. Дописать матрицу D снизу к матрице А.\n",
    "\n",
    "5. Дописать сверху к матрице А умноженную на 3 матрицу D.\n",
    "\n",
    "6. Дописать справа к матрице С ее первый столбец.\n",
    "\n",
    "7. Составить матрицу из строк матрицы А, между которыми вставлены строки из нулей.\n",
    "\n",
    "8. Заменить максимальный элемент матрицы С ее минимальным положительным элементом."
   ]
  },
  {
   "cell_type": "code",
   "execution_count": 204,
   "metadata": {},
   "outputs": [
    {
     "name": "stdout",
     "output_type": "stream",
     "text": [
      "1) A = \n"
     ]
    },
    {
     "data": {
      "text/latex": [
       "$\\displaystyle \\left[\\begin{matrix}-1 & 2 & -1 & 8 & -1 & 32\\\\-1 & 1 & 1 & 2 & 2 & 3\\end{matrix}\\right]$"
      ],
      "text/plain": [
       "Matrix([\n",
       "[-1, 2, -1, 8, -1, 32],\n",
       "[-1, 1,  1, 2,  2,  3]])"
      ]
     },
     "metadata": {},
     "output_type": "display_data"
    }
   ],
   "source": [
    "def First(matrix, orig, chan):\n",
    "    for i in range(matrix.shape[0]):\n",
    "        for j in range(matrix.shape[1]):\n",
    "            if matrix[i, j] == orig:\n",
    "                matrix[i, j] = chan\n",
    "    return matrix\n",
    "\n",
    "def Second(matrix):\n",
    "    sum = 0\n",
    "    for i in range(matrix.shape[0]):\n",
    "        sum += matrix[i,0]\n",
    "    for i in range(matrix.shape[0]):\n",
    "        matrix[i, 1] = sum\n",
    "        sum += 1\n",
    "    return matrix\n",
    "\n",
    "def Third(matrix, row):\n",
    "    for j in range(matrix.shape[1]):\n",
    "        matrix[2, j] += row[0, j]\n",
    "    return matrix\n",
    "\n",
    "def Seven(matrix):\n",
    "    for i in range(matrix.shape[0]):\n",
    "        matrix = matrix.row_insert(i + i, zeros(1, matrix.shape[1]))\n",
    "    return matrix\n",
    "\n",
    "def Eight(matrix):\n",
    "    minVal = max(matrix)\n",
    "    for i in range(matrix.shape[0]):\n",
    "        for j in range(matrix.shape[1]):\n",
    "            if matrix[i, j] < minVal and matrix[i, j] > 0:\n",
    "                minVal = matrix[i, j]\n",
    "    for i in range(matrix.shape[0]):\n",
    "        for j in range(matrix.shape[1]):\n",
    "            if matrix[i, j] == max(matrix):\n",
    "                matrix[i, j] = minVal\n",
    "    return matrix\n",
    "                                   \n",
    "print(\"1) A = \")\n",
    "display(First(A, 0, -1))\n"
   ]
  },
  {
   "cell_type": "code",
   "execution_count": 205,
   "metadata": {},
   "outputs": [
    {
     "name": "stdout",
     "output_type": "stream",
     "text": [
      "2) B = \n"
     ]
    },
    {
     "data": {
      "text/latex": [
       "$\\displaystyle \\left[\\begin{matrix}0 & 0 & 0\\\\0 & 1 & 1\\\\0 & 2 & 0\\\\0 & 3 & 1\\\\0 & 4 & 0\\end{matrix}\\right]$"
      ],
      "text/plain": [
       "Matrix([\n",
       "[0, 0, 0],\n",
       "[0, 1, 1],\n",
       "[0, 2, 0],\n",
       "[0, 3, 1],\n",
       "[0, 4, 0]])"
      ]
     },
     "metadata": {},
     "output_type": "display_data"
    }
   ],
   "source": [
    "print(\"2) B = \")\n",
    "display(Second(B))"
   ]
  },
  {
   "cell_type": "code",
   "execution_count": 206,
   "metadata": {},
   "outputs": [
    {
     "name": "stdout",
     "output_type": "stream",
     "text": [
      "3) C = \n"
     ]
    },
    {
     "data": {
      "text/latex": [
       "$\\displaystyle \\left[\\begin{matrix}0 & 2 & 0 & 8 & 0 & 32\\\\0 & 1 & 1 & 2 & 2 & 3\\\\0 & 4 & 0 & 16 & 0 & 64\\\\0 & 2 & 1 & 3 & 2 & 4\\\\0 & 2 & 0 & 8 & 0 & 32\\\\0 & 3 & 1 & 4 & 2 & 5\\end{matrix}\\right]$"
      ],
      "text/plain": [
       "Matrix([\n",
       "[0, 2, 0,  8, 0, 32],\n",
       "[0, 1, 1,  2, 2,  3],\n",
       "[0, 4, 0, 16, 0, 64],\n",
       "[0, 2, 1,  3, 2,  4],\n",
       "[0, 2, 0,  8, 0, 32],\n",
       "[0, 3, 1,  4, 2,  5]])"
      ]
     },
     "metadata": {},
     "output_type": "display_data"
    }
   ],
   "source": [
    "print(\"3) C = \")\n",
    "display(Third(C, D))"
   ]
  },
  {
   "cell_type": "code",
   "execution_count": 207,
   "metadata": {},
   "outputs": [
    {
     "name": "stdout",
     "output_type": "stream",
     "text": [
      "4) A = \n"
     ]
    },
    {
     "data": {
      "text/latex": [
       "$\\displaystyle \\left[\\begin{matrix}-1 & 2 & -1 & 8 & -1 & 32\\\\-1 & 1 & 1 & 2 & 2 & 3\\\\0 & 2 & 0 & 8 & 0 & 32\\end{matrix}\\right]$"
      ],
      "text/plain": [
       "Matrix([\n",
       "[-1, 2, -1, 8, -1, 32],\n",
       "[-1, 1,  1, 2,  2,  3],\n",
       "[ 0, 2,  0, 8,  0, 32]])"
      ]
     },
     "metadata": {},
     "output_type": "display_data"
    }
   ],
   "source": [
    "print(\"4) A = \")\n",
    "A = A.row_insert(2, D)\n",
    "display(A)"
   ]
  },
  {
   "cell_type": "code",
   "execution_count": 208,
   "metadata": {},
   "outputs": [
    {
     "name": "stdout",
     "output_type": "stream",
     "text": [
      "5)\n"
     ]
    },
    {
     "data": {
      "text/latex": [
       "$\\displaystyle \\left[\\begin{matrix}0 & 6 & 0 & 24 & 0 & 96\\\\-1 & 2 & -1 & 8 & -1 & 32\\\\-1 & 1 & 1 & 2 & 2 & 3\\\\0 & 2 & 0 & 8 & 0 & 32\\end{matrix}\\right]$"
      ],
      "text/plain": [
       "Matrix([\n",
       "[ 0, 6,  0, 24,  0, 96],\n",
       "[-1, 2, -1,  8, -1, 32],\n",
       "[-1, 1,  1,  2,  2,  3],\n",
       "[ 0, 2,  0,  8,  0, 32]])"
      ]
     },
     "metadata": {},
     "output_type": "display_data"
    }
   ],
   "source": [
    "print(\"5)\")\n",
    "A = A.row_insert(0, 3*D)\n",
    "display(A)"
   ]
  },
  {
   "cell_type": "code",
   "execution_count": 209,
   "metadata": {},
   "outputs": [
    {
     "name": "stdout",
     "output_type": "stream",
     "text": [
      "6)\n"
     ]
    },
    {
     "data": {
      "text/latex": [
       "$\\displaystyle \\left[\\begin{matrix}0 & 2 & 0 & 8 & 0 & 32 & 32\\\\0 & 1 & 1 & 2 & 2 & 3 & 3\\\\0 & 4 & 0 & 16 & 0 & 64 & 64\\\\0 & 2 & 1 & 3 & 2 & 4 & 4\\\\0 & 2 & 0 & 8 & 0 & 32 & 32\\\\0 & 3 & 1 & 4 & 2 & 5 & 5\\end{matrix}\\right]$"
      ],
      "text/plain": [
       "Matrix([\n",
       "[0, 2, 0,  8, 0, 32, 32],\n",
       "[0, 1, 1,  2, 2,  3,  3],\n",
       "[0, 4, 0, 16, 0, 64, 64],\n",
       "[0, 2, 1,  3, 2,  4,  4],\n",
       "[0, 2, 0,  8, 0, 32, 32],\n",
       "[0, 3, 1,  4, 2,  5,  5]])"
      ]
     },
     "metadata": {},
     "output_type": "display_data"
    }
   ],
   "source": [
    "print(\"6)\")\n",
    "L = C\n",
    "C = C.col_insert(5, C.col(5))\n",
    "display(C)\n",
    "C = L"
   ]
  },
  {
   "cell_type": "code",
   "execution_count": 210,
   "metadata": {},
   "outputs": [
    {
     "name": "stdout",
     "output_type": "stream",
     "text": [
      "7)\n"
     ]
    },
    {
     "data": {
      "text/latex": [
       "$\\displaystyle \\left[\\begin{matrix}0 & 0 & 0 & 0 & 0 & 0\\\\0 & 6 & 0 & 24 & 0 & 96\\\\0 & 0 & 0 & 0 & 0 & 0\\\\-1 & 2 & -1 & 8 & -1 & 32\\\\0 & 0 & 0 & 0 & 0 & 0\\\\-1 & 1 & 1 & 2 & 2 & 3\\\\0 & 0 & 0 & 0 & 0 & 0\\\\0 & 2 & 0 & 8 & 0 & 32\\end{matrix}\\right]$"
      ],
      "text/plain": [
       "Matrix([\n",
       "[ 0, 0,  0,  0,  0,  0],\n",
       "[ 0, 6,  0, 24,  0, 96],\n",
       "[ 0, 0,  0,  0,  0,  0],\n",
       "[-1, 2, -1,  8, -1, 32],\n",
       "[ 0, 0,  0,  0,  0,  0],\n",
       "[-1, 1,  1,  2,  2,  3],\n",
       "[ 0, 0,  0,  0,  0,  0],\n",
       "[ 0, 2,  0,  8,  0, 32]])"
      ]
     },
     "metadata": {},
     "output_type": "display_data"
    }
   ],
   "source": [
    "print(\"7)\")\n",
    "Z = Seven(A)\n",
    "display(Z)"
   ]
  },
  {
   "cell_type": "code",
   "execution_count": 211,
   "metadata": {},
   "outputs": [
    {
     "name": "stdout",
     "output_type": "stream",
     "text": [
      "8)\n"
     ]
    },
    {
     "data": {
      "text/latex": [
       "$\\displaystyle \\left[\\begin{matrix}0 & 2 & 0 & 8 & 0 & 32\\\\0 & 1 & 1 & 2 & 2 & 3\\\\0 & 4 & 0 & 16 & 0 & 1\\\\0 & 2 & 1 & 3 & 2 & 4\\\\0 & 2 & 0 & 8 & 0 & 1\\\\0 & 3 & 1 & 4 & 2 & 5\\end{matrix}\\right]$"
      ],
      "text/plain": [
       "Matrix([\n",
       "[0, 2, 0,  8, 0, 32],\n",
       "[0, 1, 1,  2, 2,  3],\n",
       "[0, 4, 0, 16, 0,  1],\n",
       "[0, 2, 1,  3, 2,  4],\n",
       "[0, 2, 0,  8, 0,  1],\n",
       "[0, 3, 1,  4, 2,  5]])"
      ]
     },
     "metadata": {},
     "output_type": "display_data"
    }
   ],
   "source": [
    "print(\"8)\")\n",
    "C = Eight(C)\n",
    "display(C)"
   ]
  },
  {
   "cell_type": "markdown",
   "metadata": {},
   "source": [
    "## Изменение строк, столбцов, подматриц\n",
    "### Задание 3.\n",
    "1. В матрице А заменить элементы четных строк на символ $a$.\n",
    "\n",
    "2. Во втором столбце матрицы В заменить элементы нечетных строк на символы $x_1$, $x_2$ и т.д.\n",
    "\n",
    "3. Заменить суммой номеров строки и столбца элементы матрицы С в столбцах с первого по четвертый и строках с третьей по последнюю.\n",
    "\n",
    "4. В матрице А (после замены 1.) провести подстановку $a=b^2-3$.\n",
    "\n",
    "5. Вычислить алгебраические дополнения элементов матрицы С(после замены 3.), составить из них матрицу."
   ]
  },
  {
   "cell_type": "code",
   "execution_count": 212,
   "metadata": {},
   "outputs": [
    {
     "name": "stdout",
     "output_type": "stream",
     "text": [
      "1) A = \n"
     ]
    },
    {
     "data": {
      "text/latex": [
       "$\\displaystyle \\left[\\begin{matrix}0 & 6 & 0 & 24 & 0 & 96\\\\a & a & a & a & a & a\\\\-1 & 1 & 1 & 2 & 2 & 3\\\\a & a & a & a & a & a\\end{matrix}\\right]$"
      ],
      "text/plain": [
       "Matrix([\n",
       "[ 0, 6, 0, 24, 0, 96],\n",
       "[ a, a, a,  a, a,  a],\n",
       "[-1, 1, 1,  2, 2,  3],\n",
       "[ a, a, a,  a, a,  a]])"
      ]
     },
     "metadata": {},
     "output_type": "display_data"
    }
   ],
   "source": [
    "a, b, x1, x2 = symbols(\"a, b, x_1, x_2\")\n",
    "arg2 = symbols('x_1, x_2, x_3')\n",
    "def ChangeEvenRows(matrix, arg, k):\n",
    "    for i in range(matrix.shape[0]):\n",
    "        for j in range(matrix.shape[1]):\n",
    "            if i % 2 == 1:\n",
    "                matrix[i, j] = arg + k\n",
    "    return matrix\n",
    "\n",
    "print(\"1) A = \")\n",
    "A = ChangeEvenRows(A, a, 0)\n",
    "display(A)\n",
    "\n"
   ]
  },
  {
   "cell_type": "code",
   "execution_count": 213,
   "metadata": {},
   "outputs": [
    {
     "name": "stdout",
     "output_type": "stream",
     "text": [
      "2) B = \n"
     ]
    },
    {
     "data": {
      "text/latex": [
       "$\\displaystyle \\left[\\begin{matrix}0 & x_{1} & 0\\\\0 & 1 & 1\\\\0 & x_{2} & 0\\\\0 & 3 & 1\\\\0 & x_{3} & 0\\end{matrix}\\right]$"
      ],
      "text/plain": [
       "Matrix([\n",
       "[0, x_1, 0],\n",
       "[0,   1, 1],\n",
       "[0, x_2, 0],\n",
       "[0,   3, 1],\n",
       "[0, x_3, 0]])"
      ]
     },
     "metadata": {},
     "output_type": "display_data"
    }
   ],
   "source": [
    "def ChangeOddEl(matrix, arg, col):\n",
    "    for i in range(matrix.shape[0]):\n",
    "        for j in range(matrix.shape[1]):\n",
    "            if i % 2 == 0:\n",
    "                matrix[i, col] = arg[i // 2]\n",
    "    return matrix\n",
    "\n",
    "print(\"2) B = \")\n",
    "B = ChangeOddEl(B, arg2, 1)\n",
    "display(B)"
   ]
  },
  {
   "cell_type": "code",
   "execution_count": 214,
   "metadata": {},
   "outputs": [
    {
     "name": "stdout",
     "output_type": "stream",
     "text": [
      "3) C = \n"
     ]
    },
    {
     "data": {
      "text/latex": [
       "$\\displaystyle \\left[\\begin{matrix}2 & 3 & 4 & 5 & 6 & 7\\\\3 & 4 & 5 & 6 & 7 & 8\\\\4 & 5 & 6 & 7 & 8 & 9\\\\5 & 6 & 7 & 8 & 9 & 10\\\\0 & 2 & 0 & 9 & 10 & 11\\\\0 & 3 & 1 & 10 & 11 & 12\\end{matrix}\\right]$"
      ],
      "text/plain": [
       "Matrix([\n",
       "[2, 3, 4,  5,  6,  7],\n",
       "[3, 4, 5,  6,  7,  8],\n",
       "[4, 5, 6,  7,  8,  9],\n",
       "[5, 6, 7,  8,  9, 10],\n",
       "[0, 2, 0,  9, 10, 11],\n",
       "[0, 3, 1, 10, 11, 12]])"
      ]
     },
     "metadata": {},
     "output_type": "display_data"
    }
   ],
   "source": [
    "# 1й столбец = 0й столбец\n",
    "def NumOfColRow(matrix):\n",
    "    for i in range(matrix.shape[0]):\n",
    "        for j in range(matrix.shape[1]):\n",
    "            if i < 4 or j > 2:\n",
    "                matrix[i, j] = i + 1 + j + 1 \n",
    "    return matrix\n",
    "\n",
    "print(\"3) C = \")\n",
    "C = NumOfColRow(C)\n",
    "display(C)"
   ]
  },
  {
   "cell_type": "code",
   "execution_count": 215,
   "metadata": {},
   "outputs": [
    {
     "name": "stdout",
     "output_type": "stream",
     "text": [
      "4) A = \n"
     ]
    },
    {
     "data": {
      "text/latex": [
       "$\\displaystyle \\left[\\begin{matrix}0 & 6 & 0 & 24 & 0 & 96\\\\b^{2} - 3 & b^{2} - 3 & b^{2} - 3 & b^{2} - 3 & b^{2} - 3 & b^{2} - 3\\\\-1 & 1 & 1 & 2 & 2 & 3\\\\b^{2} - 3 & b^{2} - 3 & b^{2} - 3 & b^{2} - 3 & b^{2} - 3 & b^{2} - 3\\end{matrix}\\right]$"
      ],
      "text/plain": [
       "Matrix([\n",
       "[       0,        6,        0,       24,        0,       96],\n",
       "[b**2 - 3, b**2 - 3, b**2 - 3, b**2 - 3, b**2 - 3, b**2 - 3],\n",
       "[      -1,        1,        1,        2,        2,        3],\n",
       "[b**2 - 3, b**2 - 3, b**2 - 3, b**2 - 3, b**2 - 3, b**2 - 3]])"
      ]
     },
     "metadata": {},
     "output_type": "display_data"
    }
   ],
   "source": [
    "print(\"4) A = \")\n",
    "A = A.subs({a: b**2 - 3})\n",
    "display(A)"
   ]
  },
  {
   "cell_type": "code",
   "execution_count": 216,
   "metadata": {},
   "outputs": [
    {
     "name": "stdout",
     "output_type": "stream",
     "text": [
      "5) C = \n"
     ]
    },
    {
     "data": {
      "text/latex": [
       "$\\displaystyle \\left[\\begin{matrix}0 & 0 & 0 & 0 & 0 & 0\\\\0 & 0 & 0 & 0 & 0 & 0\\\\0 & 0 & 0 & 0 & 0 & 0\\\\0 & 0 & 0 & 0 & 0 & 0\\\\0 & 0 & 0 & 0 & 0 & 0\\\\0 & 0 & 0 & 0 & 0 & 0\\end{matrix}\\right]$"
      ],
      "text/plain": [
       "Matrix([\n",
       "[0, 0, 0, 0, 0, 0],\n",
       "[0, 0, 0, 0, 0, 0],\n",
       "[0, 0, 0, 0, 0, 0],\n",
       "[0, 0, 0, 0, 0, 0],\n",
       "[0, 0, 0, 0, 0, 0],\n",
       "[0, 0, 0, 0, 0, 0]])"
      ]
     },
     "metadata": {},
     "output_type": "display_data"
    }
   ],
   "source": [
    "def Minor(matrix, i, j):\n",
    "    m = matrix * 1\n",
    "    m.row_del(i)\n",
    "    m.col_del(j)\n",
    "    return m.det() * (-1)**(i + j)\n",
    "\n",
    "def CofactorMatrix(matrix):\n",
    "    cofMatr = matrix * 1\n",
    "    for i in range(matrix.shape[0]):\n",
    "        for j in range(matrix.shape[1]):\n",
    "            cofMatr[i, j] = Minor(matrix, i, j)\n",
    "    return cofMatr\n",
    "\n",
    "print(\"5) C = \")\n",
    "C = CofactorMatrix(C)\n",
    "display(C)"
   ]
  },
  {
   "cell_type": "code",
   "execution_count": 217,
   "metadata": {},
   "outputs": [
    {
     "data": {
      "text/latex": [
       "$\\displaystyle \\left[\\begin{matrix}11 & 22 & 11 & 22 & 11 & 22 & 11 & 22\\\\22 & 22 & 22 & 22 & 22 & 22 & 22 & 22\\\\11 & 22 & 11 & 22 & 11 & 22 & 11 & 22\\\\22 & 22 & 22 & 22 & 22 & 22 & 22 & 22\\\\11 & 22 & 11 & 22 & 11 & 22 & 11 & 22\\\\22 & 22 & 22 & 22 & 22 & 22 & 22 & 22\\\\11 & 22 & 11 & 22 & 11 & 22 & 11 & 22\\end{matrix}\\right]$"
      ],
      "text/plain": [
       "Matrix([\n",
       "[11, 22, 11, 22, 11, 22, 11, 22],\n",
       "[22, 22, 22, 22, 22, 22, 22, 22],\n",
       "[11, 22, 11, 22, 11, 22, 11, 22],\n",
       "[22, 22, 22, 22, 22, 22, 22, 22],\n",
       "[11, 22, 11, 22, 11, 22, 11, 22],\n",
       "[22, 22, 22, 22, 22, 22, 22, 22],\n",
       "[11, 22, 11, 22, 11, 22, 11, 22]])"
      ]
     },
     "execution_count": 217,
     "metadata": {},
     "output_type": "execute_result"
    }
   ],
   "source": [
    "# Индивидуальное задание Мосолков Е.Н. БПИ196 Вариант 90\n",
    "# 1. Составьте матрицу B7×8, состоящую из 11 в нечетных строках нечетных столбцов, остальные элементы равны 22.\n",
    "# 2. Добавьте строку единиц перед строкой 4. \n",
    "# 3. Замените элементы B[1,4] и B[4,1] на g + 5. \n",
    "# 4. Выполните подстановку, заменив g на 22.\n",
    "\n",
    "g = symbols(\"g\")\n",
    "B = ones(7, 8)\n",
    "\n",
    "def ChangeMatr(matrix):\n",
    "    for i in range(matrix.shape[0]):\n",
    "        for j in range(matrix.shape[1]):\n",
    "            if i % 2 == 0 and j % 2 ==0:\n",
    "                matrix[i, j] = 11\n",
    "            else:\n",
    "                matrix[i, j] = 22\n",
    "    return matrix\n",
    "\n",
    "ChangeMatr(B)\n",
    "B"
   ]
  },
  {
   "cell_type": "code",
   "execution_count": 218,
   "metadata": {},
   "outputs": [
    {
     "data": {
      "text/latex": [
       "$\\displaystyle \\left[\\begin{matrix}11 & 22 & 11 & 22 & 11 & 22 & 11 & 22\\\\22 & 22 & 22 & 22 & 22 & 22 & 22 & 22\\\\11 & 22 & 11 & 22 & 11 & 22 & 11 & 22\\\\4 & 4 & 4 & 4 & 4 & 4 & 4 & 4\\\\22 & 22 & 22 & 22 & 22 & 22 & 22 & 22\\\\11 & 22 & 11 & 22 & 11 & 22 & 11 & 22\\\\22 & 22 & 22 & 22 & 22 & 22 & 22 & 22\\\\11 & 22 & 11 & 22 & 11 & 22 & 11 & 22\\end{matrix}\\right]$"
      ],
      "text/plain": [
       "Matrix([\n",
       "[11, 22, 11, 22, 11, 22, 11, 22],\n",
       "[22, 22, 22, 22, 22, 22, 22, 22],\n",
       "[11, 22, 11, 22, 11, 22, 11, 22],\n",
       "[ 4,  4,  4,  4,  4,  4,  4,  4],\n",
       "[22, 22, 22, 22, 22, 22, 22, 22],\n",
       "[11, 22, 11, 22, 11, 22, 11, 22],\n",
       "[22, 22, 22, 22, 22, 22, 22, 22],\n",
       "[11, 22, 11, 22, 11, 22, 11, 22]])"
      ]
     },
     "execution_count": 218,
     "metadata": {},
     "output_type": "execute_result"
    }
   ],
   "source": [
    "addMatr = ones(1, B.shape[1]) * 4\n",
    "B = B.row_insert(3, addMatr)\n",
    "B\n"
   ]
  },
  {
   "cell_type": "code",
   "execution_count": 219,
   "metadata": {},
   "outputs": [
    {
     "data": {
      "text/latex": [
       "$\\displaystyle \\left[\\begin{matrix}11 & 22 & 11 & 22 & 11 & 22 & 11 & 22\\\\22 & 22 & 22 & 22 & g + 5 & 22 & 22 & 22\\\\11 & 22 & 11 & 22 & 11 & 22 & 11 & 22\\\\4 & 4 & 4 & 4 & 4 & 4 & 4 & 4\\\\22 & g + 5 & 22 & 22 & 22 & 22 & 22 & 22\\\\11 & 22 & 11 & 22 & 11 & 22 & 11 & 22\\\\22 & 22 & 22 & 22 & 22 & 22 & 22 & 22\\\\11 & 22 & 11 & 22 & 11 & 22 & 11 & 22\\end{matrix}\\right]$"
      ],
      "text/plain": [
       "Matrix([\n",
       "[11,    22, 11, 22,    11, 22, 11, 22],\n",
       "[22,    22, 22, 22, g + 5, 22, 22, 22],\n",
       "[11,    22, 11, 22,    11, 22, 11, 22],\n",
       "[ 4,     4,  4,  4,     4,  4,  4,  4],\n",
       "[22, g + 5, 22, 22,    22, 22, 22, 22],\n",
       "[11,    22, 11, 22,    11, 22, 11, 22],\n",
       "[22,    22, 22, 22,    22, 22, 22, 22],\n",
       "[11,    22, 11, 22,    11, 22, 11, 22]])"
      ]
     },
     "execution_count": 219,
     "metadata": {},
     "output_type": "execute_result"
    }
   ],
   "source": [
    "B[4, 1] = g + 5\n",
    "B[1, 4] = g + 5\n",
    "B"
   ]
  },
  {
   "cell_type": "code",
   "execution_count": 220,
   "metadata": {},
   "outputs": [
    {
     "data": {
      "text/latex": [
       "$\\displaystyle \\left[\\begin{matrix}11 & 22 & 11 & 22 & 11 & 22 & 11 & 22\\\\22 & 22 & 22 & 22 & 27 & 22 & 22 & 22\\\\11 & 22 & 11 & 22 & 11 & 22 & 11 & 22\\\\4 & 4 & 4 & 4 & 4 & 4 & 4 & 4\\\\22 & 27 & 22 & 22 & 22 & 22 & 22 & 22\\\\11 & 22 & 11 & 22 & 11 & 22 & 11 & 22\\\\22 & 22 & 22 & 22 & 22 & 22 & 22 & 22\\\\11 & 22 & 11 & 22 & 11 & 22 & 11 & 22\\end{matrix}\\right]$"
      ],
      "text/plain": [
       "Matrix([\n",
       "[11, 22, 11, 22, 11, 22, 11, 22],\n",
       "[22, 22, 22, 22, 27, 22, 22, 22],\n",
       "[11, 22, 11, 22, 11, 22, 11, 22],\n",
       "[ 4,  4,  4,  4,  4,  4,  4,  4],\n",
       "[22, 27, 22, 22, 22, 22, 22, 22],\n",
       "[11, 22, 11, 22, 11, 22, 11, 22],\n",
       "[22, 22, 22, 22, 22, 22, 22, 22],\n",
       "[11, 22, 11, 22, 11, 22, 11, 22]])"
      ]
     },
     "execution_count": 220,
     "metadata": {},
     "output_type": "execute_result"
    }
   ],
   "source": [
    "B.subs({g: 22})"
   ]
  }
 ],
 "metadata": {
  "kernelspec": {
   "display_name": "Python 3",
   "language": "python",
   "name": "python3"
  },
  "language_info": {
   "codemirror_mode": {
    "name": "ipython",
    "version": 3
   },
   "file_extension": ".py",
   "mimetype": "text/x-python",
   "name": "python",
   "nbconvert_exporter": "python",
   "pygments_lexer": "ipython3",
   "version": "3.7.4"
  }
 },
 "nbformat": 4,
 "nbformat_minor": 2
}

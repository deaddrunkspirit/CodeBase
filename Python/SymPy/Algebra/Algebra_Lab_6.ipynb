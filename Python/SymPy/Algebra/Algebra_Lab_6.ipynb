{
 "cells": [
  {
   "cell_type": "markdown",
   "metadata": {},
   "source": [
    "# Лабораторная работа 7\n",
    "# Алгебра\n",
    "https://docs.sympy.org/latest/search.html?q=geometry\n",
    "\n",
    "## Прямые и плоскости в пространстве. Модуль Geometry\n",
    "\n",
    " \n",
    "### Задание 1.\n",
    "\n",
    "Даны точки: A(3,-2,3),  B(-2,3,1), \n",
    "C(1,-8,6), \n",
    "D(1,2,4), \n",
    "F(-7,8,-1).\n",
    "\n",
    "Составить словарь всевозможных прямых, проходящих через каждую пару заданных точек"
   ]
  },
  {
   "cell_type": "code",
   "execution_count": 2,
   "metadata": {},
   "outputs": [],
   "source": [
    "from sympy import*\n",
    "init_printing(use_unicode = False, wrap_line = False, no_global = True)"
   ]
  },
  {
   "cell_type": "code",
   "execution_count": 9,
   "metadata": {},
   "outputs": [
    {
     "name": "stdout",
     "output_type": "stream",
     "text": [
      "Составим словарь точек:\n"
     ]
    },
    {
     "data": {
      "text/plain": [
       "{'A': Point3D(3, -2, 3),\n",
       " 'B': Point3D(-2, 3, 1),\n",
       " 'C': Point3D(1, -8, 6),\n",
       " 'D': Point3D(1, 2, 4),\n",
       " 'F': Point3D(-7, 8, -1)}"
      ]
     },
     "metadata": {},
     "output_type": "display_data"
    },
    {
     "name": "stdout",
     "output_type": "stream",
     "text": [
      "Найдем одинаковые прямые:\n",
      "AF = AB \r\n",
      "\n",
      "BA = AB \r\n",
      "\n",
      "BF = AB \r\n",
      "\n",
      "CA = AC \r\n",
      "\n",
      "CB = BC \r\n",
      "\n",
      "DA = AD \r\n",
      "\n",
      "DB = BD \r\n",
      "\n",
      "DC = CD \r\n",
      "\n",
      "FA = AB \r\n",
      "\n",
      "FB = AB \r\n",
      "\n",
      "FC = CF \r\n",
      "\n",
      "FD = DF \r\n",
      "\n",
      "Составим словарь прямых:\n"
     ]
    },
    {
     "data": {
      "text/plain": [
       "{'AB': Line3D(Point3D(3, -2, 3), Point3D(-2, 3, 1)),\n",
       " 'AC': Line3D(Point3D(3, -2, 3), Point3D(1, -8, 6)),\n",
       " 'AD': Line3D(Point3D(3, -2, 3), Point3D(1, 2, 4)),\n",
       " 'BC': Line3D(Point3D(-2, 3, 1), Point3D(1, -8, 6)),\n",
       " 'BD': Line3D(Point3D(-2, 3, 1), Point3D(1, 2, 4)),\n",
       " 'CD': Line3D(Point3D(1, -8, 6), Point3D(1, 2, 4)),\n",
       " 'CF': Line3D(Point3D(1, -8, 6), Point3D(-7, 8, -1)),\n",
       " 'DF': Line3D(Point3D(1, 2, 4), Point3D(-7, 8, -1))}"
      ]
     },
     "metadata": {},
     "output_type": "display_data"
    }
   ],
   "source": [
    "A = Point(3, -2, 3)\n",
    "B = Point(-2, 3, 1)\n",
    "C = Point(1, -8, 6)\n",
    "D = Point(1, 2, 4)\n",
    "F = Point(-7, 8, -1)\n",
    "print(\"Составим словарь точек:\")\n",
    "Points_list = [A, B, C, D, F]\n",
    "Point_names=['A', 'B', 'C', 'D', 'F']\n",
    "points_numbers = range(len(Point_names))\n",
    "points = dict([(Point_names[i], Points_list[i]) for i in points_numbers])\n",
    "display(points)\n",
    "print(\"Найдем одинаковые прямые:\")\n",
    "lines = {}\n",
    "temp = {}\n",
    "for key1 in points.keys():\n",
    "    for key2 in points.keys():\n",
    "        if key1 != key2:\n",
    "            temp[key1 + key2] = Line3D(points[key1], points[key2])\n",
    "for tkey in temp.keys():\n",
    "    flag = True\n",
    "    for key in lines.keys():\n",
    "        if tkey != key and lines[key].equals(temp[tkey]):\n",
    "            print(f\"{tkey} = {key} \\r\\n\")\n",
    "            flag = False\n",
    "    if flag == True:\n",
    "        lines[tkey] = temp[tkey]\n",
    "print(\"Составим словарь прямых:\")\n",
    "display(lines)"
   ]
  },
  {
   "cell_type": "markdown",
   "metadata": {},
   "source": [
    "### Задание 2.\n",
    "Составить словарь всевозможных наборов прямых, каждая из которых проходит через две или более точек из условия, \n",
    "\n",
    "причем в каждом наборе все прямые имеют общую точку.\n",
    "\n",
    "Ключ - имя набора, например, linesA\n",
    "\n",
    "Значение - список прямых\n",
    "\n",
    "\n",
    "Пользуясь методом are_concurrent проверить, что все прямые каждого набора действительно имеют общую точку"
   ]
  },
  {
   "cell_type": "code",
   "execution_count": 17,
   "metadata": {},
   "outputs": [
    {
     "name": "stdout",
     "output_type": "stream",
     "text": [
      "Прямые проходящие через 2 и больше точек:\n"
     ]
    },
    {
     "data": {
      "text/plain": [
       "{'Lines 1': [Line3D(Point3D(3, -2, 3), Point3D(-2, 3, 1)),\n",
       "  Line3D(Point3D(3, -2, 3), Point3D(1, -8, 6)),\n",
       "  Line3D(Point3D(3, -2, 3), Point3D(1, 2, 4)),\n",
       "  Line3D(Point3D(-2, 3, 1), Point3D(1, -8, 6)),\n",
       "  Line3D(Point3D(-2, 3, 1), Point3D(1, 2, 4))],\n",
       " 'Lines 2': [Line3D(Point3D(1, -8, 6), Point3D(1, 2, 4)),\n",
       "  Line3D(Point3D(1, -8, 6), Point3D(-7, 8, -1)),\n",
       "  Line3D(Point3D(1, 2, 4), Point3D(-7, 8, -1))]}"
      ]
     },
     "metadata": {},
     "output_type": "display_data"
    }
   ],
   "source": [
    "allLineSets = {}\n",
    "linesSet = []\n",
    "count = -1\n",
    "for key in lines.keys():\n",
    "    if len(linesSet) == 0 or Line.are_concurrent(linesSet[0], lines[key]) == False:\n",
    "        linesSet = []\n",
    "        count += 1        \n",
    "    linesSet.append(lines[key])\n",
    "    allLines[\"Lines \" + chr(ord('1') + count)] = linesSet\n",
    "print(\"Прямые проходящие через 2 и больше точек:\")\n",
    "display(allLines)"
   ]
  },
  {
   "cell_type": "markdown",
   "metadata": {},
   "source": [
    "### Задание 3.\n",
    "\n",
    "Составить словарь всевозможных плоскостей, каждая плоскость проходит через три или более точек из условия.\n",
    "\n",
    "Указание: однозначно определяют плоскость три точки, не лежащие на одной прямой, в словарь нужно включать только плоскости, однозначно определяемые набором точек из условия"
   ]
  },
  {
   "cell_type": "code",
   "execution_count": 22,
   "metadata": {},
   "outputs": [
    {
     "name": "stdout",
     "output_type": "stream",
     "text": [
      "ACB = ABC \n",
      "\n",
      "ACF = ABC \n",
      "\n",
      "ADB = ABD \n",
      "\n",
      "ADC = ACD \n",
      "\n",
      "ADF = ABD \n",
      "\n",
      "AFC = ABC \n",
      "\n",
      "AFD = ABD \n",
      "\n",
      "BAC = ABC \n",
      "\n",
      "BAD = ABD \n",
      "\n",
      "BCA = ABC \n",
      "\n",
      "BCF = ABC \n",
      "\n",
      "BDA = ABD \n",
      "\n",
      "BDC = BCD \n",
      "\n",
      "BDF = ABD \n",
      "\n",
      "BFC = ABC \n",
      "\n",
      "BFD = ABD \n",
      "\n",
      "CAB = ABC \n",
      "\n",
      "CAD = ACD \n",
      "\n",
      "CAF = ABC \n",
      "\n",
      "CBA = ABC \n",
      "\n",
      "CBD = BCD \n",
      "\n",
      "CBF = ABC \n",
      "\n",
      "CDA = ACD \n",
      "\n",
      "CDB = BCD \n",
      "\n",
      "CFA = ABC \n",
      "\n",
      "CFB = ABC \n",
      "\n",
      "CFD = CDF \n",
      "\n",
      "DAB = ABD \n",
      "\n",
      "DAC = ACD \n",
      "\n",
      "DAF = ABD \n",
      "\n",
      "DBA = ABD \n",
      "\n",
      "DBC = BCD \n",
      "\n",
      "DBF = ABD \n",
      "\n",
      "DCA = ACD \n",
      "\n",
      "DCB = BCD \n",
      "\n",
      "DCF = CDF \n",
      "\n",
      "DFA = ABD \n",
      "\n",
      "DFB = ABD \n",
      "\n",
      "DFC = CDF \n",
      "\n",
      "FAC = ABC \n",
      "\n",
      "FAD = ABD \n",
      "\n",
      "FBC = ABC \n",
      "\n",
      "FBD = ABD \n",
      "\n",
      "FCA = ABC \n",
      "\n",
      "FCB = ABC \n",
      "\n",
      "FCD = CDF \n",
      "\n",
      "FDA = ABD \n",
      "\n",
      "FDB = ABD \n",
      "\n",
      "FDC = CDF \n",
      "\n",
      "Всевозможные плоскости:\n"
     ]
    },
    {
     "data": {
      "text/plain": [
       "{'ABC': Plane(Point3D(3, -2, 3), (3, 19, 40)),\n",
       " 'ABD': Plane(Point3D(3, -2, 3), (13, 9, -10)),\n",
       " 'ACD': Plane(Point3D(3, -2, 3), (-18, -4, -20)),\n",
       " 'BCD': Plane(Point3D(-2, 3, 1), (-28, 6, 30)),\n",
       " 'CDF': Plane(Point3D(1, -8, 6), (-38, 16, 80))}"
      ]
     },
     "metadata": {},
     "output_type": "display_data"
    }
   ],
   "source": [
    "tempPlanes = {}\n",
    "planes = {}\n",
    "for key1 in points.keys():\n",
    "    for key2 in points.keys():\n",
    "        for key3 in points.keys():\n",
    "            if(key1 == key3 or key2 == key3 or key1 == key2):\n",
    "                continue\n",
    "            if (Line3D(points[key1], points[key2]) in Line3D(points[key2], points[key3])) == False:\n",
    "                tempPlanes[key1 + key2 + key3] = Plane(points[key1], points[key2], points[key3])\n",
    "for tkey in tempPlanes.keys():\n",
    "    flag = True\n",
    "    for key in planes.keys():\n",
    "        if tkey != key and planes[key].equals(tempPlanes[tkey]):\n",
    "            print(f\"{tkey} = {key} \\r\\n\")\n",
    "            flag = False\n",
    "    if flag == True:\n",
    "        planes[tkey] = tempPlanes[tkey]\n",
    "print(\"Всевозможные плоскости:\")\n",
    "display(planes)"
   ]
  },
  {
   "cell_type": "markdown",
   "metadata": {},
   "source": [
    "### Задание 4.\n",
    "Составить словарь всевозможных пучков плоскостей, каждая плоскость проходит через три или более точек из условия.\n",
    "\n",
    "Пучок плоскостей - множество плоскостей, проходящих через одну общую прямую.\n",
    "\n",
    "Ключ - имя пучка, например, р1\n",
    "\n",
    "Значение - список плоскостей\n",
    "\n",
    "\n",
    "Пользуясь методом are_concurrent проверить, что все плоскости каждого пучка действительно имеют общую прямую"
   ]
  },
  {
   "cell_type": "code",
   "execution_count": 36,
   "metadata": {},
   "outputs": [
    {
     "name": "stdout",
     "output_type": "stream",
     "text": [
      "Plane set 2 = Plane set 1 \r\n",
      "\n",
      "Plane set 3 = Plane set 1 \r\n",
      "\n",
      "Plane set 4 = Plane set 1 \r\n",
      "\n",
      "Plane set 5 = Plane set 1 \r\n",
      "\n",
      "Plane set 6 = Plane set 1 \r\n",
      "\n",
      "Plane set 7 = Plane set 1 \r\n",
      "\n",
      "Plane set 8 = Plane set 1 \r\n",
      "\n",
      "Все пучки прямых:\n"
     ]
    },
    {
     "data": {
      "text/plain": [
       "{'Plane set 1': [Plane(Point3D(3, -2, 3), (3, 19, 40)),\n",
       "  Plane(Point3D(3, -2, 3), (13, 9, -10)),\n",
       "  Plane(Point3D(3, -2, 3), (-18, -4, -20)),\n",
       "  Plane(Point3D(-2, 3, 1), (-28, 6, 30)),\n",
       "  Plane(Point3D(1, -8, 6), (-38, 16, 80))]}"
      ]
     },
     "metadata": {},
     "output_type": "display_data"
    }
   ],
   "source": [
    "PlaneSets = {}\n",
    "allPlanes = {}\n",
    "last = []\n",
    "count = 0\n",
    "for lKey in lines.keys():\n",
    "    for pKey in planes.keys():    \n",
    "        if len(last) == 0 or planes[pKey].distance(lines[lKey]) == 0:      \n",
    "            last.append(planes[pKey])\n",
    "    PlaneSets[\"Plane set \" + chr(ord('1') + count)] = last\n",
    "    last = []\n",
    "    count += 1\n",
    "for tKey in PlaneSets.keys():\n",
    "    flag = True\n",
    "    for key in allPlaneSets.keys():\n",
    "        if tKey != key and allPlaneSets[key] == PlaneSets[tKey]:\n",
    "            print(f\"{tKey} = {key} \\r\\n\")\n",
    "            flag = False\n",
    "    if flag == True:\n",
    "        allPlanes[tKey] = PlaneSets[tKey]\n",
    "print(\"Все пучки прямых:\")\n",
    "display(allPlanes)"
   ]
  },
  {
   "cell_type": "markdown",
   "metadata": {},
   "source": [
    "###  Задание 5\n",
    "\n",
    "Для каждого набора прямых из Задания 2 и каждого пучка плоскостей из Задания 4 найти прямую (плоскость),\n",
    "ближайшую к началу координат"
   ]
  },
  {
   "cell_type": "code",
   "execution_count": 42,
   "metadata": {},
   "outputs": [
    {
     "name": "stdout",
     "output_type": "stream",
     "text": [
      "Plane(Point3D(3, -2, 3), (13, 9, -10))\n",
      "Line3D(Point3D(3, -2, 3), Point3D(-2, 3, 1))\n",
      "Line3D(Point3D(1, -8, 6), Point3D(-7, 8, -1))\n"
     ]
    }
   ],
   "source": [
    "O = Point3D(0, 0, 0)\n",
    "\n",
    "for key in allPlanes.keys():\n",
    "    plane = 0\n",
    "    dist = 9999999999999\n",
    "    for cur in allPlanes[key]:\n",
    "        if(cur.distance(O) < dist):\n",
    "            plane = cur\n",
    "            dist = plane.distance(O)\n",
    "    print(plane)\n",
    "\n",
    "for key in allLines.keys():\n",
    "    line = 0\n",
    "    dist = 9999999999999\n",
    "    for cur in allLines[key]:\n",
    "        if(cur.distance(O) < dist):\n",
    "            line = cur\n",
    "            dist = line.distance(O)\n",
    "    print(line)"
   ]
  },
  {
   "cell_type": "markdown",
   "metadata": {},
   "source": [
    "###  Задание 6\n",
    "\n",
    "По словарю прямых Задания 1 составить словарь различных прямых"
   ]
  },
  {
   "cell_type": "code",
   "execution_count": 31,
   "metadata": {},
   "outputs": [
    {
     "data": {
      "text/plain": [
       "{'AB': Line3D(Point3D(3, -2, 3), Point3D(-2, 3, 1)),\n",
       " 'AC': Line3D(Point3D(3, -2, 3), Point3D(1, -8, 6)),\n",
       " 'AD': Line3D(Point3D(3, -2, 3), Point3D(1, 2, 4)),\n",
       " 'BC': Line3D(Point3D(-2, 3, 1), Point3D(1, -8, 6)),\n",
       " 'BD': Line3D(Point3D(-2, 3, 1), Point3D(1, 2, 4)),\n",
       " 'CD': Line3D(Point3D(1, -8, 6), Point3D(1, 2, 4)),\n",
       " 'CF': Line3D(Point3D(1, -8, 6), Point3D(-7, 8, -1)),\n",
       " 'DF': Line3D(Point3D(1, 2, 4), Point3D(-7, 8, -1))}"
      ]
     },
     "metadata": {},
     "output_type": "display_data"
    }
   ],
   "source": [
    "display(lines)"
   ]
  },
  {
   "cell_type": "markdown",
   "metadata": {},
   "source": [
    "###  Задание 7\n",
    "\n",
    "Добавить в словарь плоскостей биссектрисы двугранных углов, образованных при пересечении плоскостей АВС и АСD"
   ]
  },
  {
   "cell_type": "code",
   "execution_count": 51,
   "metadata": {},
   "outputs": [
    {
     "name": "stdout",
     "output_type": "stream",
     "text": [
      "Уравнения плоскостей:\n"
     ]
    },
    {
     "data": {
      "image/png": "[encoded data removed]",
      "text/latex": [
       "$\\displaystyle 3 x + 19 y + 40 z - 91$"
      ],
      "text/plain": [
       "3*x + 19*y + 40*z - 91"
      ]
     },
     "metadata": {},
     "output_type": "display_data"
    },
    {
     "data": {
      "image/png": "[encoded data removed]",
      "text/latex": [
       "$\\displaystyle - 18 x - 4 y - 20 z + 106$"
      ],
      "text/plain": [
       "-18*x - 4*y - 20*z + 106"
      ]
     },
     "metadata": {},
     "output_type": "display_data"
    },
    {
     "name": "stdout",
     "output_type": "stream",
     "text": [
      "Уравнения биссектрисс:\n"
     ]
    },
    {
     "data": {
      "image/png": "[encoded data removed]",
      "text/latex": [
       "$\\displaystyle \\left(\\frac{3 \\sqrt{1970}}{3940} + \\frac{9 \\sqrt{185}}{370}\\right) \\left(x - \\frac{15979413137025025}{35184372088832}\\right) + \\left(\\frac{\\sqrt{185}}{185} + \\frac{19 \\sqrt{1970}}{3940}\\right) \\left(y - \\frac{47551211318097923}{35184372088832}\\right) + \\left(\\frac{\\sqrt{185}}{37} + \\frac{2 \\sqrt{1970}}{197}\\right) \\left(z + \\frac{47410473829742595}{70368744177664}\\right)$"
      ],
      "text/plain": [
       "/    ______       _____\\                           /  _____        ______\\                           /  _____       ______\\                        \n",
       "|3*\\/ 1970    9*\\/ 185 | /    15979413137025025\\   |\\/ 185    19*\\/ 1970 | /    47551211318097923\\   |\\/ 185    2*\\/ 1970 | /    47410473829742595\\\n",
       "|---------- + ---------|*|x - -----------------| + |------- + -----------|*|y - -----------------| + |------- + ----------|*|z + -----------------|\n",
       "\\   3940         370   / \\      35184372088832 /   \\  185         3940   / \\      35184372088832 /   \\   37        197    / \\      70368744177664 /"
      ]
     },
     "metadata": {},
     "output_type": "display_data"
    },
    {
     "data": {
      "image/png": "[encoded data removed]",
      "text/latex": [
       "$\\displaystyle \\left(- \\frac{9 \\sqrt{185}}{370} + \\frac{3 \\sqrt{1970}}{3940}\\right) \\left(x + \\frac{381055441384847785}{1125899906842624}\\right) + \\left(- \\frac{\\sqrt{185}}{185} + \\frac{19 \\sqrt{1970}}{3940}\\right) \\left(y + \\frac{1155551223129812219}{1125899906842624}\\right) + \\left(- \\frac{\\sqrt{185}}{37} + \\frac{2 \\sqrt{1970}}{197}\\right) \\left(z - \\frac{1160054822757182715}{2251799813685248}\\right)$"
      ],
      "text/plain": [
       "/      _____       ______\\                            /    _____        ______\\                             /    _____       ______\\                          \n",
       "|  9*\\/ 185    3*\\/ 1970 | /    381055441384847785\\   |  \\/ 185    19*\\/ 1970 | /    1155551223129812219\\   |  \\/ 185    2*\\/ 1970 | /    1160054822757182715\\\n",
       "|- --------- + ----------|*|x + ------------------| + |- ------- + -----------|*|y + -------------------| + |- ------- + ----------|*|z - -------------------|\n",
       "\\     370         3940   / \\     1125899906842624 /   \\    185         3940   / \\      1125899906842624 /   \\     37        197    / \\      2251799813685248 /"
      ]
     },
     "metadata": {},
     "output_type": "display_data"
    }
   ],
   "source": [
    "ABC = planes[\"ABC\"]\n",
    "ACD = planes[\"ACD\"]\n",
    "interLine = ABC.intersection(ACD)\n",
    "n1 = ABC.normal_vector\n",
    "n1len = sqrt(n1[0]**2 + n1[1]**2 + n1[2]**2)\n",
    "n2 = ACD.normal_vector\n",
    "n2len = sqrt(n2[0]**2 + n2[1]**2 + n2[2]**2)\n",
    "n1 = [n1[i] / n1len for i in range(3)]\n",
    "n2 = [n2[i] / n2len for i in range(3)]\n",
    "bn1 = [(n1[i] + n2[i]) / 2 for i in range(3)]\n",
    "bn2 = [(n1[i] - n2[i]) / 2 for i in range(3)]\n",
    "planes[\"биссектрисса 2\"] = Plane(interLine[0].random_point(), bn1)\n",
    "planes[\"биссектрисса 1\"] = Plane(interLine[0].random_point(), bn2)\n",
    "print(\"Уравнения плоскостей:\")\n",
    "display(ABC.equation(), ACD.equation())\n",
    "print(\"Уравнения биссектрисс:\")\n",
    "display(planes[\"биссектрисса 1\"].equation(), planes[\"биссектрисса 2\"].equation())"
   ]
  },
  {
   "cell_type": "markdown",
   "metadata": {},
   "source": [
    "###  Задание 8\n",
    "\n",
    "На одной (любой) из биссектрис Задания 7 выбрать произвольную точку и найти ассояние от нее до прямой BD"
   ]
  },
  {
   "cell_type": "code",
   "execution_count": 54,
   "metadata": {},
   "outputs": [
    {
     "data": {
      "image/png": "[encoded data removed]",
      "text/latex": [
       "$\\displaystyle \\sqrt{\\left(- \\frac{111733230549665807727091}{311854007997083680768} - \\frac{367095395292596865 \\sqrt{1970}}{134855787241982132224} - \\frac{367095395292596865 \\sqrt{185}}{50656488608663339008} + \\frac{22059956970896787 \\sqrt{14578}}{2494832063976669446144} - \\frac{144182725299979 \\left(\\frac{\\sqrt{185}}{185} + \\frac{19 \\sqrt{1970}}{3940}\\right) \\left(- \\frac{19 \\sqrt{1970}}{3940} - \\frac{\\sqrt{185}}{185}\\right)}{4503599627370496} + \\frac{144182725299979 \\left(\\frac{3 \\sqrt{1970}}{3940} + \\frac{9 \\sqrt{185}}{370}\\right)^{2}}{4503599627370496}\\right)^{2} + \\left(- \\frac{57103728156626179 \\sqrt{185}}{50656488608663339008} - \\frac{144182725299979 \\left(\\frac{\\sqrt{185}}{37} + \\frac{2 \\sqrt{1970}}{197}\\right) \\left(\\frac{3 \\sqrt{1970}}{3940} + \\frac{9 \\sqrt{185}}{370}\\right)}{4503599627370496} + \\frac{22059956970896787 \\sqrt{14578}}{2494832063976669446144} + \\frac{1476539256621334057 \\sqrt{1970}}{539423148967928528896} + \\frac{240944211175904553673453}{311854007997083680768}\\right)^{2} + \\left(- \\frac{318149342586917283 \\sqrt{185}}{12664122152165834752} + \\frac{144182725299979 \\left(\\frac{\\sqrt{185}}{37} + \\frac{2 \\sqrt{1970}}{197}\\right) \\left(- \\frac{19 \\sqrt{1970}}{3940} - \\frac{\\sqrt{185}}{185}\\right)}{4503599627370496} - \\frac{7353318990298929 \\sqrt{14578}}{2494832063976669446144} + \\frac{24473026352839791 \\sqrt{1970}}{539423148967928528896} + \\frac{387634922516813683650609}{311854007997083680768}\\right)^{2}}$"
      ],
      "text/plain": [
       "         _____________________________________________________________________________________________________________________________________________________________________________________________________________________________________________________________________________________________________________________________________________________________________________________________________________________________________________________________________________________________________________________________________________________________________________________________________________________________\n",
       "        /                                                                                                                                                                                                                                      2                                                                                                                                                                                                                                                                                                                                                                                      \n",
       "       /  /                                                                                                                                                                                                                                  2\\                                                                                                                                                                                           2                                                                                                                                                                                         2 \n",
       "      /   |                                                                                                                                      /  _____        ______\\ /       ______     _____\\                   /    ______       _____\\ |    /                                              /  _____       ______\\ /    ______       _____\\                                                                                        \\    /                                               /  _____       ______\\ /       ______     _____\\                                                                                     \\  \n",
       "     /    |                                                                                                                                      |\\/ 185    19*\\/ 1970 | |  19*\\/ 1970    \\/ 185 |                   |3*\\/ 1970    9*\\/ 185 | |    |                                              |\\/ 185    2*\\/ 1970 | |3*\\/ 1970    9*\\/ 185 |                                                                                        |    |                                               |\\/ 185    2*\\/ 1970 | |  19*\\/ 1970    \\/ 185 |                                                                                     |  \n",
       "    /     |                                                  ______                        _____                       _______   144182725299979*|------- + -----------|*|- ----------- - -------|   144182725299979*|---------- + ---------| |    |                      _____   144182725299979*|------- + ----------|*|---------- + ---------|                       _______                         ______                           |    |                       _____   144182725299979*|------- + ----------|*|- ----------- - -------|                      _______                       ______                           |  \n",
       "   /      |  111733230549665807727091   367095395292596865*\\/ 1970    367095395292596865*\\/ 185    22059956970896787*\\/ 14578                    \\  185         3940   / \\      3940        185  /                   \\   3940         370   / |    |  57103728156626179*\\/ 185                    \\   37        197    / \\   3940         370   /   22059956970896787*\\/ 14578    1476539256621334057*\\/ 1970    240944211175904553673453|    |  318149342586917283*\\/ 185                    \\   37        197    / \\      3940        185  /   7353318990298929*\\/ 14578    24473026352839791*\\/ 1970    387634922516813683650609|  \n",
       "  /       |- ------------------------ - --------------------------- - -------------------------- + --------------------------- - ----------------------------------------------------------------- + -----------------------------------------|  + |- ------------------------- - --------------------------------------------------------------- + --------------------------- + ---------------------------- + ------------------------|  + |- -------------------------- + ---------------------------------------------------------------- - -------------------------- + -------------------------- + ------------------------|  \n",
       "\\/        \\   311854007997083680768        134855787241982132224         50656488608663339008         2494832063976669446144                              4503599627370496                                        4503599627370496            /    \\     50656488608663339008                             4503599627370496                             2494832063976669446144        539423148967928528896        311854007997083680768  /    \\     12664122152165834752                              4503599627370496                             2494832063976669446144       539423148967928528896       311854007997083680768  /  "
      ]
     },
     "metadata": {},
     "output_type": "display_data"
    }
   ],
   "source": [
    "display(lines[\"BD\"].distance(planes[\"биссектрисса 1\"].random_point()))"
   ]
  },
  {
   "cell_type": "markdown",
   "metadata": {},
   "source": [
    "###  Задание 9\n",
    "\n",
    "Найти пересечение плоскости АВС и прямой OD, где О - начало координат."
   ]
  },
  {
   "cell_type": "code",
   "execution_count": 55,
   "metadata": {},
   "outputs": [
    {
     "data": {
      "image/png": "[encoded data removed]",
      "text/latex": [
       "$\\displaystyle \\left[ Point3D\\left(\\frac{91}{201}, \\frac{182}{201}, \\frac{364}{201}\\right)\\right]$"
      ],
      "text/plain": [
       "[Point3D(91/201, 182/201, 364/201)]"
      ]
     },
     "metadata": {},
     "output_type": "display_data"
    }
   ],
   "source": [
    "OD = Line3D(Point3D(0, 0, 0), points[\"D\"])\n",
    "display(planes[\"ABC\"].intersection(OD))"
   ]
  },
  {
   "cell_type": "markdown",
   "metadata": {},
   "source": [
    "### Индивидуальное задание\n",
    "\n",
    "Выбрать случайную точку на плоскости АВС и провести через нее  плоскость, параллельную плоскости BDF. Вычислить расстояние от случайной точки до прямой BD.\n",
    "\n",
    "Выбрать на на плоскости АВС три случайные точки и проверить, лежат ли они на одной прямой."
   ]
  },
  {
   "cell_type": "code",
   "execution_count": 66,
   "metadata": {},
   "outputs": [
    {
     "data": {
      "image/png": "[encoded data removed]",
      "text/latex": [
       "$\\displaystyle \\frac{\\sqrt{9709061574916022183292953232018189029890}}{171136785840078848}$"
      ],
      "text/plain": [
       "  __________________________________________\n",
       "\\/ 9709061574916022183292953232018189029890 \n",
       "--------------------------------------------\n",
       "             171136785840078848             "
      ]
     },
     "metadata": {},
     "output_type": "display_data"
    },
    {
     "data": {
      "text/plain": [
       "False"
      ]
     },
     "metadata": {},
     "output_type": "display_data"
    }
   ],
   "source": [
    "rndPoint = planes[\"ABC\"].random_point()\n",
    "parPlane = planes[\"ABD\"].parallel_plane(rndPoint)\n",
    "display(lines[\"BD\"].distance(rndPoint))\n",
    "points = [planes[\"ABC\"].random_point() for i in range(3)]\n",
    "display(Line3D(points[0], points[1]) in Line3D(points[1], points[2]))"
   ]
  },
  {
   "cell_type": "code",
   "execution_count": null,
   "metadata": {},
   "outputs": [],
   "source": []
  }
 ],
 "metadata": {
  "kernelspec": {
   "display_name": "Python 3",
   "language": "python",
   "name": "python3"
  },
  "language_info": {
   "codemirror_mode": {
    "name": "ipython",
    "version": 3
   },
   "file_extension": ".py",
   "mimetype": "text/x-python",
   "name": "python",
   "nbconvert_exporter": "python",
   "pygments_lexer": "ipython3",
   "version": "3.7.4"
  }
 },
 "nbformat": 4,
 "nbformat_minor": 2
}

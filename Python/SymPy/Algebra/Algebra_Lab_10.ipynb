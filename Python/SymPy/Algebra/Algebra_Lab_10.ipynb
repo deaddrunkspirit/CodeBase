{
 "cells": [
  {
   "cell_type": "code",
   "execution_count": 51,
   "metadata": {},
   "outputs": [],
   "source": [
    "import sympy as sp\n",
    "sp.init_printing(use_unicode=False, wrap_line=False, no_global=True)\n",
    "import matplotlib.pyplot as plt\n",
    "#from IPython.display import display #подключить, если не работает display"
   ]
  },
  {
   "cell_type": "markdown",
   "metadata": {},
   "source": [
    "# Занятие 13\n",
    "# Алгебра\n",
    "\n",
    "### ООП\n",
    "### Задание 1.\n",
    "\n",
    "Создать на основе класса замкнутых ломаных дочерний класс треугольников,\n",
    "переписать для него метод display так, чтобы выводилось:\n",
    "\n",
    "треугольник АВС\n",
    "\n",
    "где имена точек берутся из списка имен вершин ломаной.\n",
    "\n",
    "Создать треугольники STR и PQS (кординаты точек придумать самим),\n",
    "вывести треугольники методом display и изобразить их на графике с и без подписей точек."
   ]
  },
  {
   "cell_type": "code",
   "execution_count": 52,
   "metadata": {},
   "outputs": [],
   "source": [
    "class Poly_chain:\n",
    "    \n",
    "    \"\"\" Самостоятельный Poly_chain class \"\"\"\n",
    "    _Vertices={}\n",
    "    def __init__(self, *_Points, _Points_names = None):\n",
    "        self._Vertices = {}\n",
    "        _points_number = len(_Points)\n",
    "        if _points_number > 0:\n",
    "            for counter in range(_points_number):\n",
    "                self._Vertices[_Points_names[counter]] = _Points[counter]\n",
    "        return None\n",
    "    \n",
    "    \n",
    "    def vertices(self):\n",
    "        return self._Vertices.values()\n",
    "    \n",
    "    \n",
    "    def vertices_names(self):\n",
    "        return self._Vertices.keys()\n",
    "    \n",
    "    \n",
    "    def named_vertices(self):\n",
    "        return self._Vertices\n",
    "    \n",
    "    \n",
    "    def plot(self, color = 'red'):\n",
    "        plt.plot([P.x for P in list(self._Vertices.values())], [P.y for P in list(self._Vertices.values())], color)\n",
    "        return None\n",
    "    \n",
    "    \n",
    "    def plot_annotated(self, color = 'red'):\n",
    "        self.plot(color)\n",
    "        for V_name in (self.named_vertices().keys()):\n",
    "            chain_point = self.named_vertices()[V_name]\n",
    "            plt.annotate('$' + V_name + '$', xy = (chain_point.x, chain_point.y), xytext = (0, 5), textcoords = 'offset points' )\n",
    "        return None"
   ]
  },
  {
   "cell_type": "code",
   "execution_count": 73,
   "metadata": {},
   "outputs": [],
   "source": [
    "class Closed_Poly_chain(Poly_chain):\n",
    "    \n",
    "    def __init__(self, *_Points, _Points_names = None):\n",
    "        super().__init__(*_Points,_Points_names = _Points_names)\n",
    "        return None\n",
    "    \n",
    "    \n",
    "    def plot(self,color = 'purple'):\n",
    "        _V = list(self._Vertices.values())\n",
    "        _V.append(_V[0])\n",
    "        plt.plot([P.x for P in list(_V)], [P.y for P in list(_V)], color)\n",
    "        return None\n",
    "    \n",
    "    \n",
    "    def plot_annotated(self, color = 'purple'):\n",
    "        self.plot(color)\n",
    "        for V_name in (self.named_vertices().keys()):\n",
    "            chain_point = self.named_vertices()[V_name]\n",
    "            plt.annotate('$' + V_name + '$', xy = (chain_point.x, chain_point.y), xytext = (0, 5), textcoords = 'offset points' )\n",
    "        return None\n",
    "    \n",
    "    \n",
    "    def display(self):\n",
    "        print('ломаная( %s на %s)' % (self.length,self.width))\n",
    "        return None"
   ]
  },
  {
   "cell_type": "code",
   "execution_count": 74,
   "metadata": {},
   "outputs": [],
   "source": [
    "class Triangle(Closed_Poly_chain):\n",
    "    \n",
    "    Points_names = []\n",
    "    \n",
    "    \n",
    "    def __init__(self, *_Points, _Points_names = None):\n",
    "        if (len(_Points) != 3):\n",
    "            #Проверяем количество точек\n",
    "            raise Exception('Chain must be triangle')\n",
    "        self.Points_names = _Points_names\n",
    "        super().__init__(*_Points, _Points_names = _Points_names)\n",
    "        Point_names = _Points_names\n",
    "        return None\n",
    "    \n",
    "    \n",
    "    def display(self):\n",
    "        print('Треугольник %s%s%s' % (self.Points_names[0], self.Points_names[1], self.Points_names[2]))\n",
    "        return None"
   ]
  },
  {
   "cell_type": "code",
   "execution_count": 75,
   "metadata": {},
   "outputs": [
    {
     "name": "stdout",
     "output_type": "stream",
     "text": [
      "Треугольник STR\n",
      "Треугольник PQS\n"
     ]
    },
    {
     "data": {
      "image/png": "[encoded data removed]",
      "text/plain": [
       "<Figure size 432x288 with 1 Axes>"
      ]
     },
     "metadata": {
      "needs_background": "light"
     },
     "output_type": "display_data"
    }
   ],
   "source": [
    "S = sp.Point(0, 0)\n",
    "T = sp.Point(-3, 25)\n",
    "R = sp.Point(3, 5)\n",
    "P = sp.Point(-10, 7)\n",
    "Q = sp.Point(-6, -14)\n",
    "\n",
    "STR = Triangle(S, T, R, _Points_names = ['S', 'T', 'R'])\n",
    "STR.display()\n",
    "STR.plot()\n",
    "STR.plot_annotated()\n",
    "\n",
    "PQS = Triangle(P, Q, S, _Points_names = ['P', 'Q', 'S'])\n",
    "PQS.display()\n",
    "PQS.plot()\n",
    "PQS.plot_annotated()"
   ]
  },
  {
   "cell_type": "code",
   "execution_count": 76,
   "metadata": {},
   "outputs": [
    {
     "data": {
      "image/png": "[encoded data removed]",
      "text/plain": [
       "<Figure size 432x288 with 1 Axes>"
      ]
     },
     "metadata": {
      "needs_background": "light"
     },
     "output_type": "display_data"
    }
   ],
   "source": [
    "STR.plot()\n",
    "PQS.plot()"
   ]
  },
  {
   "cell_type": "markdown",
   "metadata": {},
   "source": [
    "### Задание 2.\n",
    "Создать на основе класса треугольников классы равносторонних, равнобедренных и прямоугольных треугольников.\n",
    "\n",
    "В методе display выводить\n",
    "\n",
    "равносторонний треугольник АВС\n",
    "\n",
    "равнобедренный треугольник АВС, АВ=ВС\n",
    "\n",
    "прямоугольный треугольник АВС, угол В прямой\n",
    "\n",
    "Создать по одному экземпляру треугольника каждого типа\n",
    "\n",
    "Указание: при вычислении длин сторон не пользоваться округлением, все вычисления проводить аналитически,\n",
    "для дробей пользуемся конструкцией вида\n",
    "\n",
    "sp.S(3)/4"
   ]
  },
  {
   "cell_type": "code",
   "execution_count": 77,
   "metadata": {},
   "outputs": [],
   "source": [
    "class Equilateral_Triangle(Triangle):\n",
    "    \n",
    "    Points_names = []\n",
    "    \n",
    "    \n",
    "    def __init__(self, *_Points, _Points_names = None):\n",
    "        _V = list(_Points)\n",
    "        l1 = _V[0].distance(_V[1])\n",
    "        l2 = _V[1].distance(_V[2])\n",
    "        l3 = _V[2].distance(_V[0])\n",
    "        if (l1 != l2) or (l2 != l3) or (l1 != l3):\n",
    "            raise Exception('Triangle must be equilateral')\n",
    "        self.Points_names = _Points_names\n",
    "        super().__init__(*_Points, _Points_names = _Points_names)\n",
    "        Point_names = _Points_names\n",
    "        return None\n",
    "    \n",
    "    \n",
    "    def display(self):\n",
    "        print('Равносторонний треугольник %s%s%s' % (self.Points_names[0], self.Points_names[1], self.Points_names[2]))\n",
    "        return None"
   ]
  },
  {
   "cell_type": "code",
   "execution_count": 78,
   "metadata": {},
   "outputs": [
    {
     "name": "stdout",
     "output_type": "stream",
     "text": [
      "Равносторонний треугольник ABC\n"
     ]
    }
   ],
   "source": [
    "A = sp.Point(0, 0)\n",
    "B = sp.Point(6, 0)\n",
    "C = sp.Point(3, 3 * sp.sqrt(3))\n",
    "ABC = Equilateral_Triangle(A, B, C, _Points_names = ['A', 'B', 'C'])\n",
    "ABC.display()"
   ]
  },
  {
   "cell_type": "code",
   "execution_count": 79,
   "metadata": {},
   "outputs": [],
   "source": [
    "class Isosceles_Triangle(Triangle):\n",
    "    \n",
    "    Points_names = []\n",
    "    \n",
    "    \n",
    "    def __init__(self, *_Points,_Points_names=None):\n",
    "        _V = list(_Points)\n",
    "        l1 = _V[0].distance(_V[1])\n",
    "        l2 = _V[1].distance(_V[2])\n",
    "        l3 = _V[2].distance(_V[0])\n",
    "        if not((l1 == l2) or (l2 == l3) or (l1 == l3)):\n",
    "            raise Exception('Triangle must be equilateral')\n",
    "        self.Points_names = _Points_names\n",
    "        super().__init__(*_Points,_Points_names = _Points_names)\n",
    "        Point_names = _Points_names\n",
    "        return None\n",
    "    \n",
    "    \n",
    "    def display(self):\n",
    "        _V = list(self._Vertices.values())\n",
    "        l1 = _V[0].distance(_V[1])\n",
    "        l2 = _V[1].distance(_V[2])\n",
    "        l3 = _V[2].distance(_V[0])\n",
    "        if l1 == l2:\n",
    "            print('Равнобедренный треугольник %s%s%s, %s%s = %s%s'\n",
    "                  % (self.Points_names[0], self.Points_names[1], self.Points_names[2], self.Points_names[0], self.Points_names[1],\n",
    "                    self.Points_names[1], self.Points_names[2]))\n",
    "        if l1 == l3:\n",
    "            print('Равнобедренный треугольник %s%s%s, %s%s = %s%s'\n",
    "                  % (self.Points_names[0], self.Points_names[1], self.Points_names[2], self.Points_names[0], self.Points_names[1],\n",
    "                    self.Points_names[0], self.Points_names[2]))\n",
    "        if l2 == l3:\n",
    "            print('Равнобедренный треугольник %s%s%s, %s%s = %s%s'\n",
    "                  % (self.Points_names[0], self.Points_names[1], self.Points_names[2], self.Points_names[1], self.Points_names[2],\n",
    "                    self.Points_names[0], self.Points_names[2]))\n",
    "        return None"
   ]
  },
  {
   "cell_type": "code",
   "execution_count": 80,
   "metadata": {},
   "outputs": [
    {
     "name": "stdout",
     "output_type": "stream",
     "text": [
      "Равнобедренный треугольник треугольник ABC, BC = AC\n"
     ]
    }
   ],
   "source": [
    "A = sp.Point(0, 0)\n",
    "B = sp.Point(6, 0)\n",
    "C = sp.Point(3, 3)\n",
    "ABC = Isosceles_Triangle(A,B,C,_Points_names = ['A','B','C'])\n",
    "ABC.display()"
   ]
  },
  {
   "cell_type": "code",
   "execution_count": 81,
   "metadata": {},
   "outputs": [],
   "source": [
    "class Right_Triangle(Triangle):\n",
    "    \n",
    "    Points_names = []\n",
    "    \n",
    "    \n",
    "    def __init__(self, *_Points,_Points_names = None):\n",
    "        _V = list(_Points)\n",
    "        l1 = _V[0].distance(_V[1])\n",
    "        l2 = _V[1].distance(_V[2])\n",
    "        l3 = _V[2].distance(_V[0])\n",
    "        if not((l1**2 + l2**2 == l3**2) or (l2**2 + l3**2 == l1**2) or (l1**2 + l3**2 == l2**2)):\n",
    "            raise Exception('Triangle must be right')\n",
    "        self.Points_names = _Points_names\n",
    "        super().__init__(*_Points, _Points_names = _Points_names)\n",
    "        Point_names = _Points_names\n",
    "        return None\n",
    "    \n",
    "    \n",
    "    def display(self):\n",
    "        _V = list(self._Vertices.values())\n",
    "        l1 = _V[0].distance(_V[1])\n",
    "        l2 = _V[1].distance(_V[2])\n",
    "        l3 = _V[2].distance(_V[0])\n",
    "        if l1**2 + l2**2 == l3**2:\n",
    "            print('Прямоугольный треугольник треугольник %s%s%s, угол %s прямой'\n",
    "                  % (self.Points_names[0], self.Points_names[1], self.Points_names[2], self.Points_names[1]))\n",
    "        if l2**2 + l3**2 == l1**2:\n",
    "            print('Прямоугольный треугольник треугольник %s%s%s, угол %s прямой'\n",
    "                  % (self.Points_names[0], self.Points_names[1], self.Points_names[2], self.Points_names[2]))\n",
    "        if l1**2 + l3**2 == l2**2:\n",
    "            print('Прямоугольный треугольник треугольник %s%s%s, угол %s прямой'\n",
    "                  % (self.Points_names[0], self.Points_names[1], self.Points_names[2], self.Points_names[0]))\n",
    "        return None"
   ]
  },
  {
   "cell_type": "code",
   "execution_count": 82,
   "metadata": {},
   "outputs": [
    {
     "name": "stdout",
     "output_type": "stream",
     "text": [
      "Прямоугольный треугольник треугольник ABC,угол A прямой\n"
     ]
    }
   ],
   "source": [
    "A = sp.Point(0, 0)\n",
    "B = sp.Point(6, 0)\n",
    "C = sp.Point(0, 8)\n",
    "ABC = Right_Triangle(A, B, C, _Points_names=['A', 'B', 'C'])\n",
    "ABC.display()"
   ]
  },
  {
   "cell_type": "markdown",
   "metadata": {},
   "source": [
    "###  Индивидуальное задание\n",
    "\n",
    "Построить класс ломаных в пространстве по образцу класса ломаных из файла с примером,\n",
    "\n",
    "НО:\n",
    "\n",
    "вершины ломаных хранить в СПИСКЕ list или, если есть желание, в любой другой УПОРЯДОЧЕННОЙ структуре данных.\n",
    "\n",
    "Реализовать методы plot_xy, plot_xz, plot_yz, изображающие проекции ломаной на соответствующие координатные плоскости (с и без подписей имен точек)\n",
    "\n",
    "Реализовать метод, проверяющий, является ли некоторая точка вершиной ломаной.\n",
    "\n",
    "Реализовать добавление и удаление вершин и переименование вершин. При добавлении предусмотреть необязательный параметр - номер вершины, после которой нужно вставить новую.\n",
    "\n",
    "Работу всех реализованных методов продемонстрировать."
   ]
  },
  {
   "cell_type": "code",
   "execution_count": 83,
   "metadata": {},
   "outputs": [],
   "source": [
    "class Poly_chain_3D:\n",
    "    _Vertices = []\n",
    "    _Vertices_names = []\n",
    "    def __init__(self, *_Points, _Points_names = None):\n",
    "        _points_number = len(_Points)\n",
    "        self._Vertices = list(_Points)\n",
    "        if _points_number > 0:\n",
    "            if _Points_names == None:\n",
    "                counter = 1\n",
    "                for _P in _Points:\n",
    "                    self._Vertices_names.append('A_' + str(counter))\n",
    "                    counter += 1\n",
    "            else:\n",
    "                self._Vertices_names = list(_Points_names)           \n",
    "        return None\n",
    "    \n",
    "    \n",
    "    def plot_xy(self, color = 'green'):\n",
    "        plt.plot([P.x for P in self._Vertices],[P.y for P in self._Vertices], color)\n",
    "        return None\n",
    "    \n",
    "    \n",
    "    def plot_xz(self, color='green'):\n",
    "        plt.plot([P.x for P in self._Vertices],[P.z for P in self._Vertices], color)\n",
    "        return None\n",
    "    \n",
    "    \n",
    "    def plot_yz(self, color='green'):\n",
    "        plt.plot([P.y for P in self._Vertices],[P.z for P in self._Vertices], color)\n",
    "        return None\n",
    "    \n",
    "    \n",
    "    def is_point_in_chain(self,point):\n",
    "        k = False\n",
    "        for i in range(len(self._Vertices)):\n",
    "            if point.distance(self._Vertices[i]) == 0:\n",
    "                k = True\n",
    "        return k\n",
    "    \n",
    "    \n",
    "    def append_point(self, point, point_name, pos = None):\n",
    "        if pos == None:\n",
    "            self._Vertices.append(point)\n",
    "            self._Vertices_names.append(point_name)\n",
    "        else:\n",
    "            self._Vertices.append(point)\n",
    "            self._Vertices_names.append(point_name)\n",
    "            for i in range(len(self._Vertices) - 1, pos, -1):\n",
    "                x = self._Vertices[i]\n",
    "                self._Vertices[i] = self._Vertices[i - 1]\n",
    "                self._Vertices[i - 1] = x\n",
    "                x = self._Vertices_names[i]\n",
    "                self._Vertices_names[i] = self._Vertices_names[i - 1]\n",
    "                self._Vertices_names[i - 1] = x\n",
    "                \n",
    "                \n",
    "    def del_point(self, point_name):\n",
    "        for i in range(len(self._Vertices_names)):\n",
    "            if self._Vertices_names[i] == point_name:\n",
    "                del self._Vertices_names[i]\n",
    "                del self._Vertices[i]\n",
    "                break\n",
    "                \n",
    "                \n",
    "    def rename_point(self,old_name,new_name):\n",
    "        for i in range(len(self._Vertices_names)):\n",
    "            if self._Vertices_names[i] == old_name:\n",
    "                self._Vertices_names[i] = new_name\n",
    "                \n",
    "                \n",
    "    def display(self):\n",
    "        print(self._Vertices_names)\n",
    "        print(self._Vertices)"
   ]
  },
  {
   "cell_type": "code",
   "execution_count": 84,
   "metadata": {},
   "outputs": [],
   "source": [
    "A = sp.Point(2, 2, 8)\n",
    "B = sp.Point(3, 3, 2)\n",
    "C = sp.Point(1, 2, 3)\n",
    "D = sp.Point(-3, -2, -1)\n",
    "E = sp.Point(3, 3, 3)\n",
    "Chain = Poly_chain_3D(A, B, C, D, E, _Points_names = ['A', 'B', 'C', 'D', 'E'])"
   ]
  },
  {
   "cell_type": "code",
   "execution_count": 85,
   "metadata": {},
   "outputs": [
    {
     "data": {
      "image/png": "[encoded data removed]",
      "text/plain": [
       "<Figure size 432x288 with 1 Axes>"
      ]
     },
     "metadata": {
      "needs_background": "light"
     },
     "output_type": "display_data"
    }
   ],
   "source": [
    "Chain.plot_xy()"
   ]
  },
  {
   "cell_type": "code",
   "execution_count": 86,
   "metadata": {},
   "outputs": [
    {
     "data": {
      "image/png": "[encoded data removed]",
      "text/plain": [
       "<Figure size 432x288 with 1 Axes>"
      ]
     },
     "metadata": {
      "needs_background": "light"
     },
     "output_type": "display_data"
    }
   ],
   "source": [
    "Chain.plot_xz()"
   ]
  },
  {
   "cell_type": "code",
   "execution_count": 87,
   "metadata": {},
   "outputs": [
    {
     "data": {
      "image/png": "[encoded data removed]",
      "text/plain": [
       "<Figure size 432x288 with 1 Axes>"
      ]
     },
     "metadata": {
      "needs_background": "light"
     },
     "output_type": "display_data"
    }
   ],
   "source": [
    "Chain.plot_yz()"
   ]
  },
  {
   "cell_type": "code",
   "execution_count": 88,
   "metadata": {},
   "outputs": [
    {
     "data": {
      "text/plain": [
       "False"
      ]
     },
     "metadata": {},
     "output_type": "display_data"
    },
    {
     "data": {
      "text/plain": [
       "True"
      ]
     },
     "metadata": {},
     "output_type": "display_data"
    }
   ],
   "source": [
    "display(Chain.is_point_in_chain(sp.Point(33, 13, 32)))\n",
    "display(Chain.is_point_in_chain(sp.Point(3, 3, 3)))"
   ]
  },
  {
   "cell_type": "code",
   "execution_count": 89,
   "metadata": {},
   "outputs": [
    {
     "name": "stdout",
     "output_type": "stream",
     "text": [
      "['K', 'A', 'B', 'C', 'D', 'E']\n",
      "[Point3D(4, -1, 0), Point3D(2, 2, 8), Point3D(3, 3, 2), Point3D(1, 2, 3), Point3D(-3, -2, -1), Point3D(3, 3, 3)]\n"
     ]
    }
   ],
   "source": [
    "Chain.append_point(sp.Point(4, -1, 0), 'K', pos = 0)\n",
    "Chain.display()"
   ]
  },
  {
   "cell_type": "code",
   "execution_count": 90,
   "metadata": {},
   "outputs": [
    {
     "name": "stdout",
     "output_type": "stream",
     "text": [
      "['T', 'A', 'B', 'C', 'D', 'E']\n",
      "[Point3D(4, -1, 0), Point3D(2, 2, 8), Point3D(3, 3, 2), Point3D(1, 2, 3), Point3D(-3, -2, -1), Point3D(3, 3, 3)]\n"
     ]
    }
   ],
   "source": [
    "Chain.rename_point('K', 'T')\n",
    "Chain.display()"
   ]
  },
  {
   "cell_type": "code",
   "execution_count": 91,
   "metadata": {},
   "outputs": [
    {
     "name": "stdout",
     "output_type": "stream",
     "text": [
      "['A', 'B', 'C', 'D', 'E']\n",
      "[Point3D(2, 2, 8), Point3D(3, 3, 2), Point3D(1, 2, 3), Point3D(-3, -2, -1), Point3D(3, 3, 3)]\n"
     ]
    }
   ],
   "source": [
    "Chain.del_point('T')\n",
    "Chain.display()"
   ]
  }
 ],
 "metadata": {
  "kernelspec": {
   "display_name": "Python 3",
   "language": "python",
   "name": "python3"
  },
  "language_info": {
   "codemirror_mode": {
    "name": "ipython",
    "version": 3
   },
   "file_extension": ".py",
   "mimetype": "text/x-python",
   "name": "python",
   "nbconvert_exporter": "python",
   "pygments_lexer": "ipython3",
   "version": "3.7.4"
  }
 },
 "nbformat": 4,
 "nbformat_minor": 2
}

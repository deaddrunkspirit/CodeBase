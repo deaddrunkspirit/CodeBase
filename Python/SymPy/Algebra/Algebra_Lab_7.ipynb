{
 "cells": [
  {
   "cell_type": "code",
   "execution_count": 70,
   "metadata": {},
   "outputs": [],
   "source": [
    "from sympy import *\n",
    "%matplotlib inline\n",
    "import matplotlib.pyplot as plt\n",
    "import numpy as np\n",
    "init_printing(use_unicode=False, wrap_line=False, no_global=True)"
   ]
  },
  {
   "cell_type": "markdown",
   "metadata": {},
   "source": [
    "# Лабораторная работа 8\n",
    "# Алгебра\n",
    "https://docs.sympy.org/latest/search.html?q=geometry\n",
    "\n",
    "## Проекции, сегменты, лучи в модуле Geometry\n",
    "\n",
    " \n",
    "### Задание 1.\n",
    "\n",
    "Даны точки: A(3,-2,3),  B(-2,3,1), \n",
    "C(1,-8,6), \n",
    "D(1,2,4), \n",
    "F(-7,8,-1).\n",
    "\n",
    "Составить отрезки АВ и АС и лучи CD и BF.\n",
    "\n",
    "Найти: \n",
    "\n",
    "угол между лучами CD и BF\n",
    "\n",
    "направления луча CD (xdirection, ydirection, zdirection)\n",
    "\n",
    "длину отрезка АВ\n",
    "\n",
    "середину отрезка АВ"
   ]
  },
  {
   "cell_type": "code",
   "execution_count": 71,
   "metadata": {},
   "outputs": [
    {
     "data": {
      "image/png": "[encoded data removed]",
      "text/latex": [
       "$\\displaystyle 43.89$"
      ],
      "text/plain": [
       "43.89"
      ]
     },
     "metadata": {},
     "output_type": "display_data"
    },
    {
     "data": {
      "image/png": "[encoded data removed]",
      "text/latex": [
       "$\\displaystyle 0$"
      ],
      "text/plain": [
       "0"
      ]
     },
     "metadata": {},
     "output_type": "display_data"
    },
    {
     "data": {
      "image/png": "[encoded data removed]",
      "text/latex": [
       "$\\displaystyle \\infty$"
      ],
      "text/plain": [
       "oo"
      ]
     },
     "metadata": {},
     "output_type": "display_data"
    },
    {
     "data": {
      "image/png": "[encoded data removed]",
      "text/latex": [
       "$\\displaystyle -\\infty$"
      ],
      "text/plain": [
       "-oo"
      ]
     },
     "metadata": {},
     "output_type": "display_data"
    },
    {
     "data": {
      "image/png": "[encoded data removed]",
      "text/latex": [
       "$\\displaystyle 3 \\sqrt{6}$"
      ],
      "text/plain": [
       "    ___\n",
       "3*\\/ 6 "
      ]
     },
     "metadata": {},
     "output_type": "display_data"
    },
    {
     "data": {
      "image/png": "[encoded data removed]",
      "text/latex": [
       "$\\displaystyle Point3D\\left(\\frac{1}{2}, \\frac{1}{2}, 2\\right)$"
      ],
      "text/plain": [
       "Point3D(1/2, 1/2, 2)"
      ]
     },
     "metadata": {},
     "output_type": "display_data"
    }
   ],
   "source": [
    "A = Point(3, -2, 3)\n",
    "B = Point(-2, 3, 1)\n",
    "C = Point(1, -8, 6)\n",
    "D = Point(1, 2, 4)\n",
    "F = Point(-7, 8, -1)\n",
    "AB = Segment(A, B)\n",
    "AC = Segment(A, C)\n",
    "CD = Ray(C, D)\n",
    "BF = Ray(B, F)\n",
    "CDBF = (CD.angle_between(BF).evalf(3) * 57.29).evalf(4)\n",
    "display(CDBF, CD.xdirection, CD.ydirection, CD.zdirection, AB.length, AB.midpoint)"
   ]
  },
  {
   "cell_type": "markdown",
   "metadata": {},
   "source": [
    "### Задание 2.\n",
    "\n",
    "Построить прямую CD и проекцию точки F и отрезка АВ  на эту прямую"
   ]
  },
  {
   "cell_type": "code",
   "execution_count": 72,
   "metadata": {},
   "outputs": [
    {
     "data": {
      "image/png": "[encoded data removed]",
      "text/latex": [
       "$\\displaystyle Point3D\\left(1, \\frac{227}{26}, \\frac{69}{26}\\right)$"
      ],
      "text/plain": [
       "Point3D(1, 227/26, 69/26)"
      ]
     },
     "metadata": {},
     "output_type": "display_data"
    },
    {
     "data": {
      "image/png": "[encoded data removed]",
      "text/latex": [
       "$\\displaystyle Segment3D\\left(Point3D\\left(1, - \\frac{43}{26}, \\frac{123}{26}\\right), Point3D\\left(1, \\frac{46}{13}, \\frac{48}{13}\\right)\\right)$"
      ],
      "text/plain": [
       "Segment3D(Point3D(1, -43/26, 123/26), Point3D(1, 46/13, 48/13))"
      ]
     },
     "metadata": {},
     "output_type": "display_data"
    }
   ],
   "source": [
    "CD = Line(C, D)\n",
    "display(CD.projection(F), CD.projection(AB))"
   ]
  },
  {
   "cell_type": "markdown",
   "metadata": {},
   "source": [
    "### Задание 3.\n",
    "\n",
    "Построить серединный перпендикуляр отрезка АС, найти для серединного перпендикуляра уравнение."
   ]
  },
  {
   "cell_type": "code",
   "execution_count": 73,
   "metadata": {},
   "outputs": [
    {
     "data": {
      "image/png": "[encoded data removed]",
      "text/latex": [
       "$\\displaystyle Line3D\\left(Point3D\\left(8, -7, \\frac{9}{2}\\right), Point3D\\left(2, -5, \\frac{9}{2}\\right)\\right)$"
      ],
      "text/plain": [
       "Line3D(Point3D(8, -7, 9/2), Point3D(2, -5, 9/2))"
      ]
     },
     "metadata": {},
     "output_type": "display_data"
    },
    {
     "data": {
      "image/png": "[encoded data removed]",
      "text/latex": [
       "$\\displaystyle \\left( x + 3 y + 13, \\  2 z - 9\\right)$"
      ],
      "text/plain": [
       "(x + 3*y + 13, 2*z - 9)"
      ]
     },
     "metadata": {},
     "output_type": "display_data"
    }
   ],
   "source": [
    "perpBis = AC.perpendicular_bisector()\n",
    "display(perpBis, perpBis.equation(x = 'x', y = 'y', z = 'z'))"
   ]
  },
  {
   "cell_type": "markdown",
   "metadata": {},
   "source": [
    "### Индивидуальное задание.\n",
    "\n",
    "Даны точки на плоскости (см. индивидуальное задание 8 в ЛМС):\n",
    "\n",
    "Построить отрезок LM, луч MN, вывести на экране их точки, коэффициенты наклона, границы. \n",
    "\n",
    "Построить перпендикулярные к LM и MN линии, проходящие через точку P.\n",
    "\n",
    "Составить уравнения этих прямых, найти точку пересечения прямых.\n",
    "\n",
    "Построить на общем графике все перечисленные объекты.\n",
    "\n",
    "Все точки отметить и подписать именами.\n",
    "\n",
    "В легенде указать отрезки, лучи и прямые."
   ]
  },
  {
   "cell_type": "code",
   "execution_count": 114,
   "metadata": {},
   "outputs": [
    {
     "name": "stdout",
     "output_type": "stream",
     "text": [
      "Границы отрезка LM\n"
     ]
    },
    {
     "data": {
      "image/png": "[encoded data removed]",
      "text/latex": [
       "$\\displaystyle Point2D\\left(-3, -2\\right)$"
      ],
      "text/plain": [
       "Point2D(-3, -2)"
      ]
     },
     "metadata": {},
     "output_type": "display_data"
    },
    {
     "data": {
      "image/png": "[encoded data removed]",
      "text/latex": [
       "$\\displaystyle Point2D\\left(1, 6\\right)$"
      ],
      "text/plain": [
       "Point2D(1, 6)"
      ]
     },
     "metadata": {},
     "output_type": "display_data"
    },
    {
     "name": "stdout",
     "output_type": "stream",
     "text": [
      "Начало луча MN\n"
     ]
    },
    {
     "data": {
      "image/png": "[encoded data removed]",
      "text/latex": [
       "$\\displaystyle Point2D\\left(1, 6\\right)$"
      ],
      "text/plain": [
       "Point2D(1, 6)"
      ]
     },
     "metadata": {},
     "output_type": "display_data"
    },
    {
     "name": "stdout",
     "output_type": "stream",
     "text": [
      "Коэффициент наклона MN\n"
     ]
    },
    {
     "data": {
      "image/png": "[encoded data removed]",
      "text/latex": [
       "$\\displaystyle - \\frac{1}{3}$"
      ],
      "text/plain": [
       "-1/3"
      ]
     },
     "metadata": {},
     "output_type": "display_data"
    },
    {
     "name": "stdout",
     "output_type": "stream",
     "text": [
      "Координаты прямоугольника, содержащего отрезок LM\n"
     ]
    },
    {
     "data": {
      "image/png": "[encoded data removed]",
      "text/latex": [
       "$\\displaystyle \\left( -3, \\  -2, \\  1, \\  6\\right)$"
      ],
      "text/plain": [
       "(-3, -2, 1, 6)"
      ]
     },
     "metadata": {},
     "output_type": "display_data"
    },
    {
     "name": "stdout",
     "output_type": "stream",
     "text": [
      "Координаты прямоугольника, содержащего луч MN\n"
     ]
    },
    {
     "data": {
      "image/png": "[encoded data removed]",
      "text/latex": [
       "$\\displaystyle \\left( 1, \\  5, \\  4, \\  6\\right)$"
      ],
      "text/plain": [
       "(1, 5, 4, 6)"
      ]
     },
     "metadata": {},
     "output_type": "display_data"
    },
    {
     "name": "stdout",
     "output_type": "stream",
     "text": [
      "Перпендикуляр к LM, проходящий через P\n"
     ]
    },
    {
     "data": {
      "image/png": "[encoded data removed]",
      "image/svg+xml": [
       "<svg xmlns=\"http://www.w3.org/2000/svg\"\n",
       "            xmlns:xlink=\"http://www.w3.org/1999/xlink\"\n",
       "            width=\"100.0\" height=\"100.0\" viewBox=\"-4.80000000000000 6.20000000000000 9.60000000000000 5.60000000000000\"\n",
       "            preserveAspectRatio=\"xMinYMin meet\">\n",
       "            <defs>\n",
       "                <marker id=\"markerCircle\" markerWidth=\"8\" markerHeight=\"8\"\n",
       "                    refx=\"5\" refy=\"5\" markerUnits=\"strokeWidth\">\n",
       "                    <circle cx=\"5\" cy=\"5\" r=\"1.5\" style=\"stroke: none; fill:#000000;\"/>\n",
       "                </marker>\n",
       "                <marker id=\"markerArrow\" markerWidth=\"13\" markerHeight=\"13\" refx=\"2\" refy=\"4\"\n",
       "                       orient=\"auto\" markerUnits=\"strokeWidth\">\n",
       "                    <path d=\"M2,2 L2,6 L6,4\" style=\"fill: #000000;\" />\n",
       "                </marker>\n",
       "                <marker id=\"markerReverseArrow\" markerWidth=\"13\" markerHeight=\"13\" refx=\"6\" refy=\"4\"\n",
       "                       orient=\"auto\" markerUnits=\"strokeWidth\">\n",
       "                    <path d=\"M6,2 L6,6 L2,4\" style=\"fill: #000000;\" />\n",
       "                </marker>\n",
       "            </defs><g transform=\"matrix(1,0,0,-1,0,18.0000000000000)\"><path fill-rule=\"evenodd\" fill=\"#66cc99\" stroke=\"#555555\" stroke-width=\"0.192000000000000\" opacity=\"0.6\" d=\"M 4.00000000000000,7.00000000000000 L -4.00000000000000,11.0000000000000\" marker-start=\"url(#markerReverseArrow)\" marker-end=\"url(#markerArrow)\"/></g></svg>"
      ],
      "text/latex": [
       "$\\displaystyle Line2D\\left(Point2D\\left(4, 7\\right), Point2D\\left(-4, 11\\right)\\right)$"
      ],
      "text/plain": [
       "Line2D(Point2D(4, 7), Point2D(-4, 11))"
      ]
     },
     "metadata": {},
     "output_type": "display_data"
    },
    {
     "name": "stdout",
     "output_type": "stream",
     "text": [
      "Перпендикуляр к MN, проходящий через P\n"
     ]
    },
    {
     "data": {
      "image/png": "[encoded data removed]",
      "image/svg+xml": [
       "<svg xmlns=\"http://www.w3.org/2000/svg\"\n",
       "            xmlns:xlink=\"http://www.w3.org/1999/xlink\"\n",
       "            width=\"100.0\" height=\"100.0\" viewBox=\"3.70000000000000 6.70000000000000 1.60000000000000 3.60000000000000\"\n",
       "            preserveAspectRatio=\"xMinYMin meet\">\n",
       "            <defs>\n",
       "                <marker id=\"markerCircle\" markerWidth=\"8\" markerHeight=\"8\"\n",
       "                    refx=\"5\" refy=\"5\" markerUnits=\"strokeWidth\">\n",
       "                    <circle cx=\"5\" cy=\"5\" r=\"1.5\" style=\"stroke: none; fill:#000000;\"/>\n",
       "                </marker>\n",
       "                <marker id=\"markerArrow\" markerWidth=\"13\" markerHeight=\"13\" refx=\"2\" refy=\"4\"\n",
       "                       orient=\"auto\" markerUnits=\"strokeWidth\">\n",
       "                    <path d=\"M2,2 L2,6 L6,4\" style=\"fill: #000000;\" />\n",
       "                </marker>\n",
       "                <marker id=\"markerReverseArrow\" markerWidth=\"13\" markerHeight=\"13\" refx=\"6\" refy=\"4\"\n",
       "                       orient=\"auto\" markerUnits=\"strokeWidth\">\n",
       "                    <path d=\"M6,2 L6,6 L2,4\" style=\"fill: #000000;\" />\n",
       "                </marker>\n",
       "            </defs><g transform=\"matrix(1,0,0,-1,0,17.0000000000000)\"><path fill-rule=\"evenodd\" fill=\"#66cc99\" stroke=\"#555555\" stroke-width=\"0.0720000000000000\" opacity=\"0.6\" d=\"M 4.00000000000000,7.00000000000000 L 5.00000000000000,10.0000000000000\" marker-start=\"url(#markerReverseArrow)\" marker-end=\"url(#markerArrow)\"/></g></svg>"
      ],
      "text/latex": [
       "$\\displaystyle Line2D\\left(Point2D\\left(4, 7\\right), Point2D\\left(5, 10\\right)\\right)$"
      ],
      "text/plain": [
       "Line2D(Point2D(4, 7), Point2D(5, 10))"
      ]
     },
     "metadata": {},
     "output_type": "display_data"
    },
    {
     "name": "stdout",
     "output_type": "stream",
     "text": [
      "Точка пересечения перпендикуляров\n"
     ]
    },
    {
     "data": {
      "image/png": "[encoded data removed]",
      "text/latex": [
       "$\\displaystyle \\left[ Point2D\\left(4, 7\\right)\\right]$"
      ],
      "text/plain": [
       "[Point2D(4, 7)]"
      ]
     },
     "metadata": {},
     "output_type": "display_data"
    },
    {
     "name": "stdout",
     "output_type": "stream",
     "text": [
      "Точки пересечения линиий LM и MN с перпендикулярами, проходящими через P\n"
     ]
    },
    {
     "data": {
      "image/png": "[encoded data removed]",
      "text/latex": [
       "$\\displaystyle Point2D\\left(-4, 11\\right)$"
      ],
      "text/plain": [
       "Point2D(-4, 11)"
      ]
     },
     "metadata": {},
     "output_type": "display_data"
    },
    {
     "data": {
      "image/png": "[encoded data removed]",
      "text/latex": [
       "$\\displaystyle Point2D\\left(\\frac{17}{5}, \\frac{26}{5}\\right)$"
      ],
      "text/plain": [
       "Point2D(17/5, 26/5)"
      ]
     },
     "metadata": {},
     "output_type": "display_data"
    },
    {
     "data": {
      "text/plain": [
       "<matplotlib.legend.Legend at 0x1fa62668788>"
      ]
     },
     "execution_count": 114,
     "metadata": {},
     "output_type": "execute_result"
    },
    {
     "data": {
      "image/png": "[encoded data removed]",
      "text/plain": [
       "<Figure size 432x288 with 1 Axes>"
      ]
     },
     "metadata": {
      "needs_background": "light"
     },
     "output_type": "display_data"
    }
   ],
   "source": [
    "x, y = symbols(\"x, y\")\n",
    "L = Point(-3, -2)\n",
    "M = Point(1, 6)\n",
    "N = Point(4, 5)\n",
    "P = Point(4, 7)\n",
    "LM = Segment(L, M)\n",
    "MN = Ray(M, N)\n",
    "print(\"Границы отрезка LM\")\n",
    "display(LM.p1, LM.p2)\n",
    "print(\"Начало луча MN\")\n",
    "display(MN.p1)\n",
    "print(\"Коэффициент наклона MN\")\n",
    "display(MN.slope)\n",
    "print(\"Координаты прямоугольника, содержащего отрезок LM\")\n",
    "display(LM.bounds)\n",
    "print(\"Координаты прямоугольника, содержащего луч MN\")\n",
    "display(MN.bounds)\n",
    "print(\"Перпендикуляр к LM, проходящий через P\")\n",
    "line1 = LM.perpendicular_line(P)\n",
    "display(line1)\n",
    "print(\"Перпендикуляр к MN, проходящий через P\")\n",
    "line2 = MN.perpendicular_line(P)\n",
    "P1 = Point(-4, 11)\n",
    "P2 = Point(17 / 5, 26 / 5)\n",
    "display(line2)\n",
    "Eq1 = line1.equation(x = 'x', y = 'y')\n",
    "Eq2 = line2.equation(x = 'x', y = 'y')\n",
    "inter = intersection(line1, line2)\n",
    "print(\"Точка пересечения перпендикуляров\")\n",
    "display(inter)\n",
    "print(\"Точки пересечения линиий LM и MN с перпендикулярами, проходящими через P\")\n",
    "display(P1, P2)\n",
    "plt.plot((L.x, M.x), (L.y, M.y), label=\"LM\")\n",
    "plt.plot((P1.x, P.x), (P1.y, P.y), label=\"LM perpendicular\")\n",
    "plt.plot((M.x, N.x), (M.y, N.y), label=\"MN\")\n",
    "plt.plot((P2.x, P.x), (P2.y, P.y), label=\"MN perpendicular\")\n",
    "\n",
    "plt.xlim(-20, 10)\n",
    "plt.ylim(-15, 15)\n",
    "\n",
    "def annot_pt(name, pt, j, i = 10):\n",
    "    plt.scatter(pt.x, pt.y, color='red', label=name)\n",
    "    plt.annotate(r'$'+name+'$',\n",
    "                 xy=pt, xycoords='data',\n",
    "                 xytext=(i, j), textcoords='offset points', fontsize=15,\n",
    "                 arrowprops=dict(arrowstyle=\"->\", connectionstyle=\"arc3,rad=.2\"))\n",
    "annot_pt(\"L\", L, -50, -10)\n",
    "annot_pt(\"M\", M, -50, -10)\n",
    "annot_pt(\"N\", N, -100)\n",
    "annot_pt(\"P\", P, 30, -10)\n",
    "annot_pt(\"P1\", P1, -50)\n",
    "annot_pt(\"P2\", P2, -75, -10)\n",
    "annot_pt(\"Intersect\", inter[0], -75, 30)\n",
    "plt.grid()\n",
    "plt.legend(loc='best')"
   ]
  },
  {
   "cell_type": "code",
   "execution_count": null,
   "metadata": {},
   "outputs": [],
   "source": []
  }
 ],
 "metadata": {
  "kernelspec": {
   "display_name": "Python 3",
   "language": "python",
   "name": "python3"
  },
  "language_info": {
   "codemirror_mode": {
    "name": "ipython",
    "version": 3
   },
   "file_extension": ".py",
   "mimetype": "text/x-python",
   "name": "python",
   "nbconvert_exporter": "python",
   "pygments_lexer": "ipython3",
   "version": "3.7.4"
  }
 },
 "nbformat": 4,
 "nbformat_minor": 2
}

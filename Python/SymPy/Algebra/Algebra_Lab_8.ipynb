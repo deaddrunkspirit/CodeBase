{
 "cells": [
  {
   "cell_type": "code",
   "execution_count": 1,
   "metadata": {},
   "outputs": [],
   "source": [
    "from sympy import *\n",
    "init_printing(use_unicode=False, wrap_line=False, no_global=True)"
   ]
  },
  {
   "cell_type": "markdown",
   "metadata": {},
   "source": [
    "# Занятие 9\n",
    "# Алгебра\n",
    "\n",
    "##  Geometry: лучи, отрезки, прямые и плоскости.\n",
    "### Задание 1.\n",
    "Горизонтальный угол обзора камеры видеонаблюдения 80 градусов, отношение длины к ширине прямоугольной области видимости равно 2:1.\n",
    "Найти вертикальный и диагональный углы обзора."
   ]
  },
  {
   "cell_type": "code",
   "execution_count": 2,
   "metadata": {},
   "outputs": [
    {
     "name": "stdout",
     "output_type": "stream",
     "text": [
      "Вертикальный и диагональный уголы обзора:\n"
     ]
    },
    {
     "data": {
      "image/png": "[encoded data removed]",
      "text/latex": [
       "$\\displaystyle 37$"
      ],
      "text/plain": [
       "37"
      ]
     },
     "metadata": {},
     "output_type": "display_data"
    },
    {
     "data": {
      "image/png": "[encoded data removed]",
      "text/latex": [
       "$\\displaystyle 91$"
      ],
      "text/plain": [
       "91"
      ]
     },
     "metadata": {},
     "output_type": "display_data"
    }
   ],
   "source": [
    "O = Point(0, 0, 0)\n",
    "A = Point(0, 1, 0)\n",
    "B = Point(2, 0, 0)\n",
    "\n",
    "# Координаты P\n",
    "L = (A + B) / 2\n",
    "\n",
    "def Deg(rad):\n",
    "    return rad * 180 / pi\n",
    "\n",
    "def Rad(deg):\n",
    "    return deg * pi / 180\n",
    "\n",
    "# Координаты M\n",
    "SMLen = float(cot(Rad(40))) * B.x / 2\n",
    "LMLen = sqrt((SMLen**2 - (A.y / 2)**2)) \n",
    "M = (L.x, L.y, LMLen)\n",
    "\n",
    "MA = Ray(M, A)\n",
    "MB = Ray(M, B)\n",
    "MO = Ray(M, O)\n",
    "\n",
    "print(\"Вертикальный и диагональный уголы обзора:\")\n",
    "display(int(Deg(MO.angle_between(MA))), int(Deg(MB.angle_between(MA))))\n"
   ]
  },
  {
   "cell_type": "markdown",
   "metadata": {},
   "source": [
    "### Задание 2.\n",
    "Ось камеры образует угол 30 градусов с плоскостью, на которую направлена камера, камера находится на расстоянии 4 м от плоскости см. рисунок, угол MPQ равен 30 градусам. Ввести систему координат и найти координаты вершин четырехугольника области видимости камеры. Определить тип четырехугольника, длины его сторон, углы и площадь. "
   ]
  },
  {
   "cell_type": "code",
   "execution_count": 3,
   "metadata": {},
   "outputs": [
    {
     "name": "stdout",
     "output_type": "stream",
     "text": [
      "Вершины области видимости камеры:\n"
     ]
    },
    {
     "data": {
      "image/png": "[encoded data removed]",
      "text/latex": [
       "$\\displaystyle \\left( 0.0, \\  0.0, \\  0.0\\right)$"
      ],
      "text/plain": [
       "(0.0, 0.0, 0.0)"
      ]
     },
     "metadata": {},
     "output_type": "display_data"
    },
    {
     "data": {
      "image/png": "[encoded data removed]",
      "text/latex": [
       "$\\displaystyle \\left( 4.0, \\  0.0, \\  0.0\\right)$"
      ],
      "text/plain": [
       "(4.0, 0.0, 0.0)"
      ]
     },
     "metadata": {},
     "output_type": "display_data"
    },
    {
     "data": {
      "image/png": "[encoded data removed]",
      "text/latex": [
       "$\\displaystyle \\left( 3.395661041496075, \\  1.6978305207480375, \\  2.94072872457673\\right)$"
      ],
      "text/plain": [
       "(3.395661041496075, 1.6978305207480375, 2.94072872457673)"
      ]
     },
     "metadata": {},
     "output_type": "display_data"
    },
    {
     "data": {
      "image/png": "[encoded data removed]",
      "text/latex": [
       "$\\displaystyle \\left( 0.6043389585039252, \\  1.6978305207480375, \\  2.94072872457673\\right)$"
      ],
      "text/plain": [
       "(0.6043389585039252, 1.6978305207480375, 2.94072872457673)"
      ]
     },
     "metadata": {},
     "output_type": "display_data"
    },
    {
     "name": "stdout",
     "output_type": "stream",
     "text": [
      "Длины OA, OC, BA, BC:\n"
     ]
    },
    {
     "data": {
      "image/png": "[encoded data removed]",
      "text/latex": [
       "$\\displaystyle 4$"
      ],
      "text/plain": [
       "4"
      ]
     },
     "metadata": {},
     "output_type": "display_data"
    },
    {
     "data": {
      "image/png": "[encoded data removed]",
      "text/latex": [
       "$\\displaystyle \\frac{\\sqrt{9542266886826398510340844367581375518469473459517825041}}{895632938682637500000000000}$"
      ],
      "text/plain": [
       "  _________________________________________________________\n",
       "\\/ 9542266886826398510340844367581375518469473459517825041 \n",
       "-----------------------------------------------------------\n",
       "                895632938682637500000000000                "
      ]
     },
     "metadata": {},
     "output_type": "display_data"
    },
    {
     "data": {
      "image/png": "[encoded data removed]",
      "text/latex": [
       "$\\displaystyle \\frac{\\sqrt{9542266886826398510340844367581375518469473459517825041}}{895632938682637500000000000}$"
      ],
      "text/plain": [
       "  _________________________________________________________\n",
       "\\/ 9542266886826398510340844367581375518469473459517825041 \n",
       "-----------------------------------------------------------\n",
       "                895632938682637500000000000                "
      ]
     },
     "metadata": {},
     "output_type": "display_data"
    },
    {
     "data": {
      "image/png": "[encoded data removed]",
      "text/latex": [
       "$\\displaystyle \\frac{200000000000000}{71650635094611}$"
      ],
      "text/plain": [
       "200000000000000\n",
       "---------------\n",
       " 71650635094611"
      ]
     },
     "metadata": {},
     "output_type": "display_data"
    },
    {
     "name": "stdout",
     "output_type": "stream",
     "text": [
      "Углы четырехугольника AOCB\n",
      "AOC = 79.90851097914792\n",
      "OAB = 79.90851097914792\n",
      "ABC = 100.09148902085208\n",
      "BCO = 100.09148902085208\n",
      "Область обзора камеры - равнобердренная трапеция (т.к. OC = BA, AOC = OAB и ABC = BCO)\n",
      "Площадь области видимости камеры:\n"
     ]
    },
    {
     "data": {
      "image/png": "[encoded data removed]",
      "text/latex": [
       "$\\displaystyle 11.530513908734221$"
      ],
      "text/plain": [
       "11.530513908734221"
      ]
     },
     "metadata": {},
     "output_type": "display_data"
    }
   ],
   "source": [
    "def FPoint(p):\n",
    "    display((float(p.x), float(p.y), float(p.z)))\n",
    "\n",
    "# Отношение длины к ширине прямоугольной области видимости равно 2:1 \n",
    "O = Point(0, 0, 0)\n",
    "C = Point(0, 2, 0)\n",
    "A = Point(4, 0, 0)\n",
    "B = Point(4, 2, 0)\n",
    "S = A / 2\n",
    "Q = Point(S.x, C.y, 0)\n",
    "P = Point(A.x / 2, C.y / 2, 0)\n",
    "\n",
    "# Найдем центр плоскости куда направлена камера\n",
    "SP = Segment(S, P)\n",
    "P1 = Point(P.x, P.y, float(P.z + SP.length * cot(30 * pi / 180)))\n",
    "OAP = Plane(O, A, P1)\n",
    "\n",
    "# M - центр плоскости\n",
    "M = Point(P.x, P.y, P1.z + 4 * 2)\n",
    "\n",
    "# Боковые ребра\n",
    "MO = Segment(M, O)\n",
    "MA = Segment(M, A)\n",
    "MC = Segment(M, C)\n",
    "MB = Segment(M, B)\n",
    "\n",
    "# Вводим координаты вершин области видимости камеры (четырхугольника)\n",
    "O1 = OAP.intersection(MO)[0]\n",
    "A1 = OAP.intersection(MA)[0]\n",
    "B1 = OAP.intersection(MB)[0]\n",
    "C1 = OAP.intersection(MC)[0]\n",
    "print(\"Вершины области видимости камеры:\")\n",
    "FPoint(O1)\n",
    "FPoint(A1)\n",
    "FPoint(B1)\n",
    "FPoint(C1)\n",
    "\n",
    "# Стороны четырехугольника\n",
    "OA = Segment(O1, A1)\n",
    "OC = Segment(O1, C1)\n",
    "BA = Segment(B1, A1)\n",
    "BC = Segment(B1, C1)\n",
    "print(\"Длины OA, OC, BA, BC:\")\n",
    "display(OA.length, OC.length, BA.length, BC.length)\n",
    "\n",
    "# Углы между сторонами четырехугольника\n",
    "print(\"Углы четырехугольника AOCB\")\n",
    "print(\"AOC = \" + str(float(Deg(OA.angle_between(OC)))))\n",
    "print(\"OAB = \" + str(float(Deg(OA.angle_between(BA)))))\n",
    "print(\"ABC = \" + str(float(Deg(BA.angle_between(BC)))))\n",
    "print(\"BCO = \" + str(float(Deg(BC.angle_between(OC)))))\n",
    "\n",
    "print('Область обзора камеры - равнобердренная трапеция (т.к. OC = BA, AOC = OAB и ABC = BCO)')\n",
    "\n",
    "# Область обзора камеры\n",
    "d1 = Segment(A1, C1)\n",
    "d2 = Segment(O1, B1)\n",
    "S = float(d1.length**2 / 2 * sin(d1.angle_between(d2)))\n",
    "print('Площадь области видимости камеры:')\n",
    "display(S)"
   ]
  },
  {
   "cell_type": "markdown",
   "metadata": {},
   "source": [
    "###  Индивидуальное задание\n",
    "\n",
    "Дано расстояние $\\rho$ от камеры до плоскости $\\pi$, на которую камера направлена, уравнение плоскости $\\pi$, угол обзора (диагональный) $\\alpha$, отношение $r$ длины к ширине прямоугольной области обзора. Горизонтальная граница области видимости параллельна линии пересечения плоскости $\\pi$ и плоскости $z=0$. Ось камеры направлена перпендикулярно плоскости, Р -  проекция точки, в которой находится камера, на плоскость $\\pi$.\n",
    "\n",
    "Найти координаты точки, в которой помещена камера, границы области видимости (на плоскости $\\pi$). "
   ]
  },
  {
   "cell_type": "code",
   "execution_count": 7,
   "metadata": {},
   "outputs": [
    {
     "data": {
      "image/png": "[encoded data removed]",
      "text/latex": [
       "$\\displaystyle Point3D\\left(21, -24, \\frac{231}{4}\\right)$"
      ],
      "text/plain": [
       "Point3D(21, -24, 231/4)"
      ]
     },
     "metadata": {},
     "output_type": "display_data"
    },
    {
     "data": {
      "image/png": "[encoded data removed]",
      "text/latex": [
       "$\\displaystyle Point3D\\left(10, -8, \\frac{247}{4}\\right)$"
      ],
      "text/plain": [
       "Point3D(10, -8, 247/4)"
      ]
     },
     "metadata": {},
     "output_type": "display_data"
    },
    {
     "data": {
      "text/latex": [
       "$\\displaystyle \\left[\\begin{matrix}11\\\\-16\\\\-4\\end{matrix}\\right]$"
      ],
      "text/plain": [
       "[11 ]\n",
       "[   ]\n",
       "[-16]\n",
       "[   ]\n",
       "[-4 ]"
      ]
     },
     "metadata": {},
     "output_type": "display_data"
    },
    {
     "data": {
      "image/png": "[encoded data removed]",
      "text/latex": [
       "$\\displaystyle Point3D\\left(11, -16, -4\\right)$"
      ],
      "text/plain": [
       "Point3D(11, -16, -4)"
      ]
     },
     "metadata": {},
     "output_type": "display_data"
    },
    {
     "data": {
      "image/png": "[encoded data removed]",
      "text/latex": [
       "$\\displaystyle 393$"
      ],
      "text/plain": [
       "393"
      ]
     },
     "metadata": {},
     "output_type": "display_data"
    },
    {
     "data": {
      "image/png": "[encoded data removed]",
      "text/latex": [
       "$\\displaystyle \\left( 11, \\  -16, \\  -4\\right)$"
      ],
      "text/plain": [
       "(11, -16, -4)"
      ]
     },
     "metadata": {},
     "output_type": "display_data"
    },
    {
     "data": {
      "text/plain": [
       "True"
      ]
     },
     "metadata": {},
     "output_type": "display_data"
    },
    {
     "name": "stdout",
     "output_type": "stream",
     "text": [
      "///////////////\n",
      "Полученный x\n"
     ]
    },
    {
     "data": {
      "image/png": "[encoded data removed]",
      "text/latex": [
       "$\\displaystyle 395.375255451366 \\sqrt{61}$"
      ],
      "text/plain": [
       "                   ____\n",
       "395.375255451366*\\/ 61 "
      ]
     },
     "metadata": {},
     "output_type": "display_data"
    },
    {
     "name": "stdout",
     "output_type": "stream",
     "text": [
      "Полученные точки\n"
     ]
    },
    {
     "data": {
      "image/png": "[encoded data removed]",
      "text/latex": [
       "$\\displaystyle \\left( 21.0, \\  -24.0, \\  57.75\\right)$"
      ],
      "text/plain": [
       "(21.0, -24.0, 57.75)"
      ]
     },
     "metadata": {},
     "output_type": "display_data"
    },
    {
     "data": {
      "image/png": "[encoded data removed]",
      "text/latex": [
       "$\\displaystyle \\left( -1503.0297617639078, \\  23840258.092334233, \\  -8995.451181791112\\right)$"
      ],
      "text/plain": [
       "(-1503.0297617639078, 23840258.092334233, -8995.451181791112)"
      ]
     },
     "metadata": {},
     "output_type": "display_data"
    },
    {
     "data": {
      "image/png": "[encoded data removed]",
      "text/latex": [
       "$\\displaystyle \\left( 1523.0297617639078, \\  23837809.907665767, \\  9118.951181791112\\right)$"
      ],
      "text/plain": [
       "(1523.0297617639078, 23837809.907665767, 9118.951181791112)"
      ]
     },
     "metadata": {},
     "output_type": "display_data"
    },
    {
     "data": {
      "image/png": "[encoded data removed]",
      "text/latex": [
       "$\\displaystyle \\left( 1523.0297617639078, \\  -23840274.092334233, \\  9118.951181791112\\right)$"
      ],
      "text/plain": [
       "(1523.0297617639078, -23840274.092334233, 9118.951181791112)"
      ]
     },
     "metadata": {},
     "output_type": "display_data"
    },
    {
     "data": {
      "image/png": "[encoded data removed]",
      "text/latex": [
       "$\\displaystyle \\left( -1503.0297617639078, \\  -23837825.907665767, \\  -8995.451181791112\\right)$"
      ],
      "text/plain": [
       "(-1503.0297617639078, -23837825.907665767, -8995.451181791112)"
      ]
     },
     "metadata": {},
     "output_type": "display_data"
    },
    {
     "data": {
      "text/plain": [
       "False"
      ]
     },
     "metadata": {},
     "output_type": "display_data"
    },
    {
     "data": {
      "text/plain": [
       "False"
      ]
     },
     "metadata": {},
     "output_type": "display_data"
    },
    {
     "data": {
      "image/png": "[encoded data removed]",
      "text/latex": [
       "$\\displaystyle 82.4070052744141$"
      ],
      "text/plain": [
       "82.4070052744141"
      ]
     },
     "metadata": {},
     "output_type": "display_data"
    },
    {
     "name": "stdout",
     "output_type": "stream",
     "text": [
      "Прямая MP перпендикулярна плоскости\n"
     ]
    }
   ],
   "source": [
    "#distance = 14; plane : 11x − 16y − 4z + 9 = 0; angle = 88; radius = 9 : 7; P(10, -8, 247/4)\n",
    "p = 14\n",
    "P = Point(10, -8, 247 / 4)\n",
    "t = Symbol('t') \n",
    "angle = 88\n",
    "r = 9 / 7\n",
    "\n",
    "planeP = Plane(P, (11, -16, -4))\n",
    "normP = Matrix(planeP.normal_vector) \n",
    "M = P + normP \n",
    "display(M, P, normP, M - P, (normP.transpose() * normP)[0, 0], planeP.normal_vector)\n",
    "MP = Line(M, P)\n",
    "display(planeP.is_perpendicular(MP))\n",
    "z0 = Plane(Point3D(0, 0, 0), Point3D(0, 1, 0), Point3D(1, 0, 0))\n",
    "# Линия пересечения плоскости z = 0 и заданной плоскости P\n",
    "interLine = z0.intersection(planeP)[0]\n",
    "SQ = interLine.parallel_line(P) \n",
    "PB = cot(angle / 2) * p \n",
    "print('Полученный x')\n",
    "x = sqrt(61) * PB / 2\n",
    "AB = 5 * x\n",
    "BC = 6 * x\n",
    "display(x)\n",
    "S = Point3D(P.x, int(P.y + AB / 2 * x), P.z)\n",
    "Q = Point3D(P.x, int(P.y - AB / 2 * x), P.z)\n",
    "SQ = Segment(S, Q)\n",
    "perpPlane = planeP.perpendicular_plane(M, P) \n",
    "KL = perpPlane.intersection(planeP)[0]\n",
    "vecKL = KL.p1 - KL.p2\n",
    "# Полученные точки\n",
    "O = S + vecKL / vecKL.distance(Point3D(0, 0, 0)) * (BC / 2)\n",
    "A = S - vecKL / vecKL.distance(Point3D(0, 0, 0)) * (BC / 2)\n",
    "B = Q - vecKL / vecKL.distance(Point3D(0, 0, 0)) * (BC / 2)\n",
    "C = Q + vecKL / vecKL.distance(Point3D(0, 0, 0)) * (BC / 2)\n",
    "K = P + vecKL / vecKL.distance(Point3D(0, 0, 0)) * (BC / 2)\n",
    "L = P - vecKL / vecKL.distance(Point3D(0, 0, 0)) * (BC / 2)\n",
    "KL = Line3D(K, L)\n",
    "#Выводим\n",
    "print('Полученные точки')\n",
    "FPoint(M)\n",
    "FPoint(O)\n",
    "FPoint(A)\n",
    "FPoint(B)\n",
    "FPoint(C)\n",
    "OA = Segment3D(O, A)\n",
    "AB = Segment3D(A, B) \n",
    "BC = Segment3D(B, C)\n",
    "CO = Segment3D(C, O)\n",
    "# Прорверка правильности\n",
    "interLine = z0.intersection(planeP)[0]\n",
    "display(SQ.is_parallel(interLine), \n",
    "        KL.is_parallel(interLine), \n",
    "        float(SQ.angle_between(KL) * 180 / pi))\n",
    "if(type(planeP.projection_line(MP)) == geometry.point.Point3D):\n",
    "    print('Прямая MP перпендикулярна плоскости')"
   ]
  },
  {
   "cell_type": "code",
   "execution_count": null,
   "metadata": {},
   "outputs": [],
   "source": []
  }
 ],
 "metadata": {
  "kernelspec": {
   "display_name": "Python 3",
   "language": "python",
   "name": "python3"
  },
  "language_info": {
   "codemirror_mode": {
    "name": "ipython",
    "version": 3
   },
   "file_extension": ".py",
   "mimetype": "text/x-python",
   "name": "python",
   "nbconvert_exporter": "python",
   "pygments_lexer": "ipython3",
   "version": "3.7.4"
  }
 },
 "nbformat": 4,
 "nbformat_minor": 2
}

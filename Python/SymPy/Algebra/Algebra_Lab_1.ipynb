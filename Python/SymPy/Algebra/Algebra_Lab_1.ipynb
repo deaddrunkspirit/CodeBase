{
 "cells": [
  {
   "cell_type": "markdown",
   "metadata": {},
   "source": [
    "Алгебра на Python. Занятие 1. Лабораторная работа 1. \n",
    "Численные и символьные преобразования. Действия над матрицами. Вычисление определителей. Обратная матрица."
   ]
  },
  {
   "cell_type": "code",
   "execution_count": null,
   "metadata": {
    "pycharm": {
     "is_executing": true
    }
   },
   "outputs": [],
   "source": [
    "from sympy import*\n",
    "from sympy import init_printing\n",
    "init_printing(use_unicode=False, wrap_line=False, no_global=True)"
   ]
  },
  {
   "cell_type": "markdown",
   "metadata": {},
   "source": [
    "Задание 1\n",
    "\n",
    "a) запишите выражение $0.3x^3+0.8x^2+xy-0.5xz^2-0.45z$ с использованием библиотеки SymPy (все дроби привести к обыкновенному виду)\n",
    "б) приведите его к стандартному виду относительно x\n",
    "в) вычислите значение выражения при x = 15, y = 14, z = 179"
   ]
  },
  {
   "cell_type": "code",
   "execution_count": 3,
   "metadata": {
    "pycharm": {
     "is_executing": false
    }
   },
   "outputs": [
    {
     "data": {
      "text/plain": "-4779711 \n---------\n    20   ",
      "image/png": "[encoded data removed]",
      "text/latex": "$\\displaystyle - \\frac{4779711}{20}$"
     },
     "metadata": {},
     "output_type": "execute_result",
     "execution_count": 3
    }
   ],
   "source": [
    "x, y, z = symbols(\"x, y, z\")\n",
    "#a\n",
    "expr = Rational(3, 10) * x**3 + Rational(8, 10) * x**2 + x * y - Rational(5, 10) * x * z**2 - Rational(45, 100) * z\n",
    "#б\n",
    "collect(expr, x)\n",
    "#в\n",
    "expr.subs({x: 15, y: 14, z: 179})\n"
   ]
  },
  {
   "cell_type": "markdown",
   "metadata": {},
   "source": [
    "Задание 2\n",
    "\n",
    "а) запишите матрицу 8*5 с датой вашего рождения. См. пример на доске\n"
   ]
  },
  {
   "cell_type": "markdown",
   "metadata": {},
   "source": [
    "\n",
    "б) умножьте получившуюся матрицу на ваш возраст\n",
    "в) сложите вашу матрицу с метрицей, состоящей из единиц\n",
    "г) удалите второй столбец, а после этого вторую, третью, пятую, и седьмую строки\n",
    "д) транспонируйте получившуюся матрицу\n",
    "е) найдите определитель новой матрицы\n",
    "ё) приведите матрицу из пункта (г) к диагональному виду"
   ]
  },
  {
   "cell_type": "code",
   "execution_count": null,
   "metadata": {
    "pycharm": {
     "is_executing": true
    }
   },
   "outputs": [],
   "source": [
    "A = zeros(8, 5)\n",
    "#a\n",
    "A = diag(2, 7, 0, 7, Matrix([2, 0, 0, 1]))\n",
    "#б\n",
    "A = A * 18\n",
    "#в\n",
    "B = ones(8, 5)                             \n",
    "A = Matrix(A + B)\n",
    "#г\n",
    "A.col_del(1)                               \n",
    "A.row_del(1)\n",
    "A.row_del(1)\n",
    "A.row_del(3)\n",
    "A.row_del(3)\n",
    "B = Matrix(A) # сохраняем матрицу для пункта ё\n",
    "#д\n",
    "A.T\n",
    "#е\n",
    "det(A)\n",
    "#ё\n",
    "p, d = B.diagonalize()\n",
    "d"
   ]
  },
  {
   "cell_type": "code",
   "execution_count": null,
   "outputs": [],
   "source": [
    "A = zeros(8, 5)\n",
    "#a\n",
    "B = diag(2, 7, 0, 7, Matrix([2, 0, 0, 1]))\n",
    "#б\n",
    "C = A * 18\n",
    "#в\n",
    "D = ones(8, 5)                             \n",
    "E = Matrix(A + B)\n",
    "#г\n",
    "E.col_del(1)                               \n",
    "E.row_del(1)\n",
    "E.row_del(1)\n",
    "E.row_del(3)\n",
    "E.row_del(3)\n",
    "E.rref"
   ],
   "metadata": {
    "collapsed": false,
    "pycharm": {
     "name": "#%%\n",
     "is_executing": true
    }
   }
  },
  {
   "cell_type": "code",
   "execution_count": null,
   "outputs": [],
   "source": [
    "2 + 12"
   ],
   "metadata": {
    "collapsed": false,
    "pycharm": {
     "name": "#%%\n",
     "is_executing": true
    }
   }
  },
  {
   "cell_type": "code",
   "execution_count": null,
   "outputs": [],
   "source": [
    "def distOfDots(arr):\n",
    "    for i in range(1, len(arr[0])\n",
    "        if (arr[0][i] - arr[0][i - 1] != arr[0][i] - arr[0][i - 1]) or (arr[0][-1] - arr[0][0] != arr[1][-1] - arr[1][0]):\n",
    "            return False\n",
    "    return True\n"
   ],
   "metadata": {
    "collapsed": false,
    "pycharm": {
     "name": "#%%\n"
    }
   }
  }
 ],
 "metadata": {
  "kernelspec": {
   "display_name": "Python 3",
   "language": "python",
   "name": "python3"
  },
  "language_info": {
   "codemirror_mode": {
    "name": "ipython",
    "version": 3
   },
   "file_extension": ".py",
   "mimetype": "text/x-python",
   "name": "python",
   "nbconvert_exporter": "python",
   "pygments_lexer": "ipython3",
   "version": "3.6.4"
  },
  "pycharm": {
   "stem_cell": {
    "cell_type": "raw",
    "source": [],
    "metadata": {
     "collapsed": false
    }
   }
  }
 },
 "nbformat": 4,
 "nbformat_minor": 2
}
{
 "cells": [
  {
   "cell_type": "code",
   "execution_count": 18,
   "metadata": {},
   "outputs": [],
   "source": [
    "import sympy as sp\n",
    "sp.init_printing(use_unicode=False, wrap_line=False, no_global=True)\n",
    "import matplotlib.pyplot as plt\n",
    "from IPython.display import display,Latex\n",
    "import numpy as np"
   ]
  },
  {
   "cell_type": "markdown",
   "metadata": {},
   "source": [
    "# Занятие 16\n",
    "# Алгебра\n",
    "\n",
    "### Задание 1.\n",
    "\n",
    "Написать функцию, составляющую матрицу линейного оператора поворота на x градусов или радиан ПО или Против часовой стрелки на плоскости. Параметры: обязательные - угол поворота, необязательные - тип меры угла (градусы или радианы), направление поворота (ПО или Против часовой стрелки). Значения по умолчанию - против часовой стрелки в радианах.\n",
    "\n",
    "Использовать полученную функцию для выведения на экран координат вектора, полученного поворотом введенного пользователем вектора на заданный пользователем угол."
   ]
  },
  {
   "cell_type": "code",
   "execution_count": 19,
   "metadata": {},
   "outputs": [
    {
     "data": {
      "text/latex": [
       "$\\displaystyle \\left[\\begin{matrix}\\frac{1}{2} + \\frac{\\sqrt{3}}{2}\\\\- \\frac{1}{2} + \\frac{\\sqrt{3}}{2}\\end{matrix}\\right]$"
      ],
      "text/plain": [
       "[       ___ ]\n",
       "[ 1   \\/ 3  ]\n",
       "[ - + ----- ]\n",
       "[ 2     2   ]\n",
       "[           ]\n",
       "[        ___]\n",
       "[  1   \\/ 3 ]\n",
       "[- - + -----]\n",
       "[  2     2  ]"
      ]
     },
     "metadata": {},
     "output_type": "display_data"
    }
   ],
   "source": [
    "def lin_oper(alpha, vector, isGrad = False, direction = False):\n",
    "    if (isGrad): alpha = alpha * sp.pi / 180\n",
    "    if not(direction):\n",
    "        A = sp.Matrix([[sp.cos(alpha), -sp.sin(alpha)], [sp.sin(alpha), sp.cos(alpha)]])\n",
    "        y = A * vector\n",
    "    else:\n",
    "        A = sp.Matrix([[sp.cos(alpha), sp.sin(alpha)], [-sp.sin(alpha), sp.cos(alpha)]])\n",
    "        y = A * vector\n",
    "    display(y)\n",
    "    \n",
    "    \n",
    "angle = 30\n",
    "v = sp.Matrix([1,1])\n",
    "lin_oper(angle, v, isGrad = True, direction = True)"
   ]
  },
  {
   "cell_type": "markdown",
   "metadata": {},
   "source": [
    "### Задание 2.\n",
    "\n",
    "Найти собственные числа и собственные векторы линейного оператора, заданного матрицей \n",
    "$$\n",
    "\\left(\\begin{matrix}\n",
    "-34&20&-5\\\\\n",
    "-40&56&-20\\\\\n",
    "20&-8&50\n",
    "\\end{matrix}\\right)\n",
    "$$\n",
    "Воспользоваться eigenvals и eigenvects, проверить выполнение равенства нулю характеристического многочлена $|A-\\lambda E|$ и условия $Ax=\\lambda x$.\n"
   ]
  },
  {
   "cell_type": "code",
   "execution_count": 20,
   "metadata": {},
   "outputs": [
    {
     "data": {
      "text/latex": [
       "$\\displaystyle \\left[ \\left( -24, \\  1, \\  \\left[ \\left[\\begin{matrix}- \\frac{9}{2}\\\\-2\\\\1\\end{matrix}\\right]\\right]\\right), \\  \\left( 40, \\  1, \\  \\left[ \\left[\\begin{matrix}\\frac{5}{6}\\\\\\frac{10}{3}\\\\1\\end{matrix}\\right]\\right]\\right), \\  \\left( 56, \\  1, \\  \\left[ \\left[\\begin{matrix}- \\frac{1}{2}\\\\-2\\\\1\\end{matrix}\\right]\\right]\\right)\\right]$"
      ],
      "text/plain": [
       "           [-9/2]             [5/6 ]             [-1/2]   \n",
       "           [    ]             [    ]             [    ]   \n",
       "[(-24, 1, [[ -2 ]]), (40, 1, [[10/3]]), (56, 1, [[ -2 ]])]\n",
       "           [    ]             [    ]             [    ]   \n",
       "           [ 1  ]             [ 1  ]             [ 1  ]   "
      ]
     },
     "metadata": {},
     "output_type": "display_data"
    },
    {
     "data": {
      "image/png": "[encoded data removed]",
      "text/latex": [
       "$\\displaystyle \\left\\{ -24 : 1, \\  40 : 1, \\  56 : 1\\right\\}$"
      ],
      "text/plain": [
       "{-24: 1, 40: 1, 56: 1}"
      ]
     },
     "metadata": {},
     "output_type": "display_data"
    },
    {
     "data": {
      "text/latex": [
       "$\\displaystyle \\left[\\begin{matrix}- \\frac{9}{2} & \\frac{5}{6} & - \\frac{1}{2}\\\\-2 & \\frac{10}{3} & -2\\\\1 & 1 & 1\\end{matrix}\\right]$"
      ],
      "text/plain": [
       "[-9/2  5/6   -1/2]\n",
       "[                ]\n",
       "[ -2   10/3   -2 ]\n",
       "[                ]\n",
       "[ 1     1     1  ]"
      ]
     },
     "metadata": {},
     "output_type": "display_data"
    },
    {
     "name": "stdout",
     "output_type": "stream",
     "text": [
      "Проверка\n"
     ]
    },
    {
     "data": {
      "image/png": "[encoded data removed]",
      "text/latex": [
       "$\\displaystyle \\left[ -24, \\  40, \\  56\\right]$"
      ],
      "text/plain": [
       "[-24, 40, 56]"
      ]
     },
     "metadata": {},
     "output_type": "display_data"
    },
    {
     "data": {
      "text/latex": [
       "$\\displaystyle \\left[\\begin{matrix}- \\lambda - 34 & 20 & -5 & 0\\\\-40 & 56 - \\lambda & -20 & 0\\\\20 & -8 & 50 - \\lambda & 0\\end{matrix}\\right]$"
      ],
      "text/plain": [
       "[-lamda - 34      20          -5      0]\n",
       "[                                      ]\n",
       "[    -40      56 - lamda     -20      0]\n",
       "[                                      ]\n",
       "[    20           -8      50 - lamda  0]"
      ]
     },
     "metadata": {},
     "output_type": "display_data"
    },
    {
     "data": {
      "image/png": "[encoded data removed]",
      "text/latex": [
       "$\\displaystyle \\left[ \\left( - \\frac{9 k_{3}}{2}, \\  - 2 k_{3}, \\  k_{3}\\right), \\  \\left( \\frac{5 k_{3}}{6}, \\  \\frac{10 k_{3}}{3}, \\  k_{3}\\right), \\  \\left( - \\frac{k_{3}}{2}, \\  - 2 k_{3}, \\  k_{3}\\right)\\right]$"
      ],
      "text/plain": [
       "  -9*k3                5*k3  10*k3        -k3              \n",
       "[(------, -2*k3, k3), (----, -----, k3), (----, -2*k3, k3)]\n",
       "    2                   6      3           2               "
      ]
     },
     "metadata": {},
     "output_type": "display_data"
    },
    {
     "data": {
      "text/latex": [
       "$\\displaystyle \\left[\\begin{matrix}- \\frac{9}{2} & \\frac{5}{6} & - \\frac{1}{2}\\\\-2 & \\frac{10}{3} & -2\\\\1 & 1 & 1\\end{matrix}\\right]$"
      ],
      "text/plain": [
       "[-9/2  5/6   -1/2]\n",
       "[                ]\n",
       "[ -2   10/3   -2 ]\n",
       "[                ]\n",
       "[ 1     1     1  ]"
      ]
     },
     "metadata": {},
     "output_type": "display_data"
    }
   ],
   "source": [
    "A = sp.Matrix([[-34, 20, -5], [-40, 56, -20], [20, -8, 50]])\n",
    "#Собственные векторы и числа\n",
    "res = A.eigenvects()\n",
    "display(res, A.eigenvals())\n",
    "P = res[0][2][0].row_join(res[1][2][0]).row_join(res[2][2][0])\n",
    "display(P)\n",
    "#Проверка\n",
    "print('Проверка')\n",
    "#Собственные числа\n",
    "lam = sp.symbols('lamda')\n",
    "lambdas = sp.solve((A - lam * sp.eye(3)).det())\n",
    "display(lambdas)\n",
    "#Собственные векторы\n",
    "evects = []\n",
    "zero_vect = sp.Matrix((0, 0, 0))\n",
    "k1, k2, k3, k4 = sp.symbols('k1:5')\n",
    "display((A - lam * sp.eye(3)).row_join(zero_vect))\n",
    "for lam in lambdas:\n",
    "    evects += list(sp.linsolve((A - lam * sp.eye(3)).row_join(zero_vect), k1, k2, k3))\n",
    "display(evects)\n",
    "evects = [p.subs(list(evects[0][2].free_symbols)[0], 1) for p in evects]\n",
    "display(sp.Matrix(evects).transpose())"
   ]
  },
  {
   "cell_type": "markdown",
   "metadata": {},
   "source": [
    "### Задание 3.\n",
    "Построить матрицу оператора из задания 2 в базисе из векторов $(1,1,1)$, $(0,5,3)$ и $(1,6,0)$.\n"
   ]
  },
  {
   "cell_type": "code",
   "execution_count": 21,
   "metadata": {},
   "outputs": [
    {
     "data": {
      "text/latex": [
       "$\\displaystyle \\left[\\begin{matrix}1 & 0 & 1\\\\1 & 5 & 6\\\\1 & 3 & 0\\end{matrix}\\right]$"
      ],
      "text/plain": [
       "[1  0  1]\n",
       "[       ]\n",
       "[1  5  6]\n",
       "[       ]\n",
       "[1  3  0]"
      ]
     },
     "metadata": {},
     "output_type": "display_data"
    },
    {
     "data": {
      "text/latex": [
       "$\\displaystyle \\left[\\begin{matrix}-1 & 71 & 26\\\\21 & 13 & -18\\\\-18 & 14 & 60\\end{matrix}\\right]$"
      ],
      "text/plain": [
       "[-1   71  26 ]\n",
       "[            ]\n",
       "[21   13  -18]\n",
       "[            ]\n",
       "[-18  14  60 ]"
      ]
     },
     "metadata": {},
     "output_type": "display_data"
    }
   ],
   "source": [
    "P = sp.Matrix([[1, 0, 1], [1, 5, 6], [1, 3, 0]])\n",
    "display(P)\n",
    "newA = P**(-1) * A * P\n",
    "display(newA)"
   ]
  },
  {
   "cell_type": "markdown",
   "metadata": {},
   "source": [
    "### Задание 4.\n",
    "\n",
    "Построить матрицу оператора из задания 2 в базисе из собственных векторов с помощью eigenvects и матрицы перехода. Сравнить диагональные элементы с собственными числами."
   ]
  },
  {
   "cell_type": "code",
   "execution_count": 22,
   "metadata": {},
   "outputs": [
    {
     "data": {
      "text/latex": [
       "$\\displaystyle \\left[ \\left( -24, \\  1, \\  \\left[ \\left[\\begin{matrix}- \\frac{9}{2}\\\\-2\\\\1\\end{matrix}\\right]\\right]\\right), \\  \\left( 40, \\  1, \\  \\left[ \\left[\\begin{matrix}\\frac{5}{6}\\\\\\frac{10}{3}\\\\1\\end{matrix}\\right]\\right]\\right), \\  \\left( 56, \\  1, \\  \\left[ \\left[\\begin{matrix}- \\frac{1}{2}\\\\-2\\\\1\\end{matrix}\\right]\\right]\\right)\\right]$"
      ],
      "text/plain": [
       "           [-9/2]             [5/6 ]             [-1/2]   \n",
       "           [    ]             [    ]             [    ]   \n",
       "[(-24, 1, [[ -2 ]]), (40, 1, [[10/3]]), (56, 1, [[ -2 ]])]\n",
       "           [    ]             [    ]             [    ]   \n",
       "           [ 1  ]             [ 1  ]             [ 1  ]   "
      ]
     },
     "metadata": {},
     "output_type": "display_data"
    },
    {
     "data": {
      "text/latex": [
       "$\\displaystyle \\left[\\begin{matrix}- \\frac{9}{2} & \\frac{5}{6} & - \\frac{1}{2}\\\\-2 & \\frac{10}{3} & -2\\\\1 & 1 & 1\\end{matrix}\\right]$"
      ],
      "text/plain": [
       "[-9/2  5/6   -1/2]\n",
       "[                ]\n",
       "[ -2   10/3   -2 ]\n",
       "[                ]\n",
       "[ 1     1     1  ]"
      ]
     },
     "metadata": {},
     "output_type": "display_data"
    },
    {
     "data": {
      "text/latex": [
       "$\\displaystyle \\left[\\begin{matrix}-24 & 0 & 0\\\\0 & 40 & 0\\\\0 & 0 & 56\\end{matrix}\\right]$"
      ],
      "text/plain": [
       "[-24  0   0 ]\n",
       "[           ]\n",
       "[ 0   40  0 ]\n",
       "[           ]\n",
       "[ 0   0   56]"
      ]
     },
     "metadata": {},
     "output_type": "display_data"
    },
    {
     "data": {
      "image/png": "[encoded data removed]",
      "text/latex": [
       "$\\displaystyle \\left\\{ -24 : 1, \\  40 : 1, \\  56 : 1\\right\\}$"
      ],
      "text/plain": [
       "{-24: 1, 40: 1, 56: 1}"
      ]
     },
     "metadata": {},
     "output_type": "display_data"
    }
   ],
   "source": [
    "#Собственные векторы\n",
    "res = A.eigenvects()\n",
    "display(res)\n",
    "#Матрица перехода\n",
    "P = res[0][2][0].row_join(res[1][2][0]).row_join(res[2][2][0])\n",
    "display(P)\n",
    "#Матрица оператора в базисе из собственных векторов\n",
    "newA = P**(-1) * A * P\n",
    "display(newA, A.eigenvals())"
   ]
  },
  {
   "cell_type": "markdown",
   "metadata": {},
   "source": [
    "###  Индивидуальное задание\n",
    "\n",
    "Найти собственные числа и собственные векторы линейного оператора. Построить матрицу оператора в заданном базисе. Построить матрицу оператора в базисе из собственных векторов.\n",
    "\n",
    "### Теория\n",
    "\n",
    "http://math.tusur.ru/metod/pr/met1.pdf\n",
    "\n",
    "http://mathhelpplanet.com/static.php?p=linyeinye-i-kvadratichnye-formy\n",
    "\n",
    "http://wwwcdl.bmstu.ru/fn1/LinAlg.pdf\n"
   ]
  },
  {
   "cell_type": "code",
   "execution_count": 23,
   "metadata": {},
   "outputs": [
    {
     "data": {
      "text/latex": [
       "$\\displaystyle \\left[ \\left( 72, \\  1, \\  \\left[ \\left[\\begin{matrix}\\frac{7}{11}\\\\\\frac{5}{11}\\\\1\\end{matrix}\\right]\\right]\\right), \\  \\left( 144, \\  1, \\  \\left[ \\left[\\begin{matrix}-1\\\\-2\\\\1\\end{matrix}\\right]\\right]\\right), \\  \\left( 180, \\  1, \\  \\left[ \\left[\\begin{matrix}17\\\\7\\\\1\\end{matrix}\\right]\\right]\\right)\\right]$"
      ],
      "text/plain": [
       "          [7/11]              [-1]              [17]   \n",
       "          [    ]              [  ]              [  ]   \n",
       "[(72, 1, [[5/11]]), (144, 1, [[-2]]), (180, 1, [[7 ]])]\n",
       "          [    ]              [  ]              [  ]   \n",
       "          [ 1  ]              [1 ]              [1 ]   "
      ]
     },
     "metadata": {},
     "output_type": "display_data"
    },
    {
     "data": {
      "image/png": "[encoded data removed]",
      "text/latex": [
       "$\\displaystyle \\left\\{ 72 : 1, \\  144 : 1, \\  180 : 1\\right\\}$"
      ],
      "text/plain": [
       "{72: 1, 144: 1, 180: 1}"
      ]
     },
     "metadata": {},
     "output_type": "display_data"
    },
    {
     "data": {
      "text/latex": [
       "$\\displaystyle \\left[\\begin{matrix}\\frac{7}{11} & -1 & 17\\\\\\frac{5}{11} & -2 & 7\\\\1 & 1 & 1\\end{matrix}\\right]$"
      ],
      "text/plain": [
       "[7/11  -1  17]\n",
       "[            ]\n",
       "[5/11  -2  7 ]\n",
       "[            ]\n",
       "[ 1    1   1 ]"
      ]
     },
     "metadata": {},
     "output_type": "display_data"
    },
    {
     "data": {
      "text/latex": [
       "$\\displaystyle \\left[\\begin{matrix}\\frac{72}{17} & - \\frac{1888}{17} & - \\frac{1128}{17}\\\\\\frac{1215}{17} & \\frac{3840}{17} & \\frac{855}{17}\\\\\\frac{1044}{17} & \\frac{640}{17} & \\frac{2820}{17}\\end{matrix}\\right]$"
      ],
      "text/plain": [
       "[ 72   -1888   -1128 ]\n",
       "[ --   ------  ------]\n",
       "[ 17     17      17  ]\n",
       "[                    ]\n",
       "[1215   3840    855  ]\n",
       "[----   ----    ---  ]\n",
       "[ 17     17      17  ]\n",
       "[                    ]\n",
       "[1044   640     2820 ]\n",
       "[----   ---     ---- ]\n",
       "[ 17     17      17  ]"
      ]
     },
     "metadata": {},
     "output_type": "display_data"
    },
    {
     "data": {
      "text/latex": [
       "$\\displaystyle \\left[\\begin{matrix}72 & 0 & 0\\\\0 & 144 & 0\\\\0 & 0 & 180\\end{matrix}\\right]$"
      ],
      "text/plain": [
       "[72   0    0 ]\n",
       "[            ]\n",
       "[0   144   0 ]\n",
       "[            ]\n",
       "[0    0   180]"
      ]
     },
     "metadata": {},
     "output_type": "display_data"
    }
   ],
   "source": [
    "A = sp.Matrix([[209, -62, -59], [31, 110, -37], [25, -46, 77]])\n",
    "\n",
    "#Собственные векторы и числа\n",
    "res = A.eigenvects()\n",
    "values = A.eigenvals()\n",
    "display(res, A.eigenvals())\n",
    "P = res[0][2][0].row_join(res[1][2][0]).row_join(res[2][2][0])\n",
    "display(P)\n",
    "P2 = sp.Matrix([[2, -1, 0], [3, 1, 2], [5, 3, 1]])\n",
    "newA2 = P2**(-1) * A * P2\n",
    "display(newA2)\n",
    "newA = P**(-1) * A * P\n",
    "display(newA)"
   ]
  }
 ],
 "metadata": {
  "kernelspec": {
   "display_name": "Python 3",
   "language": "python",
   "name": "python3"
  },
  "language_info": {
   "codemirror_mode": {
    "name": "ipython",
    "version": 3
   },
   "file_extension": ".py",
   "mimetype": "text/x-python",
   "name": "python",
   "nbconvert_exporter": "python",
   "pygments_lexer": "ipython3",
   "version": "3.7.4"
  }
 },
 "nbformat": 4,
 "nbformat_minor": 4
}

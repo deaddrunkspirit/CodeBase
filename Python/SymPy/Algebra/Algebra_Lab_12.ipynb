{
 "cells": [
  {
   "cell_type": "code",
   "execution_count": 7,
   "metadata": {},
   "outputs": [],
   "source": [
    "import matplotlib.pyplot as plt\n",
    "from sympy import Ellipse, Point, S,pi,plot_implicit,Eq,tan\n",
    "import sympy as sp\n",
    "import numpy as np\n",
    "sp.init_printing(use_unicode=False, wrap_line=False, no_global=True)\n",
    "import matplotlib.pyplot as plt\n",
    "from IPython.display import display, Latex \n",
    "from sympy import Expr, S, pi, plot_implicit, Eq, tan, latex, sympify\n",
    "from sympy.core.evaluate import global_evaluate\n",
    "from sympy.core.logic import fuzzy_bool\n",
    "from sympy.core.numbers import Rational, oo\n",
    "from sympy.core.compatibility import ordered\n",
    "from sympy.core.symbol import Dummy, _uniquely_named_symbol, _symbol\n",
    "from sympy.simplify import simplify, trigsimp\n",
    "from sympy.functions.elementary.miscellaneous import sqrt, Max\n",
    "from sympy.functions.elementary.trigonometric import cos, sin\n",
    "from sympy.geometry.exceptions import GeometryError\n",
    "from sympy.geometry.line import Ray2D, Segment2D, Line2D, LinearEntity3D\n",
    "from sympy.solvers import solve\n",
    "\n",
    "from sympy.geometry.entity import GeometryEntity, GeometrySet\n",
    "from sympy.geometry.point import Point, Point2D, Point3D\n",
    "from sympy.geometry.line import Line, Segment\n",
    "from sympy.geometry.util import idiff"
   ]
  },
  {
   "cell_type": "code",
   "execution_count": 8,
   "metadata": {},
   "outputs": [],
   "source": [
    "class Hyperbola(GeometrySet):\n",
    "    \"\"\"\n",
    "     Attributes\n",
    "    ==========\n",
    "    center\n",
    "    hradius\n",
    "    vradius\n",
    "    eccentricity\n",
    "    periapsis\n",
    "    focus_distance\n",
    "    foci\n",
    "    ==========\n",
    "    конструктор __new__\n",
    "    скопирован из Эллипса,\n",
    "    изменена формула для  hradius и vradius через эсцентриситет\n",
    "    \"\"\"\n",
    "    def __new__(\n",
    "        cls, center = None, hradius = None, vradius = None, eccentricity = None, **kwargs):\n",
    "        hradius = sympify(hradius)\n",
    "        vradius = sympify(vradius)\n",
    "        eccentricity = sympify(eccentricity)\n",
    "        if center is None:\n",
    "            center = Point(0, 0)\n",
    "        else:\n",
    "            center = Point(center, dim=2)\n",
    "        if len(center) != 2:\n",
    "            raise ValueError('The center of \"{0}\" must be a two dimensional point'.format(cls))\n",
    "        if len(list(filter(lambda x: x is not None, (hradius, vradius, eccentricity)))) != 2:\n",
    "            raise ValueError(filldedent('''\n",
    "                Exactly two arguments of \"hradius\", \"vradius\", and\n",
    "                \"eccentricity\" must not be None.'''))\n",
    "        if eccentricity is not None:\n",
    "            if hradius is None:\n",
    "                hradius = vradius / sqrt( eccentricity**2-1)\n",
    "            elif vradius is None:\n",
    "                vradius = hradius * sqrt( eccentricity**2-1)\n",
    "        if hradius == 0:\n",
    "            return \"Line\"\n",
    "        if vradius == 0:\n",
    "            return \"Rays\"\n",
    "        return GeometryEntity.__new__(cls, center, hradius, vradius, **kwargs)\n",
    "    \n",
    "    \n",
    "    @property\n",
    "    def ambient_dimension(self):\n",
    "        return 2\n",
    "    \n",
    "    \n",
    "    @property\n",
    "    def center(self):\n",
    "        return self.args[0]\n",
    "\n",
    "    \n",
    "    @property\n",
    "    def hradius(self):\n",
    "        return self.args[1]\n",
    "    \n",
    "    \n",
    "    @property\n",
    "    def vradius(self):\n",
    "        return self.args[2]\n",
    "    \n",
    "    \n",
    "    @property\n",
    "    def focus_distance(self):\n",
    "        return sqrt(self.hradius**2+ self.vradius**2)\n",
    "    \n",
    "    \n",
    "    @property\n",
    "    def eccentricity(self):\n",
    "        \"\"\"The eccentricity of the ellipse.\"\"\"\n",
    "        return self.focus_distance / self.hradius\n",
    "    \n",
    "    \n",
    "    @property\n",
    "    def periapsis(self):\n",
    "        \"\"\"The apoapsis of the hyperbola.\n",
    "        The smallest distance between the focus and the contour.\"\"\"\n",
    "        return self.focus_distance-self.hradius\n",
    "    \n",
    "    \n",
    "    @property\n",
    "    def foci(self):\n",
    "        return (self.center + Point(0, -self.focus_distance), self.center + Point(0, self.focus_distance))\n",
    "    \n",
    "    \n",
    "    @property\n",
    "    def major(self):\n",
    "        return self.hradius\n",
    "    \n",
    "    \n",
    "    @property\n",
    "    def minor(self):\n",
    "        return self.vradius\n",
    "    \n",
    "\n",
    "    def equation(self, x='x', y='y', _slope=None,equation=False):\n",
    "        \"\"\"\n",
    "        Returns the equation of a hyperbola aligned with the x and y axes;\n",
    "        when slope is given, the equation returned corresponds to a hyperbola \n",
    "        with a major axis having that slope.\n",
    "        Parameters\n",
    "        ==========\n",
    "        x : str, optional\n",
    "            Label for the x-axis. Default value is 'x'.\n",
    "        y : str, optional\n",
    "            Label for the y-axis. Default value is 'y'.\n",
    "        _slope : Expr, optional\n",
    "                The slope of the major axis. Ignored when 'None'.\n",
    "        Returns\n",
    "        =======\n",
    "        equation : sympy expression   \"\"\"\n",
    "\n",
    "        x = _symbol(x, real = True)\n",
    "        y = _symbol(y, real = True)\n",
    "        dx = x - self.center.x\n",
    "        dy = y - self.center.y\n",
    "        if _slope is not None:\n",
    "            L = (dy - _slope * dx)**2\n",
    "            l = (_slope * dy + dx)**2\n",
    "            h = 1 + _slope**2\n",
    "            a = h * self.major**2\n",
    "            b = h * self.minor**2\n",
    "            res = l / a - L / b \n",
    "        else:\n",
    "            t1 = (dx / self.hradius)**2\n",
    "            t2 = (dy / self.vradius)**2\n",
    "            res = t1 - t2 \n",
    "        if equation == False:\n",
    "            return res - 1\n",
    "        else:\n",
    "            return Eq(res, 1)        "
   ]
  },
  {
   "cell_type": "markdown",
   "metadata": {},
   "source": [
    "# Занятие 15\n",
    "# Алгебра\n",
    "\n",
    "### Задание 1.\n",
    "\n",
    "Изобразить на графике гиперболу с центром в точке А(1,2), полуосями 3 и 2. Вычислить эксцентриситет, фокусное расстояние. На графике отметить и подписать: \n",
    "\n",
    "center\n",
    "\n",
    "hradius\n",
    "\n",
    "vradius\n",
    "\n",
    "periapsis\n",
    "\n",
    "apoapsis\n",
    "\n",
    "focus_distance\n",
    "\n",
    "foci\n",
    "\n",
    "В легенду включить гиперболу с ее уравнением, асимптоты и директрисы"
   ]
  },
  {
   "cell_type": "code",
   "execution_count": 9,
   "metadata": {},
   "outputs": [
    {
     "data": {
      "image/png": "[encoded data removed]",
      "text/latex": [
       "$\\displaystyle \\left( \\frac{\\sqrt{13}}{3}, \\  \\sqrt{13}\\right)$"
      ],
      "text/plain": [
       "   ____         \n",
       " \\/ 13     ____ \n",
       "(------, \\/ 13 )\n",
       "   3            "
      ]
     },
     "execution_count": 9,
     "metadata": {},
     "output_type": "execute_result"
    }
   ],
   "source": [
    "Hyp = Hyperbola(sp.Point(1, 2), hradius = 3, vradius = 2)\n",
    "Hyp.eccentricity, Hyp.focus_distance"
   ]
  },
  {
   "cell_type": "code",
   "execution_count": 10,
   "metadata": {},
   "outputs": [
    {
     "data": {
      "image/png": "[encoded data removed]",
      "text/latex": [
       "$\\displaystyle \\left(\\frac{x}{3} - \\frac{1}{3}\\right)^{2} - \\left(\\frac{y}{2} - 1\\right)^{2} - 1$"
      ],
      "text/plain": [
       "       2          2    \n",
       "/x   1\\    /y    \\     \n",
       "|- - -|  - |- - 1|  - 1\n",
       "\\3   3/    \\2    /     "
      ]
     },
     "execution_count": 10,
     "metadata": {},
     "output_type": "execute_result"
    }
   ],
   "source": [
    "x, y = sp.symbols('x y')\n",
    "eq = Hyp.equation()\n",
    "eq"
   ]
  },
  {
   "cell_type": "code",
   "execution_count": 11,
   "metadata": {},
   "outputs": [
    {
     "data": {
      "image/png": "[encoded data removed]",
      "text/latex": [
       "$\\displaystyle \\left[ 2 - \\frac{2 \\sqrt{\\left(x - 4\\right) \\left(x + 2\\right)}}{3}, \\  \\frac{2 \\sqrt{\\left(x - 4\\right) \\left(x + 2\\right)}}{3} + 2\\right]$"
      ],
      "text/plain": [
       "         _________________      _________________     \n",
       "     2*\\/ (x - 4)*(x + 2)   2*\\/ (x - 4)*(x + 2)      \n",
       "[2 - ---------------------, --------------------- + 2]\n",
       "               3                      3               "
      ]
     },
     "execution_count": 11,
     "metadata": {},
     "output_type": "execute_result"
    }
   ],
   "source": [
    "sp.solve((x / 3 - sp.S(1) / 3)**2 - (y / 2 - 1)**2 - 1, y, domain = sp.S.Reals)"
   ]
  },
  {
   "cell_type": "code",
   "execution_count": 16,
   "metadata": {},
   "outputs": [
    {
     "data": {
      "text/plain": [
       "<matplotlib.legend.Legend at 0x205319becc8>"
      ]
     },
     "execution_count": 16,
     "metadata": {},
     "output_type": "execute_result"
    },
    {
     "data": {
      "image/png": "[encoded data removed]",
      "text/plain": [
       "<Figure size 504x504 with 1 Axes>"
      ]
     },
     "metadata": {
      "needs_background": "light"
     },
     "output_type": "display_data"
    }
   ],
   "source": [
    "a = 3; \n",
    "b = 2;\n",
    "c = (a**2 + b**2)**sp.S(1) / 2\n",
    "plt.figure(figsize = (7, 7))\n",
    "X1 = np.linspace(-5, -2, 100)\n",
    "plt.plot(X1, 2 - 2 * np.sqrt((X1 - 4) * (X1 + 2)) / 3, 'k')\n",
    "plt.plot(X1, 2 + 2 * np.sqrt((X1 - 4) * (X1 + 2)) / 3, 'k')\n",
    "X2 = np.linspace(4, 6, 100)\n",
    "plt.plot(X2, 2 - 2 * np.sqrt((X2 - 4) * (X2 + 2)) / 3, 'k')\n",
    "plt.plot(X2, 2 + 2 * np.sqrt((X2 - 4) * (X2 + 2)) / 3, 'k')\n",
    "plt.scatter(Hyp.center.x, Hyp.center.y)\n",
    "plt.annotate(\"center\", xy = (Hyp.center.x, Hyp.center.y), xytext = (2, 1), arrowprops = dict(arrowstyle = \"->\", connectionstyle = \"arc3\"))\n",
    "plt.plot([Hyp.center.x, Hyp.center.x + Hyp.hradius], [Hyp.center.y, Hyp.center.y], 'c--', lw = 3)\n",
    "plt.annotate(\"hradius\", xy = (Hyp.center.x + Hyp.hradius / 2, Hyp.center.y), xytext = (Hyp.center.x + Hyp.hradius / 2 - 0.3, Hyp.center.y + 0.2), color = \"c\")\n",
    "plt.plot([Hyp.center.x, Hyp.center.x], [Hyp.center.y, Hyp.center.y + Hyp.vradius], 'm--', lw = 3)\n",
    "plt.annotate(\"vradius\", xy = (Hyp.center.x, 3), xytext = (Hyp.center.x + 0.3, 3), color = \"m\")\n",
    "# периапсис - наименьшее расстояние от фокуса до графика, апоапсис - наибольшее расстояние\n",
    "plt.scatter(1 - c, 2, color = 'red')\n",
    "plt.annotate(\"Focus 1\", xy = (1 - c, 2), xytext = (1 - c + 0.1, 2 + 0.2), color = \"red\")\n",
    "plt.scatter(1 + c, 2, color = 'red')\n",
    "plt.annotate(\"Focus 2\", xy = (1 + c, 2), xytext = (1 + c + 0.1, 2 + 0.2), color = \"red\")\n",
    "plt.plot([1 - c, 1 + c], [2, 2], 'y-.', lw = 2)\n",
    "plt.annotate(\"focus distance\", xy = (1 - c, 2), xytext = (-1, 5), arrowprops = dict(arrowstyle = \"->\", connectionstyle = \"arc3\"))\n",
    "plt.annotate(\"focus distance\", xy = (1 + c, 2), xytext = (-1, 5), color = \"yellow\", arrowprops = dict(arrowstyle = \"->\", connectionstyle = \"arc3\"))\n",
    "plt.plot([1 - c, Hyp.center.x - a], [2, 2], 'r:')\n",
    "plt.annotate(\"periapsis\", xy = (-4, 2), xytext = (-4.5, 2 - 0.3))\n",
    "plt.plot([1 + c, Hyp.center.x - a], [2, 2], 'k:')\n",
    "plt.annotate(\"apopapsis\", xy = (-2, 2), xytext = (3, -1), arrowprops = dict(arrowstyle = \"->\", connectionstyle = \"arc3\"))\n",
    "plt.annotate(\"apopapsis\", xy = (1 + c, 2), xytext = (3, -1), arrowprops = dict(arrowstyle = \"->\", connectionstyle = \"arc3\"))\n",
    "# ассимптоты -[x / a +- y / b = 0 => y = +- b(x - 1) / a + 2]\n",
    "X = np.linspace(-5, 6, 100)\n",
    "plt.plot(X, b * (X - 1) / a + 2, color = \"orange\", linestyle = \"--\", label = \"ассимптота y = \" + r'$' +sp.latex(b * (x - 1) / a + 2) + r'$' )\n",
    "plt.plot(X, -b * (X - 1) / a + 2, color = \"lime\", linestyle = \"--\", label = \"aссимптота y = \" + r'$' + sp.latex(-b * (x - 1) / a + 2) + r'$')\n",
    "# директрисы x = eps * periapsis\n",
    "x1 = Hyp.periapsis * Hyp.eccentricity + Hyp.center.x - Hyp.hradius\n",
    "plt.plot([x1, x1], [-2, 6], 'g--', label = \"диреткриса x = \" + r'$' + sp.latex(sp.simplify(x1)) + r'$')\n",
    "x2 = - Hyp.periapsis * Hyp.eccentricity + Hyp.center.x + Hyp.hradius\n",
    "plt.plot([x2, x2], [-2, 6], color = \"olive\", linestyle = \"--\", label = \"директриса x = \" + r'$' + sp.latex(sp.simplify(x2))+ r'$')\n",
    "plt.legend(loc = \"lower left\")"
   ]
  },
  {
   "cell_type": "markdown",
   "metadata": {},
   "source": [
    "### Задание 2.\n",
    "\n",
    "Повернуть гиперболу из задания 1 на 30 градусов против часовой стрелки относительно ее центра.\n",
    "\n",
    "Вывести на экран уравнение полученной гиперболы в переменных u и v.\n",
    "\n",
    "Подставить в уравнение вместо u число 5, решить полученое уравнение и вывести на экран полученные точки. "
   ]
  },
  {
   "cell_type": "code",
   "execution_count": 18,
   "metadata": {},
   "outputs": [
    {
     "data": {
      "image/png": "[encoded data removed]",
      "text/latex": [
       "$\\displaystyle \\frac{\\left(x + \\frac{\\sqrt{3} \\left(y - 2\\right)}{3} - 1\\right)^{2}}{12} - \\frac{3 \\left(y - \\frac{\\sqrt{3} \\left(x - 1\\right)}{3} - 2\\right)^{2}}{16} - 1$"
      ],
      "text/plain": [
       "                       2                            2    \n",
       "/      ___            \\      /      ___            \\     \n",
       "|    \\/ 3 *(y - 2)    |      |    \\/ 3 *(x - 1)    |     \n",
       "|x + ------------- - 1|    3*|y - ------------- - 2|     \n",
       "\\          3          /      \\          3          /     \n",
       "------------------------ - -------------------------- - 1\n",
       "           12                          16                "
      ]
     },
     "execution_count": 18,
     "metadata": {},
     "output_type": "execute_result"
    }
   ],
   "source": [
    "Hyp_rotated = Hyp.equation(_slope = sp.tan(sp.pi / 6))\n",
    "Hyp_rotated"
   ]
  },
  {
   "cell_type": "code",
   "execution_count": 19,
   "metadata": {},
   "outputs": [
    {
     "data": {
      "image/png": "[encoded data removed]",
      "text/latex": [
       "$\\displaystyle \\frac{\\left(x + \\frac{\\sqrt{3} \\left(y - 2\\right)}{3} - 1\\right)^{2}}{12} - \\frac{3 \\left(y - \\frac{\\sqrt{3} \\left(x - 1\\right)}{3} - 2\\right)^{2}}{16} - 1$"
      ],
      "text/plain": [
       "                       2                            2    \n",
       "/      ___            \\      /      ___            \\     \n",
       "|    \\/ 3 *(y - 2)    |      |    \\/ 3 *(x - 1)    |     \n",
       "|x + ------------- - 1|    3*|y - ------------- - 2|     \n",
       "\\          3          /      \\          3          /     \n",
       "------------------------ - -------------------------- - 1\n",
       "           12                          16                "
      ]
     },
     "execution_count": 19,
     "metadata": {},
     "output_type": "execute_result"
    }
   ],
   "source": [
    "u, v = sp.symbols('u v')\n",
    "Hyp_rotated = Hyp_rotated.subs(x, u).subs(y, v)\n",
    "Hyp_rotated"
   ]
  },
  {
   "cell_type": "code",
   "execution_count": 20,
   "metadata": {},
   "outputs": [
    {
     "data": {
      "image/png": "[encoded data removed]",
      "text/latex": [
       "$\\displaystyle \\frac{\\left(x + \\frac{\\sqrt{3} \\left(y - 2\\right)}{3} - 1\\right)^{2}}{12} - \\frac{3 \\left(y - \\frac{\\sqrt{3} \\left(x - 1\\right)}{3} - 2\\right)^{2}}{16} - 1$"
      ],
      "text/plain": [
       "                       2                            2    \n",
       "/      ___            \\      /      ___            \\     \n",
       "|    \\/ 3 *(y - 2)    |      |    \\/ 3 *(x - 1)    |     \n",
       "|x + ------------- - 1|    3*|y - ------------- - 2|     \n",
       "\\          3          /      \\          3          /     \n",
       "------------------------ - -------------------------- - 1\n",
       "           12                          16                "
      ]
     },
     "execution_count": 20,
     "metadata": {},
     "output_type": "execute_result"
    }
   ],
   "source": [
    "Hyp_rotated = Hyp_rotated.subs(u, 5)\n",
    "Hyp_rotated"
   ]
  },
  {
   "cell_type": "code",
   "execution_count": 21,
   "metadata": {},
   "outputs": [
    {
     "data": {
      "image/png": "[encoded data removed]",
      "text/latex": [
       "$\\displaystyle \\left[ \\right]$"
      ],
      "text/plain": [
       "[]"
      ]
     },
     "execution_count": 21,
     "metadata": {},
     "output_type": "execute_result"
    }
   ],
   "source": [
    "sp.solve(Hyp_rotated, v, domain = sp.S.Reals)"
   ]
  },
  {
   "cell_type": "markdown",
   "metadata": {},
   "source": [
    "###  Индивидуальное задание\n",
    "\n",
    "По образцу из файла с примерами построить класс Parabola\n",
    "\n",
    "По умолчанию вершина параболы находится в начале координат, ось симметрии - OY, наклон 0.\n",
    "\n",
    "Обязательный аргумент конструктора параболы - параметр $p$ из канонического уравнения параболы $y^2=2px$.\n",
    "\n",
    "Необязательные аргументы конструктора - вершина параболы (точка), ось симметрии (OX или OY)\n",
    "\n",
    "#### Реализовать атрибуты:\n",
    "\n",
    "вершина\n",
    "\n",
    "ось симметрии\n",
    "\n",
    "фокус\n",
    "\n",
    "директриса\n",
    "\n",
    "#### Реализовать методы:\n",
    "\n",
    "уравнение (необязательный аргумент - наклон)\n",
    "\n",
    "draw - рисование параболы, предусмотреть необязательные параметры, по умолчанию равные False, соответствующие вершине, \n",
    "оси симметрии, фокусу и директрисе параболы. Если какой-то из этих параметров True, то на графике изображать соответствующую точку или линию. Предусмотреть необязательный аргумент annotate=False, если он  True, то подписывать все изображенные точки или линии.\n"
   ]
  },
  {
   "cell_type": "code",
   "execution_count": 23,
   "metadata": {},
   "outputs": [],
   "source": [
    "class Parabola(GeometrySet):\n",
    "    \"\"\"\n",
    "     Attributes\n",
    "    ==========\n",
    "    vertice\n",
    "    symmetry_axis\n",
    "    focus\n",
    "    directrix\n",
    "    ==========\n",
    "    конструктор __new__\n",
    "    \"\"\"\n",
    "    def __new__(\n",
    "        cls, coef = None, vertice = None, symmetry_axis = None, **kwargs):\n",
    "        if coef is None:\n",
    "            raise ValueError(filldedent(\"Coefficient is a required parameter!\"))\n",
    "        else:\n",
    "            coef = coef                 \n",
    "        if vertice is None:\n",
    "            vertice = sp.Point(0, 0)\n",
    "        else:\n",
    "            vertice = sp.Point(vertice, dim = 2)\n",
    "        if len(vertice) != 2:\n",
    "            raise ValueError('The center of \"{0}\" must be a two dimensional point'.format(cls))\n",
    "        if symmetry_axis is None:\n",
    "            symmetry_axis = sp.Line(sp.Point(0,0), sp.Point(0,1))\n",
    "        else:\n",
    "            symmetry_axis = sp.Line(symmetry_axis, dim = 2)\n",
    "        return GeometryEntity.__new__(cls, coef, vertice, symmetry_axis, **kwargs)\n",
    "                             \n",
    "    \n",
    "    @property\n",
    "    def ambient_dimension(self):\n",
    "        return 2\n",
    "                             \n",
    "    \n",
    "    @property\n",
    "    def coef(self):\n",
    "        return self.args[0]\n",
    "                             \n",
    "    \n",
    "    @property\n",
    "    def vertice(self):\n",
    "        return self.args[1]\n",
    "\n",
    "    \n",
    "    @property\n",
    "    def symmetry_axis(self):\n",
    "        return self.args[2]\n",
    "    \n",
    "    \n",
    "    @property\n",
    "    def focus(self):\n",
    "        alp = self.symmetry_axis.angle_between(sp.Line(sp.Point(0,0), sp.Point(1,0)))        \n",
    "        return sp.Point(self.vertice.x + sp.cos(alp)*self.coef/2, self.vertice.y + sp.sin(alp)*self.coef/2)\n",
    "    \n",
    "    \n",
    "    @property\n",
    "    def directrix(self):\n",
    "        alp = self.symmetry_axis.angle_between(sp.Line(sp.Point(0,0), sp.Point(1,0)))\n",
    "        return self.symmetry_axis.perpendicular_line(sp.Point(self.vertice.x + sp.cos(alp)*self.coef/2, self.vertice.y + sp.sin(alp)*self.coef/2))\n",
    "    \n",
    "    \n",
    "    def equation(self, x = 'x', y = 'y', _slope = None, equation = False):\n",
    "        x = _symbol(x, real = True)\n",
    "        y = _symbol(y, real = True)   \n",
    "        if equation == False:\n",
    "            if self.symmetry_axis == sp.Line(sp.Point(0, 0), sp.Point(1, 0)):               \n",
    "                if _slope is not None:\n",
    "                    res = (y - float(_slope) * x)**2 - 2 * self.coef * x\n",
    "                else:\n",
    "                    res = y**2 - 2 * self.coef * x\n",
    "            else:\n",
    "                if _slope is not None:\n",
    "                    res = (x - float(_slope) * y)**2 - 2 * self.coef * y\n",
    "                else:\n",
    "                    res = x**2 - 2 * self.coef * y\n",
    "            return res\n",
    "        else:\n",
    "            if self.symmetry_axis == sp.Line(sp.Point(0, 0), sp.Point(1, 0)):               \n",
    "                if _slope is not None:\n",
    "                    return sp.Eq((y - float(_slope) * x)**2, 2 * self.coef * x)\n",
    "                else:\n",
    "                    return sp.Eq(y**2, 2 * self.coef * x)\n",
    "            else:\n",
    "                if _slope is not None:\n",
    "                    return sp.Eq((x - float(_slope) * y)**2, 2 * self.coef * y)\n",
    "                else:\n",
    "                    return sp.Eq(x**2, 2 * self.coef * y)\n",
    "        \n",
    "        \n",
    "    def draw(self, vertice = False, symmetry_axis = False, focus = False, directrix = False, annotate = False):\n",
    "        if self.symmetry_axis == sp.Line(sp.Point(0, 0), sp.Point(1, 0)):\n",
    "            Y1 = [self.vertice.y + i / 100 for i in range(400)]\n",
    "            Y2 = [self.vertice.y - i / 100 for i in range(400)]\n",
    "            X1 = [y**2 / (2 * self.coef) for y in Y1]\n",
    "            X2 = [y**2 / (2 * self.coef) for y in Y2]\n",
    "            plt.plot(X1, Y1, 'k-')\n",
    "            plt.plot(X2, Y2, 'k-')\n",
    "            if symmetry_axis == True:\n",
    "                X = [self.vertice.x - 2 + i / 100 for i in range(1000)]\n",
    "                Y = [0 for i in range(1000)]\n",
    "                plt.plot(X, Y, 'c:', lw = 2)\n",
    "            if directrix == True:\n",
    "                Y = [self.vertice.y - 5 + i / 100 for i in range(1000)]\n",
    "                X = [self.vertice.x - self.coef / 2 for i in range(1000)]\n",
    "                plt.plot(X, Y, 'm--', lw = 2)\n",
    "            if annotate == True:\n",
    "                plt.annotate(\"vertice\", xy = (self.vertice.x, self.vertice.y), xytext = (self.vertice.x + 0.1, self.vertice.y + 0.1))\n",
    "                plt.annotate(\"focus\", xy = (self.focus.x, self.focus.y), xytext = (self.focus.x + 0.1, self.focus.y + 0.1))\n",
    "                plt.annotate(\"symmetry axis\", xy = (self.symmetry_axis.p1.x, self.symmetry_axis.p1.y), xytext = (self.symmetry_axis.p1.x + 0.1, self.symmetry_axis.p1.y + 5))\n",
    "                plt.annotate(\"directrix\", xy = (self.directrix.p1.x, self.directrix.p1.y), xytext = (self.directrix.p1.x + 0.1, self.directrix.p1.y - 1.5))\n",
    "        else:\n",
    "            X1 = [self.vertice.x + i / 100 for i in range(400)]\n",
    "            X2 = [self.vertice.x - i / 100 for i in range(400)]\n",
    "            Y1 = [x**2 / (2 * self.coef) for x in X1]\n",
    "            Y2 = [x**2 / (2 * self.coef) for x in X2]\n",
    "            plt.plot(X1, Y1, 'k-')\n",
    "            plt.plot(X2, Y2, 'k-')\n",
    "            if symmetry_axis == True:\n",
    "                Y = [self.vertice.y - 2 + i / 100 for i in range(1000)]\n",
    "                X = [0 for i in range(1000)]\n",
    "                plt.plot(X, Y, 'c:', lw = 2)\n",
    "            if directrix == True:\n",
    "                X = [self.vertice.x - 5 + i / 100 for i in range(1000)]\n",
    "                Y = [self.vertice.y - self.coef / 2 for i in range(1000)]\n",
    "                plt.plot(X, Y, 'm--', lw = 2)\n",
    "            if annotate == True:\n",
    "                plt.annotate(\"vertice\", xy = (self.vertice.x, self.vertice.y), xytext = (self.vertice.x + 0.1, self.vertice.y + 0.1))\n",
    "                plt.annotate(\"focus\", xy = (self.focus.x, self.focus.y), xytext = (self.focus.x + 0.1, self.focus.y + 0.1))\n",
    "                plt.annotate(\"symmetry axis\", xy = (self.symmetry_axis.p1.x, self.symmetry_axis.p1.y), xytext = (self.symmetry_axis.p1.x + 0.1, self.symmetry_axis.p1.y + 5))\n",
    "                plt.annotate(\"directrix\", xy = (self.directrix.p1.x, self.directrix.p1.y), xytext = (self.directrix.p1.x + 0.1, self.directrix.p1.y - 1.5))        \n",
    "        if vertice == True:\n",
    "            plt.scatter(self.vertice.x, self.vertice.y)\n",
    "        if focus == True:\n",
    "            plt.scatter(self.focus.x, self.focus.y)"
   ]
  },
  {
   "cell_type": "code",
   "execution_count": 24,
   "metadata": {},
   "outputs": [
    {
     "data": {
      "image/png": "[encoded data removed]",
      "text/latex": [
       "$\\displaystyle y^{2} = 2 x$"
      ],
      "text/plain": [
       " 2      \n",
       "y  = 2*x"
      ]
     },
     "execution_count": 24,
     "metadata": {},
     "output_type": "execute_result"
    }
   ],
   "source": [
    "p = Parabola(coef = 1, symmetry_axis = sp.Line(sp.Point(0, 0), sp.Point(1, 0)))\n",
    "p.equation(equation = True)"
   ]
  },
  {
   "cell_type": "code",
   "execution_count": 25,
   "metadata": {},
   "outputs": [
    {
     "data": {
      "image/png": "[encoded data removed]",
      "text/plain": [
       "<Figure size 432x288 with 1 Axes>"
      ]
     },
     "metadata": {
      "needs_background": "light"
     },
     "output_type": "display_data"
    }
   ],
   "source": [
    "p.draw(vertice = True, symmetry_axis = True, focus = True, directrix = True)"
   ]
  },
  {
   "cell_type": "code",
   "execution_count": 26,
   "metadata": {},
   "outputs": [
    {
     "data": {
      "image/png": "[encoded data removed]",
      "text/plain": [
       "<Figure size 432x288 with 1 Axes>"
      ]
     },
     "metadata": {
      "needs_background": "light"
     },
     "output_type": "display_data"
    }
   ],
   "source": [
    "p1 = Parabola(coef = 1, symmetry_axis = sp.Line(sp.Point(0,0),sp.Point(0,1)))\n",
    "p1.draw(vertice = True, symmetry_axis = True, focus = True, directrix = True, annotate = True)"
   ]
  },
  {
   "cell_type": "code",
   "execution_count": null,
   "metadata": {},
   "outputs": [],
   "source": []
  }
 ],
 "metadata": {
  "kernelspec": {
   "display_name": "Python 3",
   "language": "python",
   "name": "python3"
  },
  "language_info": {
   "codemirror_mode": {
    "name": "ipython",
    "version": 3
   },
   "file_extension": ".py",
   "mimetype": "text/x-python",
   "name": "python",
   "nbconvert_exporter": "python",
   "pygments_lexer": "ipython3",
   "version": "3.7.4"
  }
 },
 "nbformat": 4,
 "nbformat_minor": 4
}

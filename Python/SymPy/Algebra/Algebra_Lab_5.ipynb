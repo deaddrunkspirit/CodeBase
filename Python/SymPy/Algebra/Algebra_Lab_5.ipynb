{
 "cells": [
  {
   "cell_type": "markdown",
   "metadata": {},
   "source": [
    "# Занятие 6\n",
    "# Алгебра\n",
    "\n",
    "##  Прямые и плоскости в пространстве. Geometry.\n",
    "### Задание 1.\n",
    "Найти угол между плоскостями ABC и  ABD, где \n",
    "A(-1,2,-4)\n",
    "B(2,-2,1)\n",
    "C(5,3,-6)\n",
    "D(0,3,-6)"
   ]
  },
  {
   "cell_type": "code",
   "execution_count": 9,
   "metadata": {},
   "outputs": [
    {
     "data": {
      "text/latex": [
       "$\\displaystyle \\operatorname{acos}{\\left(\\frac{99 \\sqrt{40454}}{20227} \\right)}$"
      ],
      "text/plain": [
       "acos(99*sqrt(40454)/20227)"
      ]
     },
     "execution_count": 9,
     "metadata": {},
     "output_type": "execute_result"
    }
   ],
   "source": [
    "from sympy import*\n",
    "A = Point(-1, 2, -4)\n",
    "B = Point(2, -2, 1)\n",
    "C = Point(5, 3, -6)\n",
    "D = Point(0, 3, -6)\n",
    "ABC = Plane(A, B, C)\n",
    "ABD = Plane(A, B, D)\n",
    "ABC.angle_between(ABD)"
   ]
  },
  {
   "cell_type": "markdown",
   "metadata": {},
   "source": [
    "### Задание 2.\n",
    "Найти угол между прямой, проходящей через точки $A(-3,5,1)$ и $B(5,2,-3)$ и плоскостью, в которой лежат точки \n",
    "$K(4,3,0)$, $M(2,4,-2)$ и $N(-2,2,-1)$."
   ]
  },
  {
   "cell_type": "code",
   "execution_count": 13,
   "metadata": {},
   "outputs": [
    {
     "data": {
      "text/latex": [
       "$\\displaystyle - \\operatorname{asin}{\\left(\\frac{86 \\sqrt{15397}}{15397} \\right)}$"
      ],
      "text/plain": [
       "-asin(86*sqrt(15397)/15397)"
      ]
     },
     "execution_count": 13,
     "metadata": {},
     "output_type": "execute_result"
    }
   ],
   "source": [
    "A = Point(-3, 5, 1)\n",
    "B = Point(5, 2, -3)\n",
    "K = Point(4, 3, 0)\n",
    "M = Point(2, 4, -2)\n",
    "N = Point(-2, 2, -1)\n",
    "AB = Line(A, B)\n",
    "KMN = Plane(K, M, N)\n",
    "KMN.angle_between(AB)"
   ]
  },
  {
   "cell_type": "markdown",
   "metadata": {},
   "source": [
    "### Задание 3.\n",
    "Проверить, лежат ли точки в одной плоскости\n",
    "\n",
    "а) A(3,2,-1),B(2,-1,0), C(5,2,-6), D(6,5,-7)\n",
    "\n",
    "b) A(-1,5,-4), B(7,-2,1), C(6,3,-8), D(0,3,0)"
   ]
  },
  {
   "cell_type": "code",
   "execution_count": 17,
   "metadata": {},
   "outputs": [
    {
     "name": "stdout",
     "output_type": "stream",
     "text": [
      "а)\n",
      "Три точки образуют плоскость => ABC - плоскость\n",
      "Посчитаем расстояние от плоскости ABC до точки D\n",
      "Если это расстояние равно 0, то A, B, C, D образуют плоскость\n"
     ]
    },
    {
     "data": {
      "text/latex": [
       "$\\displaystyle 0$"
      ],
      "text/plain": [
       "0"
      ]
     },
     "metadata": {},
     "output_type": "display_data"
    },
    {
     "name": "stdout",
     "output_type": "stream",
     "text": [
      "Точки A, B, C, D - лежат в одной плоскости\n",
      "б)\n",
      "Три точки образуют плоскость => ABC - плоскость\n",
      "Посчитаем расстояние от плоскости ABC до точки D\n",
      "Если это расстояние равно 0, то A, B, C, D образуют плоскость\n"
     ]
    },
    {
     "data": {
      "text/latex": [
       "$\\displaystyle \\frac{18 \\sqrt{7022}}{3511}$"
      ],
      "text/plain": [
       "18*sqrt(7022)/3511"
      ]
     },
     "metadata": {},
     "output_type": "display_data"
    },
    {
     "name": "stdout",
     "output_type": "stream",
     "text": [
      "Точки A, B, C, D - не лежат в одной плоскости\n"
     ]
    }
   ],
   "source": [
    "print(\"а)\")\n",
    "A = Point(3, 2, -1)\n",
    "B = Point(2, -1, 0)\n",
    "C = Point(5, 2, -6)\n",
    "D = Point(6, 5, -7)\n",
    "ABC = Plane(A, B, C)\n",
    "\n",
    "print(\"Три точки образуют плоскость => ABC - плоскость\")\n",
    "print(\"Посчитаем расстояние от плоскости ABC до точки D\")\n",
    "print(\"Если это расстояние равно 0, то A, B, C, D образуют плоскость\")\n",
    "display(ABC.distance(D))\n",
    "print(\"Точки A, B, C, D - лежат в одной плоскости\")\n",
    "print(\"б)\")\n",
    "A = Point(-1, 5, -4)\n",
    "B = Point(7, -2, 1)\n",
    "C = Point(6, 3, -8)\n",
    "D = Point(0, 3, 0)\n",
    "ABC = Plane(A, B, C)\n",
    "print(\"Три точки образуют плоскость => ABC - плоскость\")\n",
    "print(\"Посчитаем расстояние от плоскости ABC до точки D\")\n",
    "print(\"Если это расстояние равно 0, то A, B, C, D образуют плоскость\")\n",
    "display(ABC.distance(D))\n",
    "print(\"Точки A, B, C, D - не лежат в одной плоскости\")"
   ]
  },
  {
   "cell_type": "markdown",
   "metadata": {},
   "source": [
    "###  Задание 4.\n",
    "Прямая задана параметрическими уравнениями:\n",
    "$$\n",
    "\\left\\{\\begin{matrix}\n",
    "x=2+5t\\\\\n",
    "y=-1-2t\\\\\n",
    "z=4-3t\n",
    "\\end{matrix}\\right..\n",
    "$$\n",
    "Представить прямую в виде линии пересечения двух плоскостей (вывести на экран уравнения плоскостей), \n",
    "одна из которых проходит через начало координат, а вторая плоскость перпендикулярна первой плоскости.\n",
    "\n",
    "Указание: решить средствами для работы с прямыми и плоскостями из модуля Geometry."
   ]
  },
  {
   "cell_type": "code",
   "execution_count": 24,
   "metadata": {},
   "outputs": [
    {
     "data": {
      "text/latex": [
       "$\\displaystyle 11 x + 26 y + z$"
      ],
      "text/plain": [
       "11*x + 26*y + z"
      ]
     },
     "metadata": {},
     "output_type": "display_data"
    },
    {
     "data": {
      "text/latex": [
       "$\\displaystyle 76 x - 38 y + 152 z - 798$"
      ],
      "text/plain": [
       "76*x - 38*y + 152*z - 798"
      ]
     },
     "metadata": {},
     "output_type": "display_data"
    }
   ],
   "source": [
    "# берешь 2 точки на прямой (A и B) и плоскость 1 это OAB (plane(A,B,(0,0,0)))\n",
    "# а плоскость 2 это plane(A,B,A+norm(OAB))\n",
    "O = Point(0, 0, 0)\n",
    "A = Point(2, -1, 4)\n",
    "B = Point(7, -3, 1)\n",
    "firstPlane = Plane(O, A, B)\n",
    "secondPlane = firstPlane.perpendicular_plane(A,B)\n",
    "display(firstPlane.equation(), secondPlane.equation())"
   ]
  },
  {
   "cell_type": "markdown",
   "metadata": {},
   "source": [
    "### Индивидуальное задание\n",
    "Даны точки А, В, С, D, К и M в пространстве. \n",
    "\n",
    "Определить, какие тройки точек лежат на одной прямой, какие четверки - в одной плоскости.\n",
    "\n",
    "Составить уравнения всех прямых и плоскостей, определяемых заданными точками.\n",
    "\n",
    "Найти угол между прямой АВ и плоскостью $z=0$, угол между АС и СМ, угол между плоскостями АВС и ВСМ.\n",
    "\n",
    "Составить уравнение: \n",
    "плоскости, параллельной АВС и проходящей через начало координат,\n",
    "плоскости, перпендикулярной АВС и проходящей через А и М,\n",
    "прямой, перпендикулярной АВС и проходящей через С."
   ]
  },
  {
   "cell_type": "code",
   "execution_count": 38,
   "metadata": {},
   "outputs": [
    {
     "name": "stdout",
     "output_type": "stream",
     "text": [
      "Точка лежит на прямой если расстояние от точки до прямой равно 0\n",
      "\n",
      "Расстояния от AB до точек C, D, K, M\n"
     ]
    },
    {
     "data": {
      "text/latex": [
       "$\\displaystyle \\frac{\\sqrt{1313}}{39}$"
      ],
      "text/plain": [
       "sqrt(1313)/39"
      ]
     },
     "metadata": {},
     "output_type": "display_data"
    },
    {
     "data": {
      "text/latex": [
       "$\\displaystyle 0$"
      ],
      "text/plain": [
       "0"
      ]
     },
     "metadata": {},
     "output_type": "display_data"
    },
    {
     "data": {
      "text/latex": [
       "$\\displaystyle \\frac{\\sqrt{793}}{13}$"
      ],
      "text/plain": [
       "sqrt(793)/13"
      ]
     },
     "metadata": {},
     "output_type": "display_data"
    },
    {
     "data": {
      "text/latex": [
       "$\\displaystyle \\frac{3 \\sqrt{793}}{13}$"
      ],
      "text/plain": [
       "3*sqrt(793)/13"
      ]
     },
     "metadata": {},
     "output_type": "display_data"
    },
    {
     "name": "stdout",
     "output_type": "stream",
     "text": [
      "A, B, D лежат на одной прямой\n",
      "\n",
      "Расстояния от BС до точек D, K, M\n"
     ]
    },
    {
     "data": {
      "text/latex": [
       "$\\displaystyle \\frac{\\sqrt{1414}}{21}$"
      ],
      "text/plain": [
       "sqrt(1414)/21"
      ]
     },
     "metadata": {},
     "output_type": "display_data"
    },
    {
     "data": {
      "text/latex": [
       "$\\displaystyle \\frac{\\sqrt{7126}}{21}$"
      ],
      "text/plain": [
       "sqrt(7126)/21"
      ]
     },
     "metadata": {},
     "output_type": "display_data"
    },
    {
     "data": {
      "text/latex": [
       "$\\displaystyle \\frac{4 \\sqrt{5131}}{21}$"
      ],
      "text/plain": [
       "4*sqrt(5131)/21"
      ]
     },
     "metadata": {},
     "output_type": "display_data"
    },
    {
     "name": "stdout",
     "output_type": "stream",
     "text": [
      "Нет точек на одной прямой\n",
      "\n",
      "Расстояния от СD до точек K, M, A\n"
     ]
    },
    {
     "data": {
      "text/latex": [
       "$\\displaystyle \\frac{\\sqrt{11990}}{55}$"
      ],
      "text/plain": [
       "sqrt(11990)/55"
      ]
     },
     "metadata": {},
     "output_type": "display_data"
    },
    {
     "data": {
      "text/latex": [
       "$\\displaystyle \\frac{36 \\sqrt{165}}{55}$"
      ],
      "text/plain": [
       "36*sqrt(165)/55"
      ]
     },
     "metadata": {},
     "output_type": "display_data"
    },
    {
     "data": {
      "text/latex": [
       "$\\displaystyle \\frac{3 \\sqrt{11110}}{110}$"
      ],
      "text/plain": [
       "3*sqrt(11110)/110"
      ]
     },
     "metadata": {},
     "output_type": "display_data"
    },
    {
     "name": "stdout",
     "output_type": "stream",
     "text": [
      "Нет точек на одной прямой\n",
      "\n",
      "Расстояния от DK до точки M\n"
     ]
    },
    {
     "data": {
      "text/latex": [
       "$\\displaystyle \\frac{36 \\sqrt{165}}{55}$"
      ],
      "text/plain": [
       "36*sqrt(165)/55"
      ]
     },
     "metadata": {},
     "output_type": "display_data"
    },
    {
     "data": {
      "text/latex": [
       "$\\displaystyle \\frac{3 \\sqrt{11110}}{110}$"
      ],
      "text/plain": [
       "3*sqrt(11110)/110"
      ]
     },
     "metadata": {},
     "output_type": "display_data"
    },
    {
     "data": {
      "text/latex": [
       "$\\displaystyle \\frac{\\sqrt{11110}}{55}$"
      ],
      "text/plain": [
       "sqrt(11110)/55"
      ]
     },
     "metadata": {},
     "output_type": "display_data"
    },
    {
     "name": "stdout",
     "output_type": "stream",
     "text": [
      "Нет точек на одной прямой\n",
      "\n",
      "Расстояния от KM до точек A, B, C\n"
     ]
    },
    {
     "data": {
      "text/latex": [
       "$\\displaystyle 0$"
      ],
      "text/plain": [
       "0"
      ]
     },
     "metadata": {},
     "output_type": "display_data"
    },
    {
     "data": {
      "text/latex": [
       "$\\displaystyle \\frac{3 \\sqrt{111569}}{1829}$"
      ],
      "text/plain": [
       "3*sqrt(111569)/1829"
      ]
     },
     "metadata": {},
     "output_type": "display_data"
    },
    {
     "data": {
      "text/latex": [
       "$\\displaystyle \\frac{4 \\sqrt{610886}}{1829}$"
      ],
      "text/plain": [
       "4*sqrt(610886)/1829"
      ]
     },
     "metadata": {},
     "output_type": "display_data"
    },
    {
     "name": "stdout",
     "output_type": "stream",
     "text": [
      "A, K, M - лежат на одной прямой\n",
      "\n",
      "Расстояние от AC до точек K, M\n"
     ]
    },
    {
     "data": {
      "text/latex": [
       "$\\displaystyle \\frac{4 \\sqrt{161990}}{485}$"
      ],
      "text/plain": [
       "4*sqrt(161990)/485"
      ]
     },
     "metadata": {},
     "output_type": "display_data"
    },
    {
     "data": {
      "text/latex": [
       "$\\displaystyle \\frac{12 \\sqrt{161990}}{485}$"
      ],
      "text/plain": [
       "12*sqrt(161990)/485"
      ]
     },
     "metadata": {},
     "output_type": "display_data"
    },
    {
     "name": "stdout",
     "output_type": "stream",
     "text": [
      "Нет точек на одной прямой\n",
      "\n",
      "Расстояние от DM до точек A, B\n"
     ]
    },
    {
     "data": {
      "text/latex": [
       "$\\displaystyle \\frac{9 \\sqrt{62342}}{1022}$"
      ],
      "text/plain": [
       "9*sqrt(62342)/1022"
      ]
     },
     "metadata": {},
     "output_type": "display_data"
    },
    {
     "data": {
      "text/latex": [
       "$\\displaystyle \\frac{3 \\sqrt{62342}}{511}$"
      ],
      "text/plain": [
       "3*sqrt(62342)/511"
      ]
     },
     "metadata": {},
     "output_type": "display_data"
    },
    {
     "name": "stdout",
     "output_type": "stream",
     "text": [
      "Нет точек на одной прямой\n",
      "\n",
      "\n",
      "Заметим что только A, B, D и A, K, M лежат на одной прямой\n"
     ]
    }
   ],
   "source": [
    "# N90 A(−7, −2, −7),B(3, −3, −3),C(13, −4, 2),D(23, −5, 5),K(33, −4, 8), M(113, −8, 38) \n",
    "A = Point(-7, -2, -7)\n",
    "B = Point(3, -3, -3)\n",
    "C = Point(13, -4, 2)\n",
    "D = Point(23, -5, 5)\n",
    "K = Point(33, -4, 8)\n",
    "M = Point(113, -8, 38)\n",
    "print(\"Точка лежит на прямой если расстояние от точки до прямой равно 0\")\n",
    "print()\n",
    "AB = Line(A, B)\n",
    "BC = Line(B, C)\n",
    "CD = Line(C, D)\n",
    "DK = Line(C, D)\n",
    "KM = Line(K, M)\n",
    "AC = Line(A, C)\n",
    "DM = Line(D, M)\n",
    "\n",
    "print(\"Расстояния от AB до точек C, D, K, M\")\n",
    "display(AB.distance(C), AB.distance(D), AB.distance(K), AB.distance(M))\n",
    "print(\"A, B, D лежат на одной прямой\")\n",
    "print()\n",
    "print(\"Расстояния от BС до точек D, K, M\")\n",
    "display(BC.distance(D), BC.distance(K), BC.distance(M))\n",
    "print(\"Нет точек на одной прямой\")\n",
    "print()\n",
    "print(\"Расстояния от СD до точек K, M, A\")\n",
    "display(CD.distance(K), CD.distance(M), CD.distance(A))\n",
    "print(\"Нет точек на одной прямой\")\n",
    "print()\n",
    "print(\"Расстояния от DK до точки M\")\n",
    "display(DK.distance(M), DK.distance(A), DK.distance(B))\n",
    "print(\"Нет точек на одной прямой\")\n",
    "print()\n",
    "print(\"Расстояния от KM до точек A, B, C\")\n",
    "display(KM.distance(A), KM.distance(B), KM.distance(C))\n",
    "print(\"A, K, M - лежат на одной прямой\")\n",
    "print()\n",
    "print(\"Расстояние от AC до точек K, M\")\n",
    "display(AC.distance(K), AC.distance(M))\n",
    "print(\"Нет точек на одной прямой\")\n",
    "print()\n",
    "print(\"Расстояние от DM до точек A, B\")\n",
    "display(DM.distance(A), DM.distance(B))\n",
    "print(\"Нет точек на одной прямой\")\n",
    "print()\n",
    "print()\n",
    "print(\"Заметим что только A, B, D и A, K, M лежат на одной прямой\")"
   ]
  },
  {
   "cell_type": "code",
   "execution_count": 44,
   "metadata": {},
   "outputs": [
    {
     "name": "stdout",
     "output_type": "stream",
     "text": [
      "Точка лежит на плоскости, если расстояние от точки до плоскости равно 0\n",
      "\n",
      "Найдем расстояние от плоскости ABC до точек D, K, M\n"
     ]
    },
    {
     "data": {
      "text/latex": [
       "$\\displaystyle 0$"
      ],
      "text/plain": [
       "0"
      ]
     },
     "metadata": {},
     "output_type": "display_data"
    },
    {
     "data": {
      "text/latex": [
       "$\\displaystyle \\frac{20 \\sqrt{101}}{101}$"
      ],
      "text/plain": [
       "20*sqrt(101)/101"
      ]
     },
     "metadata": {},
     "output_type": "display_data"
    },
    {
     "data": {
      "text/latex": [
       "$\\displaystyle \\frac{60 \\sqrt{101}}{101}$"
      ],
      "text/plain": [
       "60*sqrt(101)/101"
      ]
     },
     "metadata": {},
     "output_type": "display_data"
    },
    {
     "name": "stdout",
     "output_type": "stream",
     "text": [
      "ABCD - плоскость\n",
      "\n",
      "Найдем расстояние от плоскости ABK до точки M\n"
     ]
    },
    {
     "data": {
      "text/latex": [
       "$\\displaystyle 0$"
      ],
      "text/plain": [
       "0"
      ]
     },
     "metadata": {},
     "output_type": "display_data"
    },
    {
     "name": "stdout",
     "output_type": "stream",
     "text": [
      "ABKM - плоскость\n",
      "\n",
      "Найдем расстояние от плоскости CDK до точек A, B\n"
     ]
    },
    {
     "data": {
      "text/latex": [
       "$\\displaystyle \\frac{30 \\sqrt{109}}{109}$"
      ],
      "text/plain": [
       "30*sqrt(109)/109"
      ]
     },
     "metadata": {},
     "output_type": "display_data"
    },
    {
     "data": {
      "text/latex": [
       "$\\displaystyle \\frac{20 \\sqrt{109}}{109}$"
      ],
      "text/plain": [
       "20*sqrt(109)/109"
      ]
     },
     "metadata": {},
     "output_type": "display_data"
    },
    {
     "name": "stdout",
     "output_type": "stream",
     "text": [
      "все точки не лежат в одной плоскости\n",
      "\n",
      "Найдем расстояние от плоскости CDM до точек A, B\n"
     ]
    },
    {
     "data": {
      "text/latex": [
       "$\\displaystyle \\frac{5 \\sqrt{6}}{6}$"
      ],
      "text/plain": [
       "5*sqrt(6)/6"
      ]
     },
     "metadata": {},
     "output_type": "display_data"
    },
    {
     "data": {
      "text/latex": [
       "$\\displaystyle \\frac{5 \\sqrt{6}}{9}$"
      ],
      "text/plain": [
       "5*sqrt(6)/9"
      ]
     },
     "metadata": {},
     "output_type": "display_data"
    },
    {
     "name": "stdout",
     "output_type": "stream",
     "text": [
      "все точки не лежат в одной плоскости\n",
      "\n",
      "Найдем расстояние от плоскости ABC до точек A, B\n"
     ]
    },
    {
     "data": {
      "text/latex": [
       "$\\displaystyle 0$"
      ],
      "text/plain": [
       "0"
      ]
     },
     "metadata": {},
     "output_type": "display_data"
    },
    {
     "data": {
      "text/latex": [
       "$\\displaystyle \\frac{5 \\sqrt{334}}{334}$"
      ],
      "text/plain": [
       "5*sqrt(334)/334"
      ]
     },
     "metadata": {},
     "output_type": "display_data"
    },
    {
     "name": "stdout",
     "output_type": "stream",
     "text": [
      "CKMA - плоскость\n",
      "\n",
      "Найдем расстояние от плоскости DKM до точек A, B, C\n"
     ]
    },
    {
     "data": {
      "text/latex": [
       "$\\displaystyle 0$"
      ],
      "text/plain": [
       "0"
      ]
     },
     "metadata": {},
     "output_type": "display_data"
    },
    {
     "data": {
      "text/latex": [
       "$\\displaystyle 0$"
      ],
      "text/plain": [
       "0"
      ]
     },
     "metadata": {},
     "output_type": "display_data"
    },
    {
     "data": {
      "text/latex": [
       "$\\displaystyle \\frac{20 \\sqrt{61}}{183}$"
      ],
      "text/plain": [
       "20*sqrt(61)/183"
      ]
     },
     "metadata": {},
     "output_type": "display_data"
    },
    {
     "name": "stdout",
     "output_type": "stream",
     "text": [
      "DKMA, DKMB - плоскости\n",
      "\n",
      "ABCD, ABKM, CKMA, DKMA, DKMB\n"
     ]
    }
   ],
   "source": [
    "ABC = Plane(A, B, C)\n",
    "ABK = Plane(A, B, K)\n",
    "CDK = Plane(C, D, K)\n",
    "DKM = Plane(D, K, M)\n",
    "CKM = Plane(C, K, M)\n",
    "CDM = Plane(C, D, M)\n",
    "print(\"Точка лежит на плоскости, если расстояние от точки до плоскости равно 0\")\n",
    "print()\n",
    "print(\"Найдем расстояние от плоскости ABC до точек D, K, M\")\n",
    "display(ABC.distance(D), ABC.distance(K), ABC.distance(M))\n",
    "print(\"ABCD - плоскость\")\n",
    "print()\n",
    "\n",
    "print(\"Найдем расстояние от плоскости ABK до точки M\")\n",
    "display(ABK.distance(M))\n",
    "print(\"ABKM - плоскость\")\n",
    "print()\n",
    "\n",
    "print(\"Найдем расстояние от плоскости CDK до точек A, B\")\n",
    "display(CDK.distance(A), CDK.distance(B))\n",
    "print(\"все точки не лежат в одной плоскости\")\n",
    "print()\n",
    "print(\"Найдем расстояние от плоскости CDM до точек A, B\")\n",
    "display(CDM.distance(A), CDM.distance(B))\n",
    "print(\"все точки не лежат в одной плоскости\")\n",
    "print()\n",
    "print(\"Найдем расстояние от плоскости ABC до точек A, B\")\n",
    "display(CKM.distance(A), CKM.distance(B))\n",
    "print(\"CKMA - плоскость\")\n",
    "print()\n",
    "print(\"Найдем расстояние от плоскости DKM до точек A, B, C\")\n",
    "display(DKM.distance(A), DKM.distance(B), DKM.distance(C))\n",
    "print(\"DKMA, DKMB - плоскости\")\n",
    "print()\n",
    "print(\"Ответ: ABCD, ABKM, CKMA, DKMA, DKMB\")\n"
   ]
  },
  {
   "cell_type": "code",
   "execution_count": 47,
   "metadata": {},
   "outputs": [
    {
     "name": "stdout",
     "output_type": "stream",
     "text": [
      "Уравнения прямых из трех точек (A, B, D и A, K, M)\n"
     ]
    },
    {
     "data": {
      "text/latex": [
       "$\\displaystyle \\left( x + 10 y + 27, \\  - 2 x + 5 z + 21\\right)$"
      ],
      "text/plain": [
       "(x + 10*y + 27, -2*x + 5*z + 21)"
      ]
     },
     "metadata": {},
     "output_type": "display_data"
    },
    {
     "data": {
      "text/latex": [
       "$\\displaystyle \\left( x + 20 y + 47, \\  - 3 x + 8 z + 35\\right)$"
      ],
      "text/plain": [
       "(x + 20*y + 47, -3*x + 8*z + 35)"
      ]
     },
     "metadata": {},
     "output_type": "display_data"
    }
   ],
   "source": [
    "print(\"Уравнения прямых из трех точек (A, B, D и A, K, M)\")\n",
    "display(AB.equation(), KM.equation())"
   ]
  },
  {
   "cell_type": "code",
   "execution_count": 48,
   "metadata": {},
   "outputs": [
    {
     "name": "stdout",
     "output_type": "stream",
     "text": [
      "Уравнения плоскостей\n"
     ]
    },
    {
     "data": {
      "text/latex": [
       "$\\displaystyle - x - 10 y - 27$"
      ],
      "text/plain": [
       "-x - 10*y - 27"
      ]
     },
     "metadata": {},
     "output_type": "display_data"
    },
    {
     "data": {
      "text/latex": [
       "$\\displaystyle - 7 x + 10 y + 20 z + 111$"
      ],
      "text/plain": [
       "-7*x + 10*y + 20*z + 111"
      ]
     },
     "metadata": {},
     "output_type": "display_data"
    },
    {
     "data": {
      "text/latex": [
       "$\\displaystyle 24 x - 120 y - 80 z - 632$"
      ],
      "text/plain": [
       "24*x - 120*y - 80*z - 632"
      ]
     },
     "metadata": {},
     "output_type": "display_data"
    },
    {
     "data": {
      "text/latex": [
       "$\\displaystyle 42 x - 60 y - 120 z - 666$"
      ],
      "text/plain": [
       "42*x - 60*y - 120*z - 666"
      ]
     },
     "metadata": {},
     "output_type": "display_data"
    }
   ],
   "source": [
    "print(\"Уравнения плоскостей\")\n",
    "display(ABC.equation(), ABK.equation(), CKM.equation(), DKM.equation())"
   ]
  },
  {
   "cell_type": "code",
   "execution_count": 51,
   "metadata": {},
   "outputs": [
    {
     "name": "stdout",
     "output_type": "stream",
     "text": [
      "Угол между AB и z = 0:\n"
     ]
    },
    {
     "data": {
      "text/latex": [
       "$\\displaystyle - \\operatorname{asin}{\\left(\\frac{4 \\sqrt{13}}{39} \\right)}$"
      ],
      "text/plain": [
       "-asin(4*sqrt(13)/39)"
      ]
     },
     "metadata": {},
     "output_type": "display_data"
    },
    {
     "name": "stdout",
     "output_type": "stream",
     "text": [
      "Угол между AC и CM:\n"
     ]
    },
    {
     "data": {
      "text/latex": [
       "$\\displaystyle \\operatorname{acos}{\\left(\\frac{583 \\sqrt{342895}}{342895} \\right)}$"
      ],
      "text/plain": [
       "acos(583*sqrt(342895)/342895)"
      ]
     },
     "metadata": {},
     "output_type": "display_data"
    },
    {
     "name": "stdout",
     "output_type": "stream",
     "text": [
      "Угол между ABC и BCM:\n"
     ]
    },
    {
     "data": {
      "text/latex": [
       "$\\displaystyle \\operatorname{acos}{\\left(- \\frac{173 \\sqrt{148066}}{74033} \\right)}$"
      ],
      "text/plain": [
       "acos(-173*sqrt(148066)/74033)"
      ]
     },
     "metadata": {},
     "output_type": "display_data"
    }
   ],
   "source": [
    "AB = Line(A, B)\n",
    "AC = Line(A, C)\n",
    "CM = Line(C, M)\n",
    "O = Plane((1, 1, 0), (1, 3, 0), (5, 3, 0))\n",
    "ABC = Plane(A, B, C)\n",
    "BCM = Plane(B, C, M)\n",
    "print(\"Угол между AB и z = 0:\")\n",
    "display(O.angle_between(AB))\n",
    "print(\"Угол между AC и CM:\")\n",
    "display(AC.angle_between(CM))\n",
    "print(\"Угол между ABC и BCM:\")\n",
    "display(ABC.angle_between(BCM))\n"
   ]
  },
  {
   "cell_type": "code",
   "execution_count": 59,
   "metadata": {},
   "outputs": [
    {
     "name": "stdout",
     "output_type": "stream",
     "text": [
      "Уравнение плоскости параллельной ABC и проходящей через начало координат\n"
     ]
    },
    {
     "data": {
      "text/latex": [
       "$\\displaystyle - x - 10 y$"
      ],
      "text/plain": [
       "-x - 10*y"
      ]
     },
     "metadata": {},
     "output_type": "display_data"
    },
    {
     "name": "stdout",
     "output_type": "stream",
     "text": [
      "Уравнение плоскости перпендикулярной ABC и проходящей через точки A, M\n"
     ]
    },
    {
     "data": {
      "text/latex": [
       "$\\displaystyle 450 x - 45 y - 1206 z - 5382$"
      ],
      "text/plain": [
       "450*x - 45*y - 1206*z - 5382"
      ]
     },
     "metadata": {},
     "output_type": "display_data"
    },
    {
     "name": "stdout",
     "output_type": "stream",
     "text": [
      "Уравнение плоскости перпендикулярной ABC и проходящей через точки C\n"
     ]
    },
    {
     "data": {
      "text/latex": [
       "$\\displaystyle 10 x - y - 134$"
      ],
      "text/plain": [
       "10*x - y - 134"
      ]
     },
     "metadata": {},
     "output_type": "display_data"
    }
   ],
   "source": [
    "parABC = ABC.parallel_plane(Point(0, 0, 0))\n",
    "print(\"Уравнение плоскости параллельной ABC и проходящей через начало координат\")\n",
    "display(parABC.equation())\n",
    "perABC1 = ABC.perpendicular_plane(A, M)\n",
    "print(\"Уравнение плоскости перпендикулярной ABC и проходящей через точки A, M\")\n",
    "display(perABC1.equation())\n",
    "perABC2 = ABC.perpendicular_plane(C)\n",
    "print(\"Уравнение плоскости перпендикулярной ABC и проходящей через точки C\")\n",
    "display(perABC2.equation())\n"
   ]
  },
  {
   "cell_type": "code",
   "execution_count": null,
   "metadata": {},
   "outputs": [],
   "source": []
  }
 ],
 "metadata": {
  "kernelspec": {
   "display_name": "Python 3",
   "language": "python",
   "name": "python3"
  },
  "language_info": {
   "codemirror_mode": {
    "name": "ipython",
    "version": 3
   },
   "file_extension": ".py",
   "mimetype": "text/x-python",
   "name": "python",
   "nbconvert_exporter": "python",
   "pygments_lexer": "ipython3",
   "version": "3.7.4"
  }
 },
 "nbformat": 4,
 "nbformat_minor": 2
}

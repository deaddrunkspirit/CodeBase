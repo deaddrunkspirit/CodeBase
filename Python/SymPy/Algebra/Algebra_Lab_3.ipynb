{
 "cells": [
  {
   "cell_type": "markdown",
   "metadata": {},
   "source": [
    "# Занятие 3\n",
    "# Алгебра\n",
    "## Решение систем линейных алгебраических уравнений (СЛАУ)"
   ]
  },
  {
   "cell_type": "markdown",
   "metadata": {},
   "source": [
    "https://docs.sympy.org/latest/modules/solvers/solveset.html#sympy.solvers.solveset.linsolve"
   ]
  },
  {
   "cell_type": "markdown",
   "metadata": {},
   "source": [
    "sympy.solvers.solveset.linsolve(system, *symbols)\n",
    "\n",
    "### Задание 1.\n",
    "Решить СЛАУ, представив их тремя различными способами (расширенная матрица, список уравнений, матричный вид)\n",
    "$$\n",
    "a)\\ \\left\\{\n",
    "\\begin{matrix}\n",
    "-x+5y-3z=8\\\\\n",
    "4x-y+5z=-1\\\\\n",
    "3x+4y+5z=10\n",
    "\\end{matrix}\n",
    "\\right., \\quad \n",
    "b)\\ \\left\\{\n",
    "\\begin{matrix}\n",
    "-x+5y-3z=8\\\\\n",
    "4x-y+5z=-1\\\\\n",
    "3x+4y+2z=7\n",
    "\\end{matrix}\n",
    "\\right., \\quad \n",
    "c)\\ \\left\\{\n",
    "\\begin{matrix}\n",
    "-x+5y-3z=8\\\\\n",
    "4x-y+5z=-1\\\\\n",
    "3x+4y+2z=5\n",
    "\\end{matrix}\n",
    "\\right.\n",
    "$$"
   ]
  },
  {
   "cell_type": "code",
   "execution_count": 2,
   "metadata": {},
   "outputs": [],
   "source": [
    "import sympy\n",
    "from sympy import *"
   ]
  },
  {
   "cell_type": "code",
   "execution_count": 2,
   "metadata": {},
   "outputs": [
    {
     "data": {
      "text/latex": [
       "$\\displaystyle \\left\\{\\left( -1, \\  2, \\  1\\right)\\right\\}$"
      ],
      "text/plain": [
       "{(-1, 2, 1)}"
      ]
     },
     "execution_count": 2,
     "metadata": {},
     "output_type": "execute_result"
    }
   ],
   "source": [
    "#a\n",
    "\n",
    "A = Matrix([[-1, 5, -3, 8], [4, -1, 5, -1], [3, 4, 5, 10]])\n",
    "linsolve(A)"
   ]
  },
  {
   "cell_type": "code",
   "execution_count": 3,
   "metadata": {},
   "outputs": [
    {
     "data": {
      "text/latex": [
       "$\\displaystyle \\left\\{\\left( \\frac{3}{19} - \\frac{22 \\tau_{0}}{19}, \\  \\frac{7 \\tau_{0}}{19} + \\frac{31}{19}, \\  \\tau_{0}\\right)\\right\\}$"
      ],
      "text/plain": [
       "{(3/19 - 22*tau0/19, 7*tau0/19 + 31/19, tau0)}"
      ]
     },
     "execution_count": 3,
     "metadata": {},
     "output_type": "execute_result"
    }
   ],
   "source": [
    "#b\n",
    "\n",
    "A = Matrix([[-1, 5, -3], [4, -1, 5], [3, 4, 2]])\n",
    "b = Matrix([[8], [-1], [7]])\n",
    "linsolve((A, b))"
   ]
  },
  {
   "cell_type": "code",
   "execution_count": 4,
   "metadata": {},
   "outputs": [
    {
     "data": {
      "text/latex": [
       "$\\displaystyle \\emptyset$"
      ],
      "text/plain": [
       "EmptySet()"
      ]
     },
     "execution_count": 4,
     "metadata": {},
     "output_type": "execute_result"
    }
   ],
   "source": [
    "#c\n",
    "\n",
    "x, y, z = symbols(\"x, y, z\")\n",
    "systEq = [-x + 5*y - 3*z - 8, 4*x - y + 5*z + 1, 3*x + 4*y + 2*z - 5]\n",
    "linsolve(systEq, x, y, z)"
   ]
  },
  {
   "cell_type": "markdown",
   "metadata": {},
   "source": [
    "### Задание 2.\n",
    "\n",
    "Решить СЛАУ с параметром $a$, представив их списком уравнений, а затем приведя к матричному виду с помощью linear_eq_to_matrix)\n",
    "$$\n",
    "a)\\ \\left\\{\n",
    "\\begin{matrix}\n",
    "ax+5y-3z=8\\\\\n",
    "4x-y+5z=-1\\\\\n",
    "3x+4y+5z=10\n",
    "\\end{matrix}\n",
    "\\right., \\quad \n",
    "b)\\ \\left\\{\n",
    "\\begin{matrix}\n",
    "(a-1)x+5y-3z=8\\\\\n",
    "(4+a)x-y+5z=-1\\\\\n",
    "(3+2a)x+4y+2z=7\n",
    "\\end{matrix}\n",
    "\\right., \\quad \n",
    "c) \\left\\{\n",
    "\\begin{matrix}\n",
    "-x+5y-3z=8a\\\\\n",
    "4x-y+5z=-a\\\\\n",
    "3x+4y+2z=5a\n",
    "\\end{matrix}\n",
    "\\right.\n",
    "$$\n",
    "Решить СЛАУ а) при $a=-3.28$, b) при $a=-19/6$, $-3.17$ и $-3.167$, c) при $a=1$.\n",
    "\n",
    "Проанализировать результаты. Для каждого случая провести проверку подстановкой."
   ]
  },
  {
   "cell_type": "code",
   "execution_count": 5,
   "metadata": {},
   "outputs": [
    {
     "data": {
      "text/latex": [
       "$\\displaystyle \\left[\\begin{matrix}a & 5 & -3\\\\4 & -1 & 5\\\\3 & 4 & 5\\end{matrix}\\right]$"
      ],
      "text/plain": [
       "Matrix([\n",
       "[a,  5, -3],\n",
       "[4, -1,  5],\n",
       "[3,  4,  5]])"
      ]
     },
     "metadata": {},
     "output_type": "display_data"
    },
    {
     "data": {
      "text/latex": [
       "$\\displaystyle \\left[\\begin{matrix}8\\\\-1\\\\10\\end{matrix}\\right]$"
      ],
      "text/plain": [
       "Matrix([\n",
       "[ 8],\n",
       "[-1],\n",
       "[10]])"
      ]
     },
     "metadata": {},
     "output_type": "display_data"
    },
    {
     "data": {
      "text/latex": [
       "$\\displaystyle \\left\\{\\left( \\tilde{\\infty}, \\  \\tilde{\\infty}, \\  \\tilde{\\infty}\\right)\\right\\}$"
      ],
      "text/plain": [
       "{(zoo, zoo, zoo)}"
      ]
     },
     "execution_count": 5,
     "metadata": {},
     "output_type": "execute_result"
    }
   ],
   "source": [
    "#a\n",
    "\n",
    "x, y, z, a = symbols(\"x, y, z, a\")\n",
    "systEq = [a*x + 5*y - 3*z - 8, 4*x - y + 5*z + 1, 3*x + 4*y + 5*z - 10]\n",
    "A, b = linear_eq_to_matrix(systEq, x, y, z)\n",
    "display(A, b)\n",
    "ans = linsolve((A, b))\n",
    "ans.subs({a: -3.28})"
   ]
  },
  {
   "cell_type": "code",
   "execution_count": 6,
   "metadata": {},
   "outputs": [
    {
     "data": {
      "text/latex": [
       "$\\displaystyle \\left[\\begin{matrix}a - 1 & 5 & -3\\\\a + 4 & -1 & 5\\\\2 a + 3 & 4 & 5\\end{matrix}\\right]$"
      ],
      "text/plain": [
       "Matrix([\n",
       "[  a - 1,  5, -3],\n",
       "[  a + 4, -1,  5],\n",
       "[2*a + 3,  4,  5]])"
      ]
     },
     "metadata": {},
     "output_type": "display_data"
    },
    {
     "data": {
      "text/latex": [
       "$\\displaystyle \\left[\\begin{matrix}8\\\\-1\\\\7\\end{matrix}\\right]$"
      ],
      "text/plain": [
       "Matrix([\n",
       "[ 8],\n",
       "[-1],\n",
       "[ 7]])"
      ]
     },
     "metadata": {},
     "output_type": "display_data"
    },
    {
     "data": {
      "text/latex": [
       "$\\displaystyle \\left\\{\\left( \\tilde{\\infty}, \\  \\tilde{\\infty}, \\  0\\right)\\right\\}$"
      ],
      "text/plain": [
       "{(zoo, zoo, 0)}"
      ]
     },
     "metadata": {},
     "output_type": "display_data"
    },
    {
     "data": {
      "text/latex": [
       "$\\displaystyle \\left\\{\\left( -150.000000000003, \\  -123.500000000003, \\  0\\right)\\right\\}$"
      ],
      "text/plain": [
       "{(-150.000000000003, -123.500000000003, 0)}"
      ]
     },
     "metadata": {},
     "output_type": "display_data"
    },
    {
     "data": {
      "text/latex": [
       "$\\displaystyle \\left\\{\\left( -1500.00000000083, \\  -1248.50000000069, \\  0\\right)\\right\\}$"
      ],
      "text/plain": [
       "{(-1500.00000000083, -1248.50000000069, 0)}"
      ]
     },
     "metadata": {},
     "output_type": "display_data"
    }
   ],
   "source": [
    "#b\n",
    "\n",
    "systEq = [(a - 1)*x + 5*y - 3*z - 8, (4 + a)*x - y + 5*z + 1, (3 + 2*a)*x + 4*y + 5*z - 7]\n",
    "A, b = linear_eq_to_matrix(systEq, x, y, z)\n",
    "display(A, b)\n",
    "ans = linsolve((A, b))\n",
    "display(ans.subs({a: -19/6}), ans.subs({a: -3.17}), ans.subs({a: -3.167}))"
   ]
  },
  {
   "cell_type": "code",
   "execution_count": 7,
   "metadata": {},
   "outputs": [
    {
     "data": {
      "text/latex": [
       "$\\displaystyle \\left[\\begin{matrix}1 & 5 & -3\\\\4 & -1 & 5\\\\3 & 4 & 5\\end{matrix}\\right]$"
      ],
      "text/plain": [
       "Matrix([\n",
       "[1,  5, -3],\n",
       "[4, -1,  5],\n",
       "[3,  4,  5]])"
      ]
     },
     "metadata": {},
     "output_type": "display_data"
    },
    {
     "data": {
      "text/latex": [
       "$\\displaystyle \\left[\\begin{matrix}8 a\\\\- a\\\\5 a\\end{matrix}\\right]$"
      ],
      "text/plain": [
       "Matrix([\n",
       "[8*a],\n",
       "[ -a],\n",
       "[5*a]])"
      ]
     },
     "metadata": {},
     "output_type": "display_data"
    },
    {
     "data": {
      "text/latex": [
       "$\\displaystyle \\left\\{\\left( \\frac{53}{107}, \\  \\frac{139}{107}, \\  - \\frac{36}{107}\\right)\\right\\}$"
      ],
      "text/plain": [
       "{(53/107, 139/107, -36/107)}"
      ]
     },
     "execution_count": 7,
     "metadata": {},
     "output_type": "execute_result"
    }
   ],
   "source": [
    "#c\n",
    "\n",
    "systEq = [x + 5*y - 3*z - 8*a, 4*x - y + 5*z + 1*a, 3*x + 4*y + 5*z - 5*a]\n",
    "A, b = linear_eq_to_matrix(systEq, x, y, z)\n",
    "display(A, b)\n",
    "ans = linsolve((A, b))\n",
    "ans.subs({a: 1})"
   ]
  },
  {
   "cell_type": "markdown",
   "metadata": {},
   "source": [
    "### Индивидуальное задание.\n",
    "\n",
    "Для своего варианта СЛАУ найти значение параметра, при котором она совместна. \n",
    "\n",
    "Можно воспользоваться методом .rref()\n",
    "\n",
    "Провести проверку подстановкой."
   ]
  },
  {
   "cell_type": "code",
   "execution_count": 24,
   "metadata": {},
   "outputs": [
    {
     "name": "stdout",
     "output_type": "stream",
     "text": [
      "Канонический вид\n"
     ]
    },
    {
     "data": {
      "text/latex": [
       "$\\displaystyle \\left[\\begin{matrix}1 & 0 & 0 & 0 & \\frac{53385680125952 a - 3950540329320448}{42516296499200 a - 3146205940940800}\\\\0 & 1 & 0 & 0 & \\frac{24853548105728 a - 1839162559823872}{5314537062400 a - 393275742617600}\\\\0 & 0 & 1 & 0 & 0\\\\0 & 0 & 0 & 1 & \\frac{27295744 a - 2019885056}{10009600 a - 740710400}\\end{matrix}\\right]$"
      ],
      "text/plain": [
       "Matrix([\n",
       "[1, 0, 0, 0, (53385680125952*a - 3950540329320448)/(42516296499200*a - 3146205940940800)],\n",
       "[0, 1, 0, 0,   (24853548105728*a - 1839162559823872)/(5314537062400*a - 393275742617600)],\n",
       "[0, 0, 1, 0,                                                                           0],\n",
       "[0, 0, 0, 1,                          (27295744*a - 2019885056)/(10009600*a - 740710400)]])"
      ]
     },
     "metadata": {},
     "output_type": "display_data"
    },
    {
     "name": "stdout",
     "output_type": "stream",
     "text": [
      "СЛАУ при а = 1 (совместна)\n"
     ]
    },
    {
     "data": {
      "text/latex": [
       "$\\displaystyle \\left[\\begin{matrix}1 & 0 & 0 & 0 & \\frac{722}{575}\\\\0 & 1 & 0 & 0 & \\frac{2689}{575}\\\\0 & 0 & 1 & 0 & 0\\\\0 & 0 & 0 & 1 & \\frac{1568}{575}\\end{matrix}\\right]$"
      ],
      "text/plain": [
       "Matrix([\n",
       "[1, 0, 0, 0,  722/575],\n",
       "[0, 1, 0, 0, 2689/575],\n",
       "[0, 0, 1, 0,        0],\n",
       "[0, 0, 0, 1, 1568/575]])"
      ]
     },
     "metadata": {},
     "output_type": "display_data"
    },
    {
     "name": "stdout",
     "output_type": "stream",
     "text": [
      "Решения СЛАУ при а = 1\n"
     ]
    },
    {
     "data": {
      "text/latex": [
       "$\\displaystyle \\left\\{\\left( \\frac{722}{575}, \\  \\frac{2689}{575}, \\  0, \\  \\frac{1568}{575}\\right)\\right\\}$"
      ],
      "text/plain": [
       "{(722/575, 2689/575, 0, 1568/575)}"
      ]
     },
     "metadata": {},
     "output_type": "display_data"
    }
   ],
   "source": [
    "a, x1, x2, x3, x4 = symbols(\"a, x_1, x_2, x_3, x_4\")\n",
    "f1 = 8*x1 + 8*x2 + 4*x3 + 9*x4 -72\n",
    "f2 = 2*x1 + 19*x2 + 15*x3 + 5*x4 - 105\n",
    "f3 = -44*x1 + 90*x2 + a*x3 + 6*x4 - 382\n",
    "f4 = 14*x1 + 6*x2 + 4*x3 + 6*x4 - 62\n",
    "systEq = [f1, f2, f3, f4] # СЛАУ\n",
    "A, b = linear_eq_to_matrix(systEq, x1, x2, x3, x4)\n",
    "B = A # сохраняем матрицу А для проверки\n",
    "A = A.row_join(b)\n",
    "print(\"Канонический вид\")\n",
    "A, n = A.rref() # приводим матрицу А к каноническому виду\n",
    "display(A)\n",
    "A = A.subs({a: 1}) # заметим что в каноническом виде СЛАУ совместна при а = 1\n",
    "# подставляем значение а = 1 в СЛАУ\n",
    "print(\"СЛАУ при а = 1 (совместна)\")\n",
    "display(A)\n",
    "print(\"Решения СЛАУ при а = 1\")\n",
    "display((linsolve(A))) # находим решения"
   ]
  },
  {
   "cell_type": "code",
   "execution_count": 21,
   "metadata": {},
   "outputs": [
    {
     "data": {
      "text/latex": [
       "$\\displaystyle \\left[\\begin{matrix}\\frac{722}{575}\\\\\\frac{2689}{575}\\\\0\\\\\\frac{1568}{575}\\end{matrix}\\right]$"
      ],
      "text/plain": [
       "Matrix([\n",
       "[ 722/575],\n",
       "[2689/575],\n",
       "[       0],\n",
       "[1568/575]])"
      ]
     },
     "metadata": {},
     "output_type": "display_data"
    },
    {
     "data": {
      "text/latex": [
       "$\\displaystyle \\left[\\begin{matrix}0\\\\0\\\\0\\\\0\\end{matrix}\\right]$"
      ],
      "text/plain": [
       "Matrix([\n",
       "[0],\n",
       "[0],\n",
       "[0],\n",
       "[0]])"
      ]
     },
     "execution_count": 21,
     "metadata": {},
     "output_type": "execute_result"
    }
   ],
   "source": [
    "#проверка\n",
    "X00=Matrix([elem for elem in X0]).transpose()\n",
    "display(X00)\n",
    "B*X00-b\n",
    "simplify(B*X00-b)"
   ]
  },
  {
   "cell_type": "code",
   "execution_count": null,
   "metadata": {},
   "outputs": [],
   "source": []
  }
 ],
 "metadata": {
  "kernelspec": {
   "display_name": "Python 3",
   "language": "python",
   "name": "python3"
  },
  "language_info": {
   "codemirror_mode": {
    "name": "ipython",
    "version": 3
   },
   "file_extension": ".py",
   "mimetype": "text/x-python",
   "name": "python",
   "nbconvert_exporter": "python",
   "pygments_lexer": "ipython3",
   "version": "3.7.4"
  }
 },
 "nbformat": 4,
 "nbformat_minor": 2
}

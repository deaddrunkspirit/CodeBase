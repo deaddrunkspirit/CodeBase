{
 "cells": [
  {
   "cell_type": "markdown",
   "metadata": {},
   "source": [
    "# Занятие 4\n",
    "# Алгебра\n",
    "\n",
    "## Решение систем линейных алгебраических уравнений (СЛАУ)\n",
    "### Задание 1.\n",
    "\n",
    "Дана СЛАУ с параметром:\n",
    "$$\n",
    "\\left\\{\n",
    "\\begin{matrix}\n",
    "(2+c)x+3y-z=5\\\\\n",
    "3x-2y+z=2\\\\\n",
    "x+y-(2c-1)z=0\n",
    "\\end{matrix}\n",
    "\\right.\n",
    "$$\n",
    "Решить по формулам Крамера при всех значениях параметра, при которых это возможно. Проверить с помощью linsolve и подстановкой. Указать, при каких значениях параметра невозможно использовать формулы Крамера."
   ]
  },
  {
   "cell_type": "code",
   "execution_count": 1,
   "metadata": {},
   "outputs": [],
   "source": [
    "import sympy\n",
    "from sympy import *\n",
    "init_printing(use_unicode=False, wrap_line=False, no_global=True)"
   ]
  },
  {
   "cell_type": "code",
   "execution_count": 2,
   "metadata": {},
   "outputs": [
    {
     "name": "stdout",
     "output_type": "stream",
     "text": [
      "Решение СЛАУ с помощью формулы Крамера:\n"
     ]
    },
    {
     "data": {
      "image/png": "[encoded data removed]",
      "text/latex": [
       "$\\displaystyle \\frac{32 c - 23}{4 c^{2} + 23 c - 17}$"
      ],
      "text/plain": [
       "   32*c - 23    \n",
       "----------------\n",
       "   2            \n",
       "4*c  + 23*c - 17"
      ]
     },
     "metadata": {},
     "output_type": "display_data"
    },
    {
     "data": {
      "image/png": "[encoded data removed]",
      "text/latex": [
       "$\\displaystyle \\frac{- 4 c^{2} + 24 c - 4}{4 c^{2} + 23 c - 17}$"
      ],
      "text/plain": [
       "     2           \n",
       "- 4*c  + 24*c - 4\n",
       "-----------------\n",
       "    2            \n",
       " 4*c  + 23*c - 17"
      ]
     },
     "metadata": {},
     "output_type": "display_data"
    },
    {
     "data": {
      "image/png": "[encoded data removed]",
      "text/latex": [
       "$\\displaystyle \\frac{27 - 2 c}{4 c^{2} + 23 c - 17}$"
      ],
      "text/plain": [
       "    27 - 2*c    \n",
       "----------------\n",
       "   2            \n",
       "4*c  + 23*c - 17"
      ]
     },
     "metadata": {},
     "output_type": "display_data"
    },
    {
     "name": "stdout",
     "output_type": "stream",
     "text": [
      "Проверка linsolve:\n"
     ]
    },
    {
     "data": {
      "image/png": "[encoded data removed]",
      "text/latex": [
       "$\\displaystyle \\left\\{\\left( \\frac{32 c - 23}{4 c^{2} + 23 c - 17}, \\  \\frac{- 4 c^{2} + 24 c - 4}{4 c^{2} + 23 c - 17}, \\  \\frac{27 - 2 c}{4 c^{2} + 23 c - 17}\\right)\\right\\}$"
      ],
      "text/plain": [
       "                         2                               \n",
       "     32*c - 23      - 4*c  + 24*c - 4      27 - 2*c      \n",
       "{(----------------, -----------------, ----------------)}\n",
       "     2                  2                 2              \n",
       "  4*c  + 23*c - 17   4*c  + 23*c - 17  4*c  + 23*c - 17  "
      ]
     },
     "metadata": {},
     "output_type": "display_data"
    },
    {
     "name": "stdout",
     "output_type": "stream",
     "text": [
      "Проверка подстановкой:\n"
     ]
    },
    {
     "data": {
      "image/png": "[encoded data removed]",
      "text/latex": [
       "$\\displaystyle \\frac{24 c^{2} + 91 c - 81}{4 c^{2} + 23 c - 17}$"
      ],
      "text/plain": [
       "    2            \n",
       "24*c  + 91*c - 81\n",
       "-----------------\n",
       "    2            \n",
       " 4*c  + 23*c - 17"
      ]
     },
     "metadata": {},
     "output_type": "display_data"
    },
    {
     "data": {
      "image/png": "[encoded data removed]",
      "text/latex": [
       "$\\displaystyle 2$"
      ],
      "text/plain": [
       "2"
      ]
     },
     "metadata": {},
     "output_type": "display_data"
    },
    {
     "data": {
      "image/png": "[encoded data removed]",
      "text/latex": [
       "$\\displaystyle 0$"
      ],
      "text/plain": [
       "0"
      ]
     },
     "metadata": {},
     "output_type": "display_data"
    },
    {
     "name": "stdout",
     "output_type": "stream",
     "text": [
      "При данных значениях невозможно использовать формулы Крамера\n"
     ]
    },
    {
     "data": {
      "image/png": "[encoded data removed]",
      "text/latex": [
       "$\\displaystyle \\left\\{- \\frac{23}{8} + \\frac{3 \\sqrt{89}}{8}, - \\frac{3 \\sqrt{89}}{8} - \\frac{23}{8}\\right\\}$"
      ],
      "text/plain": [
       "            ____        ____      \n",
       "   23   3*\\/ 89     3*\\/ 89    23 \n",
       "{- -- + --------, - -------- - --}\n",
       "   8       8           8       8  "
      ]
     },
     "metadata": {},
     "output_type": "display_data"
    }
   ],
   "source": [
    "x, y, z, c = symbols(\"x, y, z, c\")\n",
    "A = Matrix([[2 + c, 3, -1], [3, -2, 1], [1, 1, -2 * c + 1]])\n",
    "b = Matrix([[5], [2], [0]])\n",
    "Ax = ones(3, 3)\n",
    "Ay = ones(3, 3)\n",
    "Az = ones(3, 3)\n",
    "Ax[:, :] = A\n",
    "Ay[:, :] = A\n",
    "Az[:, :] = A\n",
    "Ax[:, 0] = b\n",
    "Ay[:, 1] = b\n",
    "Az[:, 2] = b\n",
    "print(\"Решение СЛАУ с помощью формулы Крамера:\")\n",
    "x = simplify(Ax.det() / A.det())\n",
    "y = simplify(Ay.det() / A.det())\n",
    "z = simplify(Az.det() / A.det())\n",
    "display(x,y,z)\n",
    "print(\"Проверка linsolve:\")\n",
    "display(linsolve((A, b)))\n",
    "print(\"Проверка подстановкой:\")\n",
    "f1 = (2+c)*x + 2*y - z\n",
    "f2 = 3 * x - 2 * y + z\n",
    "f3 = x + y - (2*c -1) * z \n",
    "display(simplify(f1), simplify(f2), simplify(f3))\n",
    "print(\"При данных значениях невозможно использовать формулы Крамера\")\n",
    "display(solveset(A.det(),c,domain=S.Reals))"
   ]
  },
  {
   "cell_type": "markdown",
   "metadata": {},
   "source": [
    "### Задание 2.\n",
    "Решить СЛАУ AX=b при всех значениях параметра, пользуясь rref,  проверить linsolve и подстановкой:\n",
    "$$\n",
    "A=\\left(\n",
    "\\begin{matrix}\n",
    "1-a&2&a&3&1-a&0\\\\\n",
    "-2&a+1&-1&0&1&a+1\\\\a-3&a-1&-a-1&2&1&-a\n",
    "\\end{matrix}\n",
    "\\right)\n",
    "\\qquad B=\\left(\n",
    "\\begin{matrix}\n",
    "1\\\\-2\\\\3\n",
    "\\end{matrix}\n",
    "\\right)\n",
    "$$"
   ]
  },
  {
   "cell_type": "code",
   "execution_count": 14,
   "metadata": {},
   "outputs": [
    {
     "data": {
      "text/latex": [
       "$\\displaystyle \\left[\\begin{matrix}1 & 0 & - \\frac{a^{2} + a + 2}{a^{2} - 5} & 0 & \\frac{2 \\left(a^{2} + 4\\right)}{5 \\left(a^{2} - 5\\right)} & \\frac{- 6 a^{2} + a + 7}{5 a^{2} - 25} & \\frac{13 a - 7}{5 \\left(a^{2} - 5\\right)}\\\\0 & 1 & \\frac{1 - 3 a}{a^{2} - 5} & 0 & \\frac{9 \\left(a - 1\\right)}{5 \\left(a^{2} - 5\\right)} & \\frac{5 a^{2} - 12 a - 11}{5 \\left(a^{2} - 5\\right)} & \\frac{\\frac{36}{5} - 2 a}{a^{2} - 5}\\\\0 & 0 & 0 & 1 & \\frac{1}{5} - \\frac{a}{5} & - \\frac{2 a}{5} - \\frac{1}{5} & \\frac{6}{5}\\end{matrix}\\right]$"
      ],
      "text/plain": [
       "[       / 2        \\        / 2    \\        2                     ]\n",
       "[      -\\a  + a + 2/      2*\\a  + 4/   - 6*a  + a + 7    13*a - 7 ]\n",
       "[1  0  --------------  0  ----------   --------------   ----------]\n",
       "[           2               / 2    \\        2             / 2    \\]\n",
       "[          a  - 5         5*\\a  - 5/     5*a  - 25      5*\\a  - 5/]\n",
       "[                                                                 ]\n",
       "[                                        2                        ]\n",
       "[         1 - 3*a         9*(a - 1)   5*a  - 12*a - 11  36/5 - 2*a]\n",
       "[0  1     -------      0  ----------  ----------------  ----------]\n",
       "[           2               / 2    \\       / 2    \\        2      ]\n",
       "[          a  - 5         5*\\a  - 5/     5*\\a  - 5/       a  - 5  ]\n",
       "[                                                                 ]\n",
       "[                           1   a          2*a   1                ]\n",
       "[0  0        0         1    - - -        - --- - -         6/5    ]\n",
       "[                           5   5           5    5                ]"
      ]
     },
     "metadata": {},
     "output_type": "display_data"
    },
    {
     "data": {
      "image/png": "[encoded data removed]",
      "text/latex": [
       "$\\displaystyle \\frac{9 a^{2} + 4 a - 5}{5 \\left(a^{2} - 5\\right)}$"
      ],
      "text/plain": [
       "   2          \n",
       "9*a  + 4*a - 5\n",
       "--------------\n",
       "    / 2    \\  \n",
       "  5*\\a  - 5/  "
      ]
     },
     "metadata": {},
     "output_type": "display_data"
    },
    {
     "data": {
      "image/png": "[encoded data removed]",
      "text/latex": [
       "$\\displaystyle \\frac{- a^{2} + \\frac{18 a}{5} + 3}{a^{2} - 5}$"
      ],
      "text/plain": [
       "   2   18*a    \n",
       "- a  + ---- + 3\n",
       "        5      \n",
       "---------------\n",
       "      2        \n",
       "     a  - 5    "
      ]
     },
     "metadata": {},
     "output_type": "display_data"
    },
    {
     "data": {
      "image/png": "[encoded data removed]",
      "text/latex": [
       "$\\displaystyle \\frac{3 a}{5}$"
      ],
      "text/plain": [
       "3*a\n",
       "---\n",
       " 5 "
      ]
     },
     "metadata": {},
     "output_type": "display_data"
    },
    {
     "name": "stdout",
     "output_type": "stream",
     "text": [
      "Подстановка:\n"
     ]
    },
    {
     "data": {
      "image/png": "[encoded data removed]",
      "text/latex": [
       "$\\displaystyle 0$"
      ],
      "text/plain": [
       "0"
      ]
     },
     "metadata": {},
     "output_type": "display_data"
    },
    {
     "data": {
      "image/png": "[encoded data removed]",
      "text/latex": [
       "$\\displaystyle 0$"
      ],
      "text/plain": [
       "0"
      ]
     },
     "metadata": {},
     "output_type": "display_data"
    },
    {
     "data": {
      "image/png": "[encoded data removed]",
      "text/latex": [
       "$\\displaystyle 0$"
      ],
      "text/plain": [
       "0"
      ]
     },
     "metadata": {},
     "output_type": "display_data"
    },
    {
     "name": "stdout",
     "output_type": "stream",
     "text": [
      "Linsolve\n"
     ]
    },
    {
     "data": {
      "image/png": "[encoded data removed]",
      "text/latex": [
       "$\\displaystyle \\left\\{\\left( \\frac{5 a^{2} \\tau_{0} - 2 a^{2} \\tau_{1} + 6 a^{2} \\tau_{2} + 5 a \\tau_{0} - a \\tau_{2} + 13 a + 10 \\tau_{0} - 8 \\tau_{1} - 7 \\tau_{2} - 7}{5 \\left(a^{2} - 5\\right)}, \\  \\frac{- 5 a^{2} \\tau_{2} + 15 a \\tau_{0} - 9 a \\tau_{1} + 12 a \\tau_{2} - 10 a - 5 \\tau_{0} + 9 \\tau_{1} + 11 \\tau_{2} + 36}{5 \\left(a^{2} - 5\\right)}, \\  \\tau_{0}, \\  \\frac{a \\tau_{1}}{5} + \\frac{2 a \\tau_{2}}{5} - \\frac{\\tau_{1}}{5} + \\frac{\\tau_{2}}{5} + \\frac{6}{5}, \\  \\tau_{1}, \\  \\tau_{2}\\right)\\right\\}$"
      ],
      "text/plain": [
       "     2           2           2                                                                       2                                                                                                                                         \n",
       "  5*a *tau0 - 2*a *tau1 + 6*a *tau2 + 5*a*tau0 - a*tau2 + 13*a + 10*tau0 - 8*tau1 - 7*tau2 - 7  - 5*a *tau2 + 15*a*tau0 - 9*a*tau1 + 12*a*tau2 - 10*a - 5*tau0 + 9*tau1 + 11*tau2 + 36        a*tau1   2*a*tau2   tau1   tau2   6              \n",
       "{(--------------------------------------------------------------------------------------------, --------------------------------------------------------------------------------------, tau0, ------ + -------- - ---- + ---- + -, tau1, tau2)}\n",
       "                                             / 2    \\                                                                                   / 2    \\                                                5         5        5      5     5              \n",
       "                                           5*\\a  - 5/                                                                                 5*\\a  - 5/                                                                                               "
      ]
     },
     "metadata": {},
     "output_type": "display_data"
    }
   ],
   "source": [
    "a, s = symbols('a s')\n",
    "# СЛАУ\n",
    "Ab = Matrix([[1 - a, 2, a, 3, 1 - a, 0, 1], [-2, a + 1, -1, 0, 1, a + 1, -2], [a - 3, a - 1, -a - 1, 2, 1, -a, 3]])\n",
    "lins = Ab\n",
    "A = Matrix([[1 - a, 2, a, 3, 1 - a, 0], [-2, a + 1, -1, 0, 1, a + 1], [a - 3, a - 1, -a - 1, 2, 1, -a]])\n",
    "b = Matrix([[1], [-2], [3]]) #\n",
    "Ab, indices = Ab.rref()\n",
    "Ab = simplify(Ab)\n",
    "A, sindeces = simplify(A.rref())\n",
    "display(Ab)\n",
    "s = 0\n",
    "l = 0\n",
    "res = [0, 0, 0]\n",
    "for i in indices:\n",
    "    for j in range(i, 6):\n",
    "        s = s - Ab[l, j+1]\n",
    "    res[l] = simplify(s + Ab[l,6])\n",
    "    display(res[l])\n",
    "    s = 0\n",
    "    l += 1\n",
    "\n",
    "\n",
    "print(\"Подстановка:\")\n",
    "display(simplify(res[0] + A[0,2] + A[0,4] + A[0,5]))\n",
    "display(simplify(res[1] + A[1,2] + A[1,4] + A[1,5]))\n",
    "display(simplify(res[2] + A[2,4] + A[2,5]))\n",
    "print(\"Linsolve\")\n",
    "display(simplify(linsolve((lins))))"
   ]
  },
  {
   "cell_type": "markdown",
   "metadata": {},
   "source": [
    "### Задание 3.\n",
    "Найти фундаментальную систему решений однородной СЛАУ с матрицей А при всех значениях параметра.\n",
    "Проверить линейную независимость векторов ФСР и удостовериться, что они являются решениями СЛАУ.\n",
    "$$\n",
    "A=\\left(\n",
    "\\begin{matrix}\n",
    "a&2&a&3&a&4\\\\2&a&3&a&1&a\\\\a&-a&1&2&-a&a\n",
    "\\end{matrix}\n",
    "\\right)\n",
    "$$"
   ]
  },
  {
   "cell_type": "code",
   "execution_count": 16,
   "metadata": {},
   "outputs": [
    {
     "name": "stdout",
     "output_type": "stream",
     "text": [
      "ФСР:\n"
     ]
    },
    {
     "data": {
      "text/latex": [
       "$\\displaystyle \\left[ \\left[\\begin{matrix}\\frac{- a^{3} - 2 a^{2} + 10 a + 12}{a^{3} - 2 a^{2} - 6 a + 4}\\\\\\frac{- a^{3} + a^{2} + 7 a - 6}{a^{3} - 2 a^{2} - 6 a + 4}\\\\\\frac{a^{2} - a - 4}{a^{2} - 4 a + 2}\\\\1\\\\0\\\\0\\end{matrix}\\right], \\  \\left[\\begin{matrix}\\frac{a^{3} + 3 a^{2} - 6 a - 2}{a^{3} - 2 a^{2} - 6 a + 4}\\\\\\frac{a \\left(3 a - 1\\right)}{a^{3} - 2 a^{2} - 6 a + 4}\\\\- \\frac{a \\left(2 a - 3\\right)}{a^{2} - 4 a + 2}\\\\0\\\\1\\\\0\\end{matrix}\\right], \\  \\left[\\begin{matrix}- \\frac{2 a \\left(a^{2} - 10\\right)}{a^{3} - 2 a^{2} - 6 a + 4}\\\\\\frac{- a^{3} + 12 a - 8}{a^{3} - 2 a^{2} - 6 a + 4}\\\\\\frac{2 a \\left(a - 3\\right)}{a^{2} - 4 a + 2}\\\\0\\\\0\\\\1\\end{matrix}\\right]\\right]$"
      ],
      "text/plain": [
       " [   3      2            ]                         [       / 2     \\   ] \n",
       " [- a  - 2*a  + 10*a + 12]  [ 3      2          ]  [  -2*a*\\a  - 10/   ] \n",
       " [-----------------------]  [a  + 3*a  - 6*a - 2]  [-------------------] \n",
       " [   3      2            ]  [-------------------]  [ 3      2          ] \n",
       " [  a  - 2*a  - 6*a + 4  ]  [ 3      2          ]  [a  - 2*a  - 6*a + 4] \n",
       " [                       ]  [a  - 2*a  - 6*a + 4]  [                   ] \n",
       " [     3    2            ]  [                   ]  [     3             ] \n",
       " [  - a  + a  + 7*a - 6  ]  [    a*(3*a - 1)    ]  [  - a  + 12*a - 8  ] \n",
       " [  -------------------  ]  [-------------------]  [-------------------] \n",
       " [   3      2            ]  [ 3      2          ]  [ 3      2          ] \n",
       " [  a  - 2*a  - 6*a + 4  ]  [a  - 2*a  - 6*a + 4]  [a  - 2*a  - 6*a + 4] \n",
       "[[                       ], [                   ], [                   ]]\n",
       " [       2               ]  [   -a*(2*a - 3)    ]  [   2*a*(a - 3)     ] \n",
       " [      a  - a - 4       ]  [   -------------   ]  [   ------------    ] \n",
       " [     ------------      ]  [     2             ]  [    2              ] \n",
       " [      2                ]  [    a  - 4*a + 2   ]  [   a  - 4*a + 2    ] \n",
       " [     a  - 4*a + 2      ]  [                   ]  [                   ] \n",
       " [                       ]  [         0         ]  [         0         ] \n",
       " [           1           ]  [                   ]  [                   ] \n",
       " [                       ]  [         1         ]  [         0         ] \n",
       " [           0           ]  [                   ]  [                   ] \n",
       " [                       ]  [         0         ]  [         1         ] \n",
       " [           0           ]                                               "
      ]
     },
     "metadata": {},
     "output_type": "display_data"
    },
    {
     "name": "stdout",
     "output_type": "stream",
     "text": [
      "Проверка решений\n"
     ]
    },
    {
     "data": {
      "text/latex": [
       "$\\displaystyle \\left[\\begin{matrix}0\\\\0\\\\0\\end{matrix}\\right]$"
      ],
      "text/plain": [
       "[0]\n",
       "[ ]\n",
       "[0]\n",
       "[ ]\n",
       "[0]"
      ]
     },
     "metadata": {},
     "output_type": "display_data"
    },
    {
     "data": {
      "text/latex": [
       "$\\displaystyle \\left[\\begin{matrix}0\\\\0\\\\0\\end{matrix}\\right]$"
      ],
      "text/plain": [
       "[0]\n",
       "[ ]\n",
       "[0]\n",
       "[ ]\n",
       "[0]"
      ]
     },
     "metadata": {},
     "output_type": "display_data"
    },
    {
     "data": {
      "text/latex": [
       "$\\displaystyle \\left[\\begin{matrix}0\\\\0\\\\0\\end{matrix}\\right]$"
      ],
      "text/plain": [
       "[0]\n",
       "[ ]\n",
       "[0]\n",
       "[ ]\n",
       "[0]"
      ]
     },
     "metadata": {},
     "output_type": "display_data"
    },
    {
     "name": "stdout",
     "output_type": "stream",
     "text": [
      "Проверка лнз\n"
     ]
    },
    {
     "data": {
      "image/png": "[encoded data removed]",
      "text/latex": [
       "$\\displaystyle 3$"
      ],
      "text/plain": [
       "3"
      ]
     },
     "execution_count": 16,
     "metadata": {},
     "output_type": "execute_result"
    }
   ],
   "source": [
    "print(\"ФСР:\")\n",
    "A = Matrix([[a, 2, a, 3, a, 4], [2, a, 3, a, 1, a], [a, -a, 1, 2, -a, a]])\n",
    "nspace = simplify(A.nullspace())\n",
    "for i in range( len(nspace)):\n",
    "    nspace[i] = simplify(nspace[i])\n",
    "display(nspace)\n",
    "print(\"Проверка решений\")\n",
    "for i in range(len(nspace)):\n",
    "    display(simplify(A*nspace[i]))\n",
    "print(\"Проверка лнз\")\n",
    "A.rank()"
   ]
  },
  {
   "cell_type": "code",
   "execution_count": 26,
   "metadata": {},
   "outputs": [
    {
     "name": "stdout",
     "output_type": "stream",
     "text": [
      "Исходная матрица\n"
     ]
    },
    {
     "data": {
      "text/latex": [
       "$\\displaystyle \\left[\\begin{matrix}c + 2 & 4 & 4 & 2 & 9\\\\3 & c - 11 & 7 & 8 & 8\\\\1 - c & c - 7 & 3 & 6 & -1\\end{matrix}\\right]$"
      ],
      "text/plain": [
       "[c + 2    4     4  2  9 ]\n",
       "[                       ]\n",
       "[  3    c - 11  7  8  8 ]\n",
       "[                       ]\n",
       "[1 - c  c - 7   3  6  -1]"
      ]
     },
     "metadata": {},
     "output_type": "display_data"
    },
    {
     "name": "stdout",
     "output_type": "stream",
     "text": [
      "Канонический вид\n"
     ]
    },
    {
     "data": {
      "text/latex": [
       "$\\displaystyle \\left[\\begin{matrix}1 & 0 & 0 & - \\frac{18}{7 c + 2} & \\frac{31}{7 c + 2}\\\\0 & 1 & 0 & 0 & 0\\\\0 & 0 & 1 & \\frac{2 \\left(4 c + 5\\right)}{7 c + 2} & \\frac{8 c - 11}{7 c + 2}\\end{matrix}\\right]$"
      ],
      "text/plain": [
       "[             -18         31   ]\n",
       "[1  0  0    -------    ------- ]\n",
       "[           7*c + 2    7*c + 2 ]\n",
       "[                              ]\n",
       "[0  1  0       0          0    ]\n",
       "[                              ]\n",
       "[         2*(4*c + 5)  8*c - 11]\n",
       "[0  0  1  -----------  --------]\n",
       "[           7*c + 2    7*c + 2 ]"
      ]
     },
     "metadata": {},
     "output_type": "display_data"
    },
    {
     "name": "stdout",
     "output_type": "stream",
     "text": [
      "ФСР\n"
     ]
    },
    {
     "data": {
      "text/latex": [
       "$\\displaystyle \\left[ \\left[\\begin{matrix}\\frac{18}{7 c + 2}\\\\0\\\\- \\frac{8 c + 10}{7 c + 2}\\\\1\\\\0\\end{matrix}\\right], \\  \\left[\\begin{matrix}- \\frac{31}{7 c + 2}\\\\0\\\\\\frac{11 - 8 c}{7 c + 2}\\\\0\\\\1\\end{matrix}\\right]\\right]$"
      ],
      "text/plain": [
       " [     18     ]  [  -31   ] \n",
       " [  -------   ]  [------- ] \n",
       " [  7*c + 2   ]  [7*c + 2 ] \n",
       " [            ]  [        ] \n",
       " [     0      ]  [   0    ] \n",
       " [            ]  [        ] \n",
       "[[-(8*c + 10) ], [11 - 8*c]]\n",
       " [------------]  [--------] \n",
       " [  7*c + 2   ]  [7*c + 2 ] \n",
       " [            ]  [        ] \n",
       " [     1      ]  [   0    ] \n",
       " [            ]  [        ] \n",
       " [     0      ]  [   1    ] "
      ]
     },
     "metadata": {},
     "output_type": "display_data"
    },
    {
     "name": "stdout",
     "output_type": "stream",
     "text": [
      "Проверка решений\n"
     ]
    },
    {
     "data": {
      "text/latex": [
       "$\\displaystyle \\left[\\begin{matrix}0\\\\0\\\\0\\end{matrix}\\right]$"
      ],
      "text/plain": [
       "[0]\n",
       "[ ]\n",
       "[0]\n",
       "[ ]\n",
       "[0]"
      ]
     },
     "metadata": {},
     "output_type": "display_data"
    },
    {
     "data": {
      "text/latex": [
       "$\\displaystyle \\left[\\begin{matrix}0\\\\0\\\\0\\end{matrix}\\right]$"
      ],
      "text/plain": [
       "[0]\n",
       "[ ]\n",
       "[0]\n",
       "[ ]\n",
       "[0]"
      ]
     },
     "metadata": {},
     "output_type": "display_data"
    }
   ],
   "source": [
    "#ИЗ\n",
    "#c+2   4   4 2 9\n",
    "#3    c−11 7 8 8 \n",
    "#1−c  c−7  3 6 −1  \n",
    "c = symbols(\"c\")\n",
    "matr = Matrix([[c + 2, 4, 4, 2, 9], [3, c - 11, 7, 8, 8], [1 - c, c - 7, 3, 6, -1]])\n",
    "nspace = matr.nullspace()\n",
    "for i in range(len(nspace)):\n",
    "    nspace[i] = simplify(nspace[i])\n",
    "print(\"Исходная матрица\")\n",
    "display(matr)\n",
    "p, q = simplify(matr.rref())\n",
    "print(\"Канонический вид\")\n",
    "display(p)\n",
    "print(\"ФСР\")\n",
    "display(nspace)\n",
    "# при с = -3.5, знаменатель равен 0\n",
    "print(\"Проверка решений\")\n",
    "for i in range(len(nspace)):\n",
    "    display(simplify((p*nspace[i])))"
   ]
  },
  {
   "cell_type": "code",
   "execution_count": null,
   "metadata": {},
   "outputs": [],
   "source": []
  }
 ],
 "metadata": {
  "kernelspec": {
   "display_name": "Python 3",
   "language": "python",
   "name": "python3"
  },
  "language_info": {
   "codemirror_mode": {
    "name": "ipython",
    "version": 3
   },
   "file_extension": ".py",
   "mimetype": "text/x-python",
   "name": "python",
   "nbconvert_exporter": "python",
   "pygments_lexer": "ipython3",
   "version": "3.7.4"
  }
 },
 "nbformat": 4,
 "nbformat_minor": 2
}

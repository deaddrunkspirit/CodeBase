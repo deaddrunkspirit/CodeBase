{
 "cells": [
  {
   "cell_type": "code",
   "execution_count": 3,
   "metadata": {},
   "outputs": [],
   "source": [
    "import sympy as sp\n",
    "sp.init_printing(use_unicode=False, wrap_line=False, no_global=True)\n",
    "import matplotlib.pyplot as plt\n",
    "from IPython.display import display,Latex"
   ]
  },
  {
   "cell_type": "markdown",
   "metadata": {},
   "source": [
    "# Занятие 17\n",
    "# Алгебра\n",
    "\n",
    "### Задание 1.\n",
    "\n",
    "Составить матрицу квадратичной формы $7x^2+10\\sqrt{3}xy-3y^2−20z^2$. Привести квадратичную форму к каноническому виду с помощью перехода к новому базису."
   ]
  },
  {
   "cell_type": "code",
   "execution_count": 23,
   "metadata": {},
   "outputs": [
    {
     "data": {
      "text/latex": [
       "$\\displaystyle \\left[\\begin{matrix}7 & 5 \\sqrt{3} & 0\\\\5 \\sqrt{3} & -3 & 0\\\\0 & 0 & -20\\end{matrix}\\right]$"
      ],
      "text/plain": [
       "[             ___     ]\n",
       "[   7     5*\\/ 3    0 ]\n",
       "[                     ]\n",
       "[    ___              ]\n",
       "[5*\\/ 3     -3      0 ]\n",
       "[                     ]\n",
       "[   0        0     -20]"
      ]
     },
     "metadata": {},
     "output_type": "display_data"
    },
    {
     "data": {
      "text/latex": [
       "$\\displaystyle \\left[\\begin{matrix}x\\\\y\\\\z\\end{matrix}\\right]$"
      ],
      "text/plain": [
       "[x]\n",
       "[ ]\n",
       "[y]\n",
       "[ ]\n",
       "[z]"
      ]
     },
     "metadata": {},
     "output_type": "display_data"
    },
    {
     "data": {
      "text/latex": [
       "$\\displaystyle \\left[\\begin{matrix}7 x^{2} + 10 \\sqrt{3} x y - 3 y^{2} - 20 z^{2}\\end{matrix}\\right]$"
      ],
      "text/plain": [
       "[   2        ___          2       2]\n",
       "[7*x  + 10*\\/ 3 *x*y - 3*y  - 20*z ]"
      ]
     },
     "metadata": {},
     "output_type": "display_data"
    },
    {
     "data": {
      "image/png": "[encoded data removed]",
      "text/latex": [
       "$\\displaystyle 0$"
      ],
      "text/plain": [
       "0"
      ]
     },
     "metadata": {},
     "output_type": "display_data"
    }
   ],
   "source": [
    "x, y, z = sp.symbols('x y z')\n",
    "u = 7 * x**2 + 10 * sp.sqrt(3) * x * y - 3 * y**2 - 20 * z**2\n",
    "A = sp.Matrix([[7, 5 * sp.sqrt(3), 0], [5 * sp.sqrt(3), -3, 0], [0, 0, -20]]) # матрица квадратичной формы\n",
    "display(A)\n",
    "# проверим, что матрица задает квадратичную форму\n",
    "X = sp.Matrix((x, y, z)) \n",
    "res = sp.simplify(sp.expand(X.transpose() * A * X))\n",
    "display(X, res, res[0] - u)"
   ]
  },
  {
   "cell_type": "code",
   "execution_count": 24,
   "metadata": {},
   "outputs": [
    {
     "data": {
      "text/latex": [
       "$\\displaystyle \\left[\\begin{matrix}-20 & 0 & 0\\\\0 & -8 & 0\\\\0 & 0 & 12\\end{matrix}\\right]$"
      ],
      "text/plain": [
       "[-20  0   0 ]\n",
       "[           ]\n",
       "[ 0   -8  0 ]\n",
       "[           ]\n",
       "[ 0   0   12]"
      ]
     },
     "metadata": {},
     "output_type": "display_data"
    },
    {
     "data": {
      "image/png": "[encoded data removed]",
      "text/latex": [
       "$\\displaystyle - 20 x^{2} - 8 y^{2} + 12 z^{2}$"
      ],
      "text/plain": [
       "      2      2       2\n",
       "- 20*x  - 8*y  + 12*z "
      ]
     },
     "metadata": {},
     "output_type": "display_data"
    }
   ],
   "source": [
    "ev = A.eigenvects() # собственные векторы\n",
    "Pnorm = [p[2][0].normalized() for p in ev] # нормализуем собственные векторы\n",
    "P = Pnorm[0].row_join(Pnorm[1]).row_join(Pnorm[2]) # матрица перехода\n",
    "Anew = P.transpose() * A * P # матрица квадратичной формы в новом базисе\n",
    "display(sp.simplify(Anew))\n",
    "display(sp.simplify(sp.expand(X.transpose() * Anew * X))[0])"
   ]
  },
  {
   "cell_type": "markdown",
   "metadata": {},
   "source": [
    "### Задание 2.\n",
    "Привести квадратичную форму Примера 1 к каноническому виду с помощью выделения полных квадратов. Проверить выполнение Закона инерции."
   ]
  },
  {
   "cell_type": "code",
   "execution_count": 25,
   "metadata": {},
   "outputs": [
    {
     "data": {
      "image/png": "[encoded data removed]",
      "text/latex": [
       "$\\displaystyle 32 x^{2} - 20 z^{2} - \\left(- 5 x + \\sqrt{3} y\\right)^{2}$"
      ],
      "text/plain": [
       "                                2\n",
       "    2       2   /         ___  \\ \n",
       "32*x  - 20*z  - \\-5*x + \\/ 3 *y/ "
      ]
     },
     "metadata": {},
     "output_type": "display_data"
    },
    {
     "data": {
      "image/png": "[encoded data removed]",
      "text/latex": [
       "$\\displaystyle - Y^{2} + 32 x^{2} - 20 z^{2}$"
      ],
      "text/plain": [
       "   2       2       2\n",
       "- Y  + 32*x  - 20*z "
      ]
     },
     "execution_count": 25,
     "metadata": {},
     "output_type": "execute_result"
    }
   ],
   "source": [
    "display(32 * x**2 - (sp.sqrt(3) * y - 5 * x)**2 - 20 * z**2)\n",
    "Y = sp.Symbol('Y')\n",
    "yNew = sp.solve(Y - sp.sqrt(3) * y + 5 * x, y)[0]\n",
    "u1 = sp.simplify(sp.expand(u.subs(y, yNew)))\n",
    "u1"
   ]
  },
  {
   "cell_type": "markdown",
   "metadata": {},
   "source": [
    "Закон инерции выполняется"
   ]
  },
  {
   "cell_type": "markdown",
   "metadata": {},
   "source": [
    "### Задание 3.\n",
    "Определить тип кривой второго порядка, заданной уравнением\n",
    "$$\n",
    "97x^2-144xy+97y^2+482x-532y=3452\n",
    "$$"
   ]
  },
  {
   "cell_type": "code",
   "execution_count": 26,
   "metadata": {},
   "outputs": [
    {
     "data": {
      "image/png": "[encoded data removed]",
      "text/latex": [
       "$\\displaystyle \\frac{\\pi}{4}$"
      ],
      "text/plain": [
       "pi\n",
       "--\n",
       "4 "
      ]
     },
     "metadata": {},
     "output_type": "display_data"
    }
   ],
   "source": [
    "x1, y1 = sp.symbols('x1 y1')\n",
    "eq = 97 * x**2 - 144 * x * y + 97 * y**2 + 482 * x - 532 * y - 3452\n",
    "A = sp.Matrix([[97,-72], [-72,97]])\n",
    "alpha = sp.acot((A[0, 0] - A[1, 1]) / (2 * A[0, 1])) / 2 # угол поворота чтобы избавиться от слагаемого с xy\n",
    "display(alpha)"
   ]
  },
  {
   "cell_type": "code",
   "execution_count": 27,
   "metadata": {},
   "outputs": [
    {
     "data": {
      "text/latex": [
       "$\\displaystyle \\left[\\begin{matrix}97 & -72 & 241\\\\-72 & 97 & -266\\\\241 & -266 & -3452\\end{matrix}\\right]$"
      ],
      "text/plain": [
       "[97   -72    241 ]\n",
       "[                ]\n",
       "[-72   97   -266 ]\n",
       "[                ]\n",
       "[241  -266  -3452]"
      ]
     },
     "metadata": {},
     "output_type": "display_data"
    },
    {
     "data": {
      "text/latex": [
       "$\\displaystyle \\left[\\begin{matrix}x\\\\y\\\\1\\end{matrix}\\right]$"
      ],
      "text/plain": [
       "[x]\n",
       "[ ]\n",
       "[y]\n",
       "[ ]\n",
       "[1]"
      ]
     },
     "metadata": {},
     "output_type": "display_data"
    },
    {
     "data": {
      "text/latex": [
       "$\\displaystyle \\left[\\begin{matrix}97 x^{2} - 144 x y + 482 x + 97 y^{2} - 532 y - 3452\\end{matrix}\\right]$"
      ],
      "text/plain": [
       "[    2                         2               ]\n",
       "[97*x  - 144*x*y + 482*x + 97*y  - 532*y - 3452]"
      ]
     },
     "execution_count": 27,
     "metadata": {},
     "output_type": "execute_result"
    }
   ],
   "source": [
    "A2 = sp.Matrix([[97, -72, 241], [-72, 97, -266], [241, -266, -3452]]) # матрица ко-эфов уравнения\n",
    "display(A2)\n",
    "X2 = sp.Matrix((x, y, 1)) # вектор переменных\n",
    "display(X2)\n",
    "sp.simplify(sp.expand(X2.transpose() * A2 * X2)) # получили исходное уравнение, значит матрица его действительно определяет"
   ]
  },
  {
   "cell_type": "code",
   "execution_count": 28,
   "metadata": {},
   "outputs": [
    {
     "data": {
      "text/latex": [
       "$\\displaystyle \\left[\\begin{matrix}25 & 0 & - \\frac{25 \\sqrt{2}}{2}\\\\0 & 169 & - \\frac{507 \\sqrt{2}}{2}\\\\- \\frac{25 \\sqrt{2}}{2} & - \\frac{507 \\sqrt{2}}{2} & -3452\\end{matrix}\\right]$"
      ],
      "text/plain": [
       "[                               ___  ]\n",
       "[                         -25*\\/ 2   ]\n",
       "[    25           0       ---------- ]\n",
       "[                             2      ]\n",
       "[                                    ]\n",
       "[                                ___ ]\n",
       "[                         -507*\\/ 2  ]\n",
       "[    0           169      -----------]\n",
       "[                              2     ]\n",
       "[                                    ]\n",
       "[      ___          ___              ]\n",
       "[-25*\\/ 2    -507*\\/ 2               ]\n",
       "[----------  -----------     -3452   ]\n",
       "[    2            2                  ]"
      ]
     },
     "metadata": {},
     "output_type": "display_data"
    },
    {
     "data": {
      "image/png": "[encoded data removed]",
      "text/latex": [
       "$\\displaystyle 25 x_{1}^{2} - 25 \\sqrt{2} x_{1} + 169 y_{1}^{2} - 507 \\sqrt{2} y_{1} - 3452$"
      ],
      "text/plain": [
       "     2        ___            2         ___          \n",
       "25*x1  - 25*\\/ 2 *x1 + 169*y1  - 507*\\/ 2 *y1 - 3452"
      ]
     },
     "execution_count": 28,
     "metadata": {},
     "output_type": "execute_result"
    }
   ],
   "source": [
    "P = sp.Matrix([[sp.cos(alpha), -sp.sin(alpha), 0], [sp.sin(alpha), sp.cos(alpha), 0], [0, 0, 1]]) # трехмерная матрица поворота\n",
    "A3 = sp.simplify(sp.expand((P.transpose() * A2 * P))) # матрица ко-эфов после поворота\n",
    "display(A3)\n",
    "X1 = sp.Matrix((x1, y1, 1))\n",
    "sp.simplify(sp.expand((X1.transpose() * A3 * X1)[0]))"
   ]
  },
  {
   "cell_type": "code",
   "execution_count": 30,
   "metadata": {},
   "outputs": [
    {
     "data": {
      "text/latex": [
       "$\\displaystyle \\left[\\begin{matrix}x_{1} + \\frac{\\sqrt{2}}{2}\\\\y_{1} + \\frac{3 \\sqrt{2}}{2}\\\\1\\end{matrix}\\right]$"
      ],
      "text/plain": [
       "[        ___ ]\n",
       "[      \\/ 2  ]\n",
       "[ x1 + ----- ]\n",
       "[        2   ]\n",
       "[            ]\n",
       "[         ___]\n",
       "[     3*\\/ 2 ]\n",
       "[y1 + -------]\n",
       "[        2   ]\n",
       "[            ]\n",
       "[     1      ]"
      ]
     },
     "metadata": {},
     "output_type": "display_data"
    },
    {
     "data": {
      "image/png": "[encoded data removed]",
      "text/latex": [
       "$\\displaystyle 25 x_{1}^{2} + 169 y_{1}^{2} - 4225$"
      ],
      "text/plain": [
       "     2         2       \n",
       "25*x1  + 169*y1  - 4225"
      ]
     },
     "metadata": {},
     "output_type": "display_data"
    }
   ],
   "source": [
    "Xnew = sp.Matrix((x1, y1, 1))\n",
    "Xnew[0] -= A3[0, 2] / A3[0, 0]\n",
    "Xnew[1] -= A3[1, 2] / A3[1, 1]\n",
    "display(Xnew)\n",
    "eqNew = sp.simplify(sp.expand(Xnew.transpose() * A3 * Xnew))[0] # избавляемся от слагаемых с x и y\n",
    "display(eqNew)"
   ]
  },
  {
   "cell_type": "code",
   "execution_count": 31,
   "metadata": {},
   "outputs": [
    {
     "data": {
      "image/png": "[encoded data removed]",
      "text/latex": [
       "$\\displaystyle \\frac{x_{1}^{2}}{169} + \\frac{y_{1}^{2}}{25} = 1$"
      ],
      "text/plain": [
       "  2     2    \n",
       "x1    y1     \n",
       "--- + --- = 1\n",
       "169    25    "
      ]
     },
     "execution_count": 31,
     "metadata": {},
     "output_type": "execute_result"
    }
   ],
   "source": [
    "free = eqNew.subs({x1 : 0, y1 : 0})\n",
    "eqLast = eqNew / (-free) + 1 # делим уравнение на 4225 и переносим свободный член в правую часть\n",
    "sp.Eq(eqLast, 1)"
   ]
  },
  {
   "cell_type": "code",
   "execution_count": 32,
   "metadata": {},
   "outputs": [
    {
     "data": {
      "image/png": "[encoded data removed]",
      "text/plain": [
       "<Figure size 432x288 with 1 Axes>"
      ]
     },
     "metadata": {
      "needs_background": "light"
     },
     "output_type": "display_data"
    },
    {
     "data": {
      "image/png": "[encoded data removed]",
      "text/plain": [
       "<Figure size 432x288 with 1 Axes>"
      ]
     },
     "metadata": {
      "needs_background": "light"
     },
     "output_type": "display_data"
    },
    {
     "data": {
      "text/plain": [
       "<sympy.plotting.plot.Plot at 0x253794eea88>"
      ]
     },
     "execution_count": 32,
     "metadata": {},
     "output_type": "execute_result"
    }
   ],
   "source": [
    "sp.plot_implicit(eq, (x, -15, 15), (y, -15, 15))\n",
    "sp.plot_implicit(eqLast - 1, (x1, -15, 15), (y1, -15, 15))"
   ]
  },
  {
   "cell_type": "markdown",
   "metadata": {},
   "source": [
    "### Задание 4.\n",
    "\n",
    "Определить тип кривой второго порядка, заданной уравнением\n",
    "$$\n",
    "x^2+2xy+y^2-4x+4y=4\n",
    "$$"
   ]
  },
  {
   "cell_type": "code",
   "execution_count": 33,
   "metadata": {},
   "outputs": [
    {
     "data": {
      "image/png": "[encoded data removed]",
      "text/latex": [
       "$\\displaystyle \\frac{\\pi}{4}$"
      ],
      "text/plain": [
       "pi\n",
       "--\n",
       "4 "
      ]
     },
     "metadata": {},
     "output_type": "display_data"
    }
   ],
   "source": [
    "x1, y1 = sp.symbols('x1 y1')\n",
    "eq = x**2 + 2 * x * y + y**2 - 4 * x + 4 * y - 4\n",
    "\n",
    "A = sp.Matrix([[1, 1], [1, 1]])\n",
    "alpha = sp.acot((A[0, 0] - A[1, 1]) / (2 * A[0, 1])) / 2 # угол поворота чтобы избавиться от слагаемого с xy\n",
    "display(alpha)"
   ]
  },
  {
   "cell_type": "code",
   "execution_count": 34,
   "metadata": {},
   "outputs": [
    {
     "data": {
      "text/latex": [
       "$\\displaystyle \\left[\\begin{matrix}1 & 1 & -2\\\\1 & 1 & 2\\\\-2 & 2 & -4\\end{matrix}\\right]$"
      ],
      "text/plain": [
       "[1   1  -2]\n",
       "[         ]\n",
       "[1   1  2 ]\n",
       "[         ]\n",
       "[-2  2  -4]"
      ]
     },
     "metadata": {},
     "output_type": "display_data"
    },
    {
     "data": {
      "text/latex": [
       "$\\displaystyle \\left[\\begin{matrix}x\\\\y\\\\1\\end{matrix}\\right]$"
      ],
      "text/plain": [
       "[x]\n",
       "[ ]\n",
       "[y]\n",
       "[ ]\n",
       "[1]"
      ]
     },
     "metadata": {},
     "output_type": "display_data"
    },
    {
     "data": {
      "text/latex": [
       "$\\displaystyle \\left[\\begin{matrix}x^{2} + 2 x y - 4 x + y^{2} + 4 y - 4\\end{matrix}\\right]$"
      ],
      "text/plain": [
       "[ 2                  2          ]\n",
       "[x  + 2*x*y - 4*x + y  + 4*y - 4]"
      ]
     },
     "execution_count": 34,
     "metadata": {},
     "output_type": "execute_result"
    }
   ],
   "source": [
    "A2 = sp.Matrix([[1, 1, -2], [1, 1, 2], [-2, 2, -4]]) # матрица ко-эфов уравнения\n",
    "display(A2)\n",
    "X2 = sp.Matrix((x, y, 1)) # вектор переменных\n",
    "display(X2)\n",
    "sp.simplify(sp.expand(X2.transpose() * A2 * X2)) # получили исходное уравнение, значит матрица его действительно определяет"
   ]
  },
  {
   "cell_type": "code",
   "execution_count": 35,
   "metadata": {},
   "outputs": [
    {
     "data": {
      "text/latex": [
       "$\\displaystyle \\left[\\begin{matrix}2 & 0 & 0\\\\0 & 0 & 2 \\sqrt{2}\\\\0 & 2 \\sqrt{2} & -4\\end{matrix}\\right]$"
      ],
      "text/plain": [
       "[2     0        0   ]\n",
       "[                   ]\n",
       "[                ___]\n",
       "[0     0     2*\\/ 2 ]\n",
       "[                   ]\n",
       "[       ___         ]\n",
       "[0  2*\\/ 2     -4   ]"
      ]
     },
     "metadata": {},
     "output_type": "display_data"
    },
    {
     "data": {
      "image/png": "[encoded data removed]",
      "text/latex": [
       "$\\displaystyle 2 x_{1}^{2} + 4 \\sqrt{2} y_{1}$"
      ],
      "text/plain": [
       "    2       ___   \n",
       "2*x1  + 4*\\/ 2 *y1"
      ]
     },
     "execution_count": 35,
     "metadata": {},
     "output_type": "execute_result"
    }
   ],
   "source": [
    "P = sp.Matrix([[sp.cos(alpha), -sp.sin(alpha), 0], [sp.sin(alpha), sp.cos(alpha), 0], [0, 0, 1]]) # трехмерная матрица поворота\n",
    "A3 = sp.simplify(sp.expand((P.transpose() * A2 * P))) # матрица ко-эфов после поворота\n",
    "display(A3)\n",
    "X1 = sp.Matrix((x1, y1, 1))\n",
    "eqNew = sp.simplify(sp.expand((X1.transpose() * A3 * X1)[0])) - A3[2, 2]\n",
    "eqNew"
   ]
  },
  {
   "cell_type": "code",
   "execution_count": 36,
   "metadata": {},
   "outputs": [
    {
     "data": {
      "image/png": "[encoded data removed]",
      "text/latex": [
       "$\\displaystyle x_{1}^{2} = - 2 \\sqrt{2} y_{1}$"
      ],
      "text/plain": [
       "  2        ___   \n",
       "x1  = -2*\\/ 2 *y1"
      ]
     },
     "execution_count": 36,
     "metadata": {},
     "output_type": "execute_result"
    }
   ],
   "source": [
    "eqLast = sp.Eq(x1**2, sp.solve(eq_new, x1**2)[0]) # выражаем x^2, получаем уравнение параболы\n",
    "eqLast"
   ]
  },
  {
   "cell_type": "code",
   "execution_count": 37,
   "metadata": {},
   "outputs": [
    {
     "data": {
      "image/png": "[encoded data removed]",
      "text/plain": [
       "<Figure size 432x288 with 1 Axes>"
      ]
     },
     "metadata": {
      "needs_background": "light"
     },
     "output_type": "display_data"
    },
    {
     "data": {
      "image/png": "[encoded data removed]",
      "text/plain": [
       "<Figure size 432x288 with 1 Axes>"
      ]
     },
     "metadata": {
      "needs_background": "light"
     },
     "output_type": "display_data"
    },
    {
     "data": {
      "text/plain": [
       "<sympy.plotting.plot.Plot at 0x253795df548>"
      ]
     },
     "execution_count": 37,
     "metadata": {},
     "output_type": "execute_result"
    }
   ],
   "source": [
    "sp.plot_implicit(eq, (x, -15, 15), (y, -15, 15))\n",
    "sp.plot_implicit(eqLast, (x1, -15, 15), (y1, -15, 15))"
   ]
  },
  {
   "cell_type": "markdown",
   "metadata": {},
   "source": [
    "###  Индивидуальное задание\n",
    "\n",
    "Составить матрицу квадратичной формы и привести ее к каноническому виду с помощью перехода к новому базису.\n"
   ]
  },
  {
   "cell_type": "code",
   "execution_count": 40,
   "metadata": {},
   "outputs": [
    {
     "data": {
      "text/latex": [
       "$\\displaystyle \\left[\\begin{matrix}5 & \\sqrt{3} & 0\\\\\\sqrt{3} & 3 & 0\\\\0 & 0 & 9\\end{matrix}\\right]$"
      ],
      "text/plain": [
       "[         ___   ]\n",
       "[  5    \\/ 3   0]\n",
       "[               ]\n",
       "[  ___          ]\n",
       "[\\/ 3     3    0]\n",
       "[               ]\n",
       "[  0      0    9]"
      ]
     },
     "metadata": {},
     "output_type": "display_data"
    },
    {
     "data": {
      "text/latex": [
       "$\\displaystyle \\left[\\begin{matrix}x\\\\y\\\\z\\end{matrix}\\right]$"
      ],
      "text/plain": [
       "[x]\n",
       "[ ]\n",
       "[y]\n",
       "[ ]\n",
       "[z]"
      ]
     },
     "metadata": {},
     "output_type": "display_data"
    },
    {
     "data": {
      "text/latex": [
       "$\\displaystyle \\left[\\begin{matrix}5 x^{2} + 2 \\sqrt{3} x y + 3 y^{2} + 9 z^{2}\\end{matrix}\\right]$"
      ],
      "text/plain": [
       "[   2       ___          2      2]\n",
       "[5*x  + 2*\\/ 3 *x*y + 3*y  + 9*z ]"
      ]
     },
     "metadata": {},
     "output_type": "display_data"
    },
    {
     "data": {
      "image/png": "[encoded data removed]",
      "text/latex": [
       "$\\displaystyle 0$"
      ],
      "text/plain": [
       "0"
      ]
     },
     "metadata": {},
     "output_type": "display_data"
    }
   ],
   "source": [
    "u = 5 * x**2 + 2 * sp.sqrt(3) * x * y + 3 * y**2 + 9 * z**2\n",
    "A = sp.Matrix([[5, sp.sqrt(3), 0], [sp.sqrt(3), 3, 0], [0, 0, 9]]) # матрица квадратичной формы\n",
    "display(A)\n",
    "# проверим, что матрица задает квадратичную форму\n",
    "X = sp.Matrix((x, y, z)) \n",
    "res = sp.simplify(sp.expand(X.transpose() * A * X))\n",
    "display(X, res, res[0] - u)"
   ]
  },
  {
   "cell_type": "code",
   "execution_count": 42,
   "metadata": {},
   "outputs": [
    {
     "data": {
      "text/latex": [
       "$\\displaystyle \\left[\\begin{matrix}2 & 0 & 0\\\\0 & 6 & 0\\\\0 & 0 & 9\\end{matrix}\\right]$"
      ],
      "text/plain": [
       "[2  0  0]\n",
       "[       ]\n",
       "[0  6  0]\n",
       "[       ]\n",
       "[0  0  9]"
      ]
     },
     "metadata": {},
     "output_type": "display_data"
    },
    {
     "data": {
      "image/png": "[encoded data removed]",
      "text/latex": [
       "$\\displaystyle 2 x^{2} + 6 y^{2} + 9 z^{2}$"
      ],
      "text/plain": [
       "   2      2      2\n",
       "2*x  + 6*y  + 9*z "
      ]
     },
     "metadata": {},
     "output_type": "display_data"
    }
   ],
   "source": [
    "ev = A.eigenvects() # собственные векторы\n",
    "Pnorm = [p[2][0].normalized() for p in ev] # нормализуем собственные векторы\n",
    "P = Pnorm[0].row_join(Pnorm[1]).row_join(Pnorm[2]) # матрица перехода\n",
    "Anew = P.transpose() * A * P # матрица квадратичной формы в новом базисе\n",
    "display(sp.simplify(Anew), sp.simplify(sp.expand(X.transpose() * Anew * X))[0])"
   ]
  },
  {
   "cell_type": "code",
   "execution_count": null,
   "metadata": {},
   "outputs": [],
   "source": []
  }
 ],
 "metadata": {
  "kernelspec": {
   "display_name": "Python 3",
   "language": "python",
   "name": "python3"
  },
  "language_info": {
   "codemirror_mode": {
    "name": "ipython",
    "version": 3
   },
   "file_extension": ".py",
   "mimetype": "text/x-python",
   "name": "python",
   "nbconvert_exporter": "python",
   "pygments_lexer": "ipython3",
   "version": "3.7.4"
  }
 },
 "nbformat": 4,
 "nbformat_minor": 4
}

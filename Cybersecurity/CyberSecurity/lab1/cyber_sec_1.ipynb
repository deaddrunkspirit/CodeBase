{
  "cells":[
    {
      "cell_type":"code",
      "source":[
        "import numpy as np \n",
        "\n",
        "# Нейросеть которая определяет пересдаст ли Андрей КПО\n",
        "# В данной задаче используются такие переменные как удача, красноречие и подготовка\n",
        "# Андрей сдаст экзамен только в двух случаях:\n",
        "# 1. Если он подготовился\n",
        "# 2. Если его преследует удача и он договорился с преподавателем\n",
        "\n",
        "def act(x):\n",
        "    return 0 if x < 0.5 else 1 \n",
        "    \n",
        "def go(luck, eloquence, preparation): \n",
        "    x = np.array([luck, eloquence, preparation]) \n",
        "    w11 = [0.6, -0.5, 0] \n",
        "    w12 = [0.4, 0.4, 1] \n",
        "    weight1 = np.array([w11, w12]) # матрица 2x3 \n",
        "    weight2 = np.array([-1, 1]) # вектор 1х2\n",
        "\n",
        "    sum_hidden = np.dot(weight1, x) # вычисляем сумму на входах нейронов скрытого слоя \n",
        "    print(f'Значения сумм на нейронах скрытого слоя: {sum_hidden}')\n",
        "    out_hidden = np.array([act(x) for x in sum_hidden])\n",
        "    print(f'Значения на выходах нейронов скрытого слоя: {out_hidden}')\n",
        "    y = act(np.dot(weight2, out_hidden))\n",
        "    print(f'Выходное значение НС: {y}')\n",
        "    \n",
        "    return y \n",
        "\n",
        "    \n",
        "l = int(input(\"Введите 1, если Андрея преследует удача на экзамене: \"))\n",
        "e = int(input(\"Введите 1, если Андрей договорился с преподом: \"))\n",
        "p = int(input(\"Введите 1, если Андрей подготовился к КПО: \"))  \n",
        "\n",
        "res = go(l, e, p) \n",
        "if res == 1: \n",
        "    print(\"Сдал\") \n",
        "else: \n",
        "    print(\"ИУП\")"
      ],
      "execution_count":29,
      "outputs":[
        {
          "name":"stdout",
          "text":[
            "Введите 1, если Андрея преследует удача на экзамене:  1\n",
            "Введите 1, если Андрей договорился с преподом:  1\n",
            "Введите 1, если Андрей подготовился к КПО:  1\n",
            "Значения сумм на нейронах скрытого слоя: [0.1 1.8]\n",
            "Значения на выходах нейронов скрытого слоя: [0 1]\n",
            "Выходное значение НС: 1\n",
            "Сдал\n"
          ],
          "output_type":"stream"
        }
      ],
      "metadata":{
        
      }
    },
    {
      "cell_type":"code",
      "source":[
        "11"
      ],
      "execution_count":8,
      "outputs":[
        {
          "data":{
            "text\/plain":[
              "1"
            ]
          },
          "metadata":{
            
          },
          "output_type":"display_data"
        }
      ],
      "metadata":{
        
      }
    }
  ],
  "metadata":{
    
  },
  "nbformat":4,
  "nbformat_minor":0
}
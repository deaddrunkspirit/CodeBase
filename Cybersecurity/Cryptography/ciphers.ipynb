{
  "cells":[
    {
      "cell_type":"markdown",
      "source":[
        "***Substitution cipher***"
      ],
      "metadata":{
        
      }
    },
    {
      "cell_type":"code",
      "source":[
        "default_cipher_alphabet = ['p', 'h', 'q', 'g', 'i', 'u', 'm', 'e', 'a', 'y', 'l', 'n', 'o', 'f', 'd', 'x',\n",
        "                           'j', 'k', 'r', 'c', 'v', 's', 't', 'z', 'w', 'b']\n",
        "alphabet = ['a', 'b', 'c', 'd', 'e', 'f', 'g', 'h', 'i', 'j', 'k', 'l', 'm', 'n', 'o', 'p', 'q', 'r', 's', \n",
        "                't', 'u', 'v', 'w', 'x', 'y', 'z']\n",
        "\n",
        "\n",
        "def substitution_cipher_encrypt(string: str, cipher_alphabet: list = default_cipher_alphabet):\n",
        "    cipher_dict = dict(zip(alphabet, cipher_alphabet))\n",
        "    cs = []\n",
        "    for i in range(len(string)):\n",
        "        if string[i].lower() in cipher_dict:\n",
        "            cs.append(cipher_dict[string[i]] if string[i].islower() else cipher_dict[string[i].lower()].upper())\n",
        "        else:\n",
        "            cs.append(string[i])\n",
        "        \n",
        "    return ''.join(cs)\n",
        "\n",
        "\n",
        "def substitution_cipher_decrypt(string: str, cipher_alphabet: list = default_cipher_alphabet):\n",
        "    cipher_dict = dict(zip(cipher_alphabet, alphabet))\n",
        "    cs = []\n",
        "    for i in range(len(string)):\n",
        "        if string[i].lower() in cipher_dict:\n",
        "            cs.append(cipher_dict[string[i]] if string[i].islower() else cipher_dict[string[i].lower()].upper())\n",
        "        else:\n",
        "            cs.append(string[i])\n",
        "        \n",
        "    return ''.join(cs)\n",
        "\n",
        "# Example 1\n",
        "text = 'Substitutional cipher!'\n",
        "encrypted_text = substitution_cipher_encrypt(text)\n",
        "print('Substitutional cipher')\n",
        "print(f'Example 1:')\n",
        "print(f'\\t\\tOriginal text: {text}')\n",
        "print(f'\\t\\tEncrypted Text: {encrypted_text}')\n",
        "print(f'\\t\\tDecrypted Text: {substitution_cipher_decrypt(encrypted_text)}')\n",
        "# Example 2\n",
        "text = 'Yes it\\'s working'\n",
        "encrypted_text = substitution_cipher_encrypt(text)\n",
        "print(f'Example 2:')\n",
        "print(f'\\t\\tOriginal text: {text}')\n",
        "print(f'\\t\\tEncrypted Text: {encrypted_text}')\n",
        "print(f'\\t\\tDecrypted Text: {substitution_cipher_decrypt(encrypted_text)}')"
      ],
      "execution_count":1,
      "outputs":[
        {
          "name":"stdout",
          "text":[
            "Substitutional cipher\n",
            "Example 1:\n",
            "\t\tOriginal text: Substitutional cipher!\n",
            "\t\tEncrypted Text: Rvhrcacvcadfpn qaxeik!\n",
            "\t\tDecrypted Text: Substitutional cipher!\n",
            "Example 2:\n",
            "\t\tOriginal text: Yes it's working\n",
            "\t\tEncrypted Text: Wir ac'r tdklafm\n",
            "\t\tDecrypted Text: Yes it's working\n"
          ],
          "output_type":"stream"
        }
      ],
      "metadata":{
        
      }
    },
    {
      "cell_type":"markdown",
      "source":[
        "***Affine Cipher***"
      ],
      "metadata":{
        
      }
    },
    {
      "cell_type":"code",
      "source":[
        "import re\n",
        "\n",
        "\n",
        "# Extended Euclidean Algorithm\n",
        "def egcd(a: int, b: int):\n",
        "    x,y, u,v = 0,1, 1,0\n",
        "    while a != 0:\n",
        "        q, r = b \/\/ a, b % a\n",
        "        m, n = x - u * q, y - v * q\n",
        "        b,a, x,y, u,v = a,r, u,v, m,n\n",
        "    gcd = b\n",
        "\n",
        "    return gcd, x, y\n",
        "\n",
        "\n",
        "def modinv(a: int, m: int):\n",
        "    gcd, x, y = egcd(a, m)\n",
        "    if gcd != 1:\n",
        "        return None\n",
        "    else:\n",
        "        return x % m\n",
        "\n",
        "\n",
        "def affine_encrypt(string: str, keys: list = [23, 30]):\n",
        "    \"\"\"\n",
        "    C = (a*P + b) % 26\n",
        "    \"\"\"\n",
        "    res = ''\n",
        "    for c in string:\n",
        "        if re.match('\\W', c):\n",
        "            res += c\n",
        "        elif c.isupper():\n",
        "            res += chr(((keys[0] * (ord(c.lower()) - ord('a')) + keys[1]) % 26) + ord('a')).upper()\n",
        "        else:\n",
        "            res += chr(((keys[0] * (ord(c) - ord('a')) + keys[1]) % 26) + ord('a'))\n",
        "    \n",
        "    return res\n",
        "\n",
        "\n",
        "def affine_decrypt(string: str, keys: list = [23, 30]):\n",
        "    \"\"\"\n",
        "    P = (a^-1 * (C - b)) % 26\n",
        "    \"\"\"\n",
        "    res = ''\n",
        "    for c in string:\n",
        "        if re.match('\\W', c):\n",
        "            res += c\n",
        "        elif c.isupper():\n",
        "            res += chr(((modinv(keys[0], 26) * (ord(c.lower()) - ord('a') - keys[1])) % 26) + ord('a')).upper()\n",
        "        else:\n",
        "            res += chr(((modinv(keys[0], 26) * (ord(c) - ord('a') - keys[1])) % 26) + ord('a'))\n",
        "    \n",
        "    return res\n",
        "\n",
        "\n",
        "# Example 1\n",
        "text = 'string'\n",
        "encrypted_text = affine_encrypt(text)\n",
        "print('Affine cipher')\n",
        "print(f'Example 1:')\n",
        "print(f'\\t\\tOriginal text: {text}')\n",
        "print(f'\\t\\tEncrypted Text: {encrypted_text}')\n",
        "print(f'\\t\\tDecrypted Text: {affine_decrypt(encrypted_text)}')\n",
        "# Example 2\n",
        "text = 'Yes it\\'s working'\n",
        "encrypted_text = affine_encrypt(text)\n",
        "print(f'Example 2:')\n",
        "print(f'\\t\\tOriginal text: {text}')\n",
        "print(f'\\t\\tEncrypted Text: {encrypted_text}')\n",
        "print(f'\\t\\tDecrypted Text: {affine_decrypt(encrypted_text)}')"
      ],
      "execution_count":2,
      "outputs":[
        {
          "name":"stdout",
          "text":[
            "Affine cipher\n",
            "Example 1:\n",
            "\t\tOriginal text: string\n",
            "\t\tEncrypted Text: czfgrm\n",
            "\t\tDecrypted Text: string\n",
            "Example 2:\n",
            "\t\tOriginal text: Yes it's working\n",
            "\t\tEncrypted Text: Ksc gz'c qofagrm\n",
            "\t\tDecrypted Text: Yes it's working\n"
          ],
          "output_type":"stream"
        }
      ],
      "metadata":{
        
      }
    },
    {
      "cell_type":"markdown",
      "source":[
        "***Affine recurrent cipher*** <br\/>\n",
        "Для этого необходимо задать две ключевые пары k1 = (α1, β1), k2 = (α2, β2), и тогда ключевая пара для произвольного символа преобразуемой последовательности будет иметь вид ki = (αi−1αi−2, βi−1 + βi−2), i = 3, l."
      ],
      "metadata":{
        
      }
    },
    {
      "cell_type":"code",
      "source":[
        "def get_keys(keys_last: list, keys_prev: list):\n",
        "    return [keys_last[0] * keys_prev[0], keys_last[1] * keys_prev[1]]\n",
        "\n",
        "\n",
        "def affine_recurrent_encrypt(string: str, keys1: list = [17, 30], keys2: list = [23, 30]):\n",
        "    res = ''\n",
        "    keys_last = keys2\n",
        "    keys_prev = keys1\n",
        "    keys = get_keys(keys_last, keys_prev)\n",
        "    for i in range(len(string)):\n",
        "        if i >= 2:\n",
        "            res += affine_encrypt(string[i], keys)\n",
        "            keys_prev = keys_last\n",
        "            keys_last = keys\n",
        "            keys = get_keys(keys_last, keys_prev)\n",
        "        elif i == 1:\n",
        "            res += affine_encrypt(string[i], keys2)\n",
        "        elif i == 0:\n",
        "            res += affine_encrypt(string[i], keys1)\n",
        "\n",
        "    return res\n",
        "\n",
        "\n",
        "def affine_recurrent_decrypt(string: str, keys1: list = [17, 30], keys2: list = [23, 30]):\n",
        "    res = ''\n",
        "    keys_last = keys2\n",
        "    keys_prev = keys1\n",
        "    keys = get_keys(keys_last, keys_prev)\n",
        "    for i in range(len(string)):\n",
        "        if i >= 2:\n",
        "            res += affine_decrypt(string[i], keys)\n",
        "            keys_prev = keys_last\n",
        "            keys_last = keys\n",
        "            keys = get_keys(keys_last, keys_prev)\n",
        "        elif i == 1:\n",
        "            res += affine_decrypt(string[i], keys2)\n",
        "        elif i == 0:\n",
        "            res += affine_decrypt(string[i], keys1)\n",
        "\n",
        "    return res\n",
        "\n",
        "\n",
        "# Example 1\n",
        "text = 'Affine cipher!'\n",
        "encrypted_text = affine_recurrent_encrypt(text)\n",
        "print('Affine cipher')\n",
        "print(f'Example 1:')\n",
        "print(f'\\t\\tOriginal text: {text}')\n",
        "print(f'\\t\\tEncrypted Text: {encrypted_text}')\n",
        "print(f'\\t\\tDecrypted Text: {affine_recurrent_decrypt(encrypted_text)}')\n",
        "# Example 2\n",
        "text = 'Yes it\\'s working'\n",
        "encrypted_text = affine_recurrent_encrypt(text)\n",
        "print(f'Example 2:')\n",
        "print(f'\\t\\tOriginal text: {text}')\n",
        "print(f'\\t\\tEncrypted Text: {encrypted_text}')\n",
        "print(f'\\t\\tDecrypted Text: {affine_recurrent_decrypt(encrypted_text)}')"
      ],
      "execution_count":3,
      "outputs":[
        {
          "name":"stdout",
          "text":[
            "Affine cipher\n",
            "Example 1:\n",
            "\t\tOriginal text: Affine cipher!\n",
            "\t\tEncrypted Text: Epvoxa uqldal!\n",
            "\t\tDecrypted Text: Affine cipher!\n",
            "Example 2:\n",
            "\t\tOriginal text: Yes it's working\n",
            "\t\tEncrypted Text: Wsi mf'g qwngqjk\n",
            "\t\tDecrypted Text: Yes it's working\n"
          ],
          "output_type":"stream"
        }
      ],
      "metadata":{
        
      }
    },
    {
      "cell_type":"code",
      "source":[
        "isExit = False\n",
        "while not isExit:\n",
        "    print('Choose cipher alghoritm:')\n",
        "    cipher = input('1 - substitution, 2 - affine, 3 - affine reccurent alghoritm\\nYour choice: ')\n",
        "    text = input('Input text to encrypt: ')\n",
        "    encrypted = ''\n",
        "    decrypted = ''\n",
        "    if cipher == '1':\n",
        "        choice = input('Do you want to input your own alphabet to encrypt? (y\/n)\\n')\n",
        "        _alphabet = input('Input your custom alphabet (26 characters without spaces): ').split('') if choice == 'y' else default_cipher_alphabet \n",
        "        encrypted = substitution_cipher_encrypt(text, _alphabet)\n",
        "        decrypted = substitution_cipher_decrypt(encrypted, _alphabet)\n",
        "    elif cipher == '2':\n",
        "        choice = input('Do you want to use custom affine cipher keys? (y\/n)\\n')\n",
        "        keys = list(map(int, input('Input your custom affine keys (2 numbers splited with \", \"): ').split(', '))) if choice == 'y' else [17, 30]\n",
        "        encrypted = affine_encrypt(text, keys)\n",
        "        decrypted = affine_decrypt(encrypted, keys)\n",
        "    elif cipher == '3':\n",
        "        choice = input('Do you want to use custom affine recurrent cipher keys? (y\/n)\\n')\n",
        "        print('Both affine recurrent key sets are 2 numbers splited with \", \"')\n",
        "        keys1 = list(map(int, input('Input first key set: ').split(', '))) if choice == 'y' else [17, 30]\n",
        "        keys2 = list(map(int, input('Input second key set: ').split(', '))) if choice == 'y' else [23, 30]\n",
        "        encrypted = affine_recurrent_encrypt(text, keys1, keys2)\n",
        "        decrypted = affine_recurrent_decrypt(encrypted, keys1, keys2)\n",
        "    else:\n",
        "        print('No such cipher')\n",
        "    print(f'Original text: {text}')\n",
        "    print(f'Encrypted text: {encrypted}')\n",
        "    print(f'Decrypted text: {decrypted}')\n",
        "    isExit = False if input('Do you want to continue (y\/n)\\n') == 'y' else True"
      ],
      "execution_count":4,
      "outputs":[
        {
          "name":"stdout",
          "text":[
            "Choose cipher alghoritm:\n",
            "1 - substitution, 2 - affine, 3 - affine reccurent alghoritm\n",
            "Your choice:  1\n",
            "Input text to encrypt:  I was made for lovin you baby\n",
            "Do you want to input your own alphabet to encrypt? (y\/n)\n",
            " n\n",
            "Original text: I was made for lovin you baby\n",
            "Encrypted text: A tpr opgi udk ndsaf wdv hphw\n",
            "Decrypted text: I was made for lovin you baby\n",
            "Do you want to continue (y\/n)\n",
            " n\n"
          ],
          "output_type":"stream"
        }
      ],
      "metadata":{
        
      }
    },
    {
      "cell_type":"code",
      "source":[
        "l = [q - 97 for q in [115, 116, 114, 105, 110, 103]]\n",
        "n = [(a * 23 + 30) % 26 + 97 for a in l]\n",
        "n"
      ],
      "execution_count":5,
      "outputs":[
        {
          "data":{
            "text\/plain":[
              "[99, 122, 102, 103, 114, 109]"
            ]
          },
          "metadata":{
            
          },
          "output_type":"display_data"
        }
      ],
      "metadata":{
        
      }
    },
    {
      "cell_type":"code",
      "source":[
        "modinv(23, 26)"
      ],
      "execution_count":11,
      "outputs":[
        {
          "data":{
            "text\/plain":[
              "17"
            ]
          },
          "metadata":{
            
          },
          "output_type":"display_data"
        }
      ],
      "metadata":{
        
      }
    },
    {
      "cell_type":"code",
      "source":[
        
      ],
      "execution_count":0,
      "outputs":[
        
      ],
      "metadata":{
        
      }
    }
  ],
  "metadata":{
    
  },
  "nbformat":4,
  "nbformat_minor":0
}